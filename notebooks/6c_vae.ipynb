{
  "nbformat": 4,
  "nbformat_minor": 0,
  "metadata": {
    "accelerator": "GPU",
    "colab": {
      "provenance": [],
      "include_colab_link": true
    },
    "kernelspec": {
      "display_name": "Python 3",
      "name": "python3"
    },
    "widgets": {
      "application/vnd.jupyter.widget-state+json": {
        "284e1316ef0c486d86f75fe1dc62e946": {
          "model_module": "@jupyter-widgets/controls",
          "model_name": "HBoxModel",
          "model_module_version": "1.5.0",
          "state": {
            "_dom_classes": [],
            "_model_module": "@jupyter-widgets/controls",
            "_model_module_version": "1.5.0",
            "_model_name": "HBoxModel",
            "_view_count": null,
            "_view_module": "@jupyter-widgets/controls",
            "_view_module_version": "1.5.0",
            "_view_name": "HBoxView",
            "box_style": "",
            "children": [
              "IPY_MODEL_2e9ca62d0cdd447982e6f549e84807d2",
              "IPY_MODEL_f984ffd85af7460991322a5aca85a61d",
              "IPY_MODEL_a8b84d4c487b41c6a99b82ac58c4c778"
            ],
            "layout": "IPY_MODEL_bcb48ea45d974faf8be2900a8d012cac"
          }
        },
        "2e9ca62d0cdd447982e6f549e84807d2": {
          "model_module": "@jupyter-widgets/controls",
          "model_name": "HTMLModel",
          "model_module_version": "1.5.0",
          "state": {
            "_dom_classes": [],
            "_model_module": "@jupyter-widgets/controls",
            "_model_module_version": "1.5.0",
            "_model_name": "HTMLModel",
            "_view_count": null,
            "_view_module": "@jupyter-widgets/controls",
            "_view_module_version": "1.5.0",
            "_view_name": "HTMLView",
            "description": "",
            "description_tooltip": null,
            "layout": "IPY_MODEL_d7fedb4a0734448096e545c9a87c307e",
            "placeholder": "​",
            "style": "IPY_MODEL_05f6aa6f70ea43488419451cf44e3b33",
            "value": "100%"
          }
        },
        "f984ffd85af7460991322a5aca85a61d": {
          "model_module": "@jupyter-widgets/controls",
          "model_name": "FloatProgressModel",
          "model_module_version": "1.5.0",
          "state": {
            "_dom_classes": [],
            "_model_module": "@jupyter-widgets/controls",
            "_model_module_version": "1.5.0",
            "_model_name": "FloatProgressModel",
            "_view_count": null,
            "_view_module": "@jupyter-widgets/controls",
            "_view_module_version": "1.5.0",
            "_view_name": "ProgressView",
            "bar_style": "success",
            "description": "",
            "description_tooltip": null,
            "layout": "IPY_MODEL_4424a12051bf43fca6b7e7ee2b7272a5",
            "max": 9912422,
            "min": 0,
            "orientation": "horizontal",
            "style": "IPY_MODEL_e70aac4289ca4d39ab70255c8619880f",
            "value": 9912422
          }
        },
        "a8b84d4c487b41c6a99b82ac58c4c778": {
          "model_module": "@jupyter-widgets/controls",
          "model_name": "HTMLModel",
          "model_module_version": "1.5.0",
          "state": {
            "_dom_classes": [],
            "_model_module": "@jupyter-widgets/controls",
            "_model_module_version": "1.5.0",
            "_model_name": "HTMLModel",
            "_view_count": null,
            "_view_module": "@jupyter-widgets/controls",
            "_view_module_version": "1.5.0",
            "_view_name": "HTMLView",
            "description": "",
            "description_tooltip": null,
            "layout": "IPY_MODEL_2f9f632884a5429498433cc68b8236a9",
            "placeholder": "​",
            "style": "IPY_MODEL_6b497e026b4b41178d56e23f09d7ad81",
            "value": " 9912422/9912422 [00:00&lt;00:00, 12367139.78it/s]"
          }
        },
        "bcb48ea45d974faf8be2900a8d012cac": {
          "model_module": "@jupyter-widgets/base",
          "model_name": "LayoutModel",
          "model_module_version": "1.2.0",
          "state": {
            "_model_module": "@jupyter-widgets/base",
            "_model_module_version": "1.2.0",
            "_model_name": "LayoutModel",
            "_view_count": null,
            "_view_module": "@jupyter-widgets/base",
            "_view_module_version": "1.2.0",
            "_view_name": "LayoutView",
            "align_content": null,
            "align_items": null,
            "align_self": null,
            "border": null,
            "bottom": null,
            "display": null,
            "flex": null,
            "flex_flow": null,
            "grid_area": null,
            "grid_auto_columns": null,
            "grid_auto_flow": null,
            "grid_auto_rows": null,
            "grid_column": null,
            "grid_gap": null,
            "grid_row": null,
            "grid_template_areas": null,
            "grid_template_columns": null,
            "grid_template_rows": null,
            "height": null,
            "justify_content": null,
            "justify_items": null,
            "left": null,
            "margin": null,
            "max_height": null,
            "max_width": null,
            "min_height": null,
            "min_width": null,
            "object_fit": null,
            "object_position": null,
            "order": null,
            "overflow": null,
            "overflow_x": null,
            "overflow_y": null,
            "padding": null,
            "right": null,
            "top": null,
            "visibility": null,
            "width": null
          }
        },
        "d7fedb4a0734448096e545c9a87c307e": {
          "model_module": "@jupyter-widgets/base",
          "model_name": "LayoutModel",
          "model_module_version": "1.2.0",
          "state": {
            "_model_module": "@jupyter-widgets/base",
            "_model_module_version": "1.2.0",
            "_model_name": "LayoutModel",
            "_view_count": null,
            "_view_module": "@jupyter-widgets/base",
            "_view_module_version": "1.2.0",
            "_view_name": "LayoutView",
            "align_content": null,
            "align_items": null,
            "align_self": null,
            "border": null,
            "bottom": null,
            "display": null,
            "flex": null,
            "flex_flow": null,
            "grid_area": null,
            "grid_auto_columns": null,
            "grid_auto_flow": null,
            "grid_auto_rows": null,
            "grid_column": null,
            "grid_gap": null,
            "grid_row": null,
            "grid_template_areas": null,
            "grid_template_columns": null,
            "grid_template_rows": null,
            "height": null,
            "justify_content": null,
            "justify_items": null,
            "left": null,
            "margin": null,
            "max_height": null,
            "max_width": null,
            "min_height": null,
            "min_width": null,
            "object_fit": null,
            "object_position": null,
            "order": null,
            "overflow": null,
            "overflow_x": null,
            "overflow_y": null,
            "padding": null,
            "right": null,
            "top": null,
            "visibility": null,
            "width": null
          }
        },
        "05f6aa6f70ea43488419451cf44e3b33": {
          "model_module": "@jupyter-widgets/controls",
          "model_name": "DescriptionStyleModel",
          "model_module_version": "1.5.0",
          "state": {
            "_model_module": "@jupyter-widgets/controls",
            "_model_module_version": "1.5.0",
            "_model_name": "DescriptionStyleModel",
            "_view_count": null,
            "_view_module": "@jupyter-widgets/base",
            "_view_module_version": "1.2.0",
            "_view_name": "StyleView",
            "description_width": ""
          }
        },
        "4424a12051bf43fca6b7e7ee2b7272a5": {
          "model_module": "@jupyter-widgets/base",
          "model_name": "LayoutModel",
          "model_module_version": "1.2.0",
          "state": {
            "_model_module": "@jupyter-widgets/base",
            "_model_module_version": "1.2.0",
            "_model_name": "LayoutModel",
            "_view_count": null,
            "_view_module": "@jupyter-widgets/base",
            "_view_module_version": "1.2.0",
            "_view_name": "LayoutView",
            "align_content": null,
            "align_items": null,
            "align_self": null,
            "border": null,
            "bottom": null,
            "display": null,
            "flex": null,
            "flex_flow": null,
            "grid_area": null,
            "grid_auto_columns": null,
            "grid_auto_flow": null,
            "grid_auto_rows": null,
            "grid_column": null,
            "grid_gap": null,
            "grid_row": null,
            "grid_template_areas": null,
            "grid_template_columns": null,
            "grid_template_rows": null,
            "height": null,
            "justify_content": null,
            "justify_items": null,
            "left": null,
            "margin": null,
            "max_height": null,
            "max_width": null,
            "min_height": null,
            "min_width": null,
            "object_fit": null,
            "object_position": null,
            "order": null,
            "overflow": null,
            "overflow_x": null,
            "overflow_y": null,
            "padding": null,
            "right": null,
            "top": null,
            "visibility": null,
            "width": null
          }
        },
        "e70aac4289ca4d39ab70255c8619880f": {
          "model_module": "@jupyter-widgets/controls",
          "model_name": "ProgressStyleModel",
          "model_module_version": "1.5.0",
          "state": {
            "_model_module": "@jupyter-widgets/controls",
            "_model_module_version": "1.5.0",
            "_model_name": "ProgressStyleModel",
            "_view_count": null,
            "_view_module": "@jupyter-widgets/base",
            "_view_module_version": "1.2.0",
            "_view_name": "StyleView",
            "bar_color": null,
            "description_width": ""
          }
        },
        "2f9f632884a5429498433cc68b8236a9": {
          "model_module": "@jupyter-widgets/base",
          "model_name": "LayoutModel",
          "model_module_version": "1.2.0",
          "state": {
            "_model_module": "@jupyter-widgets/base",
            "_model_module_version": "1.2.0",
            "_model_name": "LayoutModel",
            "_view_count": null,
            "_view_module": "@jupyter-widgets/base",
            "_view_module_version": "1.2.0",
            "_view_name": "LayoutView",
            "align_content": null,
            "align_items": null,
            "align_self": null,
            "border": null,
            "bottom": null,
            "display": null,
            "flex": null,
            "flex_flow": null,
            "grid_area": null,
            "grid_auto_columns": null,
            "grid_auto_flow": null,
            "grid_auto_rows": null,
            "grid_column": null,
            "grid_gap": null,
            "grid_row": null,
            "grid_template_areas": null,
            "grid_template_columns": null,
            "grid_template_rows": null,
            "height": null,
            "justify_content": null,
            "justify_items": null,
            "left": null,
            "margin": null,
            "max_height": null,
            "max_width": null,
            "min_height": null,
            "min_width": null,
            "object_fit": null,
            "object_position": null,
            "order": null,
            "overflow": null,
            "overflow_x": null,
            "overflow_y": null,
            "padding": null,
            "right": null,
            "top": null,
            "visibility": null,
            "width": null
          }
        },
        "6b497e026b4b41178d56e23f09d7ad81": {
          "model_module": "@jupyter-widgets/controls",
          "model_name": "DescriptionStyleModel",
          "model_module_version": "1.5.0",
          "state": {
            "_model_module": "@jupyter-widgets/controls",
            "_model_module_version": "1.5.0",
            "_model_name": "DescriptionStyleModel",
            "_view_count": null,
            "_view_module": "@jupyter-widgets/base",
            "_view_module_version": "1.2.0",
            "_view_name": "StyleView",
            "description_width": ""
          }
        },
        "6c264aae129642bca6ea4069d13fd947": {
          "model_module": "@jupyter-widgets/controls",
          "model_name": "HBoxModel",
          "model_module_version": "1.5.0",
          "state": {
            "_dom_classes": [],
            "_model_module": "@jupyter-widgets/controls",
            "_model_module_version": "1.5.0",
            "_model_name": "HBoxModel",
            "_view_count": null,
            "_view_module": "@jupyter-widgets/controls",
            "_view_module_version": "1.5.0",
            "_view_name": "HBoxView",
            "box_style": "",
            "children": [
              "IPY_MODEL_2a19e93ef58949a6ab792c92b3c4c886",
              "IPY_MODEL_26c7b2814cdc41aba45b47176e6266ef",
              "IPY_MODEL_9a6257d983ad4eb989f2468698716d7f"
            ],
            "layout": "IPY_MODEL_05600c468fc2423c8672fcdb109ab34e"
          }
        },
        "2a19e93ef58949a6ab792c92b3c4c886": {
          "model_module": "@jupyter-widgets/controls",
          "model_name": "HTMLModel",
          "model_module_version": "1.5.0",
          "state": {
            "_dom_classes": [],
            "_model_module": "@jupyter-widgets/controls",
            "_model_module_version": "1.5.0",
            "_model_name": "HTMLModel",
            "_view_count": null,
            "_view_module": "@jupyter-widgets/controls",
            "_view_module_version": "1.5.0",
            "_view_name": "HTMLView",
            "description": "",
            "description_tooltip": null,
            "layout": "IPY_MODEL_72f02e9b4f7341b8bec5cef995ae0492",
            "placeholder": "​",
            "style": "IPY_MODEL_49afbbbc9e9844a9856d5fa43383f0eb",
            "value": "100%"
          }
        },
        "26c7b2814cdc41aba45b47176e6266ef": {
          "model_module": "@jupyter-widgets/controls",
          "model_name": "FloatProgressModel",
          "model_module_version": "1.5.0",
          "state": {
            "_dom_classes": [],
            "_model_module": "@jupyter-widgets/controls",
            "_model_module_version": "1.5.0",
            "_model_name": "FloatProgressModel",
            "_view_count": null,
            "_view_module": "@jupyter-widgets/controls",
            "_view_module_version": "1.5.0",
            "_view_name": "ProgressView",
            "bar_style": "success",
            "description": "",
            "description_tooltip": null,
            "layout": "IPY_MODEL_849976b15d02450e9ef6292fe85306dc",
            "max": 28881,
            "min": 0,
            "orientation": "horizontal",
            "style": "IPY_MODEL_4345bc427c574451b930893f374fb57a",
            "value": 28881
          }
        },
        "9a6257d983ad4eb989f2468698716d7f": {
          "model_module": "@jupyter-widgets/controls",
          "model_name": "HTMLModel",
          "model_module_version": "1.5.0",
          "state": {
            "_dom_classes": [],
            "_model_module": "@jupyter-widgets/controls",
            "_model_module_version": "1.5.0",
            "_model_name": "HTMLModel",
            "_view_count": null,
            "_view_module": "@jupyter-widgets/controls",
            "_view_module_version": "1.5.0",
            "_view_name": "HTMLView",
            "description": "",
            "description_tooltip": null,
            "layout": "IPY_MODEL_e16bdcdf20fc44bf8f73ebdd7a74b167",
            "placeholder": "​",
            "style": "IPY_MODEL_0153deb6adb84e27ae80de415a630bf1",
            "value": " 28881/28881 [00:00&lt;00:00, 962272.66it/s]"
          }
        },
        "05600c468fc2423c8672fcdb109ab34e": {
          "model_module": "@jupyter-widgets/base",
          "model_name": "LayoutModel",
          "model_module_version": "1.2.0",
          "state": {
            "_model_module": "@jupyter-widgets/base",
            "_model_module_version": "1.2.0",
            "_model_name": "LayoutModel",
            "_view_count": null,
            "_view_module": "@jupyter-widgets/base",
            "_view_module_version": "1.2.0",
            "_view_name": "LayoutView",
            "align_content": null,
            "align_items": null,
            "align_self": null,
            "border": null,
            "bottom": null,
            "display": null,
            "flex": null,
            "flex_flow": null,
            "grid_area": null,
            "grid_auto_columns": null,
            "grid_auto_flow": null,
            "grid_auto_rows": null,
            "grid_column": null,
            "grid_gap": null,
            "grid_row": null,
            "grid_template_areas": null,
            "grid_template_columns": null,
            "grid_template_rows": null,
            "height": null,
            "justify_content": null,
            "justify_items": null,
            "left": null,
            "margin": null,
            "max_height": null,
            "max_width": null,
            "min_height": null,
            "min_width": null,
            "object_fit": null,
            "object_position": null,
            "order": null,
            "overflow": null,
            "overflow_x": null,
            "overflow_y": null,
            "padding": null,
            "right": null,
            "top": null,
            "visibility": null,
            "width": null
          }
        },
        "72f02e9b4f7341b8bec5cef995ae0492": {
          "model_module": "@jupyter-widgets/base",
          "model_name": "LayoutModel",
          "model_module_version": "1.2.0",
          "state": {
            "_model_module": "@jupyter-widgets/base",
            "_model_module_version": "1.2.0",
            "_model_name": "LayoutModel",
            "_view_count": null,
            "_view_module": "@jupyter-widgets/base",
            "_view_module_version": "1.2.0",
            "_view_name": "LayoutView",
            "align_content": null,
            "align_items": null,
            "align_self": null,
            "border": null,
            "bottom": null,
            "display": null,
            "flex": null,
            "flex_flow": null,
            "grid_area": null,
            "grid_auto_columns": null,
            "grid_auto_flow": null,
            "grid_auto_rows": null,
            "grid_column": null,
            "grid_gap": null,
            "grid_row": null,
            "grid_template_areas": null,
            "grid_template_columns": null,
            "grid_template_rows": null,
            "height": null,
            "justify_content": null,
            "justify_items": null,
            "left": null,
            "margin": null,
            "max_height": null,
            "max_width": null,
            "min_height": null,
            "min_width": null,
            "object_fit": null,
            "object_position": null,
            "order": null,
            "overflow": null,
            "overflow_x": null,
            "overflow_y": null,
            "padding": null,
            "right": null,
            "top": null,
            "visibility": null,
            "width": null
          }
        },
        "49afbbbc9e9844a9856d5fa43383f0eb": {
          "model_module": "@jupyter-widgets/controls",
          "model_name": "DescriptionStyleModel",
          "model_module_version": "1.5.0",
          "state": {
            "_model_module": "@jupyter-widgets/controls",
            "_model_module_version": "1.5.0",
            "_model_name": "DescriptionStyleModel",
            "_view_count": null,
            "_view_module": "@jupyter-widgets/base",
            "_view_module_version": "1.2.0",
            "_view_name": "StyleView",
            "description_width": ""
          }
        },
        "849976b15d02450e9ef6292fe85306dc": {
          "model_module": "@jupyter-widgets/base",
          "model_name": "LayoutModel",
          "model_module_version": "1.2.0",
          "state": {
            "_model_module": "@jupyter-widgets/base",
            "_model_module_version": "1.2.0",
            "_model_name": "LayoutModel",
            "_view_count": null,
            "_view_module": "@jupyter-widgets/base",
            "_view_module_version": "1.2.0",
            "_view_name": "LayoutView",
            "align_content": null,
            "align_items": null,
            "align_self": null,
            "border": null,
            "bottom": null,
            "display": null,
            "flex": null,
            "flex_flow": null,
            "grid_area": null,
            "grid_auto_columns": null,
            "grid_auto_flow": null,
            "grid_auto_rows": null,
            "grid_column": null,
            "grid_gap": null,
            "grid_row": null,
            "grid_template_areas": null,
            "grid_template_columns": null,
            "grid_template_rows": null,
            "height": null,
            "justify_content": null,
            "justify_items": null,
            "left": null,
            "margin": null,
            "max_height": null,
            "max_width": null,
            "min_height": null,
            "min_width": null,
            "object_fit": null,
            "object_position": null,
            "order": null,
            "overflow": null,
            "overflow_x": null,
            "overflow_y": null,
            "padding": null,
            "right": null,
            "top": null,
            "visibility": null,
            "width": null
          }
        },
        "4345bc427c574451b930893f374fb57a": {
          "model_module": "@jupyter-widgets/controls",
          "model_name": "ProgressStyleModel",
          "model_module_version": "1.5.0",
          "state": {
            "_model_module": "@jupyter-widgets/controls",
            "_model_module_version": "1.5.0",
            "_model_name": "ProgressStyleModel",
            "_view_count": null,
            "_view_module": "@jupyter-widgets/base",
            "_view_module_version": "1.2.0",
            "_view_name": "StyleView",
            "bar_color": null,
            "description_width": ""
          }
        },
        "e16bdcdf20fc44bf8f73ebdd7a74b167": {
          "model_module": "@jupyter-widgets/base",
          "model_name": "LayoutModel",
          "model_module_version": "1.2.0",
          "state": {
            "_model_module": "@jupyter-widgets/base",
            "_model_module_version": "1.2.0",
            "_model_name": "LayoutModel",
            "_view_count": null,
            "_view_module": "@jupyter-widgets/base",
            "_view_module_version": "1.2.0",
            "_view_name": "LayoutView",
            "align_content": null,
            "align_items": null,
            "align_self": null,
            "border": null,
            "bottom": null,
            "display": null,
            "flex": null,
            "flex_flow": null,
            "grid_area": null,
            "grid_auto_columns": null,
            "grid_auto_flow": null,
            "grid_auto_rows": null,
            "grid_column": null,
            "grid_gap": null,
            "grid_row": null,
            "grid_template_areas": null,
            "grid_template_columns": null,
            "grid_template_rows": null,
            "height": null,
            "justify_content": null,
            "justify_items": null,
            "left": null,
            "margin": null,
            "max_height": null,
            "max_width": null,
            "min_height": null,
            "min_width": null,
            "object_fit": null,
            "object_position": null,
            "order": null,
            "overflow": null,
            "overflow_x": null,
            "overflow_y": null,
            "padding": null,
            "right": null,
            "top": null,
            "visibility": null,
            "width": null
          }
        },
        "0153deb6adb84e27ae80de415a630bf1": {
          "model_module": "@jupyter-widgets/controls",
          "model_name": "DescriptionStyleModel",
          "model_module_version": "1.5.0",
          "state": {
            "_model_module": "@jupyter-widgets/controls",
            "_model_module_version": "1.5.0",
            "_model_name": "DescriptionStyleModel",
            "_view_count": null,
            "_view_module": "@jupyter-widgets/base",
            "_view_module_version": "1.2.0",
            "_view_name": "StyleView",
            "description_width": ""
          }
        },
        "10bf8a590a4d4024826c3adac2d6b7aa": {
          "model_module": "@jupyter-widgets/controls",
          "model_name": "HBoxModel",
          "model_module_version": "1.5.0",
          "state": {
            "_dom_classes": [],
            "_model_module": "@jupyter-widgets/controls",
            "_model_module_version": "1.5.0",
            "_model_name": "HBoxModel",
            "_view_count": null,
            "_view_module": "@jupyter-widgets/controls",
            "_view_module_version": "1.5.0",
            "_view_name": "HBoxView",
            "box_style": "",
            "children": [
              "IPY_MODEL_c6f2408a8ba549c795fe7e382c41d66f",
              "IPY_MODEL_2a80225b5db64fc48511c6907a4dee5d",
              "IPY_MODEL_fe05ba1561934af38bc8bf2801746e63"
            ],
            "layout": "IPY_MODEL_2934e50025ab438cab04bf1653561cc0"
          }
        },
        "c6f2408a8ba549c795fe7e382c41d66f": {
          "model_module": "@jupyter-widgets/controls",
          "model_name": "HTMLModel",
          "model_module_version": "1.5.0",
          "state": {
            "_dom_classes": [],
            "_model_module": "@jupyter-widgets/controls",
            "_model_module_version": "1.5.0",
            "_model_name": "HTMLModel",
            "_view_count": null,
            "_view_module": "@jupyter-widgets/controls",
            "_view_module_version": "1.5.0",
            "_view_name": "HTMLView",
            "description": "",
            "description_tooltip": null,
            "layout": "IPY_MODEL_92cc882d0f4c48bfa0341e3bc31f3a12",
            "placeholder": "​",
            "style": "IPY_MODEL_8a4e5134435f438c84a780c3f4d40ebe",
            "value": "100%"
          }
        },
        "2a80225b5db64fc48511c6907a4dee5d": {
          "model_module": "@jupyter-widgets/controls",
          "model_name": "FloatProgressModel",
          "model_module_version": "1.5.0",
          "state": {
            "_dom_classes": [],
            "_model_module": "@jupyter-widgets/controls",
            "_model_module_version": "1.5.0",
            "_model_name": "FloatProgressModel",
            "_view_count": null,
            "_view_module": "@jupyter-widgets/controls",
            "_view_module_version": "1.5.0",
            "_view_name": "ProgressView",
            "bar_style": "success",
            "description": "",
            "description_tooltip": null,
            "layout": "IPY_MODEL_f809de59e8e745288303a05ea1ffa421",
            "max": 1648877,
            "min": 0,
            "orientation": "horizontal",
            "style": "IPY_MODEL_a79f53ddb3ed49e7b42a9fb18e34c45e",
            "value": 1648877
          }
        },
        "fe05ba1561934af38bc8bf2801746e63": {
          "model_module": "@jupyter-widgets/controls",
          "model_name": "HTMLModel",
          "model_module_version": "1.5.0",
          "state": {
            "_dom_classes": [],
            "_model_module": "@jupyter-widgets/controls",
            "_model_module_version": "1.5.0",
            "_model_name": "HTMLModel",
            "_view_count": null,
            "_view_module": "@jupyter-widgets/controls",
            "_view_module_version": "1.5.0",
            "_view_name": "HTMLView",
            "description": "",
            "description_tooltip": null,
            "layout": "IPY_MODEL_151ac6d9822442faa6cf7dfd43c67fe3",
            "placeholder": "​",
            "style": "IPY_MODEL_14d334c935f14698abfedd730bfcff2b",
            "value": " 1648877/1648877 [00:00&lt;00:00, 21794759.84it/s]"
          }
        },
        "2934e50025ab438cab04bf1653561cc0": {
          "model_module": "@jupyter-widgets/base",
          "model_name": "LayoutModel",
          "model_module_version": "1.2.0",
          "state": {
            "_model_module": "@jupyter-widgets/base",
            "_model_module_version": "1.2.0",
            "_model_name": "LayoutModel",
            "_view_count": null,
            "_view_module": "@jupyter-widgets/base",
            "_view_module_version": "1.2.0",
            "_view_name": "LayoutView",
            "align_content": null,
            "align_items": null,
            "align_self": null,
            "border": null,
            "bottom": null,
            "display": null,
            "flex": null,
            "flex_flow": null,
            "grid_area": null,
            "grid_auto_columns": null,
            "grid_auto_flow": null,
            "grid_auto_rows": null,
            "grid_column": null,
            "grid_gap": null,
            "grid_row": null,
            "grid_template_areas": null,
            "grid_template_columns": null,
            "grid_template_rows": null,
            "height": null,
            "justify_content": null,
            "justify_items": null,
            "left": null,
            "margin": null,
            "max_height": null,
            "max_width": null,
            "min_height": null,
            "min_width": null,
            "object_fit": null,
            "object_position": null,
            "order": null,
            "overflow": null,
            "overflow_x": null,
            "overflow_y": null,
            "padding": null,
            "right": null,
            "top": null,
            "visibility": null,
            "width": null
          }
        },
        "92cc882d0f4c48bfa0341e3bc31f3a12": {
          "model_module": "@jupyter-widgets/base",
          "model_name": "LayoutModel",
          "model_module_version": "1.2.0",
          "state": {
            "_model_module": "@jupyter-widgets/base",
            "_model_module_version": "1.2.0",
            "_model_name": "LayoutModel",
            "_view_count": null,
            "_view_module": "@jupyter-widgets/base",
            "_view_module_version": "1.2.0",
            "_view_name": "LayoutView",
            "align_content": null,
            "align_items": null,
            "align_self": null,
            "border": null,
            "bottom": null,
            "display": null,
            "flex": null,
            "flex_flow": null,
            "grid_area": null,
            "grid_auto_columns": null,
            "grid_auto_flow": null,
            "grid_auto_rows": null,
            "grid_column": null,
            "grid_gap": null,
            "grid_row": null,
            "grid_template_areas": null,
            "grid_template_columns": null,
            "grid_template_rows": null,
            "height": null,
            "justify_content": null,
            "justify_items": null,
            "left": null,
            "margin": null,
            "max_height": null,
            "max_width": null,
            "min_height": null,
            "min_width": null,
            "object_fit": null,
            "object_position": null,
            "order": null,
            "overflow": null,
            "overflow_x": null,
            "overflow_y": null,
            "padding": null,
            "right": null,
            "top": null,
            "visibility": null,
            "width": null
          }
        },
        "8a4e5134435f438c84a780c3f4d40ebe": {
          "model_module": "@jupyter-widgets/controls",
          "model_name": "DescriptionStyleModel",
          "model_module_version": "1.5.0",
          "state": {
            "_model_module": "@jupyter-widgets/controls",
            "_model_module_version": "1.5.0",
            "_model_name": "DescriptionStyleModel",
            "_view_count": null,
            "_view_module": "@jupyter-widgets/base",
            "_view_module_version": "1.2.0",
            "_view_name": "StyleView",
            "description_width": ""
          }
        },
        "f809de59e8e745288303a05ea1ffa421": {
          "model_module": "@jupyter-widgets/base",
          "model_name": "LayoutModel",
          "model_module_version": "1.2.0",
          "state": {
            "_model_module": "@jupyter-widgets/base",
            "_model_module_version": "1.2.0",
            "_model_name": "LayoutModel",
            "_view_count": null,
            "_view_module": "@jupyter-widgets/base",
            "_view_module_version": "1.2.0",
            "_view_name": "LayoutView",
            "align_content": null,
            "align_items": null,
            "align_self": null,
            "border": null,
            "bottom": null,
            "display": null,
            "flex": null,
            "flex_flow": null,
            "grid_area": null,
            "grid_auto_columns": null,
            "grid_auto_flow": null,
            "grid_auto_rows": null,
            "grid_column": null,
            "grid_gap": null,
            "grid_row": null,
            "grid_template_areas": null,
            "grid_template_columns": null,
            "grid_template_rows": null,
            "height": null,
            "justify_content": null,
            "justify_items": null,
            "left": null,
            "margin": null,
            "max_height": null,
            "max_width": null,
            "min_height": null,
            "min_width": null,
            "object_fit": null,
            "object_position": null,
            "order": null,
            "overflow": null,
            "overflow_x": null,
            "overflow_y": null,
            "padding": null,
            "right": null,
            "top": null,
            "visibility": null,
            "width": null
          }
        },
        "a79f53ddb3ed49e7b42a9fb18e34c45e": {
          "model_module": "@jupyter-widgets/controls",
          "model_name": "ProgressStyleModel",
          "model_module_version": "1.5.0",
          "state": {
            "_model_module": "@jupyter-widgets/controls",
            "_model_module_version": "1.5.0",
            "_model_name": "ProgressStyleModel",
            "_view_count": null,
            "_view_module": "@jupyter-widgets/base",
            "_view_module_version": "1.2.0",
            "_view_name": "StyleView",
            "bar_color": null,
            "description_width": ""
          }
        },
        "151ac6d9822442faa6cf7dfd43c67fe3": {
          "model_module": "@jupyter-widgets/base",
          "model_name": "LayoutModel",
          "model_module_version": "1.2.0",
          "state": {
            "_model_module": "@jupyter-widgets/base",
            "_model_module_version": "1.2.0",
            "_model_name": "LayoutModel",
            "_view_count": null,
            "_view_module": "@jupyter-widgets/base",
            "_view_module_version": "1.2.0",
            "_view_name": "LayoutView",
            "align_content": null,
            "align_items": null,
            "align_self": null,
            "border": null,
            "bottom": null,
            "display": null,
            "flex": null,
            "flex_flow": null,
            "grid_area": null,
            "grid_auto_columns": null,
            "grid_auto_flow": null,
            "grid_auto_rows": null,
            "grid_column": null,
            "grid_gap": null,
            "grid_row": null,
            "grid_template_areas": null,
            "grid_template_columns": null,
            "grid_template_rows": null,
            "height": null,
            "justify_content": null,
            "justify_items": null,
            "left": null,
            "margin": null,
            "max_height": null,
            "max_width": null,
            "min_height": null,
            "min_width": null,
            "object_fit": null,
            "object_position": null,
            "order": null,
            "overflow": null,
            "overflow_x": null,
            "overflow_y": null,
            "padding": null,
            "right": null,
            "top": null,
            "visibility": null,
            "width": null
          }
        },
        "14d334c935f14698abfedd730bfcff2b": {
          "model_module": "@jupyter-widgets/controls",
          "model_name": "DescriptionStyleModel",
          "model_module_version": "1.5.0",
          "state": {
            "_model_module": "@jupyter-widgets/controls",
            "_model_module_version": "1.5.0",
            "_model_name": "DescriptionStyleModel",
            "_view_count": null,
            "_view_module": "@jupyter-widgets/base",
            "_view_module_version": "1.2.0",
            "_view_name": "StyleView",
            "description_width": ""
          }
        },
        "8a37d38125cd4e1bb6483dda73a7e41a": {
          "model_module": "@jupyter-widgets/controls",
          "model_name": "HBoxModel",
          "model_module_version": "1.5.0",
          "state": {
            "_dom_classes": [],
            "_model_module": "@jupyter-widgets/controls",
            "_model_module_version": "1.5.0",
            "_model_name": "HBoxModel",
            "_view_count": null,
            "_view_module": "@jupyter-widgets/controls",
            "_view_module_version": "1.5.0",
            "_view_name": "HBoxView",
            "box_style": "",
            "children": [
              "IPY_MODEL_4251206a19e64d11b8d9eec285eacc09",
              "IPY_MODEL_58f1766edfe14353abcf7b5ca7dfe2b6",
              "IPY_MODEL_eb42660c96c84b7c88aa9fe54eca7e71"
            ],
            "layout": "IPY_MODEL_dbfb27e8b2c44013bfe178e397a70ec9"
          }
        },
        "4251206a19e64d11b8d9eec285eacc09": {
          "model_module": "@jupyter-widgets/controls",
          "model_name": "HTMLModel",
          "model_module_version": "1.5.0",
          "state": {
            "_dom_classes": [],
            "_model_module": "@jupyter-widgets/controls",
            "_model_module_version": "1.5.0",
            "_model_name": "HTMLModel",
            "_view_count": null,
            "_view_module": "@jupyter-widgets/controls",
            "_view_module_version": "1.5.0",
            "_view_name": "HTMLView",
            "description": "",
            "description_tooltip": null,
            "layout": "IPY_MODEL_9125e7a26b8a42518392bb6753bc74c7",
            "placeholder": "​",
            "style": "IPY_MODEL_84d683445b604111a3a80bcaca48c9c3",
            "value": "100%"
          }
        },
        "58f1766edfe14353abcf7b5ca7dfe2b6": {
          "model_module": "@jupyter-widgets/controls",
          "model_name": "FloatProgressModel",
          "model_module_version": "1.5.0",
          "state": {
            "_dom_classes": [],
            "_model_module": "@jupyter-widgets/controls",
            "_model_module_version": "1.5.0",
            "_model_name": "FloatProgressModel",
            "_view_count": null,
            "_view_module": "@jupyter-widgets/controls",
            "_view_module_version": "1.5.0",
            "_view_name": "ProgressView",
            "bar_style": "success",
            "description": "",
            "description_tooltip": null,
            "layout": "IPY_MODEL_8e4672b5698a4c61a86bb93a338c4079",
            "max": 4542,
            "min": 0,
            "orientation": "horizontal",
            "style": "IPY_MODEL_6de88fb47c844aca9ad3d82782c3b776",
            "value": 4542
          }
        },
        "eb42660c96c84b7c88aa9fe54eca7e71": {
          "model_module": "@jupyter-widgets/controls",
          "model_name": "HTMLModel",
          "model_module_version": "1.5.0",
          "state": {
            "_dom_classes": [],
            "_model_module": "@jupyter-widgets/controls",
            "_model_module_version": "1.5.0",
            "_model_name": "HTMLModel",
            "_view_count": null,
            "_view_module": "@jupyter-widgets/controls",
            "_view_module_version": "1.5.0",
            "_view_name": "HTMLView",
            "description": "",
            "description_tooltip": null,
            "layout": "IPY_MODEL_a7d0d4b7920a4908befc135f58a716ad",
            "placeholder": "​",
            "style": "IPY_MODEL_ba0ef1cda5674a06a846405d09a8120e",
            "value": " 4542/4542 [00:00&lt;00:00, 137592.66it/s]"
          }
        },
        "dbfb27e8b2c44013bfe178e397a70ec9": {
          "model_module": "@jupyter-widgets/base",
          "model_name": "LayoutModel",
          "model_module_version": "1.2.0",
          "state": {
            "_model_module": "@jupyter-widgets/base",
            "_model_module_version": "1.2.0",
            "_model_name": "LayoutModel",
            "_view_count": null,
            "_view_module": "@jupyter-widgets/base",
            "_view_module_version": "1.2.0",
            "_view_name": "LayoutView",
            "align_content": null,
            "align_items": null,
            "align_self": null,
            "border": null,
            "bottom": null,
            "display": null,
            "flex": null,
            "flex_flow": null,
            "grid_area": null,
            "grid_auto_columns": null,
            "grid_auto_flow": null,
            "grid_auto_rows": null,
            "grid_column": null,
            "grid_gap": null,
            "grid_row": null,
            "grid_template_areas": null,
            "grid_template_columns": null,
            "grid_template_rows": null,
            "height": null,
            "justify_content": null,
            "justify_items": null,
            "left": null,
            "margin": null,
            "max_height": null,
            "max_width": null,
            "min_height": null,
            "min_width": null,
            "object_fit": null,
            "object_position": null,
            "order": null,
            "overflow": null,
            "overflow_x": null,
            "overflow_y": null,
            "padding": null,
            "right": null,
            "top": null,
            "visibility": null,
            "width": null
          }
        },
        "9125e7a26b8a42518392bb6753bc74c7": {
          "model_module": "@jupyter-widgets/base",
          "model_name": "LayoutModel",
          "model_module_version": "1.2.0",
          "state": {
            "_model_module": "@jupyter-widgets/base",
            "_model_module_version": "1.2.0",
            "_model_name": "LayoutModel",
            "_view_count": null,
            "_view_module": "@jupyter-widgets/base",
            "_view_module_version": "1.2.0",
            "_view_name": "LayoutView",
            "align_content": null,
            "align_items": null,
            "align_self": null,
            "border": null,
            "bottom": null,
            "display": null,
            "flex": null,
            "flex_flow": null,
            "grid_area": null,
            "grid_auto_columns": null,
            "grid_auto_flow": null,
            "grid_auto_rows": null,
            "grid_column": null,
            "grid_gap": null,
            "grid_row": null,
            "grid_template_areas": null,
            "grid_template_columns": null,
            "grid_template_rows": null,
            "height": null,
            "justify_content": null,
            "justify_items": null,
            "left": null,
            "margin": null,
            "max_height": null,
            "max_width": null,
            "min_height": null,
            "min_width": null,
            "object_fit": null,
            "object_position": null,
            "order": null,
            "overflow": null,
            "overflow_x": null,
            "overflow_y": null,
            "padding": null,
            "right": null,
            "top": null,
            "visibility": null,
            "width": null
          }
        },
        "84d683445b604111a3a80bcaca48c9c3": {
          "model_module": "@jupyter-widgets/controls",
          "model_name": "DescriptionStyleModel",
          "model_module_version": "1.5.0",
          "state": {
            "_model_module": "@jupyter-widgets/controls",
            "_model_module_version": "1.5.0",
            "_model_name": "DescriptionStyleModel",
            "_view_count": null,
            "_view_module": "@jupyter-widgets/base",
            "_view_module_version": "1.2.0",
            "_view_name": "StyleView",
            "description_width": ""
          }
        },
        "8e4672b5698a4c61a86bb93a338c4079": {
          "model_module": "@jupyter-widgets/base",
          "model_name": "LayoutModel",
          "model_module_version": "1.2.0",
          "state": {
            "_model_module": "@jupyter-widgets/base",
            "_model_module_version": "1.2.0",
            "_model_name": "LayoutModel",
            "_view_count": null,
            "_view_module": "@jupyter-widgets/base",
            "_view_module_version": "1.2.0",
            "_view_name": "LayoutView",
            "align_content": null,
            "align_items": null,
            "align_self": null,
            "border": null,
            "bottom": null,
            "display": null,
            "flex": null,
            "flex_flow": null,
            "grid_area": null,
            "grid_auto_columns": null,
            "grid_auto_flow": null,
            "grid_auto_rows": null,
            "grid_column": null,
            "grid_gap": null,
            "grid_row": null,
            "grid_template_areas": null,
            "grid_template_columns": null,
            "grid_template_rows": null,
            "height": null,
            "justify_content": null,
            "justify_items": null,
            "left": null,
            "margin": null,
            "max_height": null,
            "max_width": null,
            "min_height": null,
            "min_width": null,
            "object_fit": null,
            "object_position": null,
            "order": null,
            "overflow": null,
            "overflow_x": null,
            "overflow_y": null,
            "padding": null,
            "right": null,
            "top": null,
            "visibility": null,
            "width": null
          }
        },
        "6de88fb47c844aca9ad3d82782c3b776": {
          "model_module": "@jupyter-widgets/controls",
          "model_name": "ProgressStyleModel",
          "model_module_version": "1.5.0",
          "state": {
            "_model_module": "@jupyter-widgets/controls",
            "_model_module_version": "1.5.0",
            "_model_name": "ProgressStyleModel",
            "_view_count": null,
            "_view_module": "@jupyter-widgets/base",
            "_view_module_version": "1.2.0",
            "_view_name": "StyleView",
            "bar_color": null,
            "description_width": ""
          }
        },
        "a7d0d4b7920a4908befc135f58a716ad": {
          "model_module": "@jupyter-widgets/base",
          "model_name": "LayoutModel",
          "model_module_version": "1.2.0",
          "state": {
            "_model_module": "@jupyter-widgets/base",
            "_model_module_version": "1.2.0",
            "_model_name": "LayoutModel",
            "_view_count": null,
            "_view_module": "@jupyter-widgets/base",
            "_view_module_version": "1.2.0",
            "_view_name": "LayoutView",
            "align_content": null,
            "align_items": null,
            "align_self": null,
            "border": null,
            "bottom": null,
            "display": null,
            "flex": null,
            "flex_flow": null,
            "grid_area": null,
            "grid_auto_columns": null,
            "grid_auto_flow": null,
            "grid_auto_rows": null,
            "grid_column": null,
            "grid_gap": null,
            "grid_row": null,
            "grid_template_areas": null,
            "grid_template_columns": null,
            "grid_template_rows": null,
            "height": null,
            "justify_content": null,
            "justify_items": null,
            "left": null,
            "margin": null,
            "max_height": null,
            "max_width": null,
            "min_height": null,
            "min_width": null,
            "object_fit": null,
            "object_position": null,
            "order": null,
            "overflow": null,
            "overflow_x": null,
            "overflow_y": null,
            "padding": null,
            "right": null,
            "top": null,
            "visibility": null,
            "width": null
          }
        },
        "ba0ef1cda5674a06a846405d09a8120e": {
          "model_module": "@jupyter-widgets/controls",
          "model_name": "DescriptionStyleModel",
          "model_module_version": "1.5.0",
          "state": {
            "_model_module": "@jupyter-widgets/controls",
            "_model_module_version": "1.5.0",
            "_model_name": "DescriptionStyleModel",
            "_view_count": null,
            "_view_module": "@jupyter-widgets/base",
            "_view_module_version": "1.2.0",
            "_view_name": "StyleView",
            "description_width": ""
          }
        },
        "67e7a5ae178642e98f871df794c4b604": {
          "model_module": "@jupyter-widgets/controls",
          "model_name": "HBoxModel",
          "model_module_version": "1.5.0",
          "state": {
            "_dom_classes": [],
            "_model_module": "@jupyter-widgets/controls",
            "_model_module_version": "1.5.0",
            "_model_name": "HBoxModel",
            "_view_count": null,
            "_view_module": "@jupyter-widgets/controls",
            "_view_module_version": "1.5.0",
            "_view_name": "HBoxView",
            "box_style": "",
            "children": [
              "IPY_MODEL_6d3059ff52424a0d86f134af244a445a",
              "IPY_MODEL_04e86dd4a75e4a71a36532bf840eb8b1",
              "IPY_MODEL_d07e3f6536924445a31d56702e38c3e6"
            ],
            "layout": "IPY_MODEL_7bd5551a600546f394ada7cef3b25e67"
          }
        },
        "6d3059ff52424a0d86f134af244a445a": {
          "model_module": "@jupyter-widgets/controls",
          "model_name": "HTMLModel",
          "model_module_version": "1.5.0",
          "state": {
            "_dom_classes": [],
            "_model_module": "@jupyter-widgets/controls",
            "_model_module_version": "1.5.0",
            "_model_name": "HTMLModel",
            "_view_count": null,
            "_view_module": "@jupyter-widgets/controls",
            "_view_module_version": "1.5.0",
            "_view_name": "HTMLView",
            "description": "",
            "description_tooltip": null,
            "layout": "IPY_MODEL_d5b355550fff4fa387f2460496ea5c56",
            "placeholder": "​",
            "style": "IPY_MODEL_c3c5255078cb4adbb3c54f190bcb83c3",
            "value": "100%"
          }
        },
        "04e86dd4a75e4a71a36532bf840eb8b1": {
          "model_module": "@jupyter-widgets/controls",
          "model_name": "FloatProgressModel",
          "model_module_version": "1.5.0",
          "state": {
            "_dom_classes": [],
            "_model_module": "@jupyter-widgets/controls",
            "_model_module_version": "1.5.0",
            "_model_name": "FloatProgressModel",
            "_view_count": null,
            "_view_module": "@jupyter-widgets/controls",
            "_view_module_version": "1.5.0",
            "_view_name": "ProgressView",
            "bar_style": "success",
            "description": "",
            "description_tooltip": null,
            "layout": "IPY_MODEL_499f6e0fe11f4f458e1f79944d6b2257",
            "max": 100,
            "min": 0,
            "orientation": "horizontal",
            "style": "IPY_MODEL_93079508517343859c0dfda70bfa23fd",
            "value": 100
          }
        },
        "d07e3f6536924445a31d56702e38c3e6": {
          "model_module": "@jupyter-widgets/controls",
          "model_name": "HTMLModel",
          "model_module_version": "1.5.0",
          "state": {
            "_dom_classes": [],
            "_model_module": "@jupyter-widgets/controls",
            "_model_module_version": "1.5.0",
            "_model_name": "HTMLModel",
            "_view_count": null,
            "_view_module": "@jupyter-widgets/controls",
            "_view_module_version": "1.5.0",
            "_view_name": "HTMLView",
            "description": "",
            "description_tooltip": null,
            "layout": "IPY_MODEL_fb65e56927674a59bc8e38d96497ec84",
            "placeholder": "​",
            "style": "IPY_MODEL_34035fa865a944bb8bb80118635268bd",
            "value": " 100/100 [12:17&lt;00:00,  7.28s/it]"
          }
        },
        "7bd5551a600546f394ada7cef3b25e67": {
          "model_module": "@jupyter-widgets/base",
          "model_name": "LayoutModel",
          "model_module_version": "1.2.0",
          "state": {
            "_model_module": "@jupyter-widgets/base",
            "_model_module_version": "1.2.0",
            "_model_name": "LayoutModel",
            "_view_count": null,
            "_view_module": "@jupyter-widgets/base",
            "_view_module_version": "1.2.0",
            "_view_name": "LayoutView",
            "align_content": null,
            "align_items": null,
            "align_self": null,
            "border": null,
            "bottom": null,
            "display": null,
            "flex": null,
            "flex_flow": null,
            "grid_area": null,
            "grid_auto_columns": null,
            "grid_auto_flow": null,
            "grid_auto_rows": null,
            "grid_column": null,
            "grid_gap": null,
            "grid_row": null,
            "grid_template_areas": null,
            "grid_template_columns": null,
            "grid_template_rows": null,
            "height": null,
            "justify_content": null,
            "justify_items": null,
            "left": null,
            "margin": null,
            "max_height": null,
            "max_width": null,
            "min_height": null,
            "min_width": null,
            "object_fit": null,
            "object_position": null,
            "order": null,
            "overflow": null,
            "overflow_x": null,
            "overflow_y": null,
            "padding": null,
            "right": null,
            "top": null,
            "visibility": null,
            "width": null
          }
        },
        "d5b355550fff4fa387f2460496ea5c56": {
          "model_module": "@jupyter-widgets/base",
          "model_name": "LayoutModel",
          "model_module_version": "1.2.0",
          "state": {
            "_model_module": "@jupyter-widgets/base",
            "_model_module_version": "1.2.0",
            "_model_name": "LayoutModel",
            "_view_count": null,
            "_view_module": "@jupyter-widgets/base",
            "_view_module_version": "1.2.0",
            "_view_name": "LayoutView",
            "align_content": null,
            "align_items": null,
            "align_self": null,
            "border": null,
            "bottom": null,
            "display": null,
            "flex": null,
            "flex_flow": null,
            "grid_area": null,
            "grid_auto_columns": null,
            "grid_auto_flow": null,
            "grid_auto_rows": null,
            "grid_column": null,
            "grid_gap": null,
            "grid_row": null,
            "grid_template_areas": null,
            "grid_template_columns": null,
            "grid_template_rows": null,
            "height": null,
            "justify_content": null,
            "justify_items": null,
            "left": null,
            "margin": null,
            "max_height": null,
            "max_width": null,
            "min_height": null,
            "min_width": null,
            "object_fit": null,
            "object_position": null,
            "order": null,
            "overflow": null,
            "overflow_x": null,
            "overflow_y": null,
            "padding": null,
            "right": null,
            "top": null,
            "visibility": null,
            "width": null
          }
        },
        "c3c5255078cb4adbb3c54f190bcb83c3": {
          "model_module": "@jupyter-widgets/controls",
          "model_name": "DescriptionStyleModel",
          "model_module_version": "1.5.0",
          "state": {
            "_model_module": "@jupyter-widgets/controls",
            "_model_module_version": "1.5.0",
            "_model_name": "DescriptionStyleModel",
            "_view_count": null,
            "_view_module": "@jupyter-widgets/base",
            "_view_module_version": "1.2.0",
            "_view_name": "StyleView",
            "description_width": ""
          }
        },
        "499f6e0fe11f4f458e1f79944d6b2257": {
          "model_module": "@jupyter-widgets/base",
          "model_name": "LayoutModel",
          "model_module_version": "1.2.0",
          "state": {
            "_model_module": "@jupyter-widgets/base",
            "_model_module_version": "1.2.0",
            "_model_name": "LayoutModel",
            "_view_count": null,
            "_view_module": "@jupyter-widgets/base",
            "_view_module_version": "1.2.0",
            "_view_name": "LayoutView",
            "align_content": null,
            "align_items": null,
            "align_self": null,
            "border": null,
            "bottom": null,
            "display": null,
            "flex": null,
            "flex_flow": null,
            "grid_area": null,
            "grid_auto_columns": null,
            "grid_auto_flow": null,
            "grid_auto_rows": null,
            "grid_column": null,
            "grid_gap": null,
            "grid_row": null,
            "grid_template_areas": null,
            "grid_template_columns": null,
            "grid_template_rows": null,
            "height": null,
            "justify_content": null,
            "justify_items": null,
            "left": null,
            "margin": null,
            "max_height": null,
            "max_width": null,
            "min_height": null,
            "min_width": null,
            "object_fit": null,
            "object_position": null,
            "order": null,
            "overflow": null,
            "overflow_x": null,
            "overflow_y": null,
            "padding": null,
            "right": null,
            "top": null,
            "visibility": null,
            "width": null
          }
        },
        "93079508517343859c0dfda70bfa23fd": {
          "model_module": "@jupyter-widgets/controls",
          "model_name": "ProgressStyleModel",
          "model_module_version": "1.5.0",
          "state": {
            "_model_module": "@jupyter-widgets/controls",
            "_model_module_version": "1.5.0",
            "_model_name": "ProgressStyleModel",
            "_view_count": null,
            "_view_module": "@jupyter-widgets/base",
            "_view_module_version": "1.2.0",
            "_view_name": "StyleView",
            "bar_color": null,
            "description_width": ""
          }
        },
        "fb65e56927674a59bc8e38d96497ec84": {
          "model_module": "@jupyter-widgets/base",
          "model_name": "LayoutModel",
          "model_module_version": "1.2.0",
          "state": {
            "_model_module": "@jupyter-widgets/base",
            "_model_module_version": "1.2.0",
            "_model_name": "LayoutModel",
            "_view_count": null,
            "_view_module": "@jupyter-widgets/base",
            "_view_module_version": "1.2.0",
            "_view_name": "LayoutView",
            "align_content": null,
            "align_items": null,
            "align_self": null,
            "border": null,
            "bottom": null,
            "display": null,
            "flex": null,
            "flex_flow": null,
            "grid_area": null,
            "grid_auto_columns": null,
            "grid_auto_flow": null,
            "grid_auto_rows": null,
            "grid_column": null,
            "grid_gap": null,
            "grid_row": null,
            "grid_template_areas": null,
            "grid_template_columns": null,
            "grid_template_rows": null,
            "height": null,
            "justify_content": null,
            "justify_items": null,
            "left": null,
            "margin": null,
            "max_height": null,
            "max_width": null,
            "min_height": null,
            "min_width": null,
            "object_fit": null,
            "object_position": null,
            "order": null,
            "overflow": null,
            "overflow_x": null,
            "overflow_y": null,
            "padding": null,
            "right": null,
            "top": null,
            "visibility": null,
            "width": null
          }
        },
        "34035fa865a944bb8bb80118635268bd": {
          "model_module": "@jupyter-widgets/controls",
          "model_name": "DescriptionStyleModel",
          "model_module_version": "1.5.0",
          "state": {
            "_model_module": "@jupyter-widgets/controls",
            "_model_module_version": "1.5.0",
            "_model_name": "DescriptionStyleModel",
            "_view_count": null,
            "_view_module": "@jupyter-widgets/base",
            "_view_module_version": "1.2.0",
            "_view_name": "StyleView",
            "description_width": ""
          }
        }
      }
    }
  },
  "cells": [
    {
      "cell_type": "markdown",
      "metadata": {
        "id": "view-in-github",
        "colab_type": "text"
      },
      "source": [
        "<a href=\"https://colab.research.google.com/github/gibranfp/CursoAprendizajeProfundo/blob/2023-1/notebooks/6c_vae.ipynb\" target=\"_parent\"><img src=\"https://colab.research.google.com/assets/colab-badge.svg\" alt=\"Open In Colab\"/></a>"
      ]
    },
    {
      "cell_type": "markdown",
      "metadata": {
        "id": "8IQI3sCXuHGF"
      },
      "source": [
        "# Autocodificador variacional\n",
        "En esta libreta programaremos un autocodificador variacional y lo aplicaremos al conjunto de imágenes de dígitos escritos a mano MNIST."
      ]
    },
    {
      "cell_type": "code",
      "metadata": {
        "colab": {
          "base_uri": "https://localhost:8080/"
        },
        "id": "9w7qjr1SlGpU",
        "outputId": "c275aeaa-8d07-416d-da81-f3cc6c2e0636"
      },
      "source": [
        "from itertools import islice as take\n",
        "from tqdm.notebook import tqdm\n",
        "\n",
        "import matplotlib.pyplot as plt\n",
        "import matplotlib.gridspec as gridspec\n",
        "import numpy as np\n",
        "import pandas as pd\n",
        "\n",
        "import torch\n",
        "import torch.nn.functional as F\n",
        "from torch.utils.data import Dataset, DataLoader\n",
        "from torchvision.datasets import MNIST\n",
        "from torch.nn import Sequential, Linear, LeakyReLU, Tanh\n",
        "from torch.optim import Adam\n",
        "\n",
        "n_epocas = 100\n",
        "t_lote = 32\n",
        "\n",
        "np.random.seed(1)\n",
        "torch.manual_seed(1)"
      ],
      "execution_count": 1,
      "outputs": [
        {
          "output_type": "execute_result",
          "data": {
            "text/plain": [
              "<torch._C.Generator at 0x7fa045efd930>"
            ]
          },
          "metadata": {},
          "execution_count": 1
        }
      ]
    },
    {
      "cell_type": "markdown",
      "metadata": {
        "id": "2rW_ZCE-uMtE"
      },
      "source": [
        "## Conjunto de datos"
      ]
    },
    {
      "cell_type": "markdown",
      "metadata": {
        "id": "v--8b7QTqlBA"
      },
      "source": [
        "Se carga y preprocesan las imágenes del conjunto MNIST:"
      ]
    },
    {
      "cell_type": "code",
      "metadata": {
        "id": "-M7YUkYmqoB_",
        "colab": {
          "base_uri": "https://localhost:8080/",
          "height": 443,
          "referenced_widgets": [
            "284e1316ef0c486d86f75fe1dc62e946",
            "2e9ca62d0cdd447982e6f549e84807d2",
            "f984ffd85af7460991322a5aca85a61d",
            "a8b84d4c487b41c6a99b82ac58c4c778",
            "bcb48ea45d974faf8be2900a8d012cac",
            "d7fedb4a0734448096e545c9a87c307e",
            "05f6aa6f70ea43488419451cf44e3b33",
            "4424a12051bf43fca6b7e7ee2b7272a5",
            "e70aac4289ca4d39ab70255c8619880f",
            "2f9f632884a5429498433cc68b8236a9",
            "6b497e026b4b41178d56e23f09d7ad81",
            "6c264aae129642bca6ea4069d13fd947",
            "2a19e93ef58949a6ab792c92b3c4c886",
            "26c7b2814cdc41aba45b47176e6266ef",
            "9a6257d983ad4eb989f2468698716d7f",
            "05600c468fc2423c8672fcdb109ab34e",
            "72f02e9b4f7341b8bec5cef995ae0492",
            "49afbbbc9e9844a9856d5fa43383f0eb",
            "849976b15d02450e9ef6292fe85306dc",
            "4345bc427c574451b930893f374fb57a",
            "e16bdcdf20fc44bf8f73ebdd7a74b167",
            "0153deb6adb84e27ae80de415a630bf1",
            "10bf8a590a4d4024826c3adac2d6b7aa",
            "c6f2408a8ba549c795fe7e382c41d66f",
            "2a80225b5db64fc48511c6907a4dee5d",
            "fe05ba1561934af38bc8bf2801746e63",
            "2934e50025ab438cab04bf1653561cc0",
            "92cc882d0f4c48bfa0341e3bc31f3a12",
            "8a4e5134435f438c84a780c3f4d40ebe",
            "f809de59e8e745288303a05ea1ffa421",
            "a79f53ddb3ed49e7b42a9fb18e34c45e",
            "151ac6d9822442faa6cf7dfd43c67fe3",
            "14d334c935f14698abfedd730bfcff2b",
            "8a37d38125cd4e1bb6483dda73a7e41a",
            "4251206a19e64d11b8d9eec285eacc09",
            "58f1766edfe14353abcf7b5ca7dfe2b6",
            "eb42660c96c84b7c88aa9fe54eca7e71",
            "dbfb27e8b2c44013bfe178e397a70ec9",
            "9125e7a26b8a42518392bb6753bc74c7",
            "84d683445b604111a3a80bcaca48c9c3",
            "8e4672b5698a4c61a86bb93a338c4079",
            "6de88fb47c844aca9ad3d82782c3b776",
            "a7d0d4b7920a4908befc135f58a716ad",
            "ba0ef1cda5674a06a846405d09a8120e"
          ]
        },
        "outputId": "ffa06781-b97e-416b-a713-25378440c8ac"
      },
      "source": [
        "ent = MNIST(root='mnist',\n",
        "            train=True,\n",
        "            download=True)\n",
        "\n",
        "prueba = MNIST(root='mnist',\n",
        "               train=False,\n",
        "               download=True)"
      ],
      "execution_count": 2,
      "outputs": [
        {
          "output_type": "stream",
          "name": "stdout",
          "text": [
            "Downloading http://yann.lecun.com/exdb/mnist/train-images-idx3-ubyte.gz\n",
            "Downloading http://yann.lecun.com/exdb/mnist/train-images-idx3-ubyte.gz to mnist/MNIST/raw/train-images-idx3-ubyte.gz\n"
          ]
        },
        {
          "output_type": "display_data",
          "data": {
            "text/plain": [
              "  0%|          | 0/9912422 [00:00<?, ?it/s]"
            ],
            "application/vnd.jupyter.widget-view+json": {
              "version_major": 2,
              "version_minor": 0,
              "model_id": "284e1316ef0c486d86f75fe1dc62e946"
            }
          },
          "metadata": {}
        },
        {
          "output_type": "stream",
          "name": "stdout",
          "text": [
            "Extracting mnist/MNIST/raw/train-images-idx3-ubyte.gz to mnist/MNIST/raw\n",
            "\n",
            "Downloading http://yann.lecun.com/exdb/mnist/train-labels-idx1-ubyte.gz\n",
            "Downloading http://yann.lecun.com/exdb/mnist/train-labels-idx1-ubyte.gz to mnist/MNIST/raw/train-labels-idx1-ubyte.gz\n"
          ]
        },
        {
          "output_type": "display_data",
          "data": {
            "text/plain": [
              "  0%|          | 0/28881 [00:00<?, ?it/s]"
            ],
            "application/vnd.jupyter.widget-view+json": {
              "version_major": 2,
              "version_minor": 0,
              "model_id": "6c264aae129642bca6ea4069d13fd947"
            }
          },
          "metadata": {}
        },
        {
          "output_type": "stream",
          "name": "stdout",
          "text": [
            "Extracting mnist/MNIST/raw/train-labels-idx1-ubyte.gz to mnist/MNIST/raw\n",
            "\n",
            "Downloading http://yann.lecun.com/exdb/mnist/t10k-images-idx3-ubyte.gz\n",
            "Downloading http://yann.lecun.com/exdb/mnist/t10k-images-idx3-ubyte.gz to mnist/MNIST/raw/t10k-images-idx3-ubyte.gz\n"
          ]
        },
        {
          "output_type": "display_data",
          "data": {
            "text/plain": [
              "  0%|          | 0/1648877 [00:00<?, ?it/s]"
            ],
            "application/vnd.jupyter.widget-view+json": {
              "version_major": 2,
              "version_minor": 0,
              "model_id": "10bf8a590a4d4024826c3adac2d6b7aa"
            }
          },
          "metadata": {}
        },
        {
          "output_type": "stream",
          "name": "stdout",
          "text": [
            "Extracting mnist/MNIST/raw/t10k-images-idx3-ubyte.gz to mnist/MNIST/raw\n",
            "\n",
            "Downloading http://yann.lecun.com/exdb/mnist/t10k-labels-idx1-ubyte.gz\n",
            "Downloading http://yann.lecun.com/exdb/mnist/t10k-labels-idx1-ubyte.gz to mnist/MNIST/raw/t10k-labels-idx1-ubyte.gz\n"
          ]
        },
        {
          "output_type": "display_data",
          "data": {
            "text/plain": [
              "  0%|          | 0/4542 [00:00<?, ?it/s]"
            ],
            "application/vnd.jupyter.widget-view+json": {
              "version_major": 2,
              "version_minor": 0,
              "model_id": "8a37d38125cd4e1bb6483dda73a7e41a"
            }
          },
          "metadata": {}
        },
        {
          "output_type": "stream",
          "name": "stdout",
          "text": [
            "Extracting mnist/MNIST/raw/t10k-labels-idx1-ubyte.gz to mnist/MNIST/raw\n",
            "\n"
          ]
        }
      ]
    },
    {
      "cell_type": "markdown",
      "metadata": {
        "id": "-b00ejTsXBN2"
      },
      "source": [
        "Escalamos los valores de los pixeles de $[0,255]$ a $[-1, 1]$"
      ]
    },
    {
      "cell_type": "code",
      "metadata": {
        "id": "VjkVRywbEAlV"
      },
      "source": [
        "X_ent = (ent.data.view(ent.data.shape[0], 784) - 127.5) / 127.5\n",
        "X_prueba = (prueba.data.view(prueba.data.shape[0], 784)  - 127.5) / 127.5"
      ],
      "execution_count": 3,
      "outputs": []
    },
    {
      "cell_type": "code",
      "metadata": {
        "colab": {
          "base_uri": "https://localhost:8080/"
        },
        "id": "lYergPJAlEa_",
        "outputId": "4cb4b423-ad5d-4223-9fb3-eb02fdfa7cd2"
      },
      "source": [
        "X_ent.shape"
      ],
      "execution_count": 4,
      "outputs": [
        {
          "output_type": "execute_result",
          "data": {
            "text/plain": [
              "torch.Size([60000, 784])"
            ]
          },
          "metadata": {},
          "execution_count": 4
        }
      ]
    },
    {
      "cell_type": "markdown",
      "metadata": {
        "id": "e5oPbmpBXPdB"
      },
      "source": [
        "Definimos la clase para cargar datos"
      ]
    },
    {
      "cell_type": "code",
      "metadata": {
        "id": "eGJ05eGUEFNF"
      },
      "source": [
        "class MiDS(Dataset):    \n",
        "  def __init__(self, X):\n",
        "    self.x = X\n",
        "\n",
        "  def __getitem__(self, i):\n",
        "    return self.x[i]\n",
        "\n",
        "  def __len__(self):\n",
        "    return len(self.x)"
      ],
      "execution_count": 5,
      "outputs": []
    },
    {
      "cell_type": "markdown",
      "metadata": {
        "id": "NXtZ0OeOXbxd"
      },
      "source": [
        "Creamos nuestro cargador de datos"
      ]
    },
    {
      "cell_type": "code",
      "metadata": {
        "colab": {
          "base_uri": "https://localhost:8080/",
          "height": 153
        },
        "id": "gN7hYxIVEF2N",
        "outputId": "c9288100-3c09-46a9-e61a-b2f10e423957"
      },
      "source": [
        "entds = MiDS(X_ent)\n",
        "entdl = DataLoader(entds, \n",
        "                   batch_size=t_lote,\n",
        "                   shuffle=True, \n",
        "                   num_workers=0)\n",
        "\n",
        "fig = plt.figure(figsize=(5, 2))\n",
        "for x in take(entdl, 1):\n",
        "  for i in range(10):\n",
        "    img = np.floor(x[i].numpy().reshape(28, 28) * 127.5 + 127.5)   \n",
        "    plt.subplot(2, 5, i + 1)\n",
        "    plt.imshow(img, cmap='gray')\n",
        "    plt.axis('off')\n",
        "fig.tight_layout()\n",
        "plt.show()"
      ],
      "execution_count": 6,
      "outputs": [
        {
          "output_type": "display_data",
          "data": {
            "text/plain": [
              "<Figure size 360x144 with 10 Axes>"
            ],
            "image/png": "[encoded data removed]"
          },
          "metadata": {
            "needs_background": "light"
          }
        }
      ]
    },
    {
      "cell_type": "markdown",
      "metadata": {
        "id": "YZn39-cY7U8X"
      },
      "source": [
        "## VAE con redes densas\n",
        "Definimos nuestro codificador, decodificador y la VAE"
      ]
    },
    {
      "cell_type": "code",
      "metadata": {
        "id": "wSHJeDYaqwQx"
      },
      "source": [
        "class Codificador(torch.nn.Module):\n",
        "  def __init__(self, d):\n",
        "    super(Codificador, self).__init__()\n",
        "    self.densa_entrada = Sequential(Linear(d, 400),\n",
        "                                    LeakyReLU(),\n",
        "                                    Linear(400, 150),\n",
        "                                    LeakyReLU())\n",
        "    self.densa_mu = Linear(150, 50)\n",
        "    self.densa_logvar = Linear(150, 50)\n",
        "\n",
        "\n",
        "  def forward(self, x):\n",
        "    h = self.densa_entrada(x)\n",
        "    mu = self.densa_mu(h)\n",
        "    logvar = self.densa_logvar(h)\n",
        "    return mu, logvar\n",
        "\n",
        "class Decodificador(torch.nn.Module):\n",
        "  def __init__(self, d):\n",
        "    super(Decodificador, self).__init__()\n",
        "    self.red_densa = Sequential(Linear(50, 150), \n",
        "                                LeakyReLU(),\n",
        "                                Linear(150, 400), \n",
        "                                LeakyReLU(),\n",
        "                                Linear(400, d), \n",
        "                                Tanh())\n",
        "\n",
        "  def forward(self, z):\n",
        "    x = self.red_densa(z)\n",
        "    return x\n",
        "\n",
        "class VAE(torch.nn.Module):\n",
        "  def __init__(self, d):\n",
        "    super(VAE, self).__init__()\n",
        "    self.cod = Codificador(d)\n",
        "    self.dec = Decodificador(d)\n",
        "\n",
        "  def proyectar(self, x):\n",
        "    mu, logvar = self.cod(x)\n",
        "    std = torch.exp(0.5 * logvar)\n",
        "    eps = torch.randn(mu.size(), device=mu.device)\n",
        "    z = mu + eps * std\n",
        "    return z\n",
        "    \n",
        "  def forward(self, x):\n",
        "    mu, logvar = self.cod(x)\n",
        "    std = torch.exp(0.5 * logvar) \n",
        "    eps = torch.randn(mu.size(), device=mu.device)\n",
        "    z = mu + eps * std\n",
        "    xrec = self.dec(z)\n",
        "    return xrec, mu, logvar"
      ],
      "execution_count": 7,
      "outputs": []
    },
    {
      "cell_type": "markdown",
      "metadata": {
        "id": "JrLUALj5Xkl8"
      },
      "source": [
        "La función de pérdida es la suma del error cuadrático medio y la divergencia KL "
      ]
    },
    {
      "cell_type": "code",
      "metadata": {
        "id": "jfqTcoc5WxrQ"
      },
      "source": [
        "def funcion_perdida(x, xrec, mu, logvar):\n",
        "  ecm = F.mse_loss(x, xrec, reduction='sum')\n",
        "  kl = -0.5 * torch.sum(1 + logvar - mu**2 - logvar.exp())\n",
        "  perdida = ecm + kl\n",
        "  return perdida"
      ],
      "execution_count": 8,
      "outputs": []
    },
    {
      "cell_type": "markdown",
      "metadata": {
        "id": "eN-eoLj7va-s"
      },
      "source": [
        "Creamos una función para entrenar nuestro VAE"
      ]
    },
    {
      "cell_type": "code",
      "metadata": {
        "id": "4648C6xWErmm"
      },
      "source": [
        "def entrena(modelo, n_epocas=30, lr=1e-3, disp='cuda'):\n",
        "  opt = Adam(modelo.parameters(), lr=lr)\n",
        "\n",
        "  perdidas = []\n",
        "  for e in tqdm(range(n_epocas)):   \n",
        "    perdidas_epoca = [] \n",
        "    for x in entdl:\n",
        "      x = x.to(disp)\n",
        "      opt.zero_grad()\n",
        "      xrec, mu, logvar = vae(x)\n",
        "      p = funcion_perdida(xrec, x, mu, logvar)\n",
        "      p.backward()\n",
        "      opt.step()\n",
        "      perdidas_epoca.append(p.item())\n",
        "\n",
        "    perdidas.append(np.mean(perdidas_epoca))\n",
        "\n",
        "  return modelo, perdidas"
      ],
      "execution_count": 9,
      "outputs": []
    },
    {
      "cell_type": "markdown",
      "metadata": {
        "id": "xIMl5KlbuaeO"
      },
      "source": [
        "Instanciamos nuestra clase de autocodificador variacional y la movemos al GPU is está disponible"
      ]
    },
    {
      "cell_type": "code",
      "metadata": {
        "id": "OizkHl2uhkUT"
      },
      "source": [
        "disp = torch.device('cuda' if torch.cuda.is_available() else 'cpu')\n",
        "vae = VAE(X_ent.shape[-1])\n",
        "vae = vae.to(disp)"
      ],
      "execution_count": 10,
      "outputs": []
    },
    {
      "cell_type": "markdown",
      "metadata": {
        "id": "JK4Ct2Q9u2Nz"
      },
      "source": [
        "Entrenamos el modelo"
      ]
    },
    {
      "cell_type": "code",
      "metadata": {
        "colab": {
          "base_uri": "https://localhost:8080/",
          "height": 49,
          "referenced_widgets": [
            "67e7a5ae178642e98f871df794c4b604",
            "6d3059ff52424a0d86f134af244a445a",
            "04e86dd4a75e4a71a36532bf840eb8b1",
            "d07e3f6536924445a31d56702e38c3e6",
            "7bd5551a600546f394ada7cef3b25e67",
            "d5b355550fff4fa387f2460496ea5c56",
            "c3c5255078cb4adbb3c54f190bcb83c3",
            "499f6e0fe11f4f458e1f79944d6b2257",
            "93079508517343859c0dfda70bfa23fd",
            "fb65e56927674a59bc8e38d96497ec84",
            "34035fa865a944bb8bb80118635268bd"
          ]
        },
        "id": "dSuF1_ZpWcah",
        "outputId": "9b673023-588a-4932-9a65-bd6a3d595704"
      },
      "source": [
        "vae, perdidas = entrena(vae, n_epocas=n_epocas, lr=1e-3, disp=disp)"
      ],
      "execution_count": 11,
      "outputs": [
        {
          "output_type": "display_data",
          "data": {
            "text/plain": [
              "  0%|          | 0/100 [00:00<?, ?it/s]"
            ],
            "application/vnd.jupyter.widget-view+json": {
              "version_major": 2,
              "version_minor": 0,
              "model_id": "67e7a5ae178642e98f871df794c4b604"
            }
          },
          "metadata": {}
        }
      ]
    },
    {
      "cell_type": "markdown",
      "metadata": {
        "id": "FxtTBnuZJKIZ"
      },
      "source": [
        "Graficamos las pérdidas"
      ]
    },
    {
      "cell_type": "code",
      "metadata": {
        "colab": {
          "base_uri": "https://localhost:8080/",
          "height": 281
        },
        "id": "u4q6FVVoJMgY",
        "outputId": "8c91eb99-c99b-4944-a9e5-6d2d0cedc96b"
      },
      "source": [
        "plt.plot(perdidas)\n",
        "plt.xlabel(u'Época')\n",
        "plt.ylabel(u'Pérdida')\n",
        "plt.show()"
      ],
      "execution_count": 12,
      "outputs": [
        {
          "output_type": "display_data",
          "data": {
            "text/plain": [
              "<Figure size 432x288 with 1 Axes>"
            ],
            "image/png": "[encoded data removed]"
          },
          "metadata": {
            "needs_background": "light"
          }
        }
      ]
    },
    {
      "cell_type": "markdown",
      "metadata": {
        "id": "V3xZVm87vAGv"
      },
      "source": [
        "Definimos una función para desplegar muestras de imágenes generadas en una cuadrícula"
      ]
    },
    {
      "cell_type": "code",
      "metadata": {
        "id": "GUJrjeQ4ITSe"
      },
      "source": [
        "def visualiza_imagenes(xs, n_filas=10, n_columnas=10, imshape=(28,28), figsize=(10, 10)):\n",
        "  plt.figure(figsize=figsize)\n",
        "  gs = gridspec.GridSpec(n_filas, n_columnas)\n",
        "  gs.update(wspace=0.05, hspace=0.05)\n",
        "  for i in range(n_filas):\n",
        "    for j in range(n_columnas):\n",
        "      ax = plt.subplot(gs[i * n_filas + j])\n",
        "      img = np.floor(xs[i * n_filas + j].reshape(imshape) * 127.5 + 127.5)\n",
        "      ax.imshow(img, cmap=plt.cm.gray, interpolation='nearest')\n",
        "      ax.axis('off')\n",
        "      ax.set_xticklabels([])\n",
        "      ax.set_yticklabels([])\n",
        "      ax.set_aspect('equal')"
      ],
      "execution_count": 13,
      "outputs": []
    },
    {
      "cell_type": "markdown",
      "metadata": {
        "id": "iMROaWNuYaAA"
      },
      "source": [
        "## Regenerando imágenes de entrenamiento y prueba\n",
        "Pasamos el modelo entrenado al CPU para generar muestras de imágenes"
      ]
    },
    {
      "cell_type": "code",
      "metadata": {
        "id": "l2K_qZhUEklV"
      },
      "source": [
        "vae = vae.to('cpu')"
      ],
      "execution_count": 14,
      "outputs": []
    },
    {
      "cell_type": "markdown",
      "metadata": {
        "id": "msC4TFclv8Gv"
      },
      "source": [
        "Reconstruimos las imágenes de entrenamiento y visualizamos algunas muestras"
      ]
    },
    {
      "cell_type": "code",
      "metadata": {
        "colab": {
          "base_uri": "https://localhost:8080/",
          "height": 575
        },
        "id": "wJA3Q3KAaDg5",
        "outputId": "bfb6573c-6886-495d-857c-49960fda94df"
      },
      "source": [
        "with torch.no_grad():\n",
        "  Xrec_ent, _, _ = vae(X_ent)\n",
        "\n",
        "visualiza_imagenes(Xrec_ent.numpy())"
      ],
      "execution_count": 15,
      "outputs": [
        {
          "output_type": "display_data",
          "data": {
            "text/plain": [
              "<Figure size 720x720 with 100 Axes>"
            ],
            "image/png": "[encoded data removed]"
          },
          "metadata": {
            "needs_background": "light"
          }
        }
      ]
    },
    {
      "cell_type": "markdown",
      "metadata": {
        "id": "88IZUotwYR__"
      },
      "source": [
        "Reconstruimos las imágenes de prueba y visualizamos algunas muestras"
      ]
    },
    {
      "cell_type": "code",
      "metadata": {
        "colab": {
          "base_uri": "https://localhost:8080/",
          "height": 575
        },
        "id": "XY2YECLFYPB3",
        "outputId": "06f5237e-79e0-4e6e-b3d9-036433a62e22"
      },
      "source": [
        "with torch.no_grad():\n",
        "  Xrec_prueba, _, _ = vae(X_prueba)\n",
        "\n",
        "visualiza_imagenes(Xrec_prueba.numpy())"
      ],
      "execution_count": 16,
      "outputs": [
        {
          "output_type": "display_data",
          "data": {
            "text/plain": [
              "<Figure size 720x720 with 100 Axes>"
            ],
            "image/png": "[encoded data removed]"
          },
          "metadata": {
            "needs_background": "light"
          }
        }
      ]
    },
    {
      "cell_type": "markdown",
      "metadata": {
        "id": "sZK7bhetYXXj"
      },
      "source": [
        "## Generación de muestras aleatorias\n",
        "Muestreamos vectores latentes $z\\sim\\mathcal{N}(0, \\mathbb{I})$ y generamos imágenes a partir de estos"
      ]
    },
    {
      "cell_type": "code",
      "metadata": {
        "colab": {
          "base_uri": "https://localhost:8080/",
          "height": 575
        },
        "id": "5kUi0bI3CwUL",
        "outputId": "74f5b96c-051c-46c6-f918-40663eb1fca1"
      },
      "source": [
        "z = torch.randn((100, 50))\n",
        "\n",
        "with torch.no_grad():\n",
        "  xrec = vae.dec(z)\n",
        "\n",
        "visualiza_imagenes(xrec.numpy()[:100])"
      ],
      "execution_count": 17,
      "outputs": [
        {
          "output_type": "display_data",
          "data": {
            "text/plain": [
              "<Figure size 720x720 with 100 Axes>"
            ],
            "image/png": "[encoded data removed]"
          },
          "metadata": {
            "needs_background": "light"
          }
        }
      ]
    },
    {
      "cell_type": "markdown",
      "metadata": {
        "id": "kNrNHsNDbZxh"
      },
      "source": [
        "## Interpolación de dos vectores\n",
        "Exploramos las imágenes generadas con los vectores interpolados entre los vectores latentes de dos dígitos dados"
      ]
    },
    {
      "cell_type": "code",
      "metadata": {
        "colab": {
          "base_uri": "https://localhost:8080/",
          "height": 575
        },
        "id": "sJfIqVYeX7OR",
        "outputId": "ad7280e2-7516-4a82-d27f-37cfceb28e1c"
      },
      "source": [
        "with torch.no_grad():\n",
        "  z_prueba = vae.proyectar(X_prueba)\n",
        "  Xrec_prueba = vae.dec(z_prueba)\n",
        "\n",
        "visualiza_imagenes(Xrec_prueba.numpy())"
      ],
      "execution_count": 18,
      "outputs": [
        {
          "output_type": "display_data",
          "data": {
            "text/plain": [
              "<Figure size 720x720 with 100 Axes>"
            ],
            "image/png": "[encoded data removed]"
          },
          "metadata": {
            "needs_background": "light"
          }
        }
      ]
    },
    {
      "cell_type": "markdown",
      "metadata": {
        "id": "fd0JO6-nz8Hu"
      },
      "source": [
        "Tomamos los vectores latentes de dos dígitos del conjunto de prueba y obtenemos su vector latente"
      ]
    },
    {
      "cell_type": "code",
      "metadata": {
        "colab": {
          "base_uri": "https://localhost:8080/",
          "height": 183
        },
        "id": "mgmlayr2XcFY",
        "outputId": "01f42277-26ca-4573-a94c-6a48a531358a"
      },
      "source": [
        "with torch.no_grad():\n",
        "  x1 = vae.dec(z_prueba[1])\n",
        "  x2 = vae.dec(z_prueba[2])\n",
        "\n",
        "img1 = np.floor(x1.numpy().reshape(28, 28) * 127.5 + 127.5)\n",
        "img2 = np.floor(x2.numpy().reshape(28, 28) * 127.5 + 127.5)\n",
        "ax = plt.subplot(1, 2, 1)\n",
        "ax.imshow(img1, cmap='gray')\n",
        "ax.axis('off')\n",
        "ax.set_xticklabels([])\n",
        "ax.set_yticklabels([])\n",
        "ax.set_aspect('equal')\n",
        "\n",
        "ax = plt.subplot(1, 2, 2)\n",
        "ax.imshow(img2, cmap='gray')\n",
        "ax.axis('off')\n",
        "ax.set_xticklabels([])\n",
        "ax.set_yticklabels([])\n",
        "ax.set_aspect('equal')"
      ],
      "execution_count": 19,
      "outputs": [
        {
          "output_type": "display_data",
          "data": {
            "text/plain": [
              "<Figure size 432x288 with 2 Axes>"
            ],
            "image/png": "[encoded data removed]"
          },
          "metadata": {
            "needs_background": "light"
          }
        }
      ]
    },
    {
      "cell_type": "markdown",
      "metadata": {
        "id": "KioZ2XbczlRe"
      },
      "source": [
        "Interpolamos vectores entre los vectores latentes de estos dos dígitos y generamos las imágenes de los vectores interpolados."
      ]
    },
    {
      "cell_type": "code",
      "metadata": {
        "colab": {
          "base_uri": "https://localhost:8080/",
          "height": 66
        },
        "id": "0nSEWPNlbbcD",
        "outputId": "48432c3c-070b-49d9-c605-841286749911"
      },
      "source": [
        "vals = torch.linspace(0, 1, steps=20)\n",
        "plt.figure(figsize=(15,5))\n",
        "for i,v in enumerate(vals):\n",
        "  with torch.no_grad():\n",
        "    z = (1.0 - v) * z_prueba[1] + v * z_prueba[2]\n",
        "    xrec = vae.dec(z)\n",
        "    \n",
        "  ax = plt.subplot(1, 20, i+1)\n",
        "  img = np.floor(xrec.numpy().reshape(28, 28) * 127.5 + 127.5)\n",
        "  ax.imshow(img, cmap='gray')\n",
        "  ax.axis('off')\n",
        "  ax.set_xticklabels([])\n",
        "  ax.set_yticklabels([])\n",
        "  ax.set_aspect('equal')"
      ],
      "execution_count": 20,
      "outputs": [
        {
          "output_type": "display_data",
          "data": {
            "text/plain": [
              "<Figure size 1080x360 with 20 Axes>"
            ],
            "image/png": "[encoded data removed]"
          },
          "metadata": {
            "needs_background": "light"
          }
        }
      ]
    },
    {
      "cell_type": "markdown",
      "metadata": {
        "id": "y41p8uHFX3NV"
      },
      "source": [
        "## Aritmética de vectores latentes\n",
        "Obtenemos 3 vectores latentes $A$, $B$ y $C$ de las imágenes del conjunto de prueba de los dígitos 0, 3 y 6, realizamos $A - B + C$ y reconstruimos la imagen a partir del vector resultante"
      ]
    },
    {
      "cell_type": "code",
      "metadata": {
        "colab": {
          "base_uri": "https://localhost:8080/",
          "height": 104
        },
        "id": "uVZpYF7AbVAB",
        "outputId": "e073c0b3-22ed-4638-de1e-84ff310edef3"
      },
      "source": [
        "a = z_prueba[prueba.targets==0][0]\n",
        "b = z_prueba[prueba.targets==3][0]\n",
        "c = z_prueba[prueba.targets==6][0]\n",
        "comb = a - b + c\n",
        "\n",
        "with torch.no_grad():\n",
        "  xa = vae.dec(a)\n",
        "  xb = vae.dec(b)\n",
        "  xc = vae.dec(c)\n",
        "  xcomb = vae.dec(comb)\n",
        "\n",
        "img_a = np.floor(xa.numpy().reshape(28, 28) * 127.5 + 127.5)\n",
        "img_b = np.floor(xb.numpy().reshape(28, 28) * 127.5 + 127.5)\n",
        "img_c = np.floor(xc.numpy().reshape(28, 28) * 127.5 + 127.5)\n",
        "img_comb = np.floor(xcomb.numpy().reshape(28, 28) * 127.5 + 127.5)\n",
        "\n",
        "fig, ax = plt.subplots(nrows=1, ncols=4)\n",
        "ax[0].imshow(img_a, cmap='gray')\n",
        "ax[0].axis('off')\n",
        "ax[0].set_xticklabels([])\n",
        "ax[0].set_yticklabels([])\n",
        "ax[0].set_aspect('equal')\n",
        "\n",
        "ax[1].imshow(img_b, cmap='gray')\n",
        "ax[1].axis('off')\n",
        "ax[1].set_xticklabels([])\n",
        "ax[1].set_yticklabels([])\n",
        "ax[1].set_aspect('equal')\n",
        "\n",
        "ax[2].imshow(img_c, cmap='gray')\n",
        "ax[2].axis('off')\n",
        "ax[2].set_xticklabels([])\n",
        "ax[2].set_yticklabels([])\n",
        "ax[2].set_aspect('equal')\n",
        "\n",
        "ax[3].imshow(img_comb, cmap='gray')\n",
        "ax[3].axis('off')\n",
        "ax[3].set_xticklabels([])\n",
        "ax[3].set_yticklabels([])\n",
        "ax[3].set_aspect('equal')\n",
        "\n",
        "plt.show()"
      ],
      "execution_count": 21,
      "outputs": [
        {
          "output_type": "display_data",
          "data": {
            "text/plain": [
              "<Figure size 432x288 with 4 Axes>"
            ],
            "image/png": "[encoded data removed]"
          },
          "metadata": {
            "needs_background": "light"
          }
        }
      ]
    }
  ]
}