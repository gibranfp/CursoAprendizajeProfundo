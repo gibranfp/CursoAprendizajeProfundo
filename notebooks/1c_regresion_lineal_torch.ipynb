{
 "cells": [
  {
   "cell_type": "markdown",
   "metadata": {},
   "source": [
    "<a href=\"https://colab.research.google.com/github/gibranfp/CursoAprendizajeProfundo/blob/master/notebooks/1c_regresion_lineal_torch.ipynb\" target=\"_parent\"><img src=\"https://colab.research.google.com/assets/colab-badge.svg\" alt=\"Open In Colab\"/></a>"
   ]
  },
  {
   "cell_type": "markdown",
   "metadata": {},
   "source": [
    "\n",
    "# Regresión lineal simple\n",
    "\n",
    "#### <div style=\"text-align: right\">Berenice Montalvo Lezama</div>\n",
    "\n",
    "[PyTorch](https://pytorch.org/) es una librería de aprendizaje de máquina de código abierto cuyo propósito es reducir la brecha entre prototipos y producción. Provee una interfaz similar a NumPy para manipulación de tensores, así como implementaciones de alto nivel de muchas de las utilidades necesarias para la construcción de redes neuronales profundas.\n",
    "\n",
    "Para comenzar a familiarizarnos con PyTorch implementaremos un modelo de regresión lineal simple sobre un conjunto de datos de calificaciones, lo que deseamos predecir es que calificación tendrá el alumno en un examen. El conjunto de datos posee dos atributos entrada: la calificación que obtuvo en un examen previo y el número de horas que estudio el alumno para presentar el examen. En este ejemplo nos enfocaremos en realizar regresion lineal univariada, por lo tanto, consideraremos únicamente un atributo de entrada, el número de horas de estudio."
   ]
  },
  {
   "cell_type": "code",
   "execution_count": 1,
   "metadata": {},
   "outputs": [],
   "source": [
    "import numpy as np\n",
    "import torch\n",
    "import torch.nn as nn\n",
    "import matplotlib.pyplot as plt\n",
    "%matplotlib inline\n",
    "\n",
    "# para reproducibilidad\n",
    "torch.manual_seed(2019);"
   ]
  },
  {
   "cell_type": "markdown",
   "metadata": {},
   "source": [
    "## Carga de datos"
   ]
  },
  {
   "cell_type": "code",
   "execution_count": 2,
   "metadata": {},
   "outputs": [],
   "source": [
    "datos = np.loadtxt('../data/califs/califs.csv', dtype=np.float32, delimiter=',')\n",
    "X, y = datos[:, [1]], datos[:, -1]"
   ]
  },
  {
   "cell_type": "markdown",
   "metadata": {},
   "source": [
    "Graficamos los datos tener una idea más clara de como se encuentran distribuidos."
   ]
  },
  {
   "cell_type": "code",
   "execution_count": 3,
   "metadata": {
    "scrolled": true
   },
   "outputs": [
    {
     "data": {
      "image/png": "[encoded data removed]",
      "text/plain": [
       "<Figure size 432x288 with 1 Axes>"
      ]
     },
     "metadata": {
      "needs_background": "light"
     },
     "output_type": "display_data"
    }
   ],
   "source": [
    "plt.plot(X.ravel(), y, '.', color='green')\n",
    "plt.xlabel('horas de estudio')\n",
    "plt.ylabel('calificación');"
   ]
  },
  {
   "cell_type": "markdown",
   "metadata": {},
   "source": [
    "PyTorch incluye muchas utilidades para facilitar la carga y procesamiento de datos. Las principales son `Dataset` y `DataLoader` incluidas en el módulo `torch.data.utils`. \n",
    "\n",
    "`Dataset` es una clase que nos permite definir el proceso de carga que deseemos implementando una clase que herede de ella y definiendo los métodos `__len__` (longitud del dataset) y `__getitem__` (qué debe regresar el dataset cuando se indexa).\n",
    "\n",
    "Un `DataLoader` construye un generador a partir de un `Dataset` que permite obtener sus elementos en batches con la posibilidad de ser permutados y, opcionalmente, cargarlos en paralelo."
   ]
  },
  {
   "cell_type": "code",
   "execution_count": 4,
   "metadata": {},
   "outputs": [],
   "source": [
    "from torch.utils.data import Dataset, DataLoader"
   ]
  },
  {
   "cell_type": "code",
   "execution_count": 5,
   "metadata": {},
   "outputs": [],
   "source": [
    "class PrimerDataset(Dataset):\n",
    "    \n",
    "    def __init__(self, X, y):\n",
    "        self.X = X\n",
    "        self.y = y\n",
    "        \n",
    "    def __len__(self):\n",
    "        return len(self.y)\n",
    "    \n",
    "    def __getitem__(self, idx):\n",
    "        return self.X[idx], self.y[idx]"
   ]
  },
  {
   "cell_type": "markdown",
   "metadata": {},
   "source": [
    "Nuestro primer Dataset recibirá una matriz X y un vector y. "
   ]
  },
  {
   "cell_type": "code",
   "execution_count": 6,
   "metadata": {},
   "outputs": [],
   "source": [
    "ds = PrimerDataset(X, y)"
   ]
  },
  {
   "cell_type": "markdown",
   "metadata": {},
   "source": [
    "Su longitud estará dada por el número de muestras (longitud del vector y)."
   ]
  },
  {
   "cell_type": "code",
   "execution_count": 7,
   "metadata": {},
   "outputs": [
    {
     "data": {
      "text/plain": [
       "50"
      ]
     },
     "execution_count": 7,
     "metadata": {},
     "output_type": "execute_result"
    }
   ],
   "source": [
    "len(ds)"
   ]
  },
  {
   "cell_type": "markdown",
   "metadata": {},
   "source": [
    "Al indexarlo regresará el renglón correspondiente de la matrix X y del vector y."
   ]
  },
  {
   "cell_type": "code",
   "execution_count": 8,
   "metadata": {},
   "outputs": [
    {
     "data": {
      "text/plain": [
       "(array([9.389], dtype=float32), 5.931)"
      ]
     },
     "execution_count": 8,
     "metadata": {},
     "output_type": "execute_result"
    }
   ],
   "source": [
    "ds[1]"
   ]
  },
  {
   "cell_type": "markdown",
   "metadata": {},
   "source": [
    "Una vez que tenemos nuestro dataset definido, podemos crear un DataLoader."
   ]
  },
  {
   "cell_type": "code",
   "execution_count": 9,
   "metadata": {},
   "outputs": [],
   "source": [
    "batch_size = 8\n",
    "dl = DataLoader(ds, batch_size=batch_size, shuffle=True)"
   ]
  },
  {
   "cell_type": "markdown",
   "metadata": {},
   "source": [
    "Para ver el funcionamiento de la tubería de datos imprimimos la forma de cada lote y su primer elemento."
   ]
  },
  {
   "cell_type": "code",
   "execution_count": 10,
   "metadata": {},
   "outputs": [
    {
     "name": "stdout",
     "output_type": "stream",
     "text": [
      "torch.Size([8, 1]) torch.Size([8])\n",
      "[12.865] 7.258\n",
      "torch.Size([8, 1]) torch.Size([8])\n",
      "[11.915] 7.368\n",
      "torch.Size([8, 1]) torch.Size([8])\n",
      "[12.943] 7.896\n",
      "torch.Size([8, 1]) torch.Size([8])\n",
      "[13.577] 8.612\n",
      "torch.Size([8, 1]) torch.Size([8])\n",
      "[13.821] 8.106\n",
      "torch.Size([8, 1]) torch.Size([8])\n",
      "[12.164] 7.814\n",
      "torch.Size([2, 1]) torch.Size([2])\n",
      "[12.111] 6.954\n"
     ]
    }
   ],
   "source": [
    "# iteramos sobre los lotes\n",
    "for x, y_true in dl:\n",
    "    # imprimimoos las dimensiones del atributo de entrada X y la salida Y\n",
    "    print(x.shape, y_true.shape)\n",
    "    # imprimimos el primer elemento de cada lote\n",
    "    print(x[0].numpy(), y_true[0].numpy())"
   ]
  },
  {
   "cell_type": "markdown",
   "metadata": {},
   "source": [
    "### Quiz 1\n",
    "\n",
    "¿ Cuáles serían las dimensiones si consideraramos los dos atributos de entrada?"
   ]
  },
  {
   "cell_type": "markdown",
   "metadata": {},
   "source": [
    "## Definición del modelo\n"
   ]
  },
  {
   "cell_type": "markdown",
   "metadata": {},
   "source": [
    "Un módulo de PyTorch es una clase que hereda de `nn.Module`. Al inicializar la clase se debe inicializar la clase padre usando `super().__init__()` y también definir todas las operaciones que involucren parámetros a ser optimizados.\n",
    "\n",
    "Los módulos realizan las operaciones definidas en el método `forward`."
   ]
  },
  {
   "cell_type": "code",
   "execution_count": 11,
   "metadata": {},
   "outputs": [],
   "source": [
    "class RegLin(nn.Module):\n",
    "\n",
    "    def __init__(self):\n",
    "        super().__init__()\n",
    "        self.fc = nn.Linear(1, 1)\n",
    "\n",
    "    def forward(self, x):\n",
    "        x = self.fc(x)\n",
    "        return x.squeeze() # Para hacer vector"
   ]
  },
  {
   "cell_type": "markdown",
   "metadata": {},
   "source": [
    "### Quiz 2\n",
    "\n",
    "¿Cómo podríamos dibujar la regresión lineal como una red neuronal?"
   ]
  },
  {
   "cell_type": "markdown",
   "metadata": {},
   "source": [
    "## Definición de la función perdida\n",
    "\n",
    "Se define el error cuadrático medio como función de pérdida.\n",
    "\n",
    "![alt text](../figs/ecm.png)"
   ]
  },
  {
   "cell_type": "code",
   "execution_count": 12,
   "metadata": {},
   "outputs": [],
   "source": [
    "loss_fn = nn.MSELoss()"
   ]
  },
  {
   "cell_type": "markdown",
   "metadata": {},
   "source": [
    "Inicializamos el modelo"
   ]
  },
  {
   "cell_type": "code",
   "execution_count": 13,
   "metadata": {},
   "outputs": [],
   "source": [
    "model = RegLin()"
   ]
  },
  {
   "cell_type": "markdown",
   "metadata": {},
   "source": [
    "Revisamos sus parámetros, los cuales son la pendiente y la ordenada."
   ]
  },
  {
   "cell_type": "code",
   "execution_count": 14,
   "metadata": {},
   "outputs": [
    {
     "name": "stdout",
     "output_type": "stream",
     "text": [
      "Parameter containing:\n",
      "tensor([[0.9456]], requires_grad=True)\n",
      "\n",
      "Parameter containing:\n",
      "tensor([-0.5977], requires_grad=True)\n"
     ]
    }
   ],
   "source": [
    "print(*list(model.parameters()), sep='\\n\\n')"
   ]
  },
  {
   "cell_type": "markdown",
   "metadata": {},
   "source": [
    "Se define el gradiente descendente estocástico como optimizador, pasandole los parámetros del modelo (los cuales son los parámetros que tengan los atributos definidos al inicializar la clase) y se le asigna una tasa de aprendizaje."
   ]
  },
  {
   "cell_type": "code",
   "execution_count": 15,
   "metadata": {},
   "outputs": [],
   "source": [
    "optimizer = torch.optim.SGD(model.parameters(), lr=1e-3)"
   ]
  },
  {
   "cell_type": "markdown",
   "metadata": {},
   "source": [
    "## Entrenamiento\n",
    "\n",
    "El entrenamiento de un paso del modelo se ilustra con la siguiente figura:\n",
    "![alt text](../figs/model_graph.png \"Title\")"
   ]
  },
  {
   "cell_type": "markdown",
   "metadata": {},
   "source": [
    "Realizamos el entrenamiento de nuestro modelo durante dos epocas."
   ]
  },
  {
   "cell_type": "code",
   "execution_count": 16,
   "metadata": {},
   "outputs": [
    {
     "name": "stdout",
     "output_type": "stream",
     "text": [
      "Step:  0 Loss: 12.1553\n",
      "Step:  1 Loss: 6.8947\n",
      "Step:  2 Loss: 2.6196\n",
      "Step:  3 Loss: 1.4652\n",
      "Step:  4 Loss: 0.6932\n",
      "Step:  5 Loss: 1.3481\n",
      "Step:  6 Loss: 0.2791\n",
      "Step:  7 Loss: 0.1117\n",
      "Step:  8 Loss: 0.3150\n",
      "Step:  9 Loss: 0.2247\n",
      "Step: 10 Loss: 0.1669\n",
      "Step: 11 Loss: 0.2023\n",
      "Step: 12 Loss: 0.5598\n",
      "Step: 13 Loss: 0.0558\n"
     ]
    }
   ],
   "source": [
    "epochs = 2\n",
    "loss_history = []\n",
    "step = 0\n",
    "\n",
    "for _ in range(epochs):\n",
    "    \n",
    "    for x, y_true in dl:\n",
    "        optimizer.zero_grad() # Hacemos ceros los gradientes\n",
    "        y_pred = model(x)\n",
    "        loss = loss_fn(y_true, y_pred)\n",
    "        loss.backward() # Calculamos los gradientes\n",
    "        optimizer.step() # Se actualizan los parámetros\n",
    "\n",
    "        print(f'Step: {step:>2} Loss: {loss.item():.4f}')\n",
    "        loss_history.append(loss.item())\n",
    "        \n",
    "        step += 1"
   ]
  },
  {
   "cell_type": "markdown",
   "metadata": {},
   "source": [
    "Graficamos la pérdida para ver el comportamiento durante el entrenamiento."
   ]
  },
  {
   "cell_type": "code",
   "execution_count": 17,
   "metadata": {},
   "outputs": [
    {
     "data": {
      "image/png": "[encoded data removed]",
      "text/plain": [
       "<Figure size 432x288 with 1 Axes>"
      ]
     },
     "metadata": {
      "needs_background": "light"
     },
     "output_type": "display_data"
    }
   ],
   "source": [
    "plt.plot(loss_history, color='red')\n",
    "plt.xlabel('iteraciones')\n",
    "plt.ylabel('ECM');"
   ]
  },
  {
   "cell_type": "markdown",
   "metadata": {},
   "source": [
    "## Inferencia\n",
    "\n",
    "Graficamos nuestro modelo."
   ]
  },
  {
   "cell_type": "code",
   "execution_count": 18,
   "metadata": {},
   "outputs": [
    {
     "data": {
      "image/png": "[encoded data removed]",
      "text/plain": [
       "<Figure size 432x288 with 1 Axes>"
      ]
     },
     "metadata": {
      "needs_background": "light"
     },
     "output_type": "display_data"
    }
   ],
   "source": [
    "with torch.no_grad(): # no necesitamos que calcule gradientes\n",
    "    Xt = torch.from_numpy(X)\n",
    "    y_pred = model(Xt).numpy()\n",
    "plt.plot(X, y, '.', color='green')\n",
    "plt.plot(X, y_pred, color='blue')\n",
    "plt.xlabel('horas estudiadas')\n",
    "plt.ylabel('calificación obtenida');"
   ]
  }
 ],
 "metadata": {
  "kernelspec": {
   "display_name": "Python 3",
   "language": "python",
   "name": "python3"
  },
  "language_info": {
   "codemirror_mode": {
    "name": "ipython",
    "version": 3
   },
   "file_extension": ".py",
   "mimetype": "text/x-python",
   "name": "python",
   "nbconvert_exporter": "python",
   "pygments_lexer": "ipython3",
   "version": "3.6.8"
  }
 },
 "nbformat": 4,
 "nbformat_minor": 2
}
