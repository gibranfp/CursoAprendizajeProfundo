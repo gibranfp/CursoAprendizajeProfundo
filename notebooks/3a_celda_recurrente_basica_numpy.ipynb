{
  "nbformat": 4,
  "nbformat_minor": 0,
  "metadata": {
    "colab": {
      "provenance": [],
      "authorship_tag": "ABX9TyObILytnKhCzigiElH7XKML",
      "include_colab_link": true
    },
    "kernelspec": {
      "name": "python3",
      "display_name": "Python 3"
    },
    "language_info": {
      "name": "python"
    }
  },
  "cells": [
    {
      "cell_type": "markdown",
      "metadata": {
        "id": "view-in-github",
        "colab_type": "text"
      },
      "source": [
        "<a href=\"https://colab.research.google.com/github/gibranfp/CursoAprendizajeProfundo/blob/2024-1/notebooks/3a_celda_recurrente_basica_numpy.ipynb\" target=\"_parent\"><img src=\"https://colab.research.google.com/assets/colab-badge.svg\" alt=\"Open In Colab\"/></a>"
      ]
    },
    {
      "cell_type": "code",
      "source": [
        "import numpy as np\n",
        "np.random.seed(123)\n",
        "from collections import Counter\n",
        "\n",
        "textos = ['un bolillo para el susto',\n",
        "          'tembló el 19 de septiembre']\n",
        "n_docs = len(textos)"
      ],
      "metadata": {
        "id": "VgQhSbaKPCP0"
      },
      "execution_count": 1,
      "outputs": []
    },
    {
      "cell_type": "code",
      "source": [
        "tokens = [t.split() for t in textos]\n",
        "max_sec = len(tokens[0])\n",
        "print(tokens[0])\n",
        "print(tokens[1])"
      ],
      "metadata": {
        "colab": {
          "base_uri": "https://localhost:8080/"
        },
        "id": "zIDBc1zUTRZj",
        "outputId": "742ab417-ef07-4584-b4b5-c4fa68c19f52"
      },
      "execution_count": 2,
      "outputs": [
        {
          "output_type": "stream",
          "name": "stdout",
          "text": [
            "['un', 'bolillo', 'para', 'el', 'susto']\n",
            "['tembló', 'el', '19', 'de', 'septiembre']\n"
          ]
        }
      ]
    },
    {
      "cell_type": "code",
      "source": [
        "voc = Counter([p for t in tokens for p in t])\n",
        "\n",
        "i2p = {p:i for i,(p,f) in enumerate(voc.most_common())}\n",
        "p2i = {p:i for i,(p,f) in enumerate(voc.most_common())}\n",
        "\n",
        "tam_voc = len(i2p)\n",
        "\n",
        "indsecs = np.array([[p2i[p] for p in t] for t in tokens])\n",
        "\n",
        "print(tam_voc)\n",
        "print(indsecs)"
      ],
      "metadata": {
        "id": "tsnqJFnzMDzI",
        "colab": {
          "base_uri": "https://localhost:8080/"
        },
        "outputId": "988a56a3-b59e-4531-c64d-4221261d9628"
      },
      "execution_count": 3,
      "outputs": [
        {
          "output_type": "stream",
          "name": "stdout",
          "text": [
            "9\n",
            "[[1 2 3 0 4]\n",
            " [5 0 6 7 8]]\n"
          ]
        }
      ]
    },
    {
      "cell_type": "code",
      "source": [
        "ohesecs = np.zeros((n_docs, max_sec, tam_voc))\n",
        "\n",
        "for i in range(ohesecs.shape[0]):\n",
        "  for j in range(ohesecs.shape[1]):\n",
        "    ohesecs[i, j, indsecs[i, j]] = 1\n",
        "\n",
        "print(ohesecs)"
      ],
      "metadata": {
        "id": "cFVSu-pXRTGY",
        "colab": {
          "base_uri": "https://localhost:8080/"
        },
        "outputId": "21ccf496-8102-4bac-c373-324225b060c1"
      },
      "execution_count": 4,
      "outputs": [
        {
          "output_type": "stream",
          "name": "stdout",
          "text": [
            "[[[0. 1. 0. 0. 0. 0. 0. 0. 0.]\n",
            "  [0. 0. 1. 0. 0. 0. 0. 0. 0.]\n",
            "  [0. 0. 0. 1. 0. 0. 0. 0. 0.]\n",
            "  [1. 0. 0. 0. 0. 0. 0. 0. 0.]\n",
            "  [0. 0. 0. 0. 1. 0. 0. 0. 0.]]\n",
            "\n",
            " [[0. 0. 0. 0. 0. 1. 0. 0. 0.]\n",
            "  [1. 0. 0. 0. 0. 0. 0. 0. 0.]\n",
            "  [0. 0. 0. 0. 0. 0. 1. 0. 0.]\n",
            "  [0. 0. 0. 0. 0. 0. 0. 1. 0.]\n",
            "  [0. 0. 0. 0. 0. 0. 0. 0. 1.]]]\n"
          ]
        }
      ]
    },
    {
      "cell_type": "code",
      "source": [
        "tam_edo = 5\n",
        "\n",
        "h = np.zeros((tam_edo, 1))\n",
        "\n",
        "k = 1 / tam_edo\n",
        "Wih = np.random.uniform(-np.sqrt(k), np.sqrt(k), size=(tam_voc, tam_edo))\n",
        "Whh = np.random.uniform(-np.sqrt(k), np.sqrt(k), size=(tam_edo, tam_edo))\n",
        "b = np.random.uniform(-np.sqrt(k), np.sqrt(k), size=(tam_edo, 1))\n",
        "\n",
        "print(Wih)\n",
        "print(Whh)\n",
        "print(b)\n",
        "print(h)"
      ],
      "metadata": {
        "colab": {
          "base_uri": "https://localhost:8080/"
        },
        "id": "kQkoQln-OJv9",
        "outputId": "8610e5b6-d9d7-4a72-da5c-a4b665923401"
      },
      "execution_count": 5,
      "outputs": [
        {
          "output_type": "stream",
          "name": "stdout",
          "text": [
            "[[ 0.17572738 -0.19128279 -0.24431149  0.04589732  0.19629901]\n",
            " [-0.06877567  0.43000857  0.16531674 -0.01705503 -0.09649303]\n",
            " [-0.14026585  0.20486829 -0.05494265 -0.39383606 -0.09119199]\n",
            " [ 0.21286956 -0.28398803 -0.29028477  0.02822041  0.02846746]\n",
            " [ 0.12021187  0.3125413   0.20075895  0.09930245  0.19895941]\n",
            " [-0.15835036 -0.12361998 -0.24304876 -0.18450777  0.11714861]\n",
            " [-0.36483243 -0.05929947 -0.06183822 -0.00564822 -0.06633941]\n",
            " [-0.16791867 -0.06587339  0.35185796  0.3972688   0.00164277]\n",
            " [ 0.11086689 -0.34380136 -0.16342483 -0.07618175  0.32763687]]\n",
            "[[-0.22319951 -0.01517462  0.43429788  0.01742802  0.10097593]\n",
            " [-0.33932004  0.29188809  0.09217978  0.04031005 -0.1406363 ]\n",
            " [-0.17519969 -0.07421759  0.16216033  0.33581881  0.00932202]\n",
            " [ 0.15143885  0.07686399  0.11171709  0.15624664  0.30620038]\n",
            " [-0.37280174  0.2358451  -0.22927176 -0.2734953   0.06480747]]\n",
            "[[-0.36160572]\n",
            " [ 0.34464679]\n",
            " [ 0.11381494]\n",
            " [ 0.19982967]\n",
            " [-0.43278719]]\n",
            "[[0.]\n",
            " [0.]\n",
            " [0.]\n",
            " [0.]\n",
            " [0.]]\n"
          ]
        }
      ]
    },
    {
      "cell_type": "code",
      "source": [
        "print(h)\n",
        "\n",
        "x = ohesecs[0, 0].reshape(-1, 1)\n",
        "h = np.tanh(Wih.T @ x + Whh.T @ h + b)\n",
        "\n",
        "print(x)\n",
        "print(h)"
      ],
      "metadata": {
        "colab": {
          "base_uri": "https://localhost:8080/"
        },
        "id": "cKwLJXF5UPYM",
        "outputId": "132fc4dd-5ce3-4091-f909-b15ee4462256"
      },
      "execution_count": 6,
      "outputs": [
        {
          "output_type": "stream",
          "name": "stdout",
          "text": [
            "[[0.]\n",
            " [0.]\n",
            " [0.]\n",
            " [0.]\n",
            " [0.]]\n",
            "[[0.]\n",
            " [1.]\n",
            " [0.]\n",
            " [0.]\n",
            " [0.]\n",
            " [0.]\n",
            " [0.]\n",
            " [0.]\n",
            " [0.]]\n",
            "[[-0.40563999]\n",
            " [ 0.64962831]\n",
            " [ 0.27210124]\n",
            " [ 0.18076618]\n",
            " [-0.48483069]]\n"
          ]
        }
      ]
    },
    {
      "cell_type": "code",
      "source": [
        "x = ohesecs[0, 1].reshape(-1, 1)\n",
        "h = np.tanh(Wih.T @ x + Whh.T @ h + b)\n",
        "\n",
        "print(h)"
      ],
      "metadata": {
        "colab": {
          "base_uri": "https://localhost:8080/"
        },
        "id": "fC2z3_UQOnAs",
        "outputId": "08dd0976-d6f8-4b9f-a93a-aeceba5c6c49"
      },
      "execution_count": 7,
      "outputs": [
        {
          "output_type": "stream",
          "name": "stdout",
          "text": [
            "[[-0.43926211]\n",
            " [ 0.5543532 ]\n",
            " [ 0.11751747]\n",
            " [ 0.07717661]\n",
            " [-0.55793778]]\n"
          ]
        }
      ]
    },
    {
      "cell_type": "code",
      "source": [
        "x = ohesecs[0, 2].reshape(-1, 1)\n",
        "h = np.tanh(Wih.T @ x + Whh.T @ h + b)\n",
        "\n",
        "print(h)"
      ],
      "metadata": {
        "colab": {
          "base_uri": "https://localhost:8080/"
        },
        "id": "iMYjdqocXDT6",
        "outputId": "671af33c-f03a-41d9-d6b3-dd72dcf53e5d"
      },
      "execution_count": 8,
      "outputs": [
        {
          "output_type": "stream",
          "name": "stdout",
          "text": [
            "[[-0.03967669]\n",
            " [ 0.09447425]\n",
            " [-0.15917709]\n",
            " [ 0.41931214]\n",
            " [-0.49152439]]\n"
          ]
        }
      ]
    },
    {
      "cell_type": "code",
      "source": [
        "x = ohesecs[0, 3].reshape(-1, 1)\n",
        "h = np.tanh(Wih.T @ x +  Whh.T @ h + b)\n",
        "\n",
        "print(h)"
      ],
      "metadata": {
        "colab": {
          "base_uri": "https://localhost:8080/"
        },
        "id": "lQJ4v-NVXqUN",
        "outputId": "cd6b5d1d-f0ce-4924-b868-08e2a90d2a69"
      },
      "execution_count": 9,
      "outputs": [
        {
          "output_type": "stream",
          "name": "stdout",
          "text": [
            "[[ 0.06545583]\n",
            " [ 0.10922462]\n",
            " [-0.0052946 ]\n",
            " [ 0.3759502 ]\n",
            " [-0.15740617]]\n"
          ]
        }
      ]
    },
    {
      "cell_type": "code",
      "source": [
        "x = ohesecs[0, 4].reshape(-1, 1)\n",
        "h = np.tanh(Wih.T @ ohesecs[0, 4].reshape(-1, 1) + Whh.T @ h + b)\n",
        "\n",
        "print(h)"
      ],
      "metadata": {
        "colab": {
          "base_uri": "https://localhost:8080/"
        },
        "id": "S-crtS0PXsCh",
        "outputId": "459d3178-859e-45ca-eed1-e8cfa6d5c2c0"
      },
      "execution_count": 10,
      "outputs": [
        {
          "output_type": "stream",
          "name": "stdout",
          "text": [
            "[[-0.17471234]\n",
            " [ 0.59167715]\n",
            " [ 0.40557182]\n",
            " [ 0.38395347]\n",
            " [-0.1368496 ]]\n"
          ]
        }
      ]
    },
    {
      "cell_type": "code",
      "source": [
        "class CeldaRecurrente:\n",
        "  def __init__(self, tam_ent, tam_edo):\n",
        "    self.input_size = tam_ent\n",
        "    self.hidden_size = tam_edo\n",
        "\n",
        "    k = 1 / tam_edo\n",
        "    self.W = np.random.uniform(-np.sqrt(k), np.sqrt(k),\n",
        "                               size=(tam_edo + tam_voc, tam_edo))\n",
        "    self.b = np.random.uniform(-np.sqrt(k), np.sqrt(k),\n",
        "                               size=(tam_edo, 1))\n",
        "\n",
        "  def __call__(self, x, h):\n",
        "    xh = np.concatenate((x.reshape(-1, 1), h), axis=0)\n",
        "    return np.tanh(self.W.T @ xh + self.b)"
      ],
      "metadata": {
        "id": "QbZ2A7KTMKkS"
      },
      "execution_count": 11,
      "outputs": []
    },
    {
      "cell_type": "code",
      "source": [
        "def ejecuta_celda(celda, X, h0):\n",
        "  # Calculamos los estados para todas las entradas\n",
        "  # del primer ejemplo\n",
        "  for i in range(X.shape[0]):\n",
        "    print(f'Ejemplo {i}')\n",
        "    h = h0 # primer estado con ceros\n",
        "    print(f'\\tEstado 0: {h.reshape(-1)}')\n",
        "    for t in range(X.shape[1]):\n",
        "      print(f'\\tEntrada {t}: {X[i, t]}')\n",
        "      h = celda(X[i, t], h)\n",
        "      print(f'\\tEstado {t + 1}: {h.reshape(-1)}')\n",
        "\n",
        "rec = CeldaRecurrente(tam_voc, tam_edo)\n",
        "ejecuta_celda(rec, ohesecs, np.zeros((tam_edo, 1)))"
      ],
      "metadata": {
        "colab": {
          "base_uri": "https://localhost:8080/"
        },
        "id": "lsVIunmeMn5f",
        "outputId": "f2fb6ce1-e49b-4adb-dcd6-73063b40bcd9"
      },
      "execution_count": 12,
      "outputs": [
        {
          "output_type": "stream",
          "name": "stdout",
          "text": [
            "Ejemplo 0\n",
            "\tEstado 0: [0. 0. 0. 0. 0.]\n",
            "\tEntrada 0: [0. 1. 0. 0. 0. 0. 0. 0. 0.]\n",
            "\tEstado 1: [ 0.06457034  0.36966199 -0.34090955  0.0871176   0.59390562]\n",
            "\tEntrada 1: [0. 0. 1. 0. 0. 0. 0. 0. 0.]\n",
            "\tEstado 2: [ 0.37687605 -0.01841305 -0.55755929  0.03592867  0.03430022]\n",
            "\tEntrada 2: [0. 0. 0. 1. 0. 0. 0. 0. 0.]\n",
            "\tEstado 3: [ 0.37782777  0.62019359 -0.57183215  0.23668518  0.27575848]\n",
            "\tEntrada 3: [1. 0. 0. 0. 0. 0. 0. 0. 0.]\n",
            "\tEstado 4: [ 0.38757733  0.14095459 -0.63622935 -0.12647092  0.29847672]\n",
            "\tEntrada 4: [0. 0. 0. 0. 1. 0. 0. 0. 0.]\n",
            "\tEstado 5: [ 0.38611973 -0.08070906 -0.43639092 -0.181639   -0.0025051 ]\n",
            "Ejemplo 1\n",
            "\tEstado 0: [0. 0. 0. 0. 0.]\n",
            "\tEntrada 0: [0. 0. 0. 0. 0. 1. 0. 0. 0.]\n",
            "\tEstado 1: [ 0.23408101  0.34992792 -0.63886244 -0.14249657  0.14321179]\n",
            "\tEntrada 1: [1. 0. 0. 0. 0. 0. 0. 0. 0.]\n",
            "\tEstado 2: [ 0.39434801  0.29752595 -0.60259723 -0.21394585  0.23697586]\n",
            "\tEntrada 2: [0. 0. 0. 0. 0. 0. 1. 0. 0.]\n",
            "\tEstado 3: [ 0.47203922  0.471456   -0.30887382  0.39635923  0.03528528]\n",
            "\tEntrada 3: [0. 0. 0. 0. 0. 0. 0. 1. 0.]\n",
            "\tEstado 4: [ 0.20904618 -0.07772062 -0.70516372  0.46410131  0.16477053]\n",
            "\tEntrada 4: [0. 0. 0. 0. 0. 0. 0. 0. 1.]\n",
            "\tEstado 5: [-0.06442202  0.38239738 -0.5012092  -0.47524278  0.48636938]\n"
          ]
        }
      ]
    },
    {
      "cell_type": "code",
      "source": [
        "class CeldaRecurrenteSep:\n",
        "  def __init__(self, tam_ent, tam_edo):\n",
        "    self.input_size = tam_ent\n",
        "    self.hidden_size = tam_edo\n",
        "\n",
        "    k = 1 / tam_edo\n",
        "    self.Wih = np.random.uniform(-np.sqrt(k), np.sqrt(k),\n",
        "                                 size=(tam_voc, tam_edo))\n",
        "    self.Whh = np.random.uniform(-np.sqrt(k), np.sqrt(k),\n",
        "                                 size=(tam_edo, tam_edo))\n",
        "    self.b = np.random.uniform(-np.sqrt(k), np.sqrt(k),\n",
        "                               size=(tam_edo, 1))\n",
        "\n",
        "  def __call__(self, x, h):\n",
        "    x = x.reshape(-1, 1)\n",
        "    return np.tanh(self.Wih.T @ x + self.Whh @ h + self.b)\n",
        "\n",
        "recsep = CeldaRecurrenteSep(tam_voc, tam_edo)\n",
        "ejecuta_celda(recsep, ohesecs, np.zeros((tam_edo, 1)))"
      ],
      "metadata": {
        "id": "lDk0Dc10OZV6",
        "colab": {
          "base_uri": "https://localhost:8080/"
        },
        "outputId": "c141b1b9-0d7c-4d6b-9271-aef8ffd3a49f"
      },
      "execution_count": 13,
      "outputs": [
        {
          "output_type": "stream",
          "name": "stdout",
          "text": [
            "Ejemplo 0\n",
            "\tEstado 0: [0. 0. 0. 0. 0.]\n",
            "\tEntrada 0: [0. 1. 0. 0. 0. 0. 0. 0. 0.]\n",
            "\tEstado 1: [-0.3982426   0.5261976   0.11085984  0.49932932  0.31027864]\n",
            "\tEntrada 1: [0. 0. 1. 0. 0. 0. 0. 0. 0.]\n",
            "\tEstado 2: [-0.45470333  0.64515945 -0.39988937  0.00306154  0.34062492]\n",
            "\tEntrada 2: [0. 0. 0. 1. 0. 0. 0. 0. 0.]\n",
            "\tEstado 3: [-0.30991417  0.05287202 -0.31029001  0.45370778  0.22976188]\n",
            "\tEntrada 3: [1. 0. 0. 0. 0. 0. 0. 0. 0.]\n",
            "\tEstado 4: [-0.52933642  0.70165203 -0.49938087  0.23449275  0.56333901]\n",
            "\tEntrada 4: [0. 0. 0. 0. 1. 0. 0. 0. 0.]\n",
            "\tEstado 5: [-0.47183156 -0.05972636 -0.44712403  0.52465584  0.49640892]\n",
            "Ejemplo 1\n",
            "\tEstado 0: [0. 0. 0. 0. 0.]\n",
            "\tEntrada 0: [0. 0. 0. 0. 0. 1. 0. 0. 0.]\n",
            "\tEstado 1: [-0.38518985  0.06325393 -0.5072375   0.27552021  0.29727162]\n",
            "\tEntrada 1: [1. 0. 0. 0. 0. 0. 0. 0. 0.]\n",
            "\tEstado 2: [-0.58125671  0.64915703 -0.56846544  0.17926301  0.53243155]\n",
            "\tEntrada 2: [0. 0. 0. 0. 0. 0. 1. 0. 0.]\n",
            "\tEstado 3: [-0.58466958 -0.04429241 -0.78651842  0.50221207  0.16619711]\n",
            "\tEntrada 3: [0. 0. 0. 0. 0. 0. 0. 1. 0.]\n",
            "\tEstado 4: [-0.09142164  0.14565248 -0.33415288  0.64925931  0.60729758]\n",
            "\tEntrada 4: [0. 0. 0. 0. 0. 0. 0. 0. 1.]\n",
            "\tEstado 5: [-0.60642939  0.74464644 -0.54601501  0.56724215 -0.00269671]\n"
          ]
        }
      ]
    },
    {
      "cell_type": "code",
      "source": [
        "import torch as th\n",
        "\n",
        "recth = th.nn.RNNCell(tam_voc, tam_edo)\n",
        "oheth = th.from_numpy(ohesecs).type(th.float32)\n",
        "\n",
        "ejecuta_celda(recth, oheth, th.zeros((tam_edo)))"
      ],
      "metadata": {
        "id": "WVvddTPeZMH3",
        "colab": {
          "base_uri": "https://localhost:8080/"
        },
        "outputId": "59caf2ec-e384-4e9b-ea86-f7b58448062d"
      },
      "execution_count": 14,
      "outputs": [
        {
          "output_type": "stream",
          "name": "stdout",
          "text": [
            "Ejemplo 0\n",
            "\tEstado 0: tensor([0., 0., 0., 0., 0.])\n",
            "\tEntrada 0: tensor([0., 1., 0., 0., 0., 0., 0., 0., 0.])\n",
            "\tEstado 1: tensor([-0.6467, -0.1026,  0.5218,  0.1681, -0.1023],\n",
            "       grad_fn=<ReshapeAliasBackward0>)\n",
            "\tEntrada 1: tensor([0., 0., 1., 0., 0., 0., 0., 0., 0.])\n",
            "\tEstado 2: tensor([-0.2038,  0.4985,  0.3953,  0.0976, -0.2824],\n",
            "       grad_fn=<ReshapeAliasBackward0>)\n",
            "\tEntrada 2: tensor([0., 0., 0., 1., 0., 0., 0., 0., 0.])\n",
            "\tEstado 3: tensor([-0.8734,  0.3105,  0.0778,  0.5811, -0.3018],\n",
            "       grad_fn=<ReshapeAliasBackward0>)\n",
            "\tEntrada 3: tensor([1., 0., 0., 0., 0., 0., 0., 0., 0.])\n",
            "\tEstado 4: tensor([-0.1525, -0.2839,  0.3998,  0.7121, -0.5129],\n",
            "       grad_fn=<ReshapeAliasBackward0>)\n",
            "\tEntrada 4: tensor([0., 0., 0., 0., 1., 0., 0., 0., 0.])\n",
            "\tEstado 5: tensor([-0.4443,  0.0851,  0.4669,  0.3306, -0.2817],\n",
            "       grad_fn=<ReshapeAliasBackward0>)\n",
            "Ejemplo 1\n",
            "\tEstado 0: tensor([0., 0., 0., 0., 0.])\n",
            "\tEntrada 0: tensor([0., 0., 0., 0., 0., 1., 0., 0., 0.])\n",
            "\tEstado 1: tensor([-0.7163,  0.3414,  0.6891,  0.4710, -0.0577],\n",
            "       grad_fn=<ReshapeAliasBackward0>)\n",
            "\tEntrada 1: tensor([1., 0., 0., 0., 0., 0., 0., 0., 0.])\n",
            "\tEstado 2: tensor([-0.2694, -0.1501,  0.2000,  0.7023, -0.2258],\n",
            "       grad_fn=<ReshapeAliasBackward0>)\n",
            "\tEntrada 2: tensor([0., 0., 0., 0., 0., 0., 1., 0., 0.])\n",
            "\tEstado 3: tensor([-0.2419,  0.3966,  0.5932,  0.6383, -0.0895],\n",
            "       grad_fn=<ReshapeAliasBackward0>)\n",
            "\tEntrada 3: tensor([0., 0., 0., 0., 0., 0., 0., 1., 0.])\n",
            "\tEstado 4: tensor([-0.6419,  0.1956,  0.3053,  0.2254,  0.0172],\n",
            "       grad_fn=<ReshapeAliasBackward0>)\n",
            "\tEntrada 4: tensor([0., 0., 0., 0., 0., 0., 0., 0., 1.])\n",
            "\tEstado 5: tensor([-0.5440, -0.1105,  0.5603,  0.1335, -0.2845],\n",
            "       grad_fn=<ReshapeAliasBackward0>)\n"
          ]
        }
      ]
    }
  ]
}