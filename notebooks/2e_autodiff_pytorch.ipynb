{
  "nbformat": 4,
  "nbformat_minor": 0,
  "metadata": {
    "colab": {
      "name": "2e_autodiff_pytorch.ipynb",
      "provenance": [],
      "collapsed_sections": [],
      "authorship_tag": "ABX9TyNDiV/xgCDun5Akcsxyi5H2",
      "include_colab_link": true
    },
    "kernelspec": {
      "name": "python3",
      "display_name": "Python 3"
    },
    "language_info": {
      "name": "python"
    }
  },
  "cells": [
    {
      "cell_type": "markdown",
      "metadata": {
        "id": "view-in-github",
        "colab_type": "text"
      },
      "source": [
        "<a href=\"https://colab.research.google.com/github/gibranfp/CursoAprendizajeProfundo/blob/2023-1/notebooks/2e_autodiff_pytorch.ipynb\" target=\"_parent\"><img src=\"https://colab.research.google.com/assets/colab-badge.svg\" alt=\"Open In Colab\"/></a>"
      ]
    },
    {
      "cell_type": "markdown",
      "source": [
        "# Diferenciación automática\n",
        "La [diferenciación automática](https://en.wikipedia.org/wiki/Automatic_differentiation) es un método para evaluar derivadas de funciones representadas como programas [[Automatic Differentiation in Machine Learning: a Survey, Baydin et. al, 2018](https://arxiv.org/abs/1502.05767)]. \n",
        "\n",
        "![Diferenciación automática](https://gowrishankar.info/blog/automatic-differentiation-using-gradient-tapes/auto_diff.png)"
      ],
      "metadata": {
        "id": "4tx-1XjsIRQM"
      }
    },
    {
      "cell_type": "code",
      "execution_count": 1,
      "metadata": {
        "id": "iVsEjrKqxoo9"
      },
      "outputs": [],
      "source": [
        "import torch as th\n",
        "from torch import nn\n",
        "\n",
        "import numpy as np\n",
        "import matplotlib.pyplot as plt\n",
        "\n",
        "import random\n",
        "\n",
        "# Por reproducibilidad\n",
        "th.manual_seed(42)\n",
        "random.seed(42)\n",
        "np.random.seed(42)"
      ]
    },
    {
      "cell_type": "markdown",
      "source": [
        "## Clase `Parameter`\n",
        "La clase [`Parameter`](https://www.tensorflow.org/api_docs/python/tf/Variable) del módulo `nn` de PyTorch define una subclase de `Tensor` que se emplea comúnmente para representar los parámetros que modifican los algoritmos de aprendizaje para generar un modelo. Las instancias de `Parameter` que se definen dentro de una subclase de `Module` del módulo de `nn` se agregan a su lista de parámetros a optimizar.\n",
        "\n",
        "El constructor de la clase `Parameter` recibe un tensor como argumento con el que se crea la instancia.\n"
      ],
      "metadata": {
        "id": "0ZoBbTML6Vqa"
      }
    },
    {
      "cell_type": "code",
      "source": [
        "print(f'Con un tensor de ceros: {th.nn.parameter.Parameter(th.zeros((10,5)))}')\n",
        "print(f'Con un tensor aleatorio: {th.nn.parameter.Parameter(th.rand((10,5)))}')\n",
        "print(f'Con un arreglo de NumPy: {th.nn.parameter.Parameter(th.rand(5,5))}')\n",
        "print(f'Con una lista: {th.nn.parameter.Parameter(th.tensor([[1.0, 2.0], [3.0, 4.0]]))}')"
      ],
      "metadata": {
        "id": "ppRAmedE8zFz",
        "colab": {
          "base_uri": "https://localhost:8080/"
        },
        "outputId": "6f3652b6-2c5f-4087-b812-2d4dee7d1fa6"
      },
      "execution_count": 2,
      "outputs": [
        {
          "output_type": "stream",
          "name": "stdout",
          "text": [
            "Con un tensor de ceros: Parameter containing:\n",
            "tensor([[0., 0., 0., 0., 0.],\n",
            "        [0., 0., 0., 0., 0.],\n",
            "        [0., 0., 0., 0., 0.],\n",
            "        [0., 0., 0., 0., 0.],\n",
            "        [0., 0., 0., 0., 0.],\n",
            "        [0., 0., 0., 0., 0.],\n",
            "        [0., 0., 0., 0., 0.],\n",
            "        [0., 0., 0., 0., 0.],\n",
            "        [0., 0., 0., 0., 0.],\n",
            "        [0., 0., 0., 0., 0.]], requires_grad=True)\n",
            "Con un tensor aleatorio: Parameter containing:\n",
            "tensor([[0.8823, 0.9150, 0.3829, 0.9593, 0.3904],\n",
            "        [0.6009, 0.2566, 0.7936, 0.9408, 0.1332],\n",
            "        [0.9346, 0.5936, 0.8694, 0.5677, 0.7411],\n",
            "        [0.4294, 0.8854, 0.5739, 0.2666, 0.6274],\n",
            "        [0.2696, 0.4414, 0.2969, 0.8317, 0.1053],\n",
            "        [0.2695, 0.3588, 0.1994, 0.5472, 0.0062],\n",
            "        [0.9516, 0.0753, 0.8860, 0.5832, 0.3376],\n",
            "        [0.8090, 0.5779, 0.9040, 0.5547, 0.3423],\n",
            "        [0.6343, 0.3644, 0.7104, 0.9464, 0.7890],\n",
            "        [0.2814, 0.7886, 0.5895, 0.7539, 0.1952]], requires_grad=True)\n",
            "Con un arreglo de NumPy: Parameter containing:\n",
            "tensor([[0.0050, 0.3068, 0.1165, 0.9103, 0.6440],\n",
            "        [0.7071, 0.6581, 0.4913, 0.8913, 0.1447],\n",
            "        [0.5315, 0.1587, 0.6542, 0.3278, 0.6532],\n",
            "        [0.3958, 0.9147, 0.2036, 0.2018, 0.2018],\n",
            "        [0.9497, 0.6666, 0.9811, 0.0874, 0.0041]], requires_grad=True)\n",
            "Con una lista: Parameter containing:\n",
            "tensor([[1., 2.],\n",
            "        [3., 4.]], requires_grad=True)\n"
          ]
        }
      ]
    },
    {
      "cell_type": "markdown",
      "source": [
        "Podemos realizar cualquier operación tensorial con una instancia de `Parameter`, ya sea con otras instancias de `Parameter` o `Tensor`. El resultado de la operación es una instancia de `Tensor`."
      ],
      "metadata": {
        "id": "9nBPiInUJ1nb"
      }
    },
    {
      "cell_type": "code",
      "source": [
        "param = th.nn.parameter.Parameter(th.zeros((10,5)))\n",
        "\n",
        "print(f'Transpuesta: {param.T}')\n",
        "print(f'Suma: {param + th.ones_like(param)}')\n",
        "print(f'Multiplicación elemento a elemento: {param * th.zeros_like(param)}')\n",
        "print(f'Multiplicación: {param @ th.rand_like(param).T}')"
      ],
      "metadata": {
        "id": "3YtbOBKYKWYL",
        "colab": {
          "base_uri": "https://localhost:8080/"
        },
        "outputId": "64a53314-ff3a-46e4-e728-933f9b01c743"
      },
      "execution_count": 3,
      "outputs": [
        {
          "output_type": "stream",
          "name": "stdout",
          "text": [
            "Transpuesta: tensor([[0., 0., 0., 0., 0., 0., 0., 0., 0., 0.],\n",
            "        [0., 0., 0., 0., 0., 0., 0., 0., 0., 0.],\n",
            "        [0., 0., 0., 0., 0., 0., 0., 0., 0., 0.],\n",
            "        [0., 0., 0., 0., 0., 0., 0., 0., 0., 0.],\n",
            "        [0., 0., 0., 0., 0., 0., 0., 0., 0., 0.]], grad_fn=<PermuteBackward0>)\n",
            "Suma: tensor([[1., 1., 1., 1., 1.],\n",
            "        [1., 1., 1., 1., 1.],\n",
            "        [1., 1., 1., 1., 1.],\n",
            "        [1., 1., 1., 1., 1.],\n",
            "        [1., 1., 1., 1., 1.],\n",
            "        [1., 1., 1., 1., 1.],\n",
            "        [1., 1., 1., 1., 1.],\n",
            "        [1., 1., 1., 1., 1.],\n",
            "        [1., 1., 1., 1., 1.],\n",
            "        [1., 1., 1., 1., 1.]], grad_fn=<AddBackward0>)\n",
            "Multiplicación elemento a elemento: tensor([[0., 0., 0., 0., 0.],\n",
            "        [0., 0., 0., 0., 0.],\n",
            "        [0., 0., 0., 0., 0.],\n",
            "        [0., 0., 0., 0., 0.],\n",
            "        [0., 0., 0., 0., 0.],\n",
            "        [0., 0., 0., 0., 0.],\n",
            "        [0., 0., 0., 0., 0.],\n",
            "        [0., 0., 0., 0., 0.],\n",
            "        [0., 0., 0., 0., 0.],\n",
            "        [0., 0., 0., 0., 0.]], grad_fn=<MulBackward0>)\n",
            "Multiplicación: tensor([[0., 0., 0., 0., 0., 0., 0., 0., 0., 0.],\n",
            "        [0., 0., 0., 0., 0., 0., 0., 0., 0., 0.],\n",
            "        [0., 0., 0., 0., 0., 0., 0., 0., 0., 0.],\n",
            "        [0., 0., 0., 0., 0., 0., 0., 0., 0., 0.],\n",
            "        [0., 0., 0., 0., 0., 0., 0., 0., 0., 0.],\n",
            "        [0., 0., 0., 0., 0., 0., 0., 0., 0., 0.],\n",
            "        [0., 0., 0., 0., 0., 0., 0., 0., 0., 0.],\n",
            "        [0., 0., 0., 0., 0., 0., 0., 0., 0., 0.],\n",
            "        [0., 0., 0., 0., 0., 0., 0., 0., 0., 0.],\n",
            "        [0., 0., 0., 0., 0., 0., 0., 0., 0., 0.]], grad_fn=<MmBackward0>)\n"
          ]
        }
      ]
    },
    {
      "cell_type": "markdown",
      "source": [
        "Para modificar el contenido de una instancia de `Parameter` es necesario especificar que no se registre la operación por `autograd` usando el ámbito `no_grad`."
      ],
      "metadata": {
        "id": "uvmThL4IIoJk"
      }
    },
    {
      "cell_type": "code",
      "source": [
        "with th.no_grad():\n",
        "  param[0, 0] = 1\n",
        "param[0, 0]"
      ],
      "metadata": {
        "colab": {
          "base_uri": "https://localhost:8080/"
        },
        "id": "F91sInvJI3n7",
        "outputId": "74f20223-e804-45c8-91e1-51cda355017d"
      },
      "execution_count": 4,
      "outputs": [
        {
          "output_type": "execute_result",
          "data": {
            "text/plain": [
              "tensor(1., grad_fn=<SelectBackward0>)"
            ]
          },
          "metadata": {},
          "execution_count": 4
        }
      ]
    },
    {
      "cell_type": "markdown",
      "source": [
        "También existen métodos para instancias tanto de `Parameter` como de `Tensor` que modifican el contenido _in-place_. Los nombres de estos métodos usualmente terminan con un guión bajo. Tal es el caso de `add_` y `mul_`, que suman y multiplican un tensor."
      ],
      "metadata": {
        "id": "bTyVfg2Q9QmR"
      }
    },
    {
      "cell_type": "code",
      "source": [
        "with th.no_grad():\n",
        "  print(param.add_(th.ones_like(param)))\n",
        "  print(param.subtract_(th.ones_like(param)))\n",
        "  print(param.add_(th.ones_like(param)))\n",
        "  print(param.mul_(2 * th.ones_like(param)))"
      ],
      "metadata": {
        "colab": {
          "base_uri": "https://localhost:8080/"
        },
        "id": "iyktgZWhbyir",
        "outputId": "bfe308b8-1ef9-4305-c1dc-5cdbb595b219"
      },
      "execution_count": 5,
      "outputs": [
        {
          "output_type": "stream",
          "name": "stdout",
          "text": [
            "Parameter containing:\n",
            "tensor([[2., 1., 1., 1., 1.],\n",
            "        [1., 1., 1., 1., 1.],\n",
            "        [1., 1., 1., 1., 1.],\n",
            "        [1., 1., 1., 1., 1.],\n",
            "        [1., 1., 1., 1., 1.],\n",
            "        [1., 1., 1., 1., 1.],\n",
            "        [1., 1., 1., 1., 1.],\n",
            "        [1., 1., 1., 1., 1.],\n",
            "        [1., 1., 1., 1., 1.],\n",
            "        [1., 1., 1., 1., 1.]], requires_grad=True)\n",
            "Parameter containing:\n",
            "tensor([[1., 0., 0., 0., 0.],\n",
            "        [0., 0., 0., 0., 0.],\n",
            "        [0., 0., 0., 0., 0.],\n",
            "        [0., 0., 0., 0., 0.],\n",
            "        [0., 0., 0., 0., 0.],\n",
            "        [0., 0., 0., 0., 0.],\n",
            "        [0., 0., 0., 0., 0.],\n",
            "        [0., 0., 0., 0., 0.],\n",
            "        [0., 0., 0., 0., 0.],\n",
            "        [0., 0., 0., 0., 0.]], requires_grad=True)\n",
            "Parameter containing:\n",
            "tensor([[2., 1., 1., 1., 1.],\n",
            "        [1., 1., 1., 1., 1.],\n",
            "        [1., 1., 1., 1., 1.],\n",
            "        [1., 1., 1., 1., 1.],\n",
            "        [1., 1., 1., 1., 1.],\n",
            "        [1., 1., 1., 1., 1.],\n",
            "        [1., 1., 1., 1., 1.],\n",
            "        [1., 1., 1., 1., 1.],\n",
            "        [1., 1., 1., 1., 1.],\n",
            "        [1., 1., 1., 1., 1.]], requires_grad=True)\n",
            "Parameter containing:\n",
            "tensor([[4., 2., 2., 2., 2.],\n",
            "        [2., 2., 2., 2., 2.],\n",
            "        [2., 2., 2., 2., 2.],\n",
            "        [2., 2., 2., 2., 2.],\n",
            "        [2., 2., 2., 2., 2.],\n",
            "        [2., 2., 2., 2., 2.],\n",
            "        [2., 2., 2., 2., 2.],\n",
            "        [2., 2., 2., 2., 2.],\n",
            "        [2., 2., 2., 2., 2.],\n",
            "        [2., 2., 2., 2., 2.]], requires_grad=True)\n"
          ]
        }
      ]
    },
    {
      "cell_type": "markdown",
      "source": [
        "## Diferenciación automática en Tensorflow\n",
        "PyTorch puede diferenciar automáticamente operaciones con instancias de `Tensor` o `Parameter`. Para ello crea un grafo de cómputo de las operaciones que se ejecutan con instancias que tienen la propiedad `requires_grad` en verdadero. Por defecto, todas las instancias de `Parameter` tienen esta propiedad en verdadero y las instancias de `Tensor` en falso."
      ],
      "metadata": {
        "id": "KNsBnBVfYQln"
      }
    },
    {
      "cell_type": "code",
      "source": [
        "ten = th.linspace(start=-10, end=10, steps=100)\n",
        "print(param.requires_grad)\n",
        "print(ten.requires_grad)"
      ],
      "metadata": {
        "id": "D8gRZPnJYTqA",
        "colab": {
          "base_uri": "https://localhost:8080/"
        },
        "outputId": "9b0f44eb-ef46-4181-ea8c-d2eee44f38d0"
      },
      "execution_count": 6,
      "outputs": [
        {
          "output_type": "stream",
          "name": "stdout",
          "text": [
            "True\n",
            "False\n"
          ]
        }
      ]
    },
    {
      "cell_type": "markdown",
      "source": [
        "Es posible cambiar el valor de esta propiedad en una instancia usando el método `requires_grad_` (_in-place_)."
      ],
      "metadata": {
        "id": "YFjSw0bpcY4V"
      }
    },
    {
      "cell_type": "code",
      "source": [
        "param.requires_grad_(False)\n",
        "ten.requires_grad_(True)\n",
        "print(param.requires_grad)\n",
        "print(ten.requires_grad)"
      ],
      "metadata": {
        "colab": {
          "base_uri": "https://localhost:8080/"
        },
        "id": "npCReZQwc6Qa",
        "outputId": "b289de1b-40cd-44ac-ee28-b1b03bb4e7d8"
      },
      "execution_count": 7,
      "outputs": [
        {
          "output_type": "stream",
          "name": "stdout",
          "text": [
            "False\n",
            "True\n"
          ]
        }
      ]
    },
    {
      "cell_type": "markdown",
      "source": [
        "Para obtener el gradiente de una [función escalar](https://en.wiktionary.org/wiki/scalar_function) respecto a un tensor que está siendo contemplado se debe llamar al método `backward`."
      ],
      "metadata": {
        "id": "UtqgfGQ-C7er"
      }
    },
    {
      "cell_type": "code",
      "source": [
        "m = th.linspace(start=-10, end=10, steps=100, requires_grad=True)\n",
        "suma = m.sum()\n",
        "suma.backward()"
      ],
      "metadata": {
        "id": "hEi3IFP0CjKJ"
      },
      "execution_count": 8,
      "outputs": []
    },
    {
      "cell_type": "markdown",
      "source": [
        "Cuando se invoca a este método, se calculan los gradientes de la función respecto al tensor correspondiente y se acumulan en el tensor `grad` que es una propiedad de todas las instancia de `Tensor` y `Parameter`."
      ],
      "metadata": {
        "id": "RcXGNFw7eUAp"
      }
    },
    {
      "cell_type": "code",
      "source": [
        "m, m.grad"
      ],
      "metadata": {
        "colab": {
          "base_uri": "https://localhost:8080/"
        },
        "id": "bhGoV0mdevZU",
        "outputId": "312651d8-74ef-4848-b8af-96c014f79803"
      },
      "execution_count": 9,
      "outputs": [
        {
          "output_type": "execute_result",
          "data": {
            "text/plain": [
              "(tensor([-10.0000,  -9.7980,  -9.5960,  -9.3939,  -9.1919,  -8.9899,  -8.7879,\n",
              "          -8.5859,  -8.3838,  -8.1818,  -7.9798,  -7.7778,  -7.5758,  -7.3737,\n",
              "          -7.1717,  -6.9697,  -6.7677,  -6.5657,  -6.3636,  -6.1616,  -5.9596,\n",
              "          -5.7576,  -5.5556,  -5.3535,  -5.1515,  -4.9495,  -4.7475,  -4.5455,\n",
              "          -4.3434,  -4.1414,  -3.9394,  -3.7374,  -3.5354,  -3.3333,  -3.1313,\n",
              "          -2.9293,  -2.7273,  -2.5253,  -2.3232,  -2.1212,  -1.9192,  -1.7172,\n",
              "          -1.5152,  -1.3131,  -1.1111,  -0.9091,  -0.7071,  -0.5051,  -0.3030,\n",
              "          -0.1010,   0.1010,   0.3030,   0.5051,   0.7071,   0.9091,   1.1111,\n",
              "           1.3131,   1.5152,   1.7172,   1.9192,   2.1212,   2.3232,   2.5253,\n",
              "           2.7273,   2.9293,   3.1313,   3.3333,   3.5354,   3.7374,   3.9394,\n",
              "           4.1414,   4.3434,   4.5455,   4.7475,   4.9495,   5.1515,   5.3535,\n",
              "           5.5556,   5.7576,   5.9596,   6.1616,   6.3636,   6.5657,   6.7677,\n",
              "           6.9697,   7.1717,   7.3737,   7.5758,   7.7778,   7.9798,   8.1818,\n",
              "           8.3838,   8.5859,   8.7879,   8.9899,   9.1919,   9.3939,   9.5960,\n",
              "           9.7980,  10.0000], requires_grad=True),\n",
              " tensor([1., 1., 1., 1., 1., 1., 1., 1., 1., 1., 1., 1., 1., 1., 1., 1., 1., 1.,\n",
              "         1., 1., 1., 1., 1., 1., 1., 1., 1., 1., 1., 1., 1., 1., 1., 1., 1., 1.,\n",
              "         1., 1., 1., 1., 1., 1., 1., 1., 1., 1., 1., 1., 1., 1., 1., 1., 1., 1.,\n",
              "         1., 1., 1., 1., 1., 1., 1., 1., 1., 1., 1., 1., 1., 1., 1., 1., 1., 1.,\n",
              "         1., 1., 1., 1., 1., 1., 1., 1., 1., 1., 1., 1., 1., 1., 1., 1., 1., 1.,\n",
              "         1., 1., 1., 1., 1., 1., 1., 1., 1., 1.]))"
            ]
          },
          "metadata": {},
          "execution_count": 9
        }
      ]
    },
    {
      "cell_type": "markdown",
      "source": [
        "Una vez que se llama al método `.backward`, se elimina el grafo de cómputo. Sin embargo, es posible mantenerlo pasando el argumento `retain_graph=True` en la llamada. "
      ],
      "metadata": {
        "id": "5ABAfcxqfeJM"
      }
    },
    {
      "cell_type": "code",
      "source": [
        "l = th.linspace(start=-10, end=10, steps=100, requires_grad=True)\n",
        "\n",
        "suma = l.sum()\n",
        "suma.backward(retain_graph=True) # acumula los gradientes en grad\n",
        "print(l.grad) \n",
        "suma.backward() # acumula los gradientes en grad\n",
        "print(l.grad) "
      ],
      "metadata": {
        "colab": {
          "base_uri": "https://localhost:8080/"
        },
        "id": "-qP5SQS3gnEf",
        "outputId": "404a3ad9-bab3-4862-d635-aab0142c7d6f"
      },
      "execution_count": 10,
      "outputs": [
        {
          "output_type": "stream",
          "name": "stdout",
          "text": [
            "tensor([1., 1., 1., 1., 1., 1., 1., 1., 1., 1., 1., 1., 1., 1., 1., 1., 1., 1.,\n",
            "        1., 1., 1., 1., 1., 1., 1., 1., 1., 1., 1., 1., 1., 1., 1., 1., 1., 1.,\n",
            "        1., 1., 1., 1., 1., 1., 1., 1., 1., 1., 1., 1., 1., 1., 1., 1., 1., 1.,\n",
            "        1., 1., 1., 1., 1., 1., 1., 1., 1., 1., 1., 1., 1., 1., 1., 1., 1., 1.,\n",
            "        1., 1., 1., 1., 1., 1., 1., 1., 1., 1., 1., 1., 1., 1., 1., 1., 1., 1.,\n",
            "        1., 1., 1., 1., 1., 1., 1., 1., 1., 1.])\n",
            "tensor([2., 2., 2., 2., 2., 2., 2., 2., 2., 2., 2., 2., 2., 2., 2., 2., 2., 2.,\n",
            "        2., 2., 2., 2., 2., 2., 2., 2., 2., 2., 2., 2., 2., 2., 2., 2., 2., 2.,\n",
            "        2., 2., 2., 2., 2., 2., 2., 2., 2., 2., 2., 2., 2., 2., 2., 2., 2., 2.,\n",
            "        2., 2., 2., 2., 2., 2., 2., 2., 2., 2., 2., 2., 2., 2., 2., 2., 2., 2.,\n",
            "        2., 2., 2., 2., 2., 2., 2., 2., 2., 2., 2., 2., 2., 2., 2., 2., 2., 2.,\n",
            "        2., 2., 2., 2., 2., 2., 2., 2., 2., 2.])\n"
          ]
        }
      ]
    },
    {
      "cell_type": "markdown",
      "source": [
        "Múltiples llamadas a la función y al método `backward` acumulan los gradientes en `.grad`. Por lo mismo, en muchas ocasiones es necesarios ponerlos a 0 con el método (_in-pace_) `zero`."
      ],
      "metadata": {
        "id": "DxiBlYG8iI4t"
      }
    },
    {
      "cell_type": "code",
      "source": [
        "with th.no_grad():\n",
        "  l.grad.zero_()\n",
        "l.grad"
      ],
      "metadata": {
        "colab": {
          "base_uri": "https://localhost:8080/"
        },
        "id": "qIGcqWEzf0F4",
        "outputId": "5b879997-9472-4937-b808-7ebd49f6c633"
      },
      "execution_count": 11,
      "outputs": [
        {
          "output_type": "execute_result",
          "data": {
            "text/plain": [
              "tensor([0., 0., 0., 0., 0., 0., 0., 0., 0., 0., 0., 0., 0., 0., 0., 0., 0., 0., 0., 0., 0., 0., 0., 0.,\n",
              "        0., 0., 0., 0., 0., 0., 0., 0., 0., 0., 0., 0., 0., 0., 0., 0., 0., 0., 0., 0., 0., 0., 0., 0.,\n",
              "        0., 0., 0., 0., 0., 0., 0., 0., 0., 0., 0., 0., 0., 0., 0., 0., 0., 0., 0., 0., 0., 0., 0., 0.,\n",
              "        0., 0., 0., 0., 0., 0., 0., 0., 0., 0., 0., 0., 0., 0., 0., 0., 0., 0., 0., 0., 0., 0., 0., 0.,\n",
              "        0., 0., 0., 0.])"
            ]
          },
          "metadata": {},
          "execution_count": 11
        }
      ]
    },
    {
      "cell_type": "markdown",
      "source": [
        "También podemos diferenciar automáticamente respecto más de un tensor."
      ],
      "metadata": {
        "id": "pz7QElnzxYha"
      }
    },
    {
      "cell_type": "code",
      "source": [
        "z = th.rand(size=(100,), requires_grad=True)\n",
        "y = th.rand_like(z, requires_grad=True)\n",
        "g = (z**2 + y).sum()\n",
        "g.backward()\n",
        "\n",
        "g, z, z.grad, y, y.grad"
      ],
      "metadata": {
        "id": "MUaFQOABZnRI",
        "colab": {
          "base_uri": "https://localhost:8080/"
        },
        "outputId": "680a2850-61a2-4981-e594-a2fd75b8779b"
      },
      "execution_count": 12,
      "outputs": [
        {
          "output_type": "execute_result",
          "data": {
            "text/plain": [
              "(tensor(77.8050, grad_fn=<SumBackward0>),\n",
              " tensor([0.2083, 0.3289, 0.1054, 0.9192, 0.4008, 0.9302, 0.6558, 0.0766, 0.8460,\n",
              "         0.3624, 0.3083, 0.0850, 0.0029, 0.6431, 0.3908, 0.6947, 0.0897, 0.8712,\n",
              "         0.1330, 0.4137, 0.6044, 0.7581, 0.9037, 0.9555, 0.1035, 0.6258, 0.2849,\n",
              "         0.4452, 0.1258, 0.9554, 0.1330, 0.7672, 0.6757, 0.6625, 0.2297, 0.9545,\n",
              "         0.6099, 0.5643, 0.0594, 0.7099, 0.4250, 0.2709, 0.9295, 0.6115, 0.2234,\n",
              "         0.2469, 0.4761, 0.7792, 0.3722, 0.2147, 0.3288, 0.1265, 0.6783, 0.8870,\n",
              "         0.0293, 0.6161, 0.7583, 0.5907, 0.3219, 0.7610, 0.7628, 0.6870, 0.4121,\n",
              "         0.3676, 0.5535, 0.4117, 0.3510, 0.8196, 0.9297, 0.4505, 0.3881, 0.5073,\n",
              "         0.4701, 0.6202, 0.6401, 0.0459, 0.3155, 0.9211, 0.6948, 0.4751, 0.1985,\n",
              "         0.1941, 0.0521, 0.3370, 0.6689, 0.8188, 0.7308, 0.0580, 0.1993, 0.4211,\n",
              "         0.9837, 0.5723, 0.3705, 0.7069, 0.3096, 0.1764, 0.8649, 0.2726, 0.3998,\n",
              "         0.0026], requires_grad=True),\n",
              " tensor([0.4166, 0.6577, 0.2107, 1.8385, 0.8015, 1.8604, 1.3116, 0.1532, 1.6920,\n",
              "         0.7249, 0.6167, 0.1699, 0.0058, 1.2861, 0.7816, 1.3893, 0.1793, 1.7424,\n",
              "         0.2659, 0.8273, 1.2089, 1.5163, 1.8073, 1.9110, 0.2071, 1.2517, 0.5699,\n",
              "         0.8904, 0.2515, 1.9109, 0.2660, 1.5345, 1.3514, 1.3250, 0.4594, 1.9090,\n",
              "         1.2198, 1.1286, 0.1187, 1.4198, 0.8500, 0.5419, 1.8589, 1.2229, 0.4467,\n",
              "         0.4939, 0.9522, 1.5584, 0.7445, 0.4294, 0.6576, 0.2529, 1.3566, 1.7740,\n",
              "         0.0586, 1.2323, 1.5166, 1.1813, 0.6439, 1.5219, 1.5255, 1.3739, 0.8243,\n",
              "         0.7352, 1.1070, 0.8233, 0.7020, 1.6392, 1.8594, 0.9010, 0.7761, 1.0146,\n",
              "         0.9403, 1.2404, 1.2802, 0.0917, 0.6310, 1.8421, 1.3896, 0.9503, 0.3971,\n",
              "         0.3882, 0.1042, 0.6740, 1.3377, 1.6376, 1.4617, 0.1161, 0.3986, 0.8422,\n",
              "         1.9673, 1.1447, 0.7410, 1.4137, 0.6191, 0.3527, 1.7299, 0.5453, 0.7995,\n",
              "         0.0052]),\n",
              " tensor([0.8346, 0.8788, 0.6822, 0.1514, 0.0065, 0.0939, 0.8729, 0.7401, 0.9208,\n",
              "         0.7619, 0.6265, 0.4951, 0.1197, 0.0716, 0.0323, 0.7047, 0.2545, 0.3994,\n",
              "         0.2122, 0.4089, 0.1481, 0.1733, 0.6659, 0.3514, 0.8087, 0.3396, 0.1332,\n",
              "         0.4118, 0.2576, 0.3470, 0.0240, 0.7797, 0.1519, 0.7513, 0.7269, 0.8572,\n",
              "         0.1165, 0.8596, 0.2636, 0.6855, 0.9696, 0.4295, 0.4961, 0.3849, 0.0825,\n",
              "         0.7400, 0.0036, 0.8104, 0.8741, 0.9729, 0.3821, 0.0892, 0.6124, 0.7762,\n",
              "         0.0023, 0.3865, 0.2003, 0.4563, 0.2539, 0.2956, 0.3413, 0.0248, 0.9103,\n",
              "         0.9192, 0.4216, 0.4431, 0.2959, 0.0485, 0.0134, 0.6858, 0.2255, 0.1786,\n",
              "         0.4610, 0.3335, 0.3382, 0.5161, 0.3939, 0.3278, 0.2606, 0.0931, 0.9193,\n",
              "         0.2999, 0.6325, 0.3265, 0.5406, 0.9662, 0.7304, 0.0667, 0.6985, 0.9746,\n",
              "         0.6315, 0.8352, 0.9929, 0.4234, 0.6038, 0.1525, 0.3970, 0.8703, 0.7563,\n",
              "         0.1836], requires_grad=True),\n",
              " tensor([1., 1., 1., 1., 1., 1., 1., 1., 1., 1., 1., 1., 1., 1., 1., 1., 1., 1.,\n",
              "         1., 1., 1., 1., 1., 1., 1., 1., 1., 1., 1., 1., 1., 1., 1., 1., 1., 1.,\n",
              "         1., 1., 1., 1., 1., 1., 1., 1., 1., 1., 1., 1., 1., 1., 1., 1., 1., 1.,\n",
              "         1., 1., 1., 1., 1., 1., 1., 1., 1., 1., 1., 1., 1., 1., 1., 1., 1., 1.,\n",
              "         1., 1., 1., 1., 1., 1., 1., 1., 1., 1., 1., 1., 1., 1., 1., 1., 1., 1.,\n",
              "         1., 1., 1., 1., 1., 1., 1., 1., 1., 1.]))"
            ]
          },
          "metadata": {},
          "execution_count": 12
        }
      ]
    },
    {
      "cell_type": "markdown",
      "source": [
        "Por otro lado, es posible obtener derivadas de orden mayor, pero esto se logra usando la función `grad` del módulo `autograd` en lugar del método `backward`."
      ],
      "metadata": {
        "id": "3_BvYzBLw4XZ"
      }
    },
    {
      "cell_type": "code",
      "source": [
        "z = th.rand(100, requires_grad=True)\n",
        "f = (z**2).sum()\n",
        "df = th.autograd.grad(f, z, create_graph=True)[0]\n",
        "d2f = th.autograd.grad(df.sum(), z)[0]\n",
        "\n",
        "z, f, df, d2f"
      ],
      "metadata": {
        "id": "V-0lkQnzZYwH",
        "colab": {
          "base_uri": "https://localhost:8080/"
        },
        "outputId": "8259c5ad-cf4b-4b17-ca72-ee5ac3761a49"
      },
      "execution_count": 13,
      "outputs": [
        {
          "output_type": "execute_result",
          "data": {
            "text/plain": [
              "(tensor([0.0991, 0.1583, 0.0066, 0.1142, 0.3764, 0.8374, 0.5837, 0.1197, 0.0989,\n",
              "         0.7487, 0.1281, 0.4384, 0.7399, 0.2686, 0.4455, 0.4565, 0.3817, 0.2465,\n",
              "         0.0543, 0.0958, 0.2323, 0.9829, 0.2585, 0.1642, 0.6212, 0.6378, 0.7740,\n",
              "         0.8801, 0.7784, 0.0042, 0.5443, 0.8029, 0.4538, 0.2054, 0.9767, 0.3130,\n",
              "         0.2153, 0.0492, 0.5223, 0.7216, 0.6107, 0.5989, 0.1208, 0.0331, 0.5088,\n",
              "         0.9559, 0.7885, 0.2089, 0.4351, 0.1314, 0.2588, 0.5905, 0.7723, 0.9142,\n",
              "         0.0409, 0.8343, 0.1474, 0.6872, 0.9231, 0.5070, 0.9549, 0.0740, 0.3090,\n",
              "         0.7916, 0.3911, 0.3976, 0.2916, 0.8447, 0.7453, 0.6602, 0.2190, 0.0941,\n",
              "         0.5541, 0.6481, 0.2691, 0.3601, 0.8377, 0.5398, 0.5226, 0.3769, 0.0472,\n",
              "         0.0299, 0.2610, 0.2458, 0.6558, 0.3544, 0.3044, 0.9767, 0.6742, 0.8565,\n",
              "         0.2579, 0.2958, 0.6838, 0.1669, 0.1731, 0.4759, 0.3171, 0.1252, 0.7966,\n",
              "         0.9021], requires_grad=True),\n",
              " tensor(28.7066, grad_fn=<SumBackward0>),\n",
              " tensor([0.1981, 0.3166, 0.0131, 0.2284, 0.7527, 1.6749, 1.1674, 0.2394, 0.1978,\n",
              "         1.4975, 0.2562, 0.8769, 1.4797, 0.5372, 0.8910, 0.9130, 0.7634, 0.4930,\n",
              "         0.1086, 0.1916, 0.4645, 1.9658, 0.5170, 0.3285, 1.2424, 1.2756, 1.5479,\n",
              "         1.7601, 1.5569, 0.0085, 1.0887, 1.6058, 0.9076, 0.4107, 1.9533, 0.6260,\n",
              "         0.4307, 0.0984, 1.0447, 1.4431, 1.2214, 1.1977, 0.2416, 0.0661, 1.0176,\n",
              "         1.9118, 1.5769, 0.4178, 0.8702, 0.2628, 0.5176, 1.1811, 1.5445, 1.8284,\n",
              "         0.0819, 1.6686, 0.2947, 1.3745, 1.8462, 1.0140, 1.9098, 0.1479, 0.6180,\n",
              "         1.5833, 0.7821, 0.7953, 0.5832, 1.6893, 1.4905, 1.3205, 0.4380, 0.1883,\n",
              "         1.1082, 1.2963, 0.5383, 0.7202, 1.6754, 1.0797, 1.0451, 0.7539, 0.0944,\n",
              "         0.0597, 0.5220, 0.4917, 1.3116, 0.7089, 0.6088, 1.9534, 1.3483, 1.7129,\n",
              "         0.5159, 0.5915, 1.3675, 0.3337, 0.3463, 0.9517, 0.6342, 0.2503, 1.5932,\n",
              "         1.8042], grad_fn=<MulBackward0>),\n",
              " tensor([2., 2., 2., 2., 2., 2., 2., 2., 2., 2., 2., 2., 2., 2., 2., 2., 2., 2.,\n",
              "         2., 2., 2., 2., 2., 2., 2., 2., 2., 2., 2., 2., 2., 2., 2., 2., 2., 2.,\n",
              "         2., 2., 2., 2., 2., 2., 2., 2., 2., 2., 2., 2., 2., 2., 2., 2., 2., 2.,\n",
              "         2., 2., 2., 2., 2., 2., 2., 2., 2., 2., 2., 2., 2., 2., 2., 2., 2., 2.,\n",
              "         2., 2., 2., 2., 2., 2., 2., 2., 2., 2., 2., 2., 2., 2., 2., 2., 2., 2.,\n",
              "         2., 2., 2., 2., 2., 2., 2., 2., 2., 2.]))"
            ]
          },
          "metadata": {},
          "execution_count": 13
        }
      ]
    },
    {
      "cell_type": "markdown",
      "source": [
        "## Neurona artificial\n",
        "La salida de una neurona artificial se obtiene multiplicando la transpuesta del vector columna de pesos $\\mathbf{w}\\in \\mathbb{R}^d$ por el vector columna de entrada $\\mathbf{x} \\in \\mathbb{R}^d$, sumando al final el valor del sesgo $b$ y evaluando el resultado con la función de activación $\\phi$, esto es\n",
        "\n",
        "$$\n",
        "a = \\phi\\left(\\mathbf{w}^\\top \\mathbf{x} + b\\right)\n",
        "$$\n",
        "\n",
        "![Diagrama general de la neurona artificial](http://turing.iimas.unam.mx/~gibranfp/cursos/neurona.svg)"
      ],
      "metadata": {
        "id": "vk9WlAmq7LUH"
      }
    },
    {
      "cell_type": "code",
      "source": [
        "n = 100\n",
        "d = 10\n",
        "\n",
        "x = th.normal(size=(n,d), mean=0, std=1)\n",
        "y = th.randint(low=0, high=2, size=(n, 1))\n",
        "\n",
        "b = nn.parameter.Parameter(th.tensor([[1.]]))\n",
        "w = nn.parameter.Parameter(th.normal(size=(d,1), mean=0, std=0.1))\n",
        "\n",
        "def neurona_sigmoide(w, b, x):\n",
        "  return th.sigmoid(x @ w + b)"
      ],
      "metadata": {
        "id": "0aIocdaG7N-9"
      },
      "execution_count": 14,
      "outputs": []
    },
    {
      "cell_type": "markdown",
      "source": [
        "Podemos obtener los gradientes de $\\mathbf{w}$ y $b$ respecto a la [entropía cruzada binaria](https://en.wikipedia.org/wiki/Cross_entropy) usando diferenciación automática. La entropía cruzada binaria está dada por\n",
        "$$\n",
        "ECB(\\mathbf{y}_k, \\mathbf{\\hat{y}}_k) = -\\sum_{i=1}^N  \\left[ y^{(i)}_k \\log{\\hat{y}^{(i)}_k} + (1 - y^{(i)}_k) \\log{(1 - \\hat{y}^{(i)}_k)} \\right]\n",
        "$$"
      ],
      "metadata": {
        "id": "pjNmI38Nw4xd"
      }
    },
    {
      "cell_type": "code",
      "source": [
        "def ecb(y, y_hat):\n",
        "  perdida_ceros = th.log(y_hat[y == 0]).sum()\n",
        "  perdida_unos = th.log(1.0 - y_hat[y == 1]).sum()\n",
        "  return -(perdida_unos + perdida_ceros)\n",
        "\n",
        "y_hat = neurona_sigmoide(w, b, x)\n",
        "fp = ecb(y, y_hat)\n",
        "fp.backward()\n",
        "\n",
        "w.grad, b.grad"
      ],
      "metadata": {
        "id": "7NhMcpgjxKot",
        "colab": {
          "base_uri": "https://localhost:8080/"
        },
        "outputId": "859fd60b-f121-4c84-d90b-448259f949f6"
      },
      "execution_count": 15,
      "outputs": [
        {
          "output_type": "execute_result",
          "data": {
            "text/plain": [
              "(tensor([[ -7.4935],\n",
              "         [  2.5605],\n",
              "         [  2.8493],\n",
              "         [-10.7563],\n",
              "         [ -3.3124],\n",
              "         [ 10.9660],\n",
              "         [ -5.7475],\n",
              "         [ -7.6238],\n",
              "         [  2.7905],\n",
              "         [ -0.3388]]), tensor([[16.8596]]))"
            ]
          },
          "metadata": {},
          "execution_count": 15
        }
      ]
    },
    {
      "cell_type": "markdown",
      "source": [
        "## Ejercicios\n",
        "Genera un conjunto de datos sintético, programa la propagación hacia adelante y calcula los gradientes de la función de pérdida de la suma del error cuadrático medio respecto a los pesos y sesgos para $K$ regresiones lineales."
      ],
      "metadata": {
        "id": "WHkUtKnsx0qZ"
      }
    },
    {
      "cell_type": "markdown",
      "source": [
        "## Entrenando un modelo de regresión con descenso por gradiente\n",
        "Vamos a entrenar un modelo de regresión lineal con [descenso por gradiente](https://youtu.be/IHZwWFHWa-w) usando la diferenciación automática de Tensorflow. \n",
        "\n",
        "Primero generamos un conjunto de datos sintético y lo almacenamos en una instancia de `Tensor`."
      ],
      "metadata": {
        "id": "lYJTQtdb5lD5"
      }
    },
    {
      "cell_type": "code",
      "source": [
        "n = 100\n",
        "x = th.randn(n, 1)\n",
        "y = 2 * x + th.normal(size=(n, 1), mean=0, std=0.1)\n",
        "\n",
        "plt.scatter(x.numpy()[:, 0], y.numpy()[:, 0])\n",
        "plt.show()"
      ],
      "metadata": {
        "id": "cd212ccQ9taq",
        "colab": {
          "base_uri": "https://localhost:8080/",
          "height": 267
        },
        "outputId": "9b9280bf-628a-432e-8c17-3f8e0850e672"
      },
      "execution_count": 16,
      "outputs": [
        {
          "output_type": "display_data",
          "data": {
            "text/plain": [
              "<Figure size 432x288 with 1 Axes>"
            ],
            "image/png": "[encoded data removed]"
          },
          "metadata": {
            "needs_background": "light"
          }
        }
      ]
    },
    {
      "cell_type": "markdown",
      "source": [
        "Definimos las instancias de `Parameter` para $\\mathbf{w}$ y $b$ las cuales inicializamos con valores aleatorios (normal con media 0 y desviación estándar 0.1) y con ceros, respectivamente."
      ],
      "metadata": {
        "id": "3kc0MjqmplU8"
      }
    },
    {
      "cell_type": "code",
      "source": [
        "w = nn.parameter.Parameter(th.normal(size=(1, 1), mean=0, std=0.1))\n",
        "b = nn.parameter.Parameter(th.zeros(size=(1, 1)))\n",
        "w, b"
      ],
      "metadata": {
        "id": "aYnpFtmUT7ZS",
        "colab": {
          "base_uri": "https://localhost:8080/"
        },
        "outputId": "9a128068-32f9-4256-e826-b09f97bdd973"
      },
      "execution_count": 17,
      "outputs": [
        {
          "output_type": "execute_result",
          "data": {
            "text/plain": [
              "(Parameter containing:\n",
              " tensor([[-0.0209]], requires_grad=True), Parameter containing:\n",
              " tensor([[0.]], requires_grad=True))"
            ]
          },
          "metadata": {},
          "execution_count": 17
        }
      ]
    },
    {
      "cell_type": "markdown",
      "source": [
        "Definimos una función para producir un tensor de salidas a partir de un tensor de entradas, esto es,\n",
        "$$\n",
        "\\hat{y} = b + \\mathbf{w}^\\top\\mathbf{x}.\n",
        "$$\n"
      ],
      "metadata": {
        "id": "VQh_QEMrqWrT"
      }
    },
    {
      "cell_type": "code",
      "source": [
        "def neurona_lineal(w, b, x): \n",
        "  return x @ w + b"
      ],
      "metadata": {
        "id": "sMQQfEePqXZ1"
      },
      "execution_count": 18,
      "outputs": []
    },
    {
      "cell_type": "markdown",
      "source": [
        "Ahora definimos nuestro ciclo de entrenamiento en el cual generamos la salida para cada entrada, calculamos los gradientes de $\\mathbf{w}$ y $b$ respecto al error cuadrático medio usando la diferenciación automática de Tensorflow y finalmente actualizamos $\\mathbf{w}$ y $b$ con la regla de actualización del descenso por gradiente:\n",
        "\n",
        "$$\n",
        "\\boldsymbol{\\theta}^{[t + 1]}   = \\boldsymbol{\\theta}^{[t]} - \\alpha \\nabla \\mathcal{L}(\\boldsymbol{\\theta}^{[t]})\n",
        "$$\n",
        "donde \n",
        "$$\n",
        "\\begin{align*}\n",
        "\\boldsymbol{\\theta} & = \\{\\mathbf{w}, \\mathbf{b}\\}\\\\\n",
        "\\nabla \\mathcal{L}(\\boldsymbol{\\theta}^{[t]}) & = \\left[  \\frac{\\partial \\mathcal{L}}{\\partial  \\theta_0^{[t]}}, \\cdots , \\frac{\\partial \\mathcal{L}}{\\partial \\theta_d^{[t]}}\\right]\n",
        "\\end{align*}\n",
        "$$    \n",
        "\n",
        "A $\\alpha$ se le conoce como tasa de aprendizaje.\n"
      ],
      "metadata": {
        "id": "EEHP6ZlSp58d"
      }
    },
    {
      "cell_type": "code",
      "source": [
        "tasa = 0.1\n",
        "hist = []\n",
        "for e in range(100):\n",
        "  y_hat = neurona_lineal(w, b, x)\n",
        "  ecm = th.mean((y - y_hat)**2)\n",
        "  ecm.backward() # calcula los gradientes de los tensores \n",
        "\n",
        "  # actualiza los parámetros (es necesario que esté en el ámbito no_grad)\n",
        "  with th.no_grad(): \n",
        "    w += -tasa * w.grad\n",
        "    b += -tasa * b.grad\n",
        "\n",
        "    # Se limpian los gradientes para que no se acumulen\n",
        "    w.grad.zero_()\n",
        "    b.grad.zero_()\n",
        "\n",
        "    hist.append(ecm.numpy())"
      ],
      "metadata": {
        "id": "OIW3x4vMpxr0"
      },
      "execution_count": 19,
      "outputs": []
    },
    {
      "cell_type": "markdown",
      "source": [
        "Visualizamos el modelo."
      ],
      "metadata": {
        "id": "7IaB_ffwstBo"
      }
    },
    {
      "cell_type": "code",
      "source": [
        "y_hat = neurona_lineal(w, b, x)\n",
        "\n",
        "plt.scatter(x.numpy()[:, 0], y.numpy()[:, 0])\n",
        "plt.plot(x.numpy()[:, 0], y_hat.detach().numpy()[:, 0], 'r')\n",
        "plt.show()"
      ],
      "metadata": {
        "id": "cg6Dt5vw_VM5",
        "colab": {
          "base_uri": "https://localhost:8080/",
          "height": 266
        },
        "outputId": "e7dc8d33-b5c0-483b-f292-b01577058122"
      },
      "execution_count": 20,
      "outputs": [
        {
          "output_type": "display_data",
          "data": {
            "text/plain": [
              "<Figure size 432x288 with 1 Axes>"
            ],
            "image/png": "[encoded data removed]"
          },
          "metadata": {
            "needs_background": "light"
          }
        }
      ]
    },
    {
      "cell_type": "markdown",
      "source": [
        "Graficamos el valor de la pérdida por época."
      ],
      "metadata": {
        "id": "qWq-lMYzszHA"
      }
    },
    {
      "cell_type": "code",
      "source": [
        "plt.plot(hist)\n",
        "plt.xlabel('Época')\n",
        "plt.ylabel('Pérdida en entrenamiento')\n",
        "plt.show()"
      ],
      "metadata": {
        "id": "zFn9I3rXAdtK",
        "colab": {
          "base_uri": "https://localhost:8080/",
          "height": 285
        },
        "outputId": "fa80c7dd-dcb0-46c0-b3f8-21d9abf9e46d"
      },
      "execution_count": 21,
      "outputs": [
        {
          "output_type": "display_data",
          "data": {
            "text/plain": [
              "<Figure size 432x288 with 1 Axes>"
            ],
            "image/png": "[encoded data removed]"
          },
          "metadata": {
            "needs_background": "light"
          }
        }
      ]
    },
    {
      "cell_type": "markdown",
      "source": [
        "En el entrenamiento de redes neuronales profundas es común usar aproximaciones estocásticas del descenso por gradiente (o variaciones). Estas aproximaciones estiman $\\nabla \\mathcal{L}(\\boldsymbol{\\theta}^{[t]})$ y actualizan los parámetros (pesos y sesgos) usando un minilote $\\mathcal{B}$ de ejemplos (en lugar de todo el conjunto) de entrenamiento, donde $\\vert \\mathcal{B} \\vert$ es un hiperparámetro. Una estrategia para generar los lotes es dividir y ordenar aleatoriamente el conjunto de $n$ ejemplos de entrenamiento en $k$ minilotes ($\\vert \\mathcal{B} \\vert \\times k \\approx n$) e ir tomando lotes consecutivos hasta pasar por todo el conjunto. Aquí una época ocurre cada vez que se han considerado los $k$ minilotes."
      ],
      "metadata": {
        "id": "U6roxslovyls"
      }
    },
    {
      "cell_type": "code",
      "source": [
        "w = nn.parameter.Parameter(th.normal(size=(1, 1), mean=0, std=0.1))\n",
        "b = nn.parameter.Parameter(th.zeros(size=(1, 1)))\n",
        "\n",
        "tasa = 0.1\n",
        "hist = []\n",
        "t_lote = 10\n",
        "n_lotes = 10\n",
        "for e in range(100):\n",
        "  perdida = 0\n",
        "  # Generamos una permutación aleatoria del conjunto de entrenamiento\n",
        "  perm = th.randperm(x.shape[0])\n",
        "  xperm = x[perm]\n",
        "  yperm = y[perm]\n",
        "\n",
        "  # Vamos tomando lote por lote ejemplos del conjunto reordenado\n",
        "  for lote in range(n_lotes): \n",
        "    y_hat = neurona_lineal(w, b, xperm[lote * t_lote:(lote + 1) * t_lote])\n",
        "    ecm = th.mean((yperm[lote * t_lote:(lote + 1) * t_lote] - y_hat)**2)\n",
        "    ecm.backward() # calcula los gradientes de los tensores \n",
        "\n",
        "    # actualiza los parámetros (es necesario que esté en el ámbito no_grad)\n",
        "    with th.no_grad(): \n",
        "      w += -tasa * w.grad\n",
        "      b += -tasa * b.grad\n",
        "\n",
        "      # Se limpian los gradientes para que no se acumulen\n",
        "      w.grad.zero_()\n",
        "      b.grad.zero_()\n",
        "\n",
        "      perdida += ecm.numpy()\n",
        "    \n",
        "    hist.append(perdida)"
      ],
      "metadata": {
        "id": "EWlKUlTI_Lol"
      },
      "execution_count": 22,
      "outputs": []
    },
    {
      "cell_type": "markdown",
      "source": [
        "Visualizamos el modelo."
      ],
      "metadata": {
        "id": "LBxR5WsKBTFS"
      }
    },
    {
      "cell_type": "code",
      "source": [
        "y_hat = neurona_lineal(w, b, x)\n",
        "\n",
        "plt.scatter(x.numpy()[:, 0], y.numpy()[:, 0])\n",
        "plt.plot(x.numpy()[:, 0], y_hat.detach().numpy()[:, 0], 'r')\n",
        "plt.show()"
      ],
      "metadata": {
        "colab": {
          "base_uri": "https://localhost:8080/",
          "height": 266
        },
        "id": "tcd81LquA-zl",
        "outputId": "7e132a5d-a3ff-415e-d4a2-f195a34d54e8"
      },
      "execution_count": 23,
      "outputs": [
        {
          "output_type": "display_data",
          "data": {
            "text/plain": [
              "<Figure size 432x288 with 1 Axes>"
            ],
            "image/png": "[encoded data removed]"
          },
          "metadata": {
            "needs_background": "light"
          }
        }
      ]
    },
    {
      "cell_type": "markdown",
      "source": [
        "Graficamos el valor de la pérdida por época."
      ],
      "metadata": {
        "id": "SIxdI9udBVg7"
      }
    },
    {
      "cell_type": "code",
      "source": [
        "plt.plot(hist)\n",
        "plt.xlabel('Época')\n",
        "plt.ylabel('Pérdida en entrenamiento')\n",
        "plt.show()"
      ],
      "metadata": {
        "colab": {
          "base_uri": "https://localhost:8080/",
          "height": 281
        },
        "id": "geNTYCeZAdT8",
        "outputId": "e0463c0b-c888-4916-add2-5f6ab4cf87f7"
      },
      "execution_count": 24,
      "outputs": [
        {
          "output_type": "display_data",
          "data": {
            "text/plain": [
              "<Figure size 432x288 with 1 Axes>"
            ],
            "image/png": "[encoded data removed]"
          },
          "metadata": {
            "needs_background": "light"
          }
        }
      ]
    }
  ]
}