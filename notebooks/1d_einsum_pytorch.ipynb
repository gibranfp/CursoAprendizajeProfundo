{
  "nbformat": 4,
  "nbformat_minor": 0,
  "metadata": {
    "colab": {
      "name": "1d_einsum_pytorch.ipynb",
      "provenance": [],
      "collapsed_sections": [],
      "authorship_tag": "ABX9TyNfVXvQtWXHHvkUavsb15JK",
      "include_colab_link": true
    },
    "kernelspec": {
      "name": "python3",
      "display_name": "Python 3"
    },
    "language_info": {
      "name": "python"
    },
    "accelerator": "GPU",
    "gpuClass": "standard"
  },
  "cells": [
    {
      "cell_type": "markdown",
      "metadata": {
        "id": "view-in-github",
        "colab_type": "text"
      },
      "source": [
        "<a href=\"https://colab.research.google.com/github/gibranfp/CursoAprendizajeProfundo/blob/2023-1/notebooks/1d_einsum_pytorch.ipynb\" target=\"_parent\"><img src=\"https://colab.research.google.com/assets/colab-badge.svg\" alt=\"Open In Colab\"/></a>"
      ]
    },
    {
      "cell_type": "code",
      "source": [
        "import torch as th\n",
        "from torch import nn"
      ],
      "metadata": {
        "id": "O43GabK1Kl-f"
      },
      "execution_count": 1,
      "outputs": []
    },
    {
      "cell_type": "markdown",
      "metadata": {
        "id": "2HutFUY3rjEe"
      },
      "source": [
        "## `einsum`\n",
        "PyTorch cuenta con la función `einsum`, que es una forma compacta y flexible de expresar diversas operaciones tensoriales. Esta función recibe como argumento una cadena de símbolos que expresa operaciones sobre uno o más tensores. Esta expresión se basa en la [notación de Einstein](https://en.wikipedia.org/wiki/Einstein_notation) y tiene la siguiente forma\n",
        "\n",
        "```\n",
        "D = th.einsum(\"IA,IB,IC->ID\", A, B, C)\n",
        "```\n",
        "donde `IA`, `IB`, `IC` e `ID` son secuencias de índices de los tensores `A`, `B`, `C` y `D`, respectivamente.\n",
        "\n",
        "Para entender cómo funciona `einsum` supongamos que queremos realizar el siguiente producto punto:\n",
        "\n",
        "$$\n",
        "\\overbrace{\n",
        "\\begin{pmatrix}\n",
        "  9 & 7 & 3\\\\ \n",
        "  2 & 8 & 4\n",
        "\\end{pmatrix}}^A\n",
        "\\times\n",
        "\\overbrace{\n",
        "\\begin{pmatrix}\n",
        "  9 & 9 & 6 & 5 \\\\ \n",
        "  9 & 1 & 4 & 2\\\\\n",
        "  8 & 7 & 1 & 3\n",
        "\\end{pmatrix}}^B\n",
        "=\n",
        "\\overbrace{\n",
        "\\begin{pmatrix}\n",
        "  168 & 109 & 85 & 68\\\\ \n",
        "  122 & 54 & 48 & 38\n",
        "\\end{pmatrix}}^C\n",
        "$$\n",
        "\n",
        "Podemos expresar el valor de cada elemento de la matriz resultante como:\n",
        "$$\n",
        "C_{ij} = \\sum_{k}^3 A_{ik} \\cdot B_{kj}\n",
        "$$\n",
        "\n",
        "En la notación de Einstein los símbolos de suma se omiten, por lo que esta expresión sería:\n",
        "\n",
        "$$\n",
        "C_{ij} = A_{ik} \\cdot B_{kj}\n",
        "$$\n",
        "\n",
        "Muchas veces, es útil pensar en cómo se realizaría la operación simplemente con ciclos `for`. Para este caso:\n",
        "\n",
        "```python\n",
        "for i in range(2):\n",
        "  for j in range(4):\n",
        "    C[i,j] = sum([A[i,k] * B[k,j] for k in range(3)])\n",
        "```\n",
        "En `einsum` se usa esta notación para definir el tensor de salida, que para nuestro ejemplo sería:\n",
        "\n"
      ]
    },
    {
      "cell_type": "code",
      "execution_count": 2,
      "metadata": {
        "id": "D-8XkaYjTWMW",
        "colab": {
          "base_uri": "https://localhost:8080/"
        },
        "outputId": "38bcfadf-c4c4-4e5a-8668-c484f7224912"
      },
      "outputs": [
        {
          "output_type": "stream",
          "name": "stdout",
          "text": [
            "einsum: tensor([[168, 109,  85,  68],\n",
            "        [122,  54,  48,  38]])\n",
            "A @ B: tensor([[168, 109,  85,  68],\n",
            "        [122,  54,  48,  38]])\n"
          ]
        }
      ],
      "source": [
        "A = th.tensor([[9,7,3], [2,8,4]])\n",
        "B = th.tensor([[9,9,6,5], [9,1,4,2], [8,7,1,3]])\n",
        "print(f'einsum: {th.einsum(\"ik,kj->ij\", A, B)}')\n",
        "print(f'A @ B: {A @ B}')"
      ]
    },
    {
      "cell_type": "markdown",
      "metadata": {
        "id": "1fDpDLO_Wdck"
      },
      "source": [
        "A $i$ y a $j$ se les conoce como índices libres y son los que se ponen en el tensor de salida para definir su forma y valores en términos de los tensores de entrada. Por su parte, $k$ se conoce como índice de suma y se pone solamente en los tensores de entrada para especificar los elementos que se van a sumar.\n",
        "\n",
        "Para el producto punto, producto exterior y la multiplicación matriz-vector:"
      ]
    },
    {
      "cell_type": "code",
      "execution_count": 3,
      "metadata": {
        "id": "cmX4L4f-ZxVU",
        "colab": {
          "base_uri": "https://localhost:8080/"
        },
        "outputId": "738a48be-fa60-4cd5-8482-ca7f3dfe83f4"
      },
      "outputs": [
        {
          "output_type": "stream",
          "name": "stdout",
          "text": [
            "Producto punto: 14.0\n",
            "Producto exterior: tensor([[1., 2., 3.],\n",
            "        [2., 4., 6.],\n",
            "        [3., 6., 9.]])\n",
            "Multiplicación matriz-vector: tensor([14., 14.])\n"
          ]
        }
      ],
      "source": [
        "C = th.tensor([[1., 2., 3.], [1., 2., 3.]])\n",
        "x1 = th.tensor([1., 2., 3.])\n",
        "x2 = th.tensor([1., 2., 3.])\n",
        "print(f'Producto punto: {th.einsum(\"i,i->\", x1, x2)}')\n",
        "print(f'Producto exterior: {th.einsum(\"i,j->ij\", x1, x2)}')\n",
        "print(f'Multiplicación matriz-vector: {th.einsum(\"ij,j->i\", C, x1)}')"
      ]
    },
    {
      "cell_type": "markdown",
      "metadata": {
        "id": "yW_VAqFlM4w6"
      },
      "source": [
        "Producto con transpuesta"
      ]
    },
    {
      "cell_type": "code",
      "execution_count": 4,
      "metadata": {
        "id": "PPEKi15ON8wC",
        "colab": {
          "base_uri": "https://localhost:8080/"
        },
        "outputId": "b1b1fd0c-50e0-4dee-ed94-bb28356eced9"
      },
      "outputs": [
        {
          "output_type": "stream",
          "name": "stdout",
          "text": [
            "Transpuesta de  D: tensor([[0.3410, 0.7847, 0.8038,  ..., 0.4330, 0.4495, 0.1376],\n",
            "        [0.8568, 0.6267, 0.6338,  ..., 0.0207, 0.7869, 0.2014],\n",
            "        [0.3019, 0.9199, 0.4016,  ..., 0.9133, 0.9401, 0.9685],\n",
            "        ...,\n",
            "        [0.7795, 0.0561, 0.3957,  ..., 0.9613, 0.3996, 0.3911],\n",
            "        [0.6834, 0.3947, 0.8615,  ..., 0.2543, 0.5774, 0.5915],\n",
            "        [0.3250, 0.7353, 0.6168,  ..., 0.5994, 0.6221, 0.8881]])\n",
            "Producto de D con transpuesta de E: tensor([[252.8139, 264.1091, 252.2740,  ..., 257.2824, 259.7156, 257.6115],\n",
            "        [248.8030, 257.5115, 248.7957,  ..., 252.0943, 256.9398, 254.6261],\n",
            "        [256.2570, 261.2106, 250.1201,  ..., 255.7995, 252.3157, 257.5032],\n",
            "        ...,\n",
            "        [256.5848, 255.2772, 252.0509,  ..., 250.9626, 256.1165, 256.6591],\n",
            "        [252.6007, 253.6698, 247.5227,  ..., 251.4182, 249.2036, 251.3750],\n",
            "        [252.1222, 252.0891, 248.0955,  ..., 253.0552, 257.8606, 249.6725]])\n"
          ]
        }
      ],
      "source": [
        "D = th.rand((400, 1000))\n",
        "E = th.rand((200, 1000))\n",
        "\n",
        "print(f'Transpuesta de  D: {th.einsum(\"ji->ij\", D)}')\n",
        "print(f'Producto de D con transpuesta de E: {th.einsum(\"ik,jk->ij\", D, E)}')"
      ]
    },
    {
      "cell_type": "markdown",
      "metadata": {
        "id": "LmP2JQtAav1Z"
      },
      "source": [
        "Multiplicación por columna/fila"
      ]
    },
    {
      "cell_type": "code",
      "execution_count": 5,
      "metadata": {
        "id": "Of1YDrdya2hx",
        "colab": {
          "base_uri": "https://localhost:8080/"
        },
        "outputId": "8211a934-0be3-459b-87ea-5a9036288b41"
      },
      "outputs": [
        {
          "output_type": "stream",
          "name": "stdout",
          "text": [
            "Columna: tensor([1.4510, 0.6140, 0.8891, 0.3801, 0.7448, 1.9619, 0.6529, 2.3836, 1.6405,\n",
            "        1.2919, 1.3124])\n",
            "Fila: tensor([1.5682, 3.5801, 2.4981, 2.2494, 3.4264])\n"
          ]
        }
      ],
      "source": [
        "G = th.rand((5, 11))\n",
        "H = th.rand((5, 11))\n",
        "print(f'Columna: {th.einsum(\"ij,ij->j\", G, H)}')\n",
        "print(f'Fila: {th.einsum(\"ij,ij->i\", G, H)}')"
      ]
    },
    {
      "cell_type": "markdown",
      "metadata": {
        "id": "qAZsLI2UZjPF"
      },
      "source": [
        "La suma de todos los elementos de un tensor se puede expresar en `einsum` como:"
      ]
    },
    {
      "cell_type": "code",
      "execution_count": 6,
      "metadata": {
        "id": "WvtKraxiZ2Ri",
        "colab": {
          "base_uri": "https://localhost:8080/"
        },
        "outputId": "59c3b504-15ca-45d4-b444-01c1999b7378"
      },
      "outputs": [
        {
          "output_type": "stream",
          "name": "stdout",
          "text": [
            "Suma vector: 3.0\n",
            "Suma matriz: 9.0\n",
            "Suma tensor: 27.0\n"
          ]
        }
      ],
      "source": [
        "print(f'Suma vector: {th.einsum(\"i->\", th.ones((3)))}') # no tiene índices libres\n",
        "print(f'Suma matriz: {th.einsum(\"ij->\", th.ones((3,3)))}') # no tiene índices libres\n",
        "print(f'Suma tensor: {th.einsum(\"ijk->\", th.ones((3,3,3)))}') # no tiene índices libres"
      ]
    },
    {
      "cell_type": "markdown",
      "metadata": {
        "id": "XVuKHa4-YLls"
      },
      "source": [
        "Para el reordenamiento de ejes"
      ]
    },
    {
      "cell_type": "code",
      "execution_count": 7,
      "metadata": {
        "id": "-PkQtCIFaF2J",
        "colab": {
          "base_uri": "https://localhost:8080/"
        },
        "outputId": "7a163ddb-0afc-42f5-9c43-3610859d52b6"
      },
      "outputs": [
        {
          "output_type": "stream",
          "name": "stdout",
          "text": [
            "Reordenamiento de ejes: torch.Size([3, 4, 5])\n"
          ]
        }
      ],
      "source": [
        "print(f'Reordenamiento de ejes: {th.einsum(\"ijk->kji\", th.ones((5, 4, 3))).shape}') # no tiene índices de suma"
      ]
    },
    {
      "cell_type": "markdown",
      "metadata": {
        "id": "0-M6YlKNXETB"
      },
      "source": [
        "Extraer elementos de la diagonal"
      ]
    },
    {
      "cell_type": "code",
      "execution_count": 8,
      "metadata": {
        "id": "AEQCZr6pXHoJ",
        "colab": {
          "base_uri": "https://localhost:8080/"
        },
        "outputId": "60989c0b-265a-428c-c065-0beb01d38dcc"
      },
      "outputs": [
        {
          "output_type": "stream",
          "name": "stdout",
          "text": [
            "Elementos de diagonal: tensor([1., 2., 3.])\n",
            "Elementos de diagonal: 6.0\n"
          ]
        }
      ],
      "source": [
        "F = th.diag(th.tensor([1., 2., 3.]))\n",
        "print(f'Elementos de diagonal: {th.einsum(\"ii->i\", F)}')\n",
        "print(f'Elementos de diagonal: {th.einsum(\"ii->\", F)}')"
      ]
    },
    {
      "cell_type": "markdown",
      "metadata": {
        "id": "mASiXl0vNGgy"
      },
      "source": [
        "## Ejercicios\n",
        "- Multiplica elemento a elemento dos matrices de $500 \\times 1000$ y suma las filas de la matriz resultante.\n",
        "- Calcula y despliega el producto de cada matriz de $400 \\times 1000$ en un tensor aleatorio $A$ de tamaño $500 \\times 400 \\times 1000$ con la transpuesta de un tensor aleatorio $B$ de tamaño $200 \\times 1000$. Concatena el resultado a un tensor aleatorio $C$ con el mismo número de columnas que el resultado de la operación anterior. Compara los tiempos de ejecución de esta operación con usar `th.reshape` y `th.matmul`. "
      ]
    }
  ]
}