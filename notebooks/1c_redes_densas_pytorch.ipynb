{
  "cells": [
    {
      "cell_type": "markdown",
      "metadata": {
        "id": "view-in-github",
        "colab_type": "text"
      },
      "source": [
        "<a href=\"https://colab.research.google.com/github/gibranfp/CursoAprendizajeProfundo/blob/2024-1/notebooks/1c_redes_densas_pytorch.ipynb\" target=\"_parent\"><img src=\"https://colab.research.google.com/assets/colab-badge.svg\" alt=\"Open In Colab\"/></a>"
      ]
    },
    {
      "cell_type": "markdown",
      "metadata": {
        "id": "k1Jl3Url9WEW"
      },
      "source": [
        "# Regresión lineal con PyTorch\n",
        "Para facilitar la definición, entrenamiento e inferencia de redes neuronales profundas con diversas arquitecturas y tipos de capas, PyTorch provee clases y funciones a distintos niveles de abstracción. En esta libreta revisaremos las interfaces principales.\n",
        "\n",
        "![](https://manalelaidouni.github.io/assets/img/pexels/Pytorch-package-hierarchy.jpg)\n",
        "\n",
        "Fuente: [https://manalelaidouni.github.io/Pytorch%20guide%20101.html](https://manalelaidouni.github.io/Pytorch%20guide%20101.html)"
      ]
    },
    {
      "cell_type": "code",
      "execution_count": 1,
      "metadata": {
        "id": "8R9z0GV1aI6g",
        "colab": {
          "base_uri": "https://localhost:8080/"
        },
        "outputId": "61c2c2e2-25c3-44a7-d6ad-9d47974afebb"
      },
      "outputs": [
        {
          "output_type": "execute_result",
          "data": {
            "text/plain": [
              "<torch._C.Generator at 0x79381263b8b0>"
            ]
          },
          "metadata": {},
          "execution_count": 1
        }
      ],
      "source": [
        "import numpy as np\n",
        "import matplotlib.pyplot as plt\n",
        "\n",
        "import torch as th\n",
        "from torch import nn\n",
        "\n",
        "# fijamos las semillas de los PRNG por reproducibilidad\n",
        "np.random.seed(42)\n",
        "th.manual_seed(42)"
      ]
    },
    {
      "cell_type": "markdown",
      "metadata": {
        "id": "GGKeiy4Y9ZV9"
      },
      "source": [
        "## Conjunto de datos\n",
        "Usaremos el conjunto de datos de regresión Diabetes Dataset que se puede obtener con scikit-learn. Este conjunto de datos está compuesto por 442 ejemplos con 10 atributos numéricos y una variable de respuesta."
      ]
    },
    {
      "cell_type": "code",
      "execution_count": 2,
      "metadata": {
        "id": "o6XPSTx-dKB1"
      },
      "outputs": [],
      "source": [
        "from sklearn.datasets import load_diabetes\n",
        "\n",
        "db = load_diabetes(return_X_y=False, as_frame=True)"
      ]
    },
    {
      "cell_type": "markdown",
      "source": [
        "Revisamos la descripción del conjunto:"
      ],
      "metadata": {
        "id": "tSVymo_xeTox"
      }
    },
    {
      "cell_type": "code",
      "source": [
        "print(db.DESCR)"
      ],
      "metadata": {
        "colab": {
          "base_uri": "https://localhost:8080/"
        },
        "id": "inX7054p4mNj",
        "outputId": "8ca58d2a-9519-4c11-c8af-f688c2ef6235"
      },
      "execution_count": 3,
      "outputs": [
        {
          "output_type": "stream",
          "name": "stdout",
          "text": [
            ".. _diabetes_dataset:\n",
            "\n",
            "Diabetes dataset\n",
            "----------------\n",
            "\n",
            "Ten baseline variables, age, sex, body mass index, average blood\n",
            "pressure, and six blood serum measurements were obtained for each of n =\n",
            "442 diabetes patients, as well as the response of interest, a\n",
            "quantitative measure of disease progression one year after baseline.\n",
            "\n",
            "**Data Set Characteristics:**\n",
            "\n",
            "  :Number of Instances: 442\n",
            "\n",
            "  :Number of Attributes: First 10 columns are numeric predictive values\n",
            "\n",
            "  :Target: Column 11 is a quantitative measure of disease progression one year after baseline\n",
            "\n",
            "  :Attribute Information:\n",
            "      - age     age in years\n",
            "      - sex\n",
            "      - bmi     body mass index\n",
            "      - bp      average blood pressure\n",
            "      - s1      tc, total serum cholesterol\n",
            "      - s2      ldl, low-density lipoproteins\n",
            "      - s3      hdl, high-density lipoproteins\n",
            "      - s4      tch, total cholesterol / HDL\n",
            "      - s5      ltg, possibly log of serum triglycerides level\n",
            "      - s6      glu, blood sugar level\n",
            "\n",
            "Note: Each of these 10 feature variables have been mean centered and scaled by the standard deviation times the square root of `n_samples` (i.e. the sum of squares of each column totals 1).\n",
            "\n",
            "Source URL:\n",
            "https://www4.stat.ncsu.edu/~boos/var.select/diabetes.html\n",
            "\n",
            "For more information see:\n",
            "Bradley Efron, Trevor Hastie, Iain Johnstone and Robert Tibshirani (2004) \"Least Angle Regression,\" Annals of Statistics (with discussion), 407-499.\n",
            "(https://web.stanford.edu/~hastie/Papers/LARS/LeastAngle_2002.pdf)\n",
            "\n"
          ]
        }
      ]
    },
    {
      "cell_type": "markdown",
      "source": [
        "Desplegamos los datos:"
      ],
      "metadata": {
        "id": "RiAbXEI0eW5Y"
      }
    },
    {
      "cell_type": "code",
      "source": [
        "db['data']"
      ],
      "metadata": {
        "colab": {
          "base_uri": "https://localhost:8080/",
          "height": 423
        },
        "id": "CljeqnNPXN05",
        "outputId": "f17a72ea-1cbd-4097-c8f0-7ed1c5e4fe63"
      },
      "execution_count": 4,
      "outputs": [
        {
          "output_type": "execute_result",
          "data": {
            "text/plain": [
              "          age       sex       bmi        bp        s1        s2        s3  \\\n",
              "0    0.038076  0.050680  0.061696  0.021872 -0.044223 -0.034821 -0.043401   \n",
              "1   -0.001882 -0.044642 -0.051474 -0.026328 -0.008449 -0.019163  0.074412   \n",
              "2    0.085299  0.050680  0.044451 -0.005670 -0.045599 -0.034194 -0.032356   \n",
              "3   -0.089063 -0.044642 -0.011595 -0.036656  0.012191  0.024991 -0.036038   \n",
              "4    0.005383 -0.044642 -0.036385  0.021872  0.003935  0.015596  0.008142   \n",
              "..        ...       ...       ...       ...       ...       ...       ...   \n",
              "437  0.041708  0.050680  0.019662  0.059744 -0.005697 -0.002566 -0.028674   \n",
              "438 -0.005515  0.050680 -0.015906 -0.067642  0.049341  0.079165 -0.028674   \n",
              "439  0.041708  0.050680 -0.015906  0.017293 -0.037344 -0.013840 -0.024993   \n",
              "440 -0.045472 -0.044642  0.039062  0.001215  0.016318  0.015283 -0.028674   \n",
              "441 -0.045472 -0.044642 -0.073030 -0.081413  0.083740  0.027809  0.173816   \n",
              "\n",
              "           s4        s5        s6  \n",
              "0   -0.002592  0.019907 -0.017646  \n",
              "1   -0.039493 -0.068332 -0.092204  \n",
              "2   -0.002592  0.002861 -0.025930  \n",
              "3    0.034309  0.022688 -0.009362  \n",
              "4   -0.002592 -0.031988 -0.046641  \n",
              "..        ...       ...       ...  \n",
              "437 -0.002592  0.031193  0.007207  \n",
              "438  0.034309 -0.018114  0.044485  \n",
              "439 -0.011080 -0.046883  0.015491  \n",
              "440  0.026560  0.044529 -0.025930  \n",
              "441 -0.039493 -0.004222  0.003064  \n",
              "\n",
              "[442 rows x 10 columns]"
            ],
            "text/html": [
              "\n",
              "  <div id=\"df-e30a999b-97ee-48ad-9a45-d8a86eb801e6\" class=\"colab-df-container\">\n",
              "    <div>\n",
              "<style scoped>\n",
              "    .dataframe tbody tr th:only-of-type {\n",
              "        vertical-align: middle;\n",
              "    }\n",
              "\n",
              "    .dataframe tbody tr th {\n",
              "        vertical-align: top;\n",
              "    }\n",
              "\n",
              "    .dataframe thead th {\n",
              "        text-align: right;\n",
              "    }\n",
              "</style>\n",
              "<table border=\"1\" class=\"dataframe\">\n",
              "  <thead>\n",
              "    <tr style=\"text-align: right;\">\n",
              "      <th></th>\n",
              "      <th>age</th>\n",
              "      <th>sex</th>\n",
              "      <th>bmi</th>\n",
              "      <th>bp</th>\n",
              "      <th>s1</th>\n",
              "      <th>s2</th>\n",
              "      <th>s3</th>\n",
              "      <th>s4</th>\n",
              "      <th>s5</th>\n",
              "      <th>s6</th>\n",
              "    </tr>\n",
              "  </thead>\n",
              "  <tbody>\n",
              "    <tr>\n",
              "      <th>0</th>\n",
              "      <td>0.038076</td>\n",
              "      <td>0.050680</td>\n",
              "      <td>0.061696</td>\n",
              "      <td>0.021872</td>\n",
              "      <td>-0.044223</td>\n",
              "      <td>-0.034821</td>\n",
              "      <td>-0.043401</td>\n",
              "      <td>-0.002592</td>\n",
              "      <td>0.019907</td>\n",
              "      <td>-0.017646</td>\n",
              "    </tr>\n",
              "    <tr>\n",
              "      <th>1</th>\n",
              "      <td>-0.001882</td>\n",
              "      <td>-0.044642</td>\n",
              "      <td>-0.051474</td>\n",
              "      <td>-0.026328</td>\n",
              "      <td>-0.008449</td>\n",
              "      <td>-0.019163</td>\n",
              "      <td>0.074412</td>\n",
              "      <td>-0.039493</td>\n",
              "      <td>-0.068332</td>\n",
              "      <td>-0.092204</td>\n",
              "    </tr>\n",
              "    <tr>\n",
              "      <th>2</th>\n",
              "      <td>0.085299</td>\n",
              "      <td>0.050680</td>\n",
              "      <td>0.044451</td>\n",
              "      <td>-0.005670</td>\n",
              "      <td>-0.045599</td>\n",
              "      <td>-0.034194</td>\n",
              "      <td>-0.032356</td>\n",
              "      <td>-0.002592</td>\n",
              "      <td>0.002861</td>\n",
              "      <td>-0.025930</td>\n",
              "    </tr>\n",
              "    <tr>\n",
              "      <th>3</th>\n",
              "      <td>-0.089063</td>\n",
              "      <td>-0.044642</td>\n",
              "      <td>-0.011595</td>\n",
              "      <td>-0.036656</td>\n",
              "      <td>0.012191</td>\n",
              "      <td>0.024991</td>\n",
              "      <td>-0.036038</td>\n",
              "      <td>0.034309</td>\n",
              "      <td>0.022688</td>\n",
              "      <td>-0.009362</td>\n",
              "    </tr>\n",
              "    <tr>\n",
              "      <th>4</th>\n",
              "      <td>0.005383</td>\n",
              "      <td>-0.044642</td>\n",
              "      <td>-0.036385</td>\n",
              "      <td>0.021872</td>\n",
              "      <td>0.003935</td>\n",
              "      <td>0.015596</td>\n",
              "      <td>0.008142</td>\n",
              "      <td>-0.002592</td>\n",
              "      <td>-0.031988</td>\n",
              "      <td>-0.046641</td>\n",
              "    </tr>\n",
              "    <tr>\n",
              "      <th>...</th>\n",
              "      <td>...</td>\n",
              "      <td>...</td>\n",
              "      <td>...</td>\n",
              "      <td>...</td>\n",
              "      <td>...</td>\n",
              "      <td>...</td>\n",
              "      <td>...</td>\n",
              "      <td>...</td>\n",
              "      <td>...</td>\n",
              "      <td>...</td>\n",
              "    </tr>\n",
              "    <tr>\n",
              "      <th>437</th>\n",
              "      <td>0.041708</td>\n",
              "      <td>0.050680</td>\n",
              "      <td>0.019662</td>\n",
              "      <td>0.059744</td>\n",
              "      <td>-0.005697</td>\n",
              "      <td>-0.002566</td>\n",
              "      <td>-0.028674</td>\n",
              "      <td>-0.002592</td>\n",
              "      <td>0.031193</td>\n",
              "      <td>0.007207</td>\n",
              "    </tr>\n",
              "    <tr>\n",
              "      <th>438</th>\n",
              "      <td>-0.005515</td>\n",
              "      <td>0.050680</td>\n",
              "      <td>-0.015906</td>\n",
              "      <td>-0.067642</td>\n",
              "      <td>0.049341</td>\n",
              "      <td>0.079165</td>\n",
              "      <td>-0.028674</td>\n",
              "      <td>0.034309</td>\n",
              "      <td>-0.018114</td>\n",
              "      <td>0.044485</td>\n",
              "    </tr>\n",
              "    <tr>\n",
              "      <th>439</th>\n",
              "      <td>0.041708</td>\n",
              "      <td>0.050680</td>\n",
              "      <td>-0.015906</td>\n",
              "      <td>0.017293</td>\n",
              "      <td>-0.037344</td>\n",
              "      <td>-0.013840</td>\n",
              "      <td>-0.024993</td>\n",
              "      <td>-0.011080</td>\n",
              "      <td>-0.046883</td>\n",
              "      <td>0.015491</td>\n",
              "    </tr>\n",
              "    <tr>\n",
              "      <th>440</th>\n",
              "      <td>-0.045472</td>\n",
              "      <td>-0.044642</td>\n",
              "      <td>0.039062</td>\n",
              "      <td>0.001215</td>\n",
              "      <td>0.016318</td>\n",
              "      <td>0.015283</td>\n",
              "      <td>-0.028674</td>\n",
              "      <td>0.026560</td>\n",
              "      <td>0.044529</td>\n",
              "      <td>-0.025930</td>\n",
              "    </tr>\n",
              "    <tr>\n",
              "      <th>441</th>\n",
              "      <td>-0.045472</td>\n",
              "      <td>-0.044642</td>\n",
              "      <td>-0.073030</td>\n",
              "      <td>-0.081413</td>\n",
              "      <td>0.083740</td>\n",
              "      <td>0.027809</td>\n",
              "      <td>0.173816</td>\n",
              "      <td>-0.039493</td>\n",
              "      <td>-0.004222</td>\n",
              "      <td>0.003064</td>\n",
              "    </tr>\n",
              "  </tbody>\n",
              "</table>\n",
              "<p>442 rows × 10 columns</p>\n",
              "</div>\n",
              "    <div class=\"colab-df-buttons\">\n",
              "\n",
              "  <div class=\"colab-df-container\">\n",
              "    <button class=\"colab-df-convert\" onclick=\"convertToInteractive('df-e30a999b-97ee-48ad-9a45-d8a86eb801e6')\"\n",
              "            title=\"Convert this dataframe to an interactive table.\"\n",
              "            style=\"display:none;\">\n",
              "\n",
              "  <svg xmlns=\"http://www.w3.org/2000/svg\" height=\"24px\" viewBox=\"0 -960 960 960\">\n",
              "    <path d=\"M120-120v-720h720v720H120Zm60-500h600v-160H180v160Zm220 220h160v-160H400v160Zm0 220h160v-160H400v160ZM180-400h160v-160H180v160Zm440 0h160v-160H620v160ZM180-180h160v-160H180v160Zm440 0h160v-160H620v160Z\"/>\n",
              "  </svg>\n",
              "    </button>\n",
              "\n",
              "  <style>\n",
              "    .colab-df-container {\n",
              "      display:flex;\n",
              "      gap: 12px;\n",
              "    }\n",
              "\n",
              "    .colab-df-convert {\n",
              "      background-color: #E8F0FE;\n",
              "      border: none;\n",
              "      border-radius: 50%;\n",
              "      cursor: pointer;\n",
              "      display: none;\n",
              "      fill: #1967D2;\n",
              "      height: 32px;\n",
              "      padding: 0 0 0 0;\n",
              "      width: 32px;\n",
              "    }\n",
              "\n",
              "    .colab-df-convert:hover {\n",
              "      background-color: #E2EBFA;\n",
              "      box-shadow: 0px 1px 2px rgba(60, 64, 67, 0.3), 0px 1px 3px 1px rgba(60, 64, 67, 0.15);\n",
              "      fill: #174EA6;\n",
              "    }\n",
              "\n",
              "    .colab-df-buttons div {\n",
              "      margin-bottom: 4px;\n",
              "    }\n",
              "\n",
              "    [theme=dark] .colab-df-convert {\n",
              "      background-color: #3B4455;\n",
              "      fill: #D2E3FC;\n",
              "    }\n",
              "\n",
              "    [theme=dark] .colab-df-convert:hover {\n",
              "      background-color: #434B5C;\n",
              "      box-shadow: 0px 1px 3px 1px rgba(0, 0, 0, 0.15);\n",
              "      filter: drop-shadow(0px 1px 2px rgba(0, 0, 0, 0.3));\n",
              "      fill: #FFFFFF;\n",
              "    }\n",
              "  </style>\n",
              "\n",
              "    <script>\n",
              "      const buttonEl =\n",
              "        document.querySelector('#df-e30a999b-97ee-48ad-9a45-d8a86eb801e6 button.colab-df-convert');\n",
              "      buttonEl.style.display =\n",
              "        google.colab.kernel.accessAllowed ? 'block' : 'none';\n",
              "\n",
              "      async function convertToInteractive(key) {\n",
              "        const element = document.querySelector('#df-e30a999b-97ee-48ad-9a45-d8a86eb801e6');\n",
              "        const dataTable =\n",
              "          await google.colab.kernel.invokeFunction('convertToInteractive',\n",
              "                                                    [key], {});\n",
              "        if (!dataTable) return;\n",
              "\n",
              "        const docLinkHtml = 'Like what you see? Visit the ' +\n",
              "          '<a target=\"_blank\" href=https://colab.research.google.com/notebooks/data_table.ipynb>data table notebook</a>'\n",
              "          + ' to learn more about interactive tables.';\n",
              "        element.innerHTML = '';\n",
              "        dataTable['output_type'] = 'display_data';\n",
              "        await google.colab.output.renderOutput(dataTable, element);\n",
              "        const docLink = document.createElement('div');\n",
              "        docLink.innerHTML = docLinkHtml;\n",
              "        element.appendChild(docLink);\n",
              "      }\n",
              "    </script>\n",
              "  </div>\n",
              "\n",
              "\n",
              "<div id=\"df-2a6906c9-4026-4899-a8de-b9daddf904fe\">\n",
              "  <button class=\"colab-df-quickchart\" onclick=\"quickchart('df-2a6906c9-4026-4899-a8de-b9daddf904fe')\"\n",
              "            title=\"Suggest charts.\"\n",
              "            style=\"display:none;\">\n",
              "\n",
              "<svg xmlns=\"http://www.w3.org/2000/svg\" height=\"24px\"viewBox=\"0 0 24 24\"\n",
              "     width=\"24px\">\n",
              "    <g>\n",
              "        <path d=\"M19 3H5c-1.1 0-2 .9-2 2v14c0 1.1.9 2 2 2h14c1.1 0 2-.9 2-2V5c0-1.1-.9-2-2-2zM9 17H7v-7h2v7zm4 0h-2V7h2v10zm4 0h-2v-4h2v4z\"/>\n",
              "    </g>\n",
              "</svg>\n",
              "  </button>\n",
              "\n",
              "<style>\n",
              "  .colab-df-quickchart {\n",
              "    background-color: #E8F0FE;\n",
              "    border: none;\n",
              "    border-radius: 50%;\n",
              "    cursor: pointer;\n",
              "    display: none;\n",
              "    fill: #1967D2;\n",
              "    height: 32px;\n",
              "    padding: 0 0 0 0;\n",
              "    width: 32px;\n",
              "  }\n",
              "\n",
              "  .colab-df-quickchart:hover {\n",
              "    background-color: #E2EBFA;\n",
              "    box-shadow: 0px 1px 2px rgba(60, 64, 67, 0.3), 0px 1px 3px 1px rgba(60, 64, 67, 0.15);\n",
              "    fill: #174EA6;\n",
              "  }\n",
              "\n",
              "  [theme=dark] .colab-df-quickchart {\n",
              "    background-color: #3B4455;\n",
              "    fill: #D2E3FC;\n",
              "  }\n",
              "\n",
              "  [theme=dark] .colab-df-quickchart:hover {\n",
              "    background-color: #434B5C;\n",
              "    box-shadow: 0px 1px 3px 1px rgba(0, 0, 0, 0.15);\n",
              "    filter: drop-shadow(0px 1px 2px rgba(0, 0, 0, 0.3));\n",
              "    fill: #FFFFFF;\n",
              "  }\n",
              "</style>\n",
              "\n",
              "  <script>\n",
              "    async function quickchart(key) {\n",
              "      const charts = await google.colab.kernel.invokeFunction(\n",
              "          'suggestCharts', [key], {});\n",
              "    }\n",
              "    (() => {\n",
              "      let quickchartButtonEl =\n",
              "        document.querySelector('#df-2a6906c9-4026-4899-a8de-b9daddf904fe button');\n",
              "      quickchartButtonEl.style.display =\n",
              "        google.colab.kernel.accessAllowed ? 'block' : 'none';\n",
              "    })();\n",
              "  </script>\n",
              "</div>\n",
              "    </div>\n",
              "  </div>\n"
            ]
          },
          "metadata": {},
          "execution_count": 4
        }
      ]
    },
    {
      "cell_type": "markdown",
      "source": [
        "Exploramos la distribución de los valores de la variable objetivo:"
      ],
      "metadata": {
        "id": "QFvUKrRtecTn"
      }
    },
    {
      "cell_type": "code",
      "source": [
        "import pandas as pd\n",
        "import seaborn as sns\n",
        "\n",
        "sns.displot(db['target'][:])\n",
        "plt.show()"
      ],
      "metadata": {
        "colab": {
          "base_uri": "https://localhost:8080/",
          "height": 506
        },
        "id": "ErWowTiiKO4u",
        "outputId": "3df467f3-9a76-4ea1-9288-fa9efa7751ae"
      },
      "execution_count": 5,
      "outputs": [
        {
          "output_type": "display_data",
          "data": {
            "text/plain": [
              "<Figure size 500x500 with 1 Axes>"
            ],
            "image/png": "[encoded data removed]"
          },
          "metadata": {}
        }
      ]
    },
    {
      "cell_type": "markdown",
      "metadata": {
        "id": "Qz6v6Ms3GNXn"
      },
      "source": [
        "Dividimos este conjunto en subconjuntos de entrenamiento, validación y prueba usando la función `train_test_split` de scikit-learn."
      ]
    },
    {
      "cell_type": "code",
      "execution_count": 6,
      "metadata": {
        "id": "EYgRb2HeGS4N"
      },
      "outputs": [],
      "source": [
        "from sklearn.model_selection import train_test_split\n",
        "\n",
        "X_ent, X_prueba, y_ent, y_prueba = train_test_split(db['data'].to_numpy(),\n",
        "                                                    db['target'].to_numpy(),\n",
        "                                                    test_size = 0.3,\n",
        "                                                    shuffle=True,\n",
        "                                                    random_state=42)\n",
        "X_ent, X_val, y_ent, y_val = train_test_split(X_ent,\n",
        "                                              y_ent,\n",
        "                                              test_size = 0.2,\n",
        "                                              shuffle=True,\n",
        "                                              random_state=42)"
      ]
    },
    {
      "cell_type": "markdown",
      "source": [
        "Estandarizamos los valores de los atributos:"
      ],
      "metadata": {
        "id": "oM0jeLfNejyA"
      }
    },
    {
      "cell_type": "code",
      "source": [
        "from sklearn.preprocessing import StandardScaler\n",
        "\n",
        "sc = StandardScaler()\n",
        "sc.fit(X_ent)\n",
        "\n",
        "X_ent = sc.transform(X_ent)\n",
        "X_val = sc.transform(X_val)\n",
        "X_prueba = sc.transform(X_prueba)"
      ],
      "metadata": {
        "id": "K7-JtkUqJxrm"
      },
      "execution_count": 7,
      "outputs": []
    },
    {
      "cell_type": "markdown",
      "metadata": {
        "id": "DSWPoPLMGdT-"
      },
      "source": [
        "Convertimos los subconjuntos de arreglos de NumPy a instancias de `Tensor` de PyTorch y los cargamos al GPU (si está disponible). Para evitar errores de tipos de datos distintos de los operandos, es importante asegurarse de que coincidan. En esta libreta vamos a trabajar con enteros de 32 bits, por lo que lo especificamos en la función `tensor`."
      ]
    },
    {
      "cell_type": "code",
      "execution_count": 8,
      "metadata": {
        "colab": {
          "base_uri": "https://localhost:8080/"
        },
        "id": "TfCW9iajddm6",
        "outputId": "c03d966f-89d7-46e4-a04c-3702e9dc97ec"
      },
      "outputs": [
        {
          "output_type": "stream",
          "name": "stdout",
          "text": [
            "Forma de X_ent = torch.Size([247, 10]), y_ent = torch.Size([247])\n",
            "Forma de X_val = torch.Size([62, 10]), y_val = torch.Size([62])\n",
            "Forma de X_prueba = torch.Size([133, 10]), y_prueba = torch.Size([133])\n"
          ]
        }
      ],
      "source": [
        "disp = 'cuda:0' if th.cuda.is_available() else 'cpu'\n",
        "\n",
        "X_ent = th.tensor(X_ent, dtype = th.float32, device = disp)\n",
        "X_val = th.tensor(X_val, dtype = th.float32, device = disp)\n",
        "X_prueba = th.tensor(X_prueba, dtype = th.float32, device = disp)\n",
        "\n",
        "y_ent = th.tensor(y_ent,  dtype = th.float32, device = disp)\n",
        "y_val = th.tensor(y_val,  dtype = th.float32, device = disp)\n",
        "y_prueba = th.tensor(y_prueba, dtype = th.float32,  device = disp)\n",
        "\n",
        "print(f'Forma de X_ent = {X_ent.shape}, y_ent = {y_ent.shape}')\n",
        "print(f'Forma de X_val = {X_val.shape}, y_val = {y_val.shape}')\n",
        "print(f'Forma de X_prueba = {X_prueba.shape}, y_prueba = {y_prueba.shape}')"
      ]
    },
    {
      "cell_type": "markdown",
      "metadata": {
        "id": "DktEvDycHNBV"
      },
      "source": [
        "También es importante asegurarse de que las formas de los tensores de las predicciones (`y_hat`) y de los salidas reales (`y`) sean iguales. Aquí vamos a presuponer que son vectores columnas de $n \\times 1$, por lo que cambiamos de forma."
      ]
    },
    {
      "cell_type": "code",
      "execution_count": 9,
      "metadata": {
        "colab": {
          "base_uri": "https://localhost:8080/"
        },
        "id": "4j9FUL7oHXug",
        "outputId": "4b792255-79a2-41e0-d472-c8bfb87aa13a"
      },
      "outputs": [
        {
          "output_type": "stream",
          "name": "stdout",
          "text": [
            "Forma de y_ent = torch.Size([247, 1]), y_val = torch.Size([62, 1]) y_prueba = torch.Size([133, 1])\n"
          ]
        }
      ],
      "source": [
        "y_ent = y_ent.reshape((y_ent.shape[0], 1))\n",
        "y_val = y_val.reshape((y_val.shape[0], 1))\n",
        "y_prueba = y_prueba.reshape((y_prueba.shape[0], 1))\n",
        "print(f'Forma de y_ent = {y_ent.shape}, y_val = {y_val.shape} y_prueba = {y_prueba.shape}')"
      ]
    },
    {
      "cell_type": "markdown",
      "metadata": {
        "id": "PM3fHNfDZTkY"
      },
      "source": [
        "Creamos nuestro cargador de datos a partir de los tensores mediante la clase `TensorDataset`."
      ]
    },
    {
      "cell_type": "code",
      "execution_count": 10,
      "metadata": {
        "id": "j_7ZyOwmZs-a"
      },
      "outputs": [],
      "source": [
        "from torch.utils.data import TensorDataset, DataLoader\n",
        "\n",
        "entdl = DataLoader(TensorDataset(X_ent, y_ent),\n",
        "                   batch_size=16,\n",
        "                   shuffle=True,\n",
        "                   drop_last=True)\n",
        "valdl = DataLoader(TensorDataset(X_val, y_val),\n",
        "                   batch_size=16,\n",
        "                   shuffle=False,\n",
        "                   drop_last=False)\n",
        "pruebadl = DataLoader(TensorDataset(X_prueba, y_prueba),\n",
        "                      batch_size=1,\n",
        "                      shuffle=False,\n",
        "                      drop_last=False)"
      ]
    },
    {
      "cell_type": "markdown",
      "metadata": {
        "id": "rcC6w_6m9iYP"
      },
      "source": [
        "## Clase `Module` de `nn`\n",
        "Muchas de las clases y funciones para definir, entrenar y evaluar redes neuronales están contenidas el módulo `nn` de PyTorch. En particular contamos con la clase [`Module`](https://pytorch.org/docs/stable/generated/torch.nn.Module.html), una plantilla base para definir los distintos componentes de una arquitectura de red (ver [https://pytorch.org/docs/stable/notes/modules.htm](https://pytorch.org/docs/stable/notes/modules.html)). De hecho, hay varias subclases predefinidas de `Module` asociadas a diversos tipos de capas. Por ej., la subclase [`Linear`](https://pytorch.org/docs/stable/generated/torch.nn.Linear.html) representa una capa densa o completamente conectada. Esta subclase tiene como argumentos no opcionales la dimension de los vectores de entrada y el número de neuronas (dimensión de los vectores de salida). Una instancia de `Linear` procesa una matriz de tamaño $n \\times \\text{in_features}$, la cual multiplica por la transpuesta de una matriz de pesos de $\\text{out_features} \\times \\text{in_features}$ y le suma un vector de sesgos de tamaño $\\text{out_features}$"
      ]
    },
    {
      "cell_type": "code",
      "execution_count": 11,
      "metadata": {
        "id": "_O-Ot-Pmd8od"
      },
      "outputs": [],
      "source": [
        "clin = nn.Linear(in_features = X_ent.shape[-1], # dimensión de entradas\n",
        "                 out_features = 1, # número de neuronas (dimensión de salidas)\n",
        "                 bias = True) # si usar sesgo o no"
      ]
    },
    {
      "cell_type": "markdown",
      "metadata": {
        "id": "sudVDqZJ9lGQ"
      },
      "source": [
        "Podemos especificar que se cree directamente una instancia de cualquier subclase de `Module` en el CPU o en el GPU pasando el argumento `device=nombre_del_dispositivo` al constructor. También podemos mover una instancia ya creada de un dispositivo a otro con el método `to(nombre_del_dispositivo)`. Movemos la instancia de `Linear` al GPU."
      ]
    },
    {
      "cell_type": "code",
      "execution_count": 12,
      "metadata": {
        "colab": {
          "base_uri": "https://localhost:8080/"
        },
        "id": "_muStgxVg8LZ",
        "outputId": "5b3a4df6-0df6-498b-817b-fbb7436e1871"
      },
      "outputs": [
        {
          "output_type": "execute_result",
          "data": {
            "text/plain": [
              "Linear(in_features=10, out_features=1, bias=True)"
            ]
          },
          "metadata": {},
          "execution_count": 12
        }
      ],
      "source": [
        "clin.to(disp)"
      ]
    },
    {
      "cell_type": "markdown",
      "metadata": {
        "id": "jpSpu0Z49-QD"
      },
      "source": [
        "Obtenemos la salida de la capa para el conjunto de datos de entrenamiento mediante el operador de paréntesis."
      ]
    },
    {
      "cell_type": "code",
      "execution_count": 13,
      "metadata": {
        "colab": {
          "base_uri": "https://localhost:8080/"
        },
        "id": "8lz4EkAy9_ZT",
        "outputId": "541fa48c-0a72-42cb-b4e8-e01cb119f11d"
      },
      "outputs": [
        {
          "output_type": "execute_result",
          "data": {
            "text/plain": [
              "torch.Size([247, 1])"
            ]
          },
          "metadata": {},
          "execution_count": 13
        }
      ],
      "source": [
        "clin(X_ent).shape"
      ]
    },
    {
      "cell_type": "markdown",
      "metadata": {
        "id": "Ir2hbzaD-gdu"
      },
      "source": [
        "Para definir una nueva capa, un nuevo bloque o una red debemos crear una subclase de `Module` y especificar como mínimo los métodos:\n",
        "- `__init__`, que es el constructor de la subclase y en el cual se tiene que llamar al constructor de la clase base `Module` mediante la función `super` de Python.\n",
        "- `forward`, que define lo que se ejecuta al llamar al operador paréntesis en una instancia de dicha clase.\n",
        "\n",
        "Por ej. para crear nuestra propia capa densa en el método `__init__` (constructor) recibiríamos la dimensión de las entradas y el número de neuronas (dimensión de las salidas) e instanciaríamos la matriz de pesos $\\mathbf{W} \\in \\mathbb{R}^{d \\times k}$ y el vector de sesgos $\\mathbf{b} \\in \\mathbb{R}^k$. En el método `forward` se esperaría una matriz de $\\mathbf{X} \\in \\mathbb{R}^{n \\times d}$ como entrada y se realizaría la operación $\\mathbf{X} \\cdot \\mathbf{W}^\\top + \\mathbf{b}$."
      ]
    },
    {
      "cell_type": "code",
      "execution_count": 14,
      "metadata": {
        "id": "Zqa_amNEitES"
      },
      "outputs": [],
      "source": [
        "class MiLinear(nn.Module):\n",
        "  # En el constructor recibimos la dimensión de las entradas y la de las salidas\n",
        "  # e instanciamos la matriz de pesos W y el vector de sesgos b inicializándolos\n",
        "  # con números aleatorios y ceros, respectivamente.\n",
        "  def __init__(self, d_ent, d_sal):\n",
        "    super(MiLinear, self).__init__()\n",
        "    self.d_ent = d_ent\n",
        "    self.d_sal = d_sal\n",
        "    self.W = nn.Parameter(th.normal(size = (d_sal, d_ent), mean = 0, std = 0.1))\n",
        "    self.b = nn.Parameter(th.zeros(d_sal, dtype = th.float32))\n",
        "\n",
        "  # En este método se define el comportamiento del operador paréntesis. Al ser\n",
        "  # una capa densa, se espera recibir una matriz x de n x d_ent y se realizaría\n",
        "  # la operación de multiplicación de esta con la transpuesta de la matriz de\n",
        "  # pesos de d_sal x d_ent y se sumaría el vector de sesgos de d_sal elementos\n",
        "  def forward(self, x):\n",
        "    return x @ self.W.T + self.b"
      ]
    },
    {
      "cell_type": "markdown",
      "metadata": {
        "id": "xmFc8ZNv-kRO"
      },
      "source": [
        "Instanciamos la subclase de nuestra capa densa, la movemos a la GPU y pasamos el conjunto de entrenamiento."
      ]
    },
    {
      "cell_type": "code",
      "execution_count": 15,
      "metadata": {
        "colab": {
          "base_uri": "https://localhost:8080/"
        },
        "id": "JN8q8w01i5w6",
        "outputId": "ece86bfa-9984-4be8-e63a-bc29caaee255"
      },
      "outputs": [
        {
          "output_type": "stream",
          "name": "stdout",
          "text": [
            "Instancia de MiLinear() con forma = torch.Size([247, 1])\n"
          ]
        }
      ],
      "source": [
        "milin = MiLinear(X_ent.shape[-1], 1)\n",
        "milin.to(disp)\n",
        "\n",
        "print(f'Instancia de {milin} con forma = {milin(X_ent).shape}')"
      ]
    },
    {
      "cell_type": "markdown",
      "metadata": {
        "id": "A-5ufc-4GqDB"
      },
      "source": [
        "## Clases y funciones para optimizadores\n",
        "Para facilitar el entrenamiento de los modelos vamos a definir una función para un paso de entrenamiento, a la cual llamaremos `paso_ent`. Esta función recibe como argumento:\n",
        "- El modelo como una instancia de `Module` (`modelo`).\n",
        "- La función de pérdida (`fp`).\n",
        "- Una instancia de `Optimizer` del módulo `optim` de PyTorch para actualizar los pesos y sesgos (`opt`).\n",
        "- Una instancia de `Tensor` con el lote de entradas (`X`).\n",
        "- Una instancia de `Tensor` con el lote de salidas (`y`).\n",
        "\n",
        "La función obtiene las predicciones del modelo para las entradas, calcula la pérdida, obtiene los gradientes y actualiza todos los parámetros del modelo mediante descenso por gradiente."
      ]
    },
    {
      "cell_type": "code",
      "execution_count": 16,
      "metadata": {
        "id": "KqkJHbzOq1hQ"
      },
      "outputs": [],
      "source": [
        "from torch.optim import SGD\n",
        "\n",
        "def paso_ent(modelo, fp, opt, X, y):\n",
        "  opt.zero_grad() # se ponen los gradientes asociados a los parámetros\n",
        "                  # a actualizaren en cero\n",
        "  y_hat = modelo(X) # se propagan las entradas para obtener las predicciones\n",
        "  perdida = fp(y_hat, y) # se calcula la pérdida\n",
        "  perdida.backward() # se obtienen los gradientes\n",
        "  opt.step() # se actualizan todos los parámetros del modelo\n",
        "\n",
        "  with th.no_grad():\n",
        "    perdida_paso = perdida.cpu().numpy() # convertimos la pérdida (instancia de\n",
        "                                         # Tensor de orden 0) a NumPy, para\n",
        "                                         # lo que es necesario moverla a CPU\n",
        "  return perdida_paso"
      ]
    },
    {
      "cell_type": "markdown",
      "metadata": {
        "id": "Xi1zEp9yBzZa"
      },
      "source": [
        "También definimos una función para el ciclo de entrenamiento principal, que llamaremos `entrena`. Esta función recibe como argumentos:\n",
        "- El modelo como una instancia de `Module` (`modelo`).\n",
        "- La función de pérdida (`fp`).\n",
        "- La métrica de evaluación (`metrica`).\n",
        "- Una instancia de `Optimizer` del módulo `optim` de PyTorch para actualizar los pesos y sesgos (`opt`).\n",
        "- El cargador de datos del subconjunto de entrenamiento (`entdl`).\n",
        "- El cargador de datos del subconjunto de validación (`valdl`).\n",
        "- El número de épocas de entrenamiento (`n_epocas`).\n",
        "\n",
        "Para cada una de las épocas, va tomando un lote de entradas y salidas a la vez, con los cuales se realiza un paso de entrenamiento."
      ]
    },
    {
      "cell_type": "code",
      "execution_count": 17,
      "metadata": {
        "id": "okd23kq9TPko"
      },
      "outputs": [],
      "source": [
        "def entrena(modelo, fp, metrica, opt, entdl, valdl, n_epocas = 100):\n",
        "  hist = {'perdida_ent': np.zeros(n_epocas, dtype = np.float32),\n",
        "          'perdida_val': np.zeros(n_epocas, dtype = np.float32)}\n",
        "  for e in range(n_epocas):\n",
        "    # bucle de entrenamiento\n",
        "    modelo.train()\n",
        "    for lote, (Xlote, ylote) in enumerate(entdl):\n",
        "      hist['perdida_ent'][e] += paso_ent(modelo, fp, opt, Xlote, ylote)\n",
        "\n",
        "    # bucle de evaluación\n",
        "    modelo.eval()\n",
        "    for (Xlote, ylote) in valdl:\n",
        "      with th.no_grad():\n",
        "        y_pred = modelo(Xlote)\n",
        "        hist['perdida_val'][e] += metrica(y_pred, ylote).cpu().numpy()\n",
        "\n",
        "  return hist"
      ]
    },
    {
      "cell_type": "markdown",
      "metadata": {
        "id": "u1KpLOmRVRj1"
      },
      "source": [
        "Como función de pérdida emplearemos el error cuadrático medio (ECM) definido como\n",
        "\n",
        "$$\n",
        "\\mathcal{L}(\\mathbf{\\hat{y}}, \\mathbf{y}) = \\frac{1}{n}\\sum_{i=1}^n (\\hat{y}^{(i)} - y^{(i)})^2\n",
        "$$\n",
        "\n",
        "PyTorch incluye varias funciones de pérdida predefinidas dentro del submódulo `functional` del módulo `nn`, además de clases que envuelven estas funciones, cuyas instancias se conocen como criterios. Por ej. la función `mean_squared_error` de `functional` define el ECM y la clase `MSELoss` de `nn` es su correspondiente criterio. la cual define la función de pérdida de error cuadrático medio definida como criterios. Movemos la instancia de nuestra capa densa al GPU, creamos el criterio de ECM instanciando la clase `MSELoss`, entrenamos nuestro modelo de regresión lineal y graficamos la pérdida."
      ]
    },
    {
      "cell_type": "code",
      "execution_count": 18,
      "metadata": {
        "colab": {
          "base_uri": "https://localhost:8080/",
          "height": 451
        },
        "id": "y-y65gjZvZh9",
        "outputId": "4e90210e-2a0a-4b4f-a140-8b33a8169e3c"
      },
      "outputs": [
        {
          "output_type": "display_data",
          "data": {
            "text/plain": [
              "<Figure size 640x480 with 1 Axes>"
            ],
            "image/png": "[encoded data removed]"
          },
          "metadata": {}
        }
      ],
      "source": [
        "milin = nn.Linear(X_ent.shape[-1], 1)\n",
        "milin.to(disp)\n",
        "\n",
        "ecm = nn.MSELoss()\n",
        "opt = SGD(milin.parameters(), lr = 1e-3)\n",
        "hist = entrena(milin, ecm, nn.functional.mse_loss, opt, entdl, valdl, n_epocas=200)\n",
        "\n",
        "plt.plot(hist['perdida_ent'] / len(entdl), label='Entrenamiento')\n",
        "plt.plot(hist['perdida_val'] / len(valdl), label='Validación')\n",
        "plt.xlabel('Época')\n",
        "plt.ylabel('Pérdida')\n",
        "plt.legend()\n",
        "plt.show()"
      ]
    },
    {
      "cell_type": "markdown",
      "metadata": {
        "id": "mFFgHcBTV8SV"
      },
      "source": [
        "Usando la clase base `Optimizer` se pueden definir diferentes algoritmos de optimización para entrenar modelos con la misma interfaz general. Esto ofrece la flexibilidad de cambiar entre algoritmos simplemente instanciando la clase del optimizador de interés y pasándolo como argumento. Incluso es posible definir un algoritmo propio generando una subclase de `Optimizer` y especificando los métodos:\n",
        "- `__init__`: El constructor de la clase, el cual recibe como argumento los parámetros a optimizar (`params`) como iterable. En este método se llama al constructor de la súperclase mediante la función `super`.\n",
        "- `step`: Especifica la regla con la que se actualizan los parámetros pasados como argumento al constructor usando los gradientes obtenidos al llamar `.backward` (almacenados en el elemento `grad` de la instancia de `Parameter`). Este método no recibe argumentos."
      ]
    },
    {
      "cell_type": "code",
      "execution_count": 19,
      "metadata": {
        "id": "PQ2emh4kxbJN"
      },
      "outputs": [],
      "source": [
        "class MiSGD(th.optim.Optimizer):\n",
        "  def __init__(self, params, lr=1e-3):\n",
        "    super(MiSGD, self).__init__(params, defaults = {'lr':lr})\n",
        "\n",
        "  def step(self):\n",
        "    for g in self.param_groups:\n",
        "      for p in g['params']:\n",
        "        p.data.subtract_(self.defaults['lr'] * p.grad)"
      ]
    },
    {
      "cell_type": "markdown",
      "metadata": {
        "id": "PqBNWYydY0Fb"
      },
      "source": [
        "Instanciamos y entrenamos un modelo de regresión lineal con este optimizador y graficamos la pérdida."
      ]
    },
    {
      "cell_type": "code",
      "execution_count": 20,
      "metadata": {
        "colab": {
          "base_uri": "https://localhost:8080/",
          "height": 457
        },
        "id": "y-wvFDjAys4W",
        "outputId": "3c09e12d-1590-4485-f0ab-5e533abb796f"
      },
      "outputs": [
        {
          "output_type": "display_data",
          "data": {
            "text/plain": [
              "<Figure size 640x480 with 1 Axes>"
            ],
            "image/png": "[encoded data removed]"
          },
          "metadata": {}
        }
      ],
      "source": [
        "milin = MiLinear(X_ent.shape[-1], 1)\n",
        "milin.to(disp)\n",
        "ecm = nn.MSELoss()\n",
        "opt = MiSGD(milin.parameters(), lr = 1e-3)\n",
        "hist = entrena(milin, ecm, nn.functional.mse_loss, opt, entdl, valdl, n_epocas=200)\n",
        "\n",
        "plt.plot(hist['perdida_ent'] / len(entdl), label='Entrenamiento')\n",
        "plt.plot(hist['perdida_val'] / len(valdl), label='Validación')\n",
        "plt.xlabel('Época')\n",
        "plt.ylabel('Pérdida')\n",
        "plt.legend()\n",
        "plt.show()"
      ]
    },
    {
      "cell_type": "markdown",
      "metadata": {
        "id": "8NXgKsAPcFz_"
      },
      "source": [
        "## Contenedor `Sequential`\n",
        "`Sequential` es un contenedor que permite generar una subclase de `Module` a través de una lista o tupla de capas predefinidas que se conectan de manera secuencial (la salida de una capa es la entrada de la siguiente). Por ej. para definir una red densa o completamente conectada con dos capas ocultas y una de salida:"
      ]
    },
    {
      "cell_type": "code",
      "execution_count": 21,
      "metadata": {
        "id": "DNXwcgzHyxB6"
      },
      "outputs": [],
      "source": [
        "modelo = nn.Sequential(nn.Linear(X_ent.shape[-1], 10),\n",
        "                       nn.Sigmoid(),\n",
        "                       nn.Linear(10,20),\n",
        "                       nn.Sigmoid(),\n",
        "                       nn.Linear(20, 1))"
      ]
    },
    {
      "cell_type": "markdown",
      "metadata": {
        "id": "qtRGHWH7EN9K"
      },
      "source": [
        "Movemos nuestra red a la GPU, creamos el criterio de ECM, instanciamos el optimizador, entrenamos y graficamos la pérdida."
      ]
    },
    {
      "cell_type": "code",
      "execution_count": 22,
      "metadata": {
        "colab": {
          "base_uri": "https://localhost:8080/",
          "height": 453
        },
        "id": "09ib5_p4ET6y",
        "outputId": "b3cfc25b-c796-4c8c-db1e-6f828841b183"
      },
      "outputs": [
        {
          "output_type": "display_data",
          "data": {
            "text/plain": [
              "<Figure size 640x480 with 1 Axes>"
            ],
            "image/png": "[encoded data removed]"
          },
          "metadata": {}
        }
      ],
      "source": [
        "modelo.to(disp)\n",
        "ecm = nn.MSELoss()\n",
        "opt = SGD(modelo.parameters(), lr = 1e-3)\n",
        "hist = entrena(modelo, ecm, nn.functional.mse_loss, opt,\n",
        "               entdl, valdl, n_epocas=200)\n",
        "\n",
        "plt.plot(hist['perdida_ent'] / len(entdl), label='Entrenamiento')\n",
        "plt.plot(hist['perdida_val'] / len(valdl), label='Validación')\n",
        "plt.xlabel('Época')\n",
        "plt.ylabel('Pérdida')\n",
        "plt.legend()\n",
        "plt.show()"
      ]
    },
    {
      "cell_type": "markdown",
      "metadata": {
        "id": "HF3hhHeEEih7"
      },
      "source": [
        "Esta misma red podemos especificarla definiendo una subclase de `Module` como:"
      ]
    },
    {
      "cell_type": "code",
      "execution_count": 23,
      "metadata": {
        "id": "6kkTfSlP0b4v"
      },
      "outputs": [],
      "source": [
        "class MiMLP(nn.Module):\n",
        "  def __init__(self, d_ent):\n",
        "    super(MiMLP, self).__init__()\n",
        "    self.c1 = nn.Linear(d_ent, 10)\n",
        "    self.c2 = nn.Linear(10, 20)\n",
        "    self.salida = nn.Linear(20, 1)\n",
        "\n",
        "  def forward(self, x):\n",
        "    x = nn.functional.sigmoid(self.c1(x))\n",
        "    x = nn.functional.sigmoid(self.c2(x))\n",
        "    return self.salida(x)"
      ]
    },
    {
      "cell_type": "markdown",
      "metadata": {
        "id": "3MKZX6QsE8kC"
      },
      "source": [
        "Instanciamos esta subclase, la movemos a la GPU, creamos el criterio de ECM, instanciamos el optimizador, entrenamos la red y graficamos la pérdida."
      ]
    },
    {
      "cell_type": "code",
      "execution_count": 24,
      "metadata": {
        "colab": {
          "base_uri": "https://localhost:8080/",
          "height": 451
        },
        "id": "CPjkpjNj1pjg",
        "outputId": "1a8be7fe-7bcf-4c59-bca8-8979ac0b9396"
      },
      "outputs": [
        {
          "output_type": "display_data",
          "data": {
            "text/plain": [
              "<Figure size 640x480 with 1 Axes>"
            ],
            "image/png": "[encoded data removed]"
          },
          "metadata": {}
        }
      ],
      "source": [
        "modelo = MiMLP(X_ent.shape[-1])\n",
        "modelo.to(disp)\n",
        "\n",
        "ecm = nn.MSELoss()\n",
        "opt = SGD(modelo.parameters(), lr = 1e-3)\n",
        "hist = entrena(modelo, ecm, nn.functional.mse_loss, opt,\n",
        "               entdl, valdl, n_epocas=200)\n",
        "\n",
        "plt.plot(hist['perdida_ent'] / len(entdl), label='Entrenamiento')\n",
        "plt.plot(hist['perdida_val'] / len(valdl), label='Validación')\n",
        "plt.xlabel('Época')\n",
        "plt.ylabel('Pérdida')\n",
        "plt.legend()\n",
        "plt.show()"
      ]
    },
    {
      "cell_type": "markdown",
      "metadata": {
        "id": "F5EgOFwCFF6y"
      },
      "source": [
        "Es posible trabajar con listas de instancias de `Module` en la definición de una subclase de `Module`. Sin embargo, es necesario hacerlo mediante la clase `ModuleList` para que puedan ser visibles para las demás instancias, funciones y herramientas de PyTorch. A diferencia de `Sequential`, no se presupone que las capas de una lista de `ModuleList` están conectadas secuencialmente. En cambio, esto se define dentro del método `__forward__`, como para cualquier otra capa. La red anterior se podría definir con `ModuleList` como:"
      ]
    },
    {
      "cell_type": "code",
      "execution_count": 25,
      "metadata": {
        "id": "Zcz56jw81ucH"
      },
      "outputs": [],
      "source": [
        "class MLPModList(nn.Module):\n",
        "  def __init__(self, d_ent):\n",
        "    super(MLPModList, self).__init__()\n",
        "    self.cod = nn.ModuleList([nn.Linear(d_ent, 10), nn.Linear(10, 20)])\n",
        "    self.salida = nn.Linear(20, 1)\n",
        "\n",
        "  def forward(self, x):\n",
        "    for c in self.cod:\n",
        "      x = nn.functional.sigmoid(c(x))\n",
        "    return self.salida(x)"
      ]
    },
    {
      "cell_type": "markdown",
      "metadata": {
        "id": "OeZWXg0CEkTM"
      },
      "source": [
        "Instanciamos esta subclase, la movemos a la GPU, creamos el criterio de ECM, instanciamos el optimizador, entrenamos la red y graficamos la pérdida."
      ]
    },
    {
      "cell_type": "code",
      "execution_count": 26,
      "metadata": {
        "id": "rFzVd3lm3Z-s",
        "colab": {
          "base_uri": "https://localhost:8080/",
          "height": 451
        },
        "outputId": "22eaa3d2-448a-400e-8e89-c0ba7a12c37e"
      },
      "outputs": [
        {
          "output_type": "display_data",
          "data": {
            "text/plain": [
              "<Figure size 640x480 with 1 Axes>"
            ],
            "image/png": "[encoded data removed]"
          },
          "metadata": {}
        }
      ],
      "source": [
        "from torch.optim import AdamW\n",
        "\n",
        "modelo = MLPModList(X_ent.shape[-1])\n",
        "modelo.to(disp)\n",
        "\n",
        "ecm = nn.MSELoss()\n",
        "opt = AdamW(modelo.parameters(), lr = 1e-2)\n",
        "hist = entrena(modelo, ecm, nn.functional.mse_loss, opt,\n",
        "               entdl, valdl, n_epocas=200)\n",
        "\n",
        "plt.plot(hist['perdida_ent'] / len(entdl), label='Entrenamiento')\n",
        "plt.plot(hist['perdida_val'] / len(valdl), label='Validación')\n",
        "plt.xlabel('Época')\n",
        "plt.ylabel('Pérdida')\n",
        "plt.legend()\n",
        "plt.show()"
      ]
    }
  ],
  "metadata": {
    "accelerator": "GPU",
    "colab": {
      "provenance": [],
      "include_colab_link": true
    },
    "kernelspec": {
      "display_name": "Python 3",
      "name": "python3"
    },
    "language_info": {
      "name": "python"
    }
  },
  "nbformat": 4,
  "nbformat_minor": 0
}