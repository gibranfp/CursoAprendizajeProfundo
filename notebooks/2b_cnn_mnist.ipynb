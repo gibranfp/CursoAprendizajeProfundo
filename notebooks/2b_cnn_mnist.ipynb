{
 "cells": [
  {
   "cell_type": "markdown",
   "metadata": {
    "colab_type": "text",
    "id": "view-in-github"
   },
   "source": [
    "[![Colab](https://colab.research.google.com/assets/colab-badge.svg)](https://colab.research.google.com/github/gibranfp/CursoAprendizajeProfundo/blob/2023-1/notebooks/2b_cnn_mnist.ipynb)\n",
    "[![Kaggle](https://kaggle.com/static/images/open-in-kaggle.svg)](https://www.kaggle.com/notebooks/welcome?src=https://github.com/gibranfp/CursoAprendizajeProfundo/blob/2023-1/notebooks/2b_cnn_mnist.ipynb)\n",
    "[![Gradient](https://assets.paperspace.io/img/gradient-badge.svg)](https://console.paperspace.com/github/gibranfp/CursoAprendizajeProfundo/blob/2023-1/notebooks/2b_cnn_mnist.ipynb)\n",
    "[![SageMaker](https://studiolab.sagemaker.aws/studiolab.svg)](https://studiolab.sagemaker.aws/import/github/gibranfp/CursoAprendizajeProfundo/blob/2023-1/notebooks/2b_cnn_mnist.ipynb)"
   ]
  },
  {
   "cell_type": "markdown",
   "metadata": {},
   "source": [
    "# Red convolucional: MNIST\n",
    "\n",
    "\n",
    "<div style=\"text-align: right\"> Bere et Richardt </div>\n",
    "\n",
    "---\n",
    "\n",
    "En esta libreta veremos un ejemplo de clasificación multiclase de imágenes de dígitos utilizando una red convolucional en PyTorch.\n",
    "\n",
    "Emplearemos un conjunto referencia llamado [MNIST](http://yann.lecun.com/exdb/mnist/) recolectado por [Yann LeCun](http://yann.lecun.com). Está compuesto de imágenes en escala de grises de 28 × 28 píxeles que contienen dígitos entre 0 y 9 escritos a mano. El conjunto cuenta con 60,000 imágenes de entrenamiento y 10,000 de prueba.\n",
    "\n",
    "\n",
    "<img src=\"https://upload.wikimedia.org/wikipedia/commons/2/27/MnistExamples.png\" width=\"600\"/>\n",
    "Conjunto MNIST. Imagen tomada de Wikipedia."
   ]
  },
  {
   "cell_type": "markdown",
   "metadata": {},
   "source": [
    "## 1 Preparación"
   ]
  },
  {
   "cell_type": "code",
   "execution_count": 1,
   "metadata": {},
   "outputs": [
    {
     "name": "stdout",
     "output_type": "stream",
     "text": [
      "Requirement already satisfied: torch-summary in /home/bere/.miniconda3/envs/cap/lib/python3.10/site-packages (1.4.5)\r\n"
     ]
    }
   ],
   "source": [
    "# Colab\n",
    "!pip install torch-summary"
   ]
  },
  {
   "cell_type": "markdown",
   "metadata": {},
   "source": [
    "### 1.1 Bibliotecas"
   ]
  },
  {
   "cell_type": "code",
   "execution_count": 2,
   "metadata": {
    "colab": {},
    "colab_type": "code",
    "id": "Ny0L2LzogTN-"
   },
   "outputs": [
    {
     "data": {
      "text/plain": [
       "<torch._C.Generator at 0x7fb73c713070>"
      ]
     },
     "execution_count": 2,
     "metadata": {},
     "output_type": "execute_result"
    }
   ],
   "source": [
    "# funciones aleatorias\n",
    "import random\n",
    "# tomar n elementos de una secuencia\n",
    "from itertools import islice as take\n",
    "\n",
    "# gráficas\n",
    "import matplotlib.pyplot as plt\n",
    "# arreglos multidimensionales\n",
    "import numpy as np\n",
    "# redes neuronales\n",
    "import torch\n",
    "import torch.nn as nn\n",
    "import torch.nn.functional as F\n",
    "import torch.optim as optim\n",
    "# imágenes\n",
    "from skimage import io\n",
    "# redes neuronales\n",
    "from torch.utils.data import DataLoader\n",
    "from torchvision import transforms\n",
    "from torchvision.datasets import MNIST\n",
    "# inspección de arquitectura\n",
    "# https://github.com/TylerYep/torch-summary\n",
    "from torchsummary import summary\n",
    "# barras de progreso\n",
    "from tqdm import tqdm\n",
    "\n",
    "\n",
    "# directorio de datos\n",
    "DATA_DIR = '../data'\n",
    "\n",
    "# MNIST\n",
    "MEAN = 0.1307\n",
    "STD = 0.3081\n",
    "\n",
    "# tamaño del lote\n",
    "BATCH_SIZE = 128\n",
    "\n",
    "# reproducibilidad\n",
    "SEED = 0\n",
    "random.seed(SEED)\n",
    "np.random.seed(SEED)\n",
    "torch.manual_seed(SEED)"
   ]
  },
  {
   "cell_type": "markdown",
   "metadata": {},
   "source": [
    "### 1.2 Auxiliares"
   ]
  },
  {
   "cell_type": "code",
   "execution_count": 3,
   "metadata": {},
   "outputs": [],
   "source": [
    "def display_grid(xs, titles, rows, cols):\n",
    "    fig, ax = plt.subplots(rows, cols)\n",
    "    for r in range(rows):\n",
    "        for c in range(cols):\n",
    "            i = r * rows + c\n",
    "            ax[r, c].imshow(xs[i], cmap='gray')\n",
    "            ax[r, c].set_title(titles[i])\n",
    "            ax[r, c].set_xticklabels([])\n",
    "            ax[r, c].set_yticklabels([])\n",
    "    fig.tight_layout()\n",
    "    plt.show()"
   ]
  },
  {
   "cell_type": "markdown",
   "metadata": {
    "colab_type": "text",
    "id": "MjKxreAkoZeT"
   },
   "source": [
    "## 2 Datos"
   ]
  },
  {
   "cell_type": "markdown",
   "metadata": {},
   "source": [
    "### 2.1 Tuberias de datos con PyTorch\n",
    "\n",
    "<img src=\"https://raw.githubusercontent.com/gibranfp/CursoAprendizajeProfundo/f79e17e7aaf27b8c2cbae98c947a33b347ff0e8a/figs/mnist_tuberia.svg\" width=\"1050\"/>\n",
    "&nbsp;\n",
    "Tuberia de datos para MNIST."
   ]
  },
  {
   "cell_type": "markdown",
   "metadata": {},
   "source": [
    "### 2.2 Exploración"
   ]
  },
  {
   "cell_type": "code",
   "execution_count": 4,
   "metadata": {},
   "outputs": [],
   "source": [
    "# creamos un Dataset\n",
    "ds = MNIST(\n",
    "    # directorio de datos\n",
    "    root=DATA_DIR, \n",
    "    # subconjunto de entrenamiento\n",
    "    train=True, \n",
    "    # convertir la imagen a ndarray\n",
    "    transform=np.array, \n",
    "    # descargar el conjunto\n",
    "    download=True\n",
    ")"
   ]
  },
  {
   "cell_type": "code",
   "execution_count": 5,
   "metadata": {},
   "outputs": [
    {
     "name": "stdout",
     "output_type": "stream",
     "text": [
      "images[0] shape=(28, 28) dtype=uint8\n"
     ]
    },
    {
     "data": {
      "image/png": "[encoded data removed]",
      "text/plain": [
       "<Figure size 640x480 with 12 Axes>"
      ]
     },
     "metadata": {},
     "output_type": "display_data"
    }
   ],
   "source": [
    "# cargamos algunas imágenes\n",
    "images, labels = [], []\n",
    "for i in range(12):\n",
    "    x, y = ds[i]\n",
    "    images.append(x)\n",
    "    labels.append(y)\n",
    "\n",
    "# desplegamos\n",
    "print(f'images[0] shape={images[0].shape} dtype={images[0].dtype}')\n",
    "titles = [str(y) for y in labels]\n",
    "display_grid(images, titles, 3, 4)"
   ]
  },
  {
   "cell_type": "markdown",
   "metadata": {
    "colab_type": "text",
    "id": "9p_BsiITogUA"
   },
   "source": [
    "### 2.3 Cargadores de datos\n"
   ]
  },
  {
   "cell_type": "markdown",
   "metadata": {},
   "source": [
    "#### Entrenamiento"
   ]
  },
  {
   "cell_type": "code",
   "execution_count": 6,
   "metadata": {
    "colab": {
     "base_uri": "https://localhost:8080/",
     "height": 54
    },
    "colab_type": "code",
    "id": "E1aEVpYtuadH",
    "outputId": "8df25761-3201-461a-e82b-26b5befd0302"
   },
   "outputs": [
    {
     "name": "stdout",
     "output_type": "stream",
     "text": [
      "x shape=torch.Size([128, 1, 28, 28]) dtype=torch.float32\n",
      "y shape=torch.Size([128]) dtype=torch.int64\n"
     ]
    }
   ],
   "source": [
    "# transformaciones para la imagen\n",
    "trn_tsfm = transforms.Compose([\n",
    "    # convertimos a torch.Tensor y escalamos a [0,1]\n",
    "    transforms.ToTensor(),\n",
    "    # estandarizamos: restamos la media y dividimos sobre la varianza\n",
    "    transforms.Normalize(MEAN, STD),\n",
    "])\n",
    "\n",
    "# creamos un Dataset\n",
    "trn_ds = MNIST(\n",
    "    # directorio de datos\n",
    "    root=DATA_DIR,\n",
    "    # subconjunto de entrenamiento\n",
    "    train=True,\n",
    "    # transformación\n",
    "    transform=trn_tsfm\n",
    ")\n",
    "\n",
    "# creamos un DataLoader\n",
    "trn_dl = DataLoader(\n",
    "    # conjunto\n",
    "    trn_ds,\n",
    "    # tamaño del lote\n",
    "    batch_size=BATCH_SIZE,\n",
    "    # desordenar\n",
    "    shuffle=True\n",
    ")\n",
    "\n",
    "# desplegamos un lote de imágenes\n",
    "for x, y in take(trn_dl, 1):\n",
    "    print(f'x shape={x.shape} dtype={x.dtype}')\n",
    "    print(f'y shape={y.shape} dtype={y.dtype}')"
   ]
  },
  {
   "cell_type": "markdown",
   "metadata": {},
   "source": [
    "#### Prueba"
   ]
  },
  {
   "cell_type": "code",
   "execution_count": 7,
   "metadata": {
    "colab": {
     "base_uri": "https://localhost:8080/",
     "height": 54
    },
    "colab_type": "code",
    "id": "QXMXXc9DPgqY",
    "outputId": "100e6a58-5552-4c5f-b08e-dc83c23c3b21"
   },
   "outputs": [
    {
     "name": "stdout",
     "output_type": "stream",
     "text": [
      "x shape=torch.Size([128, 1, 28, 28]) dtype=torch.float32\n",
      "y shape=torch.Size([128]) dtype=torch.int64\n"
     ]
    }
   ],
   "source": [
    "# transformaciones para la imagen\n",
    "tst_tsfm = transforms.Compose([\n",
    "    # convertimos a torch.Tensor y escalamos a [0,1]\n",
    "    transforms.ToTensor(),\n",
    "    # estandarizamos: restamos la media y dividimos sobre la varianza\n",
    "    transforms.Normalize(MEAN, STD),\n",
    "])\n",
    "\n",
    "# creamos un Dataset\n",
    "tst_ds = MNIST(\n",
    "    # directorio de datos\n",
    "    root=DATA_DIR, \n",
    "    # subconjunto de entrenamiento\n",
    "    train=False,\n",
    "    # transformación\n",
    "    transform=tst_tsfm\n",
    ")\n",
    "\n",
    "# creamos un DataLoader\n",
    "tst_dl = DataLoader(\n",
    "    # subconjunto\n",
    "    tst_ds,\n",
    "    # tamaño del lote\n",
    "    batch_size=BATCH_SIZE,\n",
    "    # desordenar\n",
    "    shuffle=True\n",
    ")\n",
    "\n",
    "# imprimimos forma y tipo del lote\n",
    "for x, y in take(tst_dl, 1):\n",
    "    print(f'x shape={x.shape} dtype={x.dtype}')\n",
    "    print(f'y shape={y.shape} dtype={y.dtype}')"
   ]
  },
  {
   "cell_type": "markdown",
   "metadata": {},
   "source": [
    "## 3 Modelo\n",
    "\n",
    "<img src=\"https://raw.githubusercontent.com/gibranfp/CursoAprendizajeProfundo/c468e943877056f243cd50e066863b7dd8bf9da5/figs/cnn_mnist1.svg\" width=\"300\"/>\n",
    "\n"
   ]
  },
  {
   "cell_type": "markdown",
   "metadata": {},
   "source": [
    "### 3.1 Definición de la arquitectura"
   ]
  },
  {
   "cell_type": "code",
   "execution_count": 8,
   "metadata": {},
   "outputs": [],
   "source": [
    "# definición del modelo\n",
    "class CNN(nn.Module):\n",
    "    \n",
    "    # inicializador\n",
    "    def __init__(self):\n",
    "        # inicilización del objeto padre, obligatorio\n",
    "        super(CNN, self).__init__()\n",
    "        self.num_feats = 4 * 14 * 14\n",
    "        \n",
    "        # definición de bloques conv\n",
    "        # [N, 1, 28, 28] => [N, 4, 14, 14]\n",
    "        self.cnn = nn.Sequential(\n",
    "            # bloque conv1\n",
    "            # [N, 1, 28, 28] => [N, 4, 28, 28]\n",
    "            nn.Conv2d(in_channels=1, out_channels=4, kernel_size=3, padding=1),\n",
    "            # [N, 4, 28, 28]\n",
    "            nn.ReLU(),\n",
    "            # [N, 4, 28, 28] => [N, 4, 14, 14]\n",
    "            nn.MaxPool2d(kernel_size=2, stride=2),\n",
    "\n",
    "        )       \n",
    "        \n",
    "        # [N, 8, 7, 7] => [N, 4x14x14]\n",
    "        self.flatten = nn.Flatten()\n",
    "\n",
    "        # [N, 4x14x14] => [N, 1]\n",
    "        self.cls = nn.Linear(self.num_feats, 10)\n",
    "    \n",
    "    # metodo para inferencia\n",
    "    def forward(self, x):\n",
    "        # [N, 1, 28, 28] => [N, 4, 14, 14]\n",
    "        x = self.cnn(x)\n",
    "        # [N, 4, 14, 14] => [N, 4x14x14]\n",
    "        x = self.flatten(x)\n",
    "        # [N, 4x14x14] => [N, 10]\n",
    "        x = self.cls(x)\n",
    "        return x"
   ]
  },
  {
   "cell_type": "markdown",
   "metadata": {},
   "source": [
    "### 3.2 Inspección de la arquitectura"
   ]
  },
  {
   "cell_type": "code",
   "execution_count": 9,
   "metadata": {},
   "outputs": [
    {
     "name": "stdout",
     "output_type": "stream",
     "text": [
      "CNN(\n",
      "  (cnn): Sequential(\n",
      "    (0): Conv2d(1, 4, kernel_size=(3, 3), stride=(1, 1), padding=(1, 1))\n",
      "    (1): ReLU()\n",
      "    (2): MaxPool2d(kernel_size=2, stride=2, padding=0, dilation=1, ceil_mode=False)\n",
      "  )\n",
      "  (flatten): Flatten(start_dim=1, end_dim=-1)\n",
      "  (cls): Linear(in_features=784, out_features=10, bias=True)\n",
      ")\n"
     ]
    }
   ],
   "source": [
    "model = CNN()\n",
    "print(model)"
   ]
  },
  {
   "cell_type": "code",
   "execution_count": 10,
   "metadata": {},
   "outputs": [
    {
     "data": {
      "text/plain": [
       "==========================================================================================\n",
       "Layer (type:depth-idx)                   Output Shape              Param #\n",
       "==========================================================================================\n",
       "├─Sequential: 1-1                        [-1, 4, 14, 14]           --\n",
       "|    └─Conv2d: 2-1                       [-1, 4, 28, 28]           40\n",
       "|    └─ReLU: 2-2                         [-1, 4, 28, 28]           --\n",
       "|    └─MaxPool2d: 2-3                    [-1, 4, 14, 14]           --\n",
       "├─Flatten: 1-2                           [-1, 784]                 --\n",
       "├─Linear: 1-3                            [-1, 10]                  7,850\n",
       "==========================================================================================\n",
       "Total params: 7,890\n",
       "Trainable params: 7,890\n",
       "Non-trainable params: 0\n",
       "Total mult-adds (M): 0.04\n",
       "==========================================================================================\n",
       "Input size (MB): 0.00\n",
       "Forward/backward pass size (MB): 0.02\n",
       "Params size (MB): 0.03\n",
       "Estimated Total Size (MB): 0.06\n",
       "=========================================================================================="
      ]
     },
     "execution_count": 10,
     "metadata": {},
     "output_type": "execute_result"
    }
   ],
   "source": [
    "summary(model, (1, 28, 28), device='cpu', verbose=0)"
   ]
  },
  {
   "cell_type": "markdown",
   "metadata": {},
   "source": [
    "### Quiz 1\n",
    "\n",
    "¿ Cómo se obtienen el número de parámetros que se muestra arriba?"
   ]
  },
  {
   "cell_type": "markdown",
   "metadata": {},
   "source": [
    "### 3.3 Prueba de la arquitectura"
   ]
  },
  {
   "cell_type": "code",
   "execution_count": 11,
   "metadata": {},
   "outputs": [
    {
     "name": "stdout",
     "output_type": "stream",
     "text": [
      "torch.Size([1, 10])\n"
     ]
    }
   ],
   "source": [
    "# inferencia con datos sintéticos\n",
    "x = torch.zeros(1, 1, 28, 28)\n",
    "y = model(x)\n",
    "print(y.shape)"
   ]
  },
  {
   "cell_type": "markdown",
   "metadata": {},
   "source": [
    "## 4 Entrenamiento"
   ]
  },
  {
   "cell_type": "markdown",
   "metadata": {},
   "source": [
    "### 4.1 Ciclo de entrenamiento"
   ]
  },
  {
   "cell_type": "code",
   "execution_count": 12,
   "metadata": {
    "colab": {
     "base_uri": "https://localhost:8080/",
     "height": 568
    },
    "colab_type": "code",
    "id": "xCqwGRD1nz1a",
    "outputId": "7dc4823c-865a-41ee-b54b-67117e5d4e95"
   },
   "outputs": [
    {
     "name": "stdout",
     "output_type": "stream",
     "text": [
      "E 0 loss= 85.85 acc=81.09\n",
      "E 1 loss= 50.15 acc=87.89\n",
      "E 2 loss= 43.61 acc=87.73\n",
      "E 3 loss= 38.25 acc=90.00\n",
      "E 4 loss= 36.56 acc=89.30\n",
      "E 5 loss= 37.24 acc=89.53\n",
      "E 6 loss= 30.26 acc=90.55\n"
     ]
    }
   ],
   "source": [
    "# creamos un modelo\n",
    "model = CNN()\n",
    "\n",
    "# optimizador\n",
    "opt = optim.SGD(model.parameters(), lr=1e-3)\n",
    "# historial de pérdida\n",
    "loss_hist = []\n",
    "\n",
    "# ciclo de entrenamiento\n",
    "EPOCHS = 7\n",
    "for epoch in range(EPOCHS):\n",
    "    \n",
    "    # entrenamiento de una época\n",
    "    for x, y_true in trn_dl:\n",
    "        # hacemos inferencia para obtener los logits\n",
    "        y_lgts = model(x)\n",
    "        # calculamos la pérdida\n",
    "        loss = F.cross_entropy(y_lgts, y_true)\n",
    "        # vaciamos los gradientes\n",
    "        opt.zero_grad()\n",
    "        # retropropagamos\n",
    "        loss.backward()\n",
    "        # actulizamos parámetros\n",
    "        opt.step()\n",
    "\n",
    "    # evitamos que se registren las operaciones \n",
    "    # en la gráfica de cómputo\n",
    "    with torch.no_grad():\n",
    "\n",
    "        # modelo en modo de evaluación\n",
    "        model.eval()\n",
    "        \n",
    "        losses, accs = [], []\n",
    "        # validación de la época\n",
    "        for x, y_true in take(tst_dl, 10):\n",
    "            # hacemos inferencia para obtener los logits\n",
    "            y_lgts = model(x)\n",
    "            # calculamos las probabilidades\n",
    "            y_prob = F.softmax(y_lgts, 1)\n",
    "            # obtenemos la clase predicha\n",
    "            y_pred = torch.argmax(y_prob, 1)\n",
    "            \n",
    "            # calculamos la pérdida\n",
    "            loss = F.cross_entropy(y_lgts, y_true)\n",
    "            # calculamos la exactitud\n",
    "            acc = (y_true == y_pred).type(torch.float32).mean()\n",
    "\n",
    "            # guardamos históricos\n",
    "            losses.append(loss.item() * 100)\n",
    "            accs.append(acc.item() * 100)\n",
    "\n",
    "        # imprimimos métricas\n",
    "        loss = np.mean(losses)\n",
    "        acc = np.mean(accs)\n",
    "        print(f'E{epoch:2} loss={loss:6.2f} acc={acc:.2f}')\n",
    "        \n",
    "        # agregagmos al historial de pérdidas\n",
    "        loss_hist.append(loss)\n",
    "        \n",
    "        # modelo en modo de entrenamiento\n",
    "        model.train()"
   ]
  },
  {
   "cell_type": "markdown",
   "metadata": {},
   "source": [
    "### 4.2 Gráfica de la pérdida"
   ]
  },
  {
   "cell_type": "code",
   "execution_count": 13,
   "metadata": {},
   "outputs": [
    {
     "data": {
      "image/png": "[encoded data removed]",
      "text/plain": [
       "<Figure size 640x480 with 1 Axes>"
      ]
     },
     "metadata": {},
     "output_type": "display_data"
    }
   ],
   "source": [
    "plt.plot(loss_hist, color='red')\n",
    "plt.xlabel('época')\n",
    "plt.ylabel('pérdida')\n",
    "plt.show()"
   ]
  },
  {
   "cell_type": "markdown",
   "metadata": {},
   "source": [
    "## 5 Evaluación\n",
    "\n",
    "<img src=\"https://raw.githubusercontent.com/gibranfp/CursoAprendizajeProfundo/2077b80363cfac8204826cb48b8ed51a5a41770e/figs/eval_trn_tst.svg\" width=\"470\"/>\n",
    "&nbsp;\n",
    "Entrenamiento con una partición de entrenamiento y prueba."
   ]
  },
  {
   "cell_type": "markdown",
   "metadata": {},
   "source": [
    "### 5.1 Conjunto de validación"
   ]
  },
  {
   "cell_type": "code",
   "execution_count": 14,
   "metadata": {},
   "outputs": [
    {
     "name": "stdout",
     "output_type": "stream",
     "text": [
      "Exactitud = 90.37\n"
     ]
    }
   ],
   "source": [
    "# modelo en modo de evaluación\n",
    "model.eval()\n",
    "\n",
    "# evitamos que se registren las operaciones \n",
    "# en la gráfica de cómputo\n",
    "with torch.no_grad(): \n",
    "        \n",
    "    accs = []\n",
    "    # validación de la época\n",
    "    for x, y_true in tst_dl:\n",
    "        # hacemos inferencia para obtener los logits\n",
    "        y_lgts = model(x)\n",
    "        # calculamos las probabilidades\n",
    "        y_prob = F.softmax(y_lgts, 1)\n",
    "        # obtenemos la clase predicha\n",
    "        y_pred = torch.argmax(y_prob, 1)\n",
    "        \n",
    "        # calculamos la exactitud\n",
    "        acc = (y_true == y_pred).type(torch.float32).mean()\n",
    "\n",
    "        accs.append(acc.item() * 100)\n",
    "\n",
    "    acc = np.mean(accs)\n",
    "\n",
    "print(f'Exactitud = {acc:.2f}')"
   ]
  },
  {
   "cell_type": "markdown",
   "metadata": {},
   "source": [
    "### 5.2 Inferencia"
   ]
  },
  {
   "cell_type": "code",
   "execution_count": 15,
   "metadata": {},
   "outputs": [
    {
     "data": {
      "image/png": "[encoded data removed]",
      "text/plain": [
       "<Figure size 640x480 with 12 Axes>"
      ]
     },
     "metadata": {},
     "output_type": "display_data"
    }
   ],
   "source": [
    "with torch.no_grad(): \n",
    "    for x, y_true in take(tst_dl, 1):\n",
    "        y_lgts = model(x)\n",
    "        y_prob = F.softmax(y_lgts, 1)\n",
    "        y_pred = torch.argmax(y_prob, 1)\n",
    "\n",
    "    x = x[:12].squeeze().numpy()\n",
    "    y_true = y_true[:12].numpy()\n",
    "    y_pred = y_pred[:12].numpy()\n",
    "\n",
    "titles = [f'V={t} P={p}' for t, p in zip(y_true, y_pred)]\n",
    "display_grid(x, titles, 3, 4)"
   ]
  }
 ],
 "metadata": {
  "kernelspec": {
   "display_name": "Python 3 (ipykernel)",
   "language": "python",
   "name": "python3"
  },
  "language_info": {
   "codemirror_mode": {
    "name": "ipython",
    "version": 3
   },
   "file_extension": ".py",
   "mimetype": "text/x-python",
   "name": "python",
   "nbconvert_exporter": "python",
   "pygments_lexer": "ipython3",
   "version": "3.10.6"
  }
 },
 "nbformat": 4,
 "nbformat_minor": 4
}
