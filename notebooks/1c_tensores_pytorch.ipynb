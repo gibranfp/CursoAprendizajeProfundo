{
  "nbformat": 4,
  "nbformat_minor": 0,
  "metadata": {
    "colab": {
      "name": "1c_tensores_pytorch.ipynb",
      "provenance": [],
      "collapsed_sections": [
        "h-Lzt5Uqt6cX",
        "-o1DfBLZ2Hu2",
        "1Y1_GJO5x4je",
        "41-gYI5fsrut"
      ],
      "authorship_tag": "ABX9TyNTgyDGxnYrnxVPc4E/68XA",
      "include_colab_link": true
    },
    "kernelspec": {
      "name": "python3",
      "display_name": "Python 3"
    },
    "language_info": {
      "name": "python"
    },
    "accelerator": "GPU",
    "gpuClass": "standard"
  },
  "cells": [
    {
      "cell_type": "markdown",
      "metadata": {
        "id": "view-in-github",
        "colab_type": "text"
      },
      "source": [
        "<a href=\"https://colab.research.google.com/github/gibranfp/CursoAprendizajeProfundo/blob/2023-1/notebooks/1c_tensores_pytorch.ipynb\" target=\"_parent\"><img src=\"https://colab.research.google.com/assets/colab-badge.svg\" alt=\"Open In Colab\"/></a>"
      ]
    },
    {
      "cell_type": "markdown",
      "metadata": {
        "id": "eEPX039ZbqYg"
      },
      "source": [
        "# Tensores\n",
        "[PyTorch](https://pyth.org/) es una biblioteca y marco de trabajo de código abierto que facilita la programación de redes neuronales profundas, ofreciendo varias funciones, clases y herramientas. En particular:\n",
        "\n",
        "1. Definición de arreglos multidimensionales (clase `Tensor`) y operaciones entre ellos con soporte para GPUs y cómputo distribuido. \n",
        "2. Diferenciación automática.\n",
        "3. Interfaz modular con distintos niveles de abstracción para definir arquitecturas de redes neuronales y entrenarlas.\n",
        "4. Clases y funciones para carga, generación de lotes y preprocesamiento de conjuntos de datos."
      ]
    },
    {
      "cell_type": "code",
      "execution_count": 1,
      "metadata": {
        "id": "tPQ9mQ-WYR8Z"
      },
      "outputs": [],
      "source": [
        "import torch as th\n",
        "import numpy as np"
      ]
    },
    {
      "cell_type": "markdown",
      "metadata": {
        "id": "h-Lzt5Uqt6cX"
      },
      "source": [
        "## Creación de tensores\n",
        "El objeto básico de PyTorch es el tensor, un arreglo multidimensional similar al `ndarray` de NumPy.\n",
        "\n",
        "![](https://static.packt-cdn.com/products/9781787125933/graphics/B07030_14_01.jpg)\n",
        "\n",
        "Fuente: [Python Machine Learning - Second Edition](https://subscription.packtpub.com/book/big_data_and_business_intelligence/9781787125933/14/ch14lvl1sec85/tensorflow-ranks-and-tensors)\n",
        "\n",
        "Podemos definir un tensor a partir de valores específicos con la función `tensor()`. Para un escalar (tensor de orden 0) esto sería:"
      ]
    },
    {
      "cell_type": "code",
      "execution_count": 2,
      "metadata": {
        "id": "nH8_4kcsxuaE"
      },
      "outputs": [],
      "source": [
        "x = th.tensor([1,2,3])\n",
        "y = th.tensor([4,5,6])"
      ]
    },
    {
      "cell_type": "code",
      "execution_count": 3,
      "metadata": {
        "colab": {
          "base_uri": "https://localhost:8080/"
        },
        "id": "nsfzPOJJt5Iq",
        "outputId": "c03de33c-bf5a-474a-fab6-02b9f4690c30"
      },
      "outputs": [
        {
          "output_type": "stream",
          "name": "stdout",
          "text": [
            "tensor(4.)\n"
          ]
        }
      ],
      "source": [
        "escalar = th.tensor(4.0)\n",
        "print(escalar)"
      ]
    },
    {
      "cell_type": "markdown",
      "metadata": {
        "id": "VcXNEA8nXBpb"
      },
      "source": [
        "Un vector (tensor de orden 1):"
      ]
    },
    {
      "cell_type": "code",
      "execution_count": 4,
      "metadata": {
        "colab": {
          "base_uri": "https://localhost:8080/"
        },
        "id": "DaUPCRu4wRPp",
        "outputId": "621082d1-af82-466b-8030-476367c53688"
      },
      "outputs": [
        {
          "output_type": "stream",
          "name": "stdout",
          "text": [
            "tensor([2., 3., 4.])\n"
          ]
        }
      ],
      "source": [
        "vector = th.tensor([2.0, 3.0, 4.0])\n",
        "print(vector)"
      ]
    },
    {
      "cell_type": "markdown",
      "metadata": {
        "id": "jGCegByUXWFe"
      },
      "source": [
        "Una matriz (tensor de orden 2):"
      ]
    },
    {
      "cell_type": "code",
      "execution_count": 5,
      "metadata": {
        "colab": {
          "base_uri": "https://localhost:8080/"
        },
        "id": "svDTVSY1weL3",
        "outputId": "390dcb29-34c1-417a-d930-e75d18ad89fe"
      },
      "outputs": [
        {
          "output_type": "stream",
          "name": "stdout",
          "text": [
            "tensor([[1, 2, 3],\n",
            "        [3, 4, 5]])\n"
          ]
        }
      ],
      "source": [
        "matriz = th.tensor([[1, 2, 3],\n",
        "                      [3, 4, 5]])\n",
        "print(matriz)"
      ]
    },
    {
      "cell_type": "markdown",
      "metadata": {
        "id": "oEQTHXl7wQ6Z"
      },
      "source": [
        "Un tensor de orden 3:"
      ]
    },
    {
      "cell_type": "code",
      "execution_count": 6,
      "metadata": {
        "colab": {
          "base_uri": "https://localhost:8080/"
        },
        "id": "G44_drzxwsyu",
        "outputId": "4ae8c670-7bbe-4048-cdd8-4b4101e64323"
      },
      "outputs": [
        {
          "output_type": "stream",
          "name": "stdout",
          "text": [
            "tensor([[[ 0,  1,  2,  3,  4],\n",
            "         [ 5,  6,  7,  8,  9]],\n",
            "\n",
            "        [[10, 11, 12, 13, 14],\n",
            "         [15, 16, 17, 18, 19]],\n",
            "\n",
            "        [[20, 21, 22, 23, 24],\n",
            "         [25, 26, 27, 28, 29]]])\n"
          ]
        }
      ],
      "source": [
        "tensor3 = th.tensor([[[0, 1, 2, 3, 4],\n",
        "                          [5, 6, 7, 8, 9]],\n",
        "                        [[10, 11, 12, 13, 14],\n",
        "                         [15, 16, 17, 18, 19]],\n",
        "                        [[20, 21, 22, 23, 24],\n",
        "                         [25, 26, 27, 28, 29]]])\n",
        "print(tensor3)"
      ]
    },
    {
      "cell_type": "markdown",
      "metadata": {
        "id": "eKgbsH51Xjbl"
      },
      "source": [
        "Similar a NumPy, las instancias de `Tensor` tienen varios atributos:"
      ]
    },
    {
      "cell_type": "code",
      "execution_count": 7,
      "metadata": {
        "colab": {
          "base_uri": "https://localhost:8080/"
        },
        "id": "J80SFOYKxjBi",
        "outputId": "3439a7e5-16be-4e86-9ec0-2b0d1f2d7346"
      },
      "outputs": [
        {
          "output_type": "stream",
          "name": "stdout",
          "text": [
            "Tipo de dato de cada elemento: torch.int64\n",
            "Número de dimensiones: 3\n",
            "Forma del tensor: torch.Size([3, 2, 5])\n",
            "Número total de elementos: torch.Size([3, 2, 5])\n"
          ]
        }
      ],
      "source": [
        "print(f\"Tipo de dato de cada elemento: {tensor3.dtype}\")\n",
        "print(f\"Número de dimensiones: {tensor3.ndim}\")\n",
        "print(f\"Forma del tensor: {tensor3.shape}\")\n",
        "print(f\"Número total de elementos: {tensor3.size()}\")"
      ]
    },
    {
      "cell_type": "markdown",
      "metadata": {
        "id": "caUwujeUY4fD"
      },
      "source": [
        "PyTorch infiere el tipo de datos del tensor a partir de los valores, pero también es posible especificarlo."
      ]
    },
    {
      "cell_type": "code",
      "execution_count": 8,
      "metadata": {
        "colab": {
          "base_uri": "https://localhost:8080/"
        },
        "id": "CMlzOH7TORkn",
        "outputId": "a1cecde5-5e6f-4535-971f-76ad6640a51a"
      },
      "outputs": [
        {
          "output_type": "stream",
          "name": "stdout",
          "text": [
            "tensor([1., 2.])\n"
          ]
        }
      ],
      "source": [
        "anp = th.tensor([1,2], dtype=th.float32)\n",
        "print(anp)"
      ]
    },
    {
      "cell_type": "markdown",
      "metadata": {
        "id": "Vzca1zAjNaCa"
      },
      "source": [
        "Otra forma de crear un tensor es con la función `zeros()`, que recibe como argumento la forma del tensor y regresa un tensor de esa forma con todos los elementos iguales a 0."
      ]
    },
    {
      "cell_type": "code",
      "execution_count": 9,
      "metadata": {
        "colab": {
          "base_uri": "https://localhost:8080/"
        },
        "id": "tOykh6v-NKyb",
        "outputId": "16d926c1-944b-4b9a-fad0-df8d811fe7ee"
      },
      "outputs": [
        {
          "output_type": "stream",
          "name": "stdout",
          "text": [
            "tensor([[0., 0., 0., 0.],\n",
            "        [0., 0., 0., 0.],\n",
            "        [0., 0., 0., 0.]])\n"
          ]
        }
      ],
      "source": [
        "ceros = th.zeros((3,4), dtype=th.float32)\n",
        "print(ceros)"
      ]
    },
    {
      "cell_type": "markdown",
      "metadata": {
        "id": "rPJgDt-0ZQ63"
      },
      "source": [
        "Una variación de la función anterior es `zeros_like()`, la cual hace los mismo pero toma la forma a partir de tensor que se pasa como argumento."
      ]
    },
    {
      "cell_type": "code",
      "execution_count": 10,
      "metadata": {
        "colab": {
          "base_uri": "https://localhost:8080/"
        },
        "id": "WfAX6AjMN8pU",
        "outputId": "0931e722-56e3-49ef-ed95-bcee2ff266e6"
      },
      "outputs": [
        {
          "output_type": "stream",
          "name": "stdout",
          "text": [
            "tensor([0., 0.])\n"
          ]
        }
      ],
      "source": [
        "ceros_l = th.zeros_like(anp)\n",
        "print(ceros_l)"
      ]
    },
    {
      "cell_type": "markdown",
      "metadata": {
        "id": "MaGFmGVENbca"
      },
      "source": [
        "La función `ones()` es similar a la función`zeros()` pero en lugar de poner todos los valores a 0 los pone a 1."
      ]
    },
    {
      "cell_type": "code",
      "execution_count": 11,
      "metadata": {
        "colab": {
          "base_uri": "https://localhost:8080/"
        },
        "id": "oFlvaijvNosR",
        "outputId": "161867df-6137-427b-a1c9-3799115fda3e"
      },
      "outputs": [
        {
          "output_type": "stream",
          "name": "stdout",
          "text": [
            "tensor([[1., 1., 1., 1.],\n",
            "        [1., 1., 1., 1.],\n",
            "        [1., 1., 1., 1.]])\n"
          ]
        }
      ],
      "source": [
        "unos = th.ones((3,4), dtype=th.float32)\n",
        "print(unos)"
      ]
    },
    {
      "cell_type": "markdown",
      "metadata": {
        "id": "-aIy8MDQNrlC"
      },
      "source": [
        "De forma análoga, `ones_like()` es una variación de esta última función que toma la forma de otro tensor. "
      ]
    },
    {
      "cell_type": "code",
      "execution_count": 12,
      "metadata": {
        "colab": {
          "base_uri": "https://localhost:8080/"
        },
        "id": "DIEwALoUNq_i",
        "outputId": "93e62f2f-e476-4a85-df99-3832b72d202d"
      },
      "outputs": [
        {
          "output_type": "stream",
          "name": "stdout",
          "text": [
            "tensor([[1., 1., 1., 1.],\n",
            "        [1., 1., 1., 1.],\n",
            "        [1., 1., 1., 1.]])\n"
          ]
        }
      ],
      "source": [
        "unos_l = th.ones_like(unos)\n",
        "print(unos_l)"
      ]
    },
    {
      "cell_type": "markdown",
      "metadata": {
        "id": "iTOmRb5TaNjb"
      },
      "source": [
        "PyTorch también permite crear tensores con valores muestreados de varias. Por ej. uniforme en un rango $[0,1)$ usando la función `rand`:"
      ]
    },
    {
      "cell_type": "code",
      "execution_count": 13,
      "metadata": {
        "colab": {
          "base_uri": "https://localhost:8080/"
        },
        "id": "GTh0qcxONt1s",
        "outputId": "40e05a8e-4594-40f5-a4e5-2b9f5983dc7e"
      },
      "outputs": [
        {
          "output_type": "stream",
          "name": "stdout",
          "text": [
            "tensor([[0.7399, 0.5273, 0.9179],\n",
            "        [0.4676, 0.5632, 0.0471],\n",
            "        [0.2029, 0.1722, 0.5928],\n",
            "        [0.7716, 0.4936, 0.9220]])\n"
          ]
        }
      ],
      "source": [
        "unif_ten = th.rand((4,3))\n",
        "print(unif_ten)"
      ]
    },
    {
      "cell_type": "markdown",
      "source": [
        "Usando los tensores generados por `rand` (y `rand_like`) es posible generar tensores con valores muestreados de una uniforme en un rango $[a, b)$ de la siguiente manera:"
      ],
      "metadata": {
        "id": "8xZMU1mF8Wpa"
      }
    },
    {
      "cell_type": "code",
      "source": [
        "a = -2\n",
        "b = 1\n",
        "unifab_ten = th.rand((4,3)) * (b - a) + a\n",
        "print(unifab_ten)"
      ],
      "metadata": {
        "colab": {
          "base_uri": "https://localhost:8080/"
        },
        "id": "oM05jt669LQ5",
        "outputId": "7e952454-9ce4-489a-faf3-89c4dee78eb9"
      },
      "execution_count": 14,
      "outputs": [
        {
          "output_type": "stream",
          "name": "stdout",
          "text": [
            "tensor([[-0.0579, -0.4475, -0.6584],\n",
            "        [-1.4365, -0.3201, -0.0199],\n",
            "        [ 0.5157, -0.4455, -1.7306],\n",
            "        [-1.6753, -1.4524,  0.5068]])\n"
          ]
        }
      ]
    },
    {
      "cell_type": "markdown",
      "source": [
        "Para valores enteros muestreados uniformemente tenemos la función `randint` (y `randint_like`)."
      ],
      "metadata": {
        "id": "P79PTNY1LBQw"
      }
    },
    {
      "cell_type": "code",
      "source": [
        "unifint_ten = th.randint(low=-5, high=3, size=((4,3)))\n",
        "print(unifint_ten)"
      ],
      "metadata": {
        "colab": {
          "base_uri": "https://localhost:8080/"
        },
        "id": "RoEvSMZuLhiQ",
        "outputId": "a539c9a1-c2f6-4bff-f294-2a354238335b"
      },
      "execution_count": 15,
      "outputs": [
        {
          "output_type": "stream",
          "name": "stdout",
          "text": [
            "tensor([[-1,  2, -3],\n",
            "        [ 0, -1,  2],\n",
            "        [ 2, -2, -2],\n",
            "        [ 1, -4,  0]])\n"
          ]
        }
      ]
    },
    {
      "cell_type": "markdown",
      "source": [
        "Alternativamente, podemos instanciar una clase `Tensor` pasando el tamaño como argumento al constructor y llamando al método `uniform_`"
      ],
      "metadata": {
        "id": "q-siPcwd7J6q"
      }
    },
    {
      "cell_type": "code",
      "execution_count": 16,
      "metadata": {
        "colab": {
          "base_uri": "https://localhost:8080/"
        },
        "id": "D4YsYXjpUHVs",
        "outputId": "cb6fdf63-e169-4e27-b2ea-7a0bf735d94b"
      },
      "outputs": [
        {
          "output_type": "execute_result",
          "data": {
            "text/plain": [
              "tensor([[-1.2479, -1.0194, -1.9495],\n",
              "        [-0.0883, -1.9459, -0.0882],\n",
              "        [ 0.9361, -1.5957, -0.3839],\n",
              "        [-1.1898, -0.1925, -0.8936]])"
            ]
          },
          "metadata": {},
          "execution_count": 16
        }
      ],
      "source": [
        "th.Tensor(4,3).uniform_(-2, 1)"
      ]
    },
    {
      "cell_type": "markdown",
      "metadata": {
        "id": "SqAkpbZ6aYsC"
      },
      "source": [
        "De forma similar, la función `randn` genera tensores con valores muestreados de una normal con media 0 y desviación estándar 1."
      ]
    },
    {
      "cell_type": "code",
      "source": [
        "randn_ten = th.randn(size=(4,3))\n",
        "print(randn_ten)"
      ],
      "metadata": {
        "colab": {
          "base_uri": "https://localhost:8080/"
        },
        "id": "VN7ZTsORCh1Y",
        "outputId": "8da47698-618e-46d0-a05a-86cdfa2cc09d"
      },
      "execution_count": 17,
      "outputs": [
        {
          "output_type": "stream",
          "name": "stdout",
          "text": [
            "tensor([[ 0.0215,  0.4928, -0.5928],\n",
            "        [-0.7078, -0.4810,  0.5169],\n",
            "        [-1.9499,  0.3263, -1.0993],\n",
            "        [-1.7028,  0.6982,  1.0659]])\n"
          ]
        }
      ]
    },
    {
      "cell_type": "markdown",
      "source": [
        "Con los tensores generados por `randn` podemos generar tensores cuyos valores sean muestreados de una normal con distinta media y desviación estándar de la siguiente manera:"
      ],
      "metadata": {
        "id": "hFD7_q0bCnXA"
      }
    },
    {
      "cell_type": "code",
      "source": [
        "mu = -5\n",
        "std = 10\n",
        "randnms_ten = th.randn(size=(4,3)) * std + mu\n",
        "print(randnms_ten)"
      ],
      "metadata": {
        "colab": {
          "base_uri": "https://localhost:8080/"
        },
        "id": "Hg1T6P2kC5tw",
        "outputId": "1352328c-d990-46fa-bff3-78acb35061a5"
      },
      "execution_count": 18,
      "outputs": [
        {
          "output_type": "stream",
          "name": "stdout",
          "text": [
            "tensor([[ 15.1004,  -5.8912,  -0.0427],\n",
            "        [ 13.2261, -21.1527,  -7.0275],\n",
            "        [ -9.0725,  -6.7271,  -2.9660],\n",
            "        [-18.6124,  -8.5879, -12.1977]])\n"
          ]
        }
      ]
    },
    {
      "cell_type": "markdown",
      "source": [
        "También podemos generar tensores con valores muestreados de una normal con media y desviación estándar arbitraria usando la función `normal`."
      ],
      "metadata": {
        "id": "WAZUO2pwKm4Z"
      }
    },
    {
      "cell_type": "code",
      "execution_count": 19,
      "metadata": {
        "colab": {
          "base_uri": "https://localhost:8080/"
        },
        "id": "7VTO2s-ROfCF",
        "outputId": "dd6a32bd-3733-4c7c-a3ec-8b95c21cd35d"
      },
      "outputs": [
        {
          "output_type": "stream",
          "name": "stdout",
          "text": [
            "tensor([[ 0.9220,  2.2604,  0.1307],\n",
            "        [ 0.8034, -0.7089, -0.2835],\n",
            "        [-1.7041, -0.9251,  0.3003],\n",
            "        [ 2.0494,  1.2863,  0.4166]])\n"
          ]
        }
      ],
      "source": [
        "norm_ten = th.normal(size=(4,3), mean=0, std=1)\n",
        "print(norm_ten)"
      ]
    },
    {
      "cell_type": "markdown",
      "metadata": {
        "id": "wvZHTKkraetk"
      },
      "source": [
        "Si deseamos generar tensores muestreados de una distribución multinomial podemos usar la función `multinomial`, a la cual deben especificarse las probabilidades de cada clase como un tensor de orden 1 y el número de muestras."
      ]
    },
    {
      "cell_type": "code",
      "execution_count": 20,
      "metadata": {
        "colab": {
          "base_uri": "https://localhost:8080/"
        },
        "id": "sEpjZ-4WPz6g",
        "outputId": "b3488dec-26e0-4688-f9eb-321e753e0a3b"
      },
      "outputs": [
        {
          "output_type": "stream",
          "name": "stdout",
          "text": [
            "tensor([0, 3, 3, 1, 0, 1, 3, 1, 1, 3, 0, 1, 1, 1, 3, 1, 1, 1, 1, 1, 1, 2, 1, 1,\n",
            "        2, 3, 1, 1, 2, 1, 0, 3, 1, 2, 0, 0, 0, 0, 0, 2, 1, 1, 1, 3, 2, 2, 2, 2,\n",
            "        3, 2, 2, 1, 1, 1, 3, 3, 3, 1, 2, 1, 1, 1, 2, 1, 1, 2, 2, 1, 3, 2, 1, 1,\n",
            "        1, 1, 2, 1, 1, 1, 0, 0, 2, 1, 1, 0, 3, 1, 0, 1, 1, 1, 1, 1, 1, 1, 3, 3,\n",
            "        3, 3, 1, 3])\n"
          ]
        }
      ],
      "source": [
        "cat_ten = th.multinomial(th.tensor([0.1, 0.5, 0.2, 0.2]), num_samples=100, replacement=True)\n",
        "print(cat_ten)"
      ]
    },
    {
      "cell_type": "markdown",
      "metadata": {
        "id": "GTJuENPReN-W"
      },
      "source": [
        "El número de clases depende del tamaño del tensor y el argumento `replacemente` define si las muestras son con o sin reemplazo (en este último caso el número de muestras debe ser menor o igual al número de clases).\n",
        "\n",
        "Por otra parte, la función `arange()` genera una secuencia de números (como el `range()` de Python):"
      ]
    },
    {
      "cell_type": "code",
      "execution_count": 21,
      "metadata": {
        "colab": {
          "base_uri": "https://localhost:8080/"
        },
        "id": "Dyu8MeR0O39J",
        "outputId": "34c8b3ba-0c41-412f-fc8d-9a7a5ee70774"
      },
      "outputs": [
        {
          "output_type": "stream",
          "name": "stdout",
          "text": [
            "tensor([-3.0000, -2.5000, -2.0000, -1.5000, -1.0000, -0.5000,  0.0000,  0.5000,\n",
            "         1.0000,  1.5000,  2.0000,  2.5000])\n"
          ]
        }
      ],
      "source": [
        "rango_ten1 = th.arange(start=-3, end=3, step=0.5)\n",
        "print(rango_ten1)"
      ]
    },
    {
      "cell_type": "markdown",
      "metadata": {
        "id": "hdK4Xtr9ahpN"
      },
      "source": [
        "De manera similar, la función `linspace()` genera tensores con valores con el mismo espaciados en un intervalo.\n",
        "\n"
      ]
    },
    {
      "cell_type": "code",
      "execution_count": 22,
      "metadata": {
        "colab": {
          "base_uri": "https://localhost:8080/"
        },
        "id": "mH5VjSodOrTk",
        "outputId": "3bbb6ba4-3a7a-4fd6-8a0b-0bcf6481e9f9"
      },
      "outputs": [
        {
          "output_type": "stream",
          "name": "stdout",
          "text": [
            "tensor([-3.0000, -2.3333, -1.6667, -1.0000, -0.3333,  0.3333,  1.0000,  1.6667,\n",
            "         2.3333,  3.0000])\n"
          ]
        }
      ],
      "source": [
        "ls_ten = th.linspace(start=-3, end=3, steps=10)\n",
        "print(ls_ten)"
      ]
    },
    {
      "cell_type": "markdown",
      "metadata": {
        "id": "-o1DfBLZ2Hu2"
      },
      "source": [
        "## Tipos\n",
        "Los elementos de los tensores pueden ser de distintos tipos básicos y precisiones. Por ej. flotantes de 16 bits (`float16`) o enteros sin signo de 8 bits (`uint8`)."
      ]
    },
    {
      "cell_type": "code",
      "execution_count": 23,
      "metadata": {
        "colab": {
          "base_uri": "https://localhost:8080/"
        },
        "id": "hZNO_ujB2KQA",
        "outputId": "512570d5-3746-4a4b-897d-5510c2523476"
      },
      "outputs": [
        {
          "output_type": "stream",
          "name": "stdout",
          "text": [
            "tensor([-1.0000e+00, -9.0000e-01, -8.0000e-01, -7.0000e-01, -6.0000e-01,\n",
            "        -5.0000e-01, -4.0000e-01, -3.0000e-01, -2.0000e-01, -1.0000e-01,\n",
            "         5.5511e-17,  1.0000e-01,  2.0000e-01,  3.0000e-01,  4.0000e-01,\n",
            "         5.0000e-01,  6.0000e-01,  7.0000e-01,  8.0000e-01,  9.0000e-01],\n",
            "       dtype=torch.float64)\n",
            "tensor([-10,  -9,  -8,  -7,  -6,  -5,  -4,  -3,  -2,  -1,   0,   1,   2,   3,\n",
            "          4,   5,   6,   7,   8,   9], dtype=torch.int32)\n"
          ]
        }
      ],
      "source": [
        "tensor_f64 = th.arange(start=-1, end=1, step=0.1, dtype=th.float64)\n",
        "tensor_i32 = th.arange(start=-10, end=10, step=1, dtype=th.int32)\n",
        "print(tensor_f64)\n",
        "print(tensor_i32)"
      ]
    },
    {
      "cell_type": "markdown",
      "metadata": {
        "id": "QqixPcFTfwp6"
      },
      "source": [
        "También se pueden convertir de tipos con el método `type()`:"
      ]
    },
    {
      "cell_type": "code",
      "source": [
        "print(tensor_i32.type(th.float64).dtype)\n",
        "print(tensor_f64.type(th.float32).dtype)"
      ],
      "metadata": {
        "id": "WJUQaRmYnM1x",
        "colab": {
          "base_uri": "https://localhost:8080/"
        },
        "outputId": "039531c6-9e4a-4910-f9c9-71d28dae7eb2"
      },
      "execution_count": 24,
      "outputs": [
        {
          "output_type": "stream",
          "name": "stdout",
          "text": [
            "torch.float64\n",
            "torch.float32\n"
          ]
        }
      ]
    },
    {
      "cell_type": "markdown",
      "metadata": {
        "id": "1Y1_GJO5x4je"
      },
      "source": [
        "## Índices\n",
        "Los índices de los tensores siguen reglas similares a los arreglos de NumPy y las listas de Python."
      ]
    },
    {
      "cell_type": "code",
      "execution_count": 25,
      "metadata": {
        "colab": {
          "base_uri": "https://localhost:8080/"
        },
        "id": "sF_J6T9wx7n_",
        "outputId": "15878352-9044-4d49-e286-4f58b2d0eb99"
      },
      "outputs": [
        {
          "output_type": "stream",
          "name": "stdout",
          "text": [
            "Primer renglón: [10.         8.181818   6.363636   4.5454545]\n",
            "Tercer renglón: [ -4.5454545  -6.363636   -8.181818  -10.       ]\n",
            "Último renglón: [ -4.5454545  -6.363636   -8.181818  -10.       ]\n",
            "Primer columna: [10.         2.7272725 -4.5454545]\n",
            "Última columna: [  4.5454545  -2.7272725 -10.       ]\n"
          ]
        }
      ],
      "source": [
        "ten_ind = th.reshape(th.linspace(start=10, end=-10, steps = 12), [3,4])\n",
        "print(f\"Primer renglón: {ten_ind[0].numpy()}\")\n",
        "print(f\"Tercer renglón: {ten_ind[2].numpy()}\")\n",
        "print(f\"Último renglón: {ten_ind[-1].numpy()}\")\n",
        "\n",
        "print(f\"Primer columna: {ten_ind[:, 0].numpy()}\")\n",
        "print(f\"Última columna: {ten_ind[:, -1].numpy()}\")"
      ]
    },
    {
      "cell_type": "markdown",
      "metadata": {
        "id": "lIo3Mljii7-X"
      },
      "source": [
        "También se pueden realizar _slices_:"
      ]
    },
    {
      "cell_type": "code",
      "execution_count": 26,
      "metadata": {
        "id": "OViKduOayDEr",
        "colab": {
          "base_uri": "https://localhost:8080/"
        },
        "outputId": "67c7f02c-ada0-427c-cb1b-1e9aa1034932"
      },
      "outputs": [
        {
          "output_type": "stream",
          "name": "stdout",
          "text": [
            "Todos los renglones: [[ 10.           8.181818     6.363636     4.5454545 ]\n",
            " [  2.7272725    0.90909064  -0.90909064  -2.7272725 ]\n",
            " [ -4.5454545   -6.363636    -8.181818   -10.        ]]\n",
            "Renglones antes del 6: [[ 10.           8.181818     6.363636     4.5454545 ]\n",
            " [  2.7272725    0.90909064  -0.90909064  -2.7272725 ]\n",
            " [ -4.5454545   -6.363636    -8.181818   -10.        ]]\n",
            "Renglones del 4 al final []\n",
            "Renglones del 3 al 5 []\n",
            "Cada dos renglones: [[ 10.          8.181818    6.363636    4.5454545]\n",
            " [ -4.5454545  -6.363636   -8.181818  -10.       ]]\n"
          ]
        }
      ],
      "source": [
        "print(\"Todos los renglones:\", ten_ind[:].numpy())\n",
        "print(\"Renglones antes del 6:\", ten_ind[:6].numpy())\n",
        "print(\"Renglones del 4 al final\", ten_ind[4:].numpy())\n",
        "print(\"Renglones del 3 al 5\", ten_ind[3:6].numpy())\n",
        "print(\"Cada dos renglones:\", ten_ind[::2].numpy())"
      ]
    },
    {
      "cell_type": "markdown",
      "source": [
        "A diferencia de los arreglos de NumPy, en las instancias de `Tensor` no es posible que el paso de los índices sea negativo."
      ],
      "metadata": {
        "id": "LeRdZJ-tSQai"
      }
    },
    {
      "cell_type": "code",
      "source": [
        "# NumPy\n",
        "nparr = np.arange(start=0, stop=10, step=1)\n",
        "print(nparr[::-1])\n",
        "\n",
        "# PyTorch \n",
        "tharr = th.arange(start=0, end=10, step=1)\n",
        "# produce un error con tharr[::-1]"
      ],
      "metadata": {
        "colab": {
          "base_uri": "https://localhost:8080/"
        },
        "id": "R1Hn88b5SgGv",
        "outputId": "b477cd9b-831a-4cf7-f108-ade9b0aa15c3"
      },
      "execution_count": 27,
      "outputs": [
        {
          "output_type": "stream",
          "name": "stdout",
          "text": [
            "[9 8 7 6 5 4 3 2 1 0]\n"
          ]
        }
      ]
    },
    {
      "cell_type": "markdown",
      "metadata": {
        "id": "3dN_Fn8rnUb-"
      },
      "source": [
        "Ademas, podemos iterar sobre los elementos de un tensor:"
      ]
    },
    {
      "cell_type": "code",
      "execution_count": 28,
      "metadata": {
        "id": "bVkmSrO-0esx",
        "colab": {
          "base_uri": "https://localhost:8080/"
        },
        "outputId": "e5771b9b-c6ca-442b-a3f2-f46cbdc801ce"
      },
      "outputs": [
        {
          "output_type": "stream",
          "name": "stdout",
          "text": [
            "tensor([10.0000,  8.1818,  6.3636,  4.5455])\n",
            "tensor([ 2.7273,  0.9091, -0.9091, -2.7273])\n",
            "tensor([ -4.5455,  -6.3636,  -8.1818, -10.0000])\n",
            "tensor(10.)\n",
            "tensor(8.1818)\n",
            "tensor(6.3636)\n",
            "tensor(4.5455)\n",
            "tensor(2.7273)\n",
            "tensor(0.9091)\n",
            "tensor(-0.9091)\n",
            "tensor(-2.7273)\n",
            "tensor(-4.5455)\n",
            "tensor(-6.3636)\n",
            "tensor(-8.1818)\n",
            "tensor(-10.)\n"
          ]
        }
      ],
      "source": [
        "for x in ten_ind:\n",
        "  print(x)\n",
        "\n",
        "for x in ten_ind:\n",
        "  for i in x:\n",
        "    print(i)"
      ]
    },
    {
      "cell_type": "markdown",
      "metadata": {
        "id": "9Oq47vJ8W_PD"
      },
      "source": [
        "## Formas\n",
        "La forma de los tensores pueden cambiar, siempre y cuando se mantenga el mismo número de elementos totales:\n",
        "\n",
        "![](https://www.tensorflow.org/guide/images/tensor/reshape-before.png)\n",
        "![](https://www.tensorflow.org/guide/images/tensor/reshape-good1.png)\n",
        "![](https://www.tensorflow.org/guide/images/tensor/reshape-good2.png)\n",
        "\n",
        "Fuente: Tutorial [_Introduction to Tensors_](https://www.tensorflow.org/guide/tensor) de Tensorflow"
      ]
    },
    {
      "cell_type": "code",
      "execution_count": 29,
      "metadata": {
        "id": "UxeWDifW1wKL",
        "colab": {
          "base_uri": "https://localhost:8080/"
        },
        "outputId": "59cccf78-cc9d-4719-8f14-5350919dd696"
      },
      "outputs": [
        {
          "output_type": "stream",
          "name": "stdout",
          "text": [
            "tensor([ 0,  1,  2,  3,  4,  5,  6,  7,  8,  9, 10, 11, 12, 13, 14, 15, 16, 17,\n",
            "        18, 19, 20, 21, 22, 23, 24, 25, 26, 27, 28, 29])\n"
          ]
        }
      ],
      "source": [
        "x_orig = th.arange(30)\n",
        "print(x_orig)"
      ]
    },
    {
      "cell_type": "markdown",
      "metadata": {
        "id": "z2k4OOvmoc3z"
      },
      "source": [
        "Para cambiar la forma de este vector usamos la función (o el método) `reshape()`."
      ]
    },
    {
      "cell_type": "code",
      "execution_count": 30,
      "metadata": {
        "id": "5ZXc9czlo_cF"
      },
      "outputs": [],
      "source": [
        "x_forma2 = th.reshape(x_orig, [3, 2, 5]) # de forma equivalente x_orig.reshape([3, 2, 5])\n",
        "x_forma3 = th.reshape(x_orig, [3, 10]) # x_orig.reshape([3, 10])\n",
        "x_forma4 = th.reshape(x_orig, [6, 5]) # x_orig.reshape([6, 5])\n",
        "x_forma5 = th.reshape(x_orig, [2, 3, 5]) # x_orig.reshape([2, 3, 5])\n",
        "x_forma6 = th.reshape(x_orig, [5, 3, 2]) # x_orig.reshape([5, 3, 2])"
      ]
    },
    {
      "cell_type": "markdown",
      "metadata": {
        "id": "iOdNCtT-pD9I"
      },
      "source": [
        "Examinemos sus formas:"
      ]
    },
    {
      "cell_type": "code",
      "execution_count": 31,
      "metadata": {
        "id": "Tc9e27sb1z23",
        "colab": {
          "base_uri": "https://localhost:8080/"
        },
        "outputId": "3e606506-6fa5-4a91-d3fa-b36ce8113f0d"
      },
      "outputs": [
        {
          "output_type": "stream",
          "name": "stdout",
          "text": [
            "torch.Size([30])\n",
            "torch.Size([3, 2, 5])\n",
            "torch.Size([3, 10])\n",
            "torch.Size([6, 5])\n",
            "torch.Size([2, 3, 5])\n",
            "torch.Size([5, 3, 2])\n"
          ]
        }
      ],
      "source": [
        "print(x_orig.shape)\n",
        "print(x_forma2.shape)\n",
        "print(x_forma3.shape)\n",
        "print(x_forma4.shape)\n",
        "print(x_forma5.shape)\n",
        "print(x_forma6.shape)"
      ]
    },
    {
      "cell_type": "markdown",
      "metadata": {
        "id": "K-jHZhFfVwBR"
      },
      "source": [
        "Si solo requerimos agregar una dimensión, además de la función `reshape` podemos usar `unsqueeze`, la cual toma como argumento un tensor y un eje y regresa un tensor con los mismos elementos pero con una dimensión agregada."
      ]
    },
    {
      "cell_type": "code",
      "execution_count": 32,
      "metadata": {
        "id": "19l2v-l6V3B6",
        "colab": {
          "base_uri": "https://localhost:8080/"
        },
        "outputId": "99dcbbf5-0ca1-4ef3-aa28-2f00780c1772"
      },
      "outputs": [
        {
          "output_type": "stream",
          "name": "stdout",
          "text": [
            "Tensor de : torch.Size([3, 10])\n",
            "Eje 0: torch.Size([1, 3, 10])\n",
            "Eje 1: torch.Size([3, 1, 10])\n",
            "Eje 2: torch.Size([3, 10, 1])\n"
          ]
        }
      ],
      "source": [
        "print(f'Tensor de : {x_forma3.shape}')\n",
        "print(f'Eje 0: {th.unsqueeze(x_forma3, axis=0).shape}')\n",
        "print(f'Eje 1: {th.unsqueeze(x_forma3, axis=1).shape}')\n",
        "print(f'Eje 2: {th.unsqueeze(x_forma3, axis=2).shape}')"
      ]
    },
    {
      "cell_type": "markdown",
      "metadata": {
        "id": "ItaRsiVsaM0p"
      },
      "source": [
        "Para quitar dimensiones de tamaño 1 se puede utilizar la función `squeeze`."
      ]
    },
    {
      "cell_type": "code",
      "execution_count": 33,
      "metadata": {
        "id": "fdGVTF0SbK8y",
        "colab": {
          "base_uri": "https://localhost:8080/"
        },
        "outputId": "52f1ee57-ee52-4df3-f5f8-da9e2dd41253"
      },
      "outputs": [
        {
          "output_type": "stream",
          "name": "stdout",
          "text": [
            "Tensor de 4: torch.Size([1, 3, 10, 1])\n",
            "Aplicando squeeze: torch.Size([3, 10])\n",
            "Aplicando squeeze sobre eje 1: torch.Size([3, 10, 1])\n"
          ]
        }
      ],
      "source": [
        "x_exp4 = th.unsqueeze(x_forma3, axis=2)\n",
        "x_exp4 = th.unsqueeze(x_exp4, axis=0)\n",
        "print(f'Tensor de 4: {x_exp4.shape}')\n",
        "print(f'Aplicando squeeze: {th.squeeze(x_exp4).shape}')\n",
        "print(f'Aplicando squeeze sobre eje 1: {th.squeeze(x_exp4, axis=0).shape}')"
      ]
    },
    {
      "cell_type": "markdown",
      "metadata": {
        "id": "TpEVU2UGclWK"
      },
      "source": [
        "También podemos dividir un tensor de orden $k$ en múltiples tensores de orden $k$ con la función `split`."
      ]
    },
    {
      "cell_type": "code",
      "execution_count": 34,
      "metadata": {
        "id": "qQUA6ymPdcLV",
        "colab": {
          "base_uri": "https://localhost:8080/"
        },
        "outputId": "e65744d0-6811-47dd-98f2-231d37675ce8"
      },
      "outputs": [
        {
          "output_type": "stream",
          "name": "stdout",
          "text": [
            "Tensor de 3: torch.Size([3, 2, 5])\n",
            "División en 3 sobre eje 0: (tensor([[[ 0,  1,  2,  3,  4],\n",
            "         [ 5,  6,  7,  8,  9]],\n",
            "\n",
            "        [[10, 11, 12, 13, 14],\n",
            "         [15, 16, 17, 18, 19]],\n",
            "\n",
            "        [[20, 21, 22, 23, 24],\n",
            "         [25, 26, 27, 28, 29]]]),)\n",
            "División en 2 sobre eje 2: (tensor([[[ 0,  1,  2,  3,  4],\n",
            "         [ 5,  6,  7,  8,  9]],\n",
            "\n",
            "        [[10, 11, 12, 13, 14],\n",
            "         [15, 16, 17, 18, 19]],\n",
            "\n",
            "        [[20, 21, 22, 23, 24],\n",
            "         [25, 26, 27, 28, 29]]]),)\n",
            "División en 3 sobre eje 0: (tensor([[[ 0,  1],\n",
            "         [ 5,  6]],\n",
            "\n",
            "        [[10, 11],\n",
            "         [15, 16]],\n",
            "\n",
            "        [[20, 21],\n",
            "         [25, 26]]]), tensor([[[ 2,  3],\n",
            "         [ 7,  8]],\n",
            "\n",
            "        [[12, 13],\n",
            "         [17, 18]],\n",
            "\n",
            "        [[22, 23],\n",
            "         [27, 28]]]), tensor([[[ 4],\n",
            "         [ 9]],\n",
            "\n",
            "        [[14],\n",
            "         [19]],\n",
            "\n",
            "        [[24],\n",
            "         [29]]]))\n"
          ]
        }
      ],
      "source": [
        "print(f'Tensor de 3: {x_forma2.shape}')\n",
        "print(f'División en 3 sobre eje 0: {th.split(x_forma2, split_size_or_sections=3)}')\n",
        "print(f'División en 2 sobre eje 2: {th.split(x_forma2, split_size_or_sections=2, dim=1)}')\n",
        "print(f'División en 3 sobre eje 0: {th.split(x_forma2, split_size_or_sections=[2, 2, 1], dim=2)}')"
      ]
    },
    {
      "cell_type": "markdown",
      "metadata": {
        "id": "41-gYI5fsrut"
      },
      "source": [
        "## PyTorch y NumPy\n",
        "Los tensores de PyTorch se pueden convertir a arreglos de NumPy y viceversa. "
      ]
    },
    {
      "cell_type": "code",
      "execution_count": 35,
      "metadata": {
        "id": "ZBB3sXKVs_av"
      },
      "outputs": [],
      "source": [
        "nparr = np.ones([2, 5])"
      ]
    },
    {
      "cell_type": "markdown",
      "metadata": {
        "id": "FXxvxGngtxJP"
      },
      "source": [
        "De arreglo de NumPy a Tensorflow:"
      ]
    },
    {
      "cell_type": "code",
      "execution_count": 36,
      "metadata": {
        "id": "S1ppt3X9tyvA",
        "colab": {
          "base_uri": "https://localhost:8080/"
        },
        "outputId": "0ca07b20-001c-420a-b6cd-59c6f060bbb7"
      },
      "outputs": [
        {
          "output_type": "stream",
          "name": "stdout",
          "text": [
            "tensor([[1., 1., 1., 1., 1.],\n",
            "        [1., 1., 1., 1., 1.]], dtype=torch.float64)\n",
            "tensor([[1., 1., 1., 1., 1.],\n",
            "        [1., 1., 1., 1., 1.]])\n",
            "tensor([[1., 1., 1., 1., 1.],\n",
            "        [1., 1., 1., 1., 1.]], dtype=torch.float64)\n"
          ]
        }
      ],
      "source": [
        "print(th.tensor(nparr)) # con función tensor\n",
        "print(th.Tensor(nparr)) # instanciando clase Tensor\n",
        "print(th.from_numpy(nparr)) ## con función from_numpy"
      ]
    },
    {
      "cell_type": "markdown",
      "metadata": {
        "id": "PPO8vkoAt5-E"
      },
      "source": [
        "De tensor a arreglo de NumPy con método `numpy` de cualquier instancia de `Tensor`."
      ]
    },
    {
      "cell_type": "code",
      "execution_count": 37,
      "metadata": {
        "id": "71-FwUH7t9gu",
        "colab": {
          "base_uri": "https://localhost:8080/"
        },
        "outputId": "0d061368-fb91-494a-b4c8-987cd9851085"
      },
      "outputs": [
        {
          "output_type": "stream",
          "name": "stdout",
          "text": [
            "[0 1 2 3 4 5 6 7 8 9]\n"
          ]
        }
      ],
      "source": [
        "print(tharr.numpy())"
      ]
    },
    {
      "cell_type": "markdown",
      "metadata": {
        "id": "CKGwAZQku52E"
      },
      "source": [
        "## Operaciones básicas\n",
        "PyTorch cuenta con operadores y funciones básicas para los tensores, similares a las de NumPy, entre ellas operadores elemento a elemento, multiplicación de tensores, etc.\n",
        "\n",
        "### Elemento a elemento\n",
        "Estas operaciones se realizan entre dos tensores que usualmente tienen el mismo tamaño. La salida es un tensor también del mismo tamaño que se obtiene aplicando la operación especificada entre cada elemento de un tensor y el correspondiente elemento del otro tensor. Estas operaciones pueden ser suma, resta, división, multiplicación, potenciación, etc."
      ]
    },
    {
      "cell_type": "code",
      "execution_count": 38,
      "metadata": {
        "id": "9XR6DMXX2L00",
        "colab": {
          "base_uri": "https://localhost:8080/"
        },
        "outputId": "c5a135f4-8412-426f-f779-59550f2375a3"
      },
      "outputs": [
        {
          "output_type": "stream",
          "name": "stdout",
          "text": [
            "x = tensor([[1., 2., 3.]])\n",
            "y = tensor([[3., 4., 5.]])\n",
            "10 * x = tensor([[10., 20., 30.]])\n",
            "x + y = tensor([[4., 6., 8.]])\n",
            "x - y = tensor([[-2., -2., -2.]])\n",
            "x * y = tensor([[ 3.,  8., 15.]])\n",
            "x / y = tensor([[0.3333, 0.5000, 0.6000]])\n",
            "x^y = tensor([[  1.,  16., 243.]])\n",
            "x^2 = tensor([[1., 4., 9.]])\n"
          ]
        }
      ],
      "source": [
        "x = th.tensor([[1., 2., 3.]])\n",
        "y = th.tensor([[3., 4., 5.]])\n",
        "\n",
        "print(f'x = {x}')\n",
        "print(f'y = {y}')\n",
        "print(f'10 * x = {10 * x}')\n",
        "print(f'x + y = {x + y}')\n",
        "print(f'x - y = {x - y}')\n",
        "print(f'x * y = {x * y}')\n",
        "print(f'x / y = {x / y}')\n",
        "print(f'x^y = {x**y}')\n",
        "print(f'x^2 = {x**2}')"
      ]
    },
    {
      "cell_type": "markdown",
      "metadata": {
        "id": "1AUEVAvw9KOB"
      },
      "source": [
        "### Transpuesta, producto y concatenación\n",
        "Podemos obtener la transpuesta de una matriz usando la función `transpose` (como argumentos se ponen los índices de los ejes en el orden deseado) o el método `.T` de cualquier instancia de `Tensor`. Además. o calcular el producto de dos vectores, dos matrices o un vector y una matriz."
      ]
    },
    {
      "cell_type": "code",
      "execution_count": 39,
      "metadata": {
        "id": "Y62XHd5kvXJZ",
        "colab": {
          "base_uri": "https://localhost:8080/"
        },
        "outputId": "d1330e9d-cdbc-4abc-afac-ff79e15d3a09"
      },
      "outputs": [
        {
          "output_type": "stream",
          "name": "stdout",
          "text": [
            "Transpuesta de x: torch.Size([3, 1])\n",
            "Transpuesta de y: torch.Size([3, 1])\n",
            "Transpuesta de M1: torch.Size([3, 4])\n",
            "Transpuesta de M2: torch.Size([2, 3])\n"
          ]
        }
      ],
      "source": [
        "# Generamos 2 matrices aleatorias\n",
        "M1 = th.rand((4,3))\n",
        "M2 = th.rand((3,2))\n",
        "\n",
        "print(f'Transpuesta de x: {th.transpose(x, 1, 0).shape}')\n",
        "print(f'Transpuesta de y: {y.T.shape}')\n",
        "print(f'Transpuesta de M1: {th.transpose(M1, 1, 0).shape}')\n",
        "print(f'Transpuesta de M2: {M2.T.shape}')"
      ]
    },
    {
      "cell_type": "markdown",
      "metadata": {
        "id": "hedsYYviv-tX"
      },
      "source": [
        "También podemos concatenar (función `concat`) una lista de tensores (primer argumento) sobre un eje específico (argumento `axis`)."
      ]
    },
    {
      "cell_type": "code",
      "execution_count": 40,
      "metadata": {
        "id": "ibPxuVNcwAbo",
        "colab": {
          "base_uri": "https://localhost:8080/"
        },
        "outputId": "feb60347-aef7-4baa-cc8a-6f1e27e67510"
      },
      "outputs": [
        {
          "output_type": "stream",
          "name": "stdout",
          "text": [
            "x = torch.Size([1, 3]), y = torch.Size([1, 3])\n",
            "Concatenación de vectores sobre eje 0: torch.Size([2, 3])\n",
            "Concatenación de vectores sobre eje 1: torch.Size([1, 6])\n",
            "Concatenación de matrices sobre eje 0: torch.Size([6, 3])\n",
            "Concatenación de matrices sobre eje 1: torch.Size([3, 6])\n"
          ]
        }
      ],
      "source": [
        "print(f'x = {x.shape}, y = {y.shape}')\n",
        "print(f'Concatenación de vectores sobre eje 0: {th.concat([x, y], axis=0).shape}')\n",
        "print(f'Concatenación de vectores sobre eje 1: {th.concat([x, y], axis=1).shape}')\n",
        "print(f'Concatenación de matrices sobre eje 0: {th.concat([M1, M2.T], axis=0).shape}') # no funciona sin transpuesta\n",
        "print(f'Concatenación de matrices sobre eje 1: {th.concat([M1.T, M2], axis=1).shape}')"
      ]
    },
    {
      "cell_type": "markdown",
      "metadata": {
        "id": "Ac6pydM0vRR6"
      },
      "source": [
        "De forma similar, es posible apilar tensores sobre un eje usando la función `stack` (el tensor resultando es un orden mayor al de los tensores de argumento, los cuales tienen la misma forma)."
      ]
    },
    {
      "cell_type": "code",
      "execution_count": 41,
      "metadata": {
        "colab": {
          "base_uri": "https://localhost:8080/"
        },
        "id": "NjghxJ4LvX0o",
        "outputId": "f32996ef-ec07-4d3a-e54f-8c3a357753eb"
      },
      "outputs": [
        {
          "output_type": "stream",
          "name": "stdout",
          "text": [
            "Apilado de vectores sobre eje 0: torch.Size([3, 5])\n",
            "Apilado de vectores sobre eje 1: torch.Size([5, 3])\n",
            "Apilado de matrices sobre eje 0: torch.Size([3, 2, 3])\n",
            "Apilado de matrices sobre eje 1: torch.Size([2, 3, 3])\n",
            "Apilado de matrices sobre eje 2: torch.Size([2, 3, 3])\n"
          ]
        }
      ],
      "source": [
        "v1 = th.rand([5])\n",
        "v2 = th.rand([5])\n",
        "v3 = th.rand([5])\n",
        "M1 = th.rand([2,3])\n",
        "M2 = th.rand([2,3])\n",
        "M3 = th.rand([2,3])\n",
        "\n",
        "print(f'Apilado de vectores sobre eje 0: {th.stack([v1, v2, v3], axis=0).shape}')\n",
        "print(f'Apilado de vectores sobre eje 1: {th.stack([v1, v2, v3], axis=1).shape}')\n",
        "print(f'Apilado de matrices sobre eje 0: {th.stack([M1, M2, M3], axis=0).shape}')\n",
        "print(f'Apilado de matrices sobre eje 1: {th.stack([M1, M2, M3], axis=1).shape}')\n",
        "print(f'Apilado de matrices sobre eje 2: {th.stack([M1, M2, M3], axis=2).shape}')"
      ]
    },
    {
      "cell_type": "markdown",
      "metadata": {
        "id": "dojbrYEZwqyF"
      },
      "source": [
        "## Reducción\n",
        "También se puede reducir un eje de un tensor con distintas funciones (y métodos equivalentes), tales como suma (`sum`), producto (`prod`) y promedio (`mean`):"
      ]
    },
    {
      "cell_type": "code",
      "execution_count": 42,
      "metadata": {
        "id": "5a6YRfdSxWIe",
        "colab": {
          "base_uri": "https://localhost:8080/"
        },
        "outputId": "8fc09ca6-f25f-4a22-d86d-36fc042df4ee"
      },
      "outputs": [
        {
          "output_type": "stream",
          "name": "stdout",
          "text": [
            "Valor máximo = 0.9951860308647156\n",
            "Valor mínimo = 0.016129791736602783\n",
            "Índice del valor máximo = 26\n",
            "Índice del valor mínimo = 18\n",
            "Suma = 11.806269645690918\n",
            "Producto = 1.9424619458856195e-17\n",
            "Promedio = 0.3935423195362091\n"
          ]
        }
      ],
      "source": [
        "x_reduccion = th.rand([3,10])\n",
        "\n",
        "print(f'Valor máximo = {th.max(x_reduccion)}') # x_reduccion.max()\n",
        "print(f'Valor mínimo = {th.min(x_reduccion)}') # x_reduccion.min()\n",
        "print(f'Índice del valor máximo = {th.argmax(x_reduccion)}') # x_reduccion.argmax()\n",
        "print(f'Índice del valor mínimo = {th.argmin(x_reduccion)}') # x_reduccion.argmin()\n",
        "print(f'Suma = {th.sum(x_reduccion)}') # x_reduccion.sum()\n",
        "print(f'Producto = {th.prod(x_reduccion)}') # x_reduccion.prod()\n",
        "print(f'Promedio = {th.mean(x_reduccion)}') # x_reduccion.mean()"
      ]
    },
    {
      "cell_type": "markdown",
      "source": [
        "Es posible especificar un eje donde se desea realizar la reducción, para las funciones/métodos `min` y `max` devuelven un par de tensores: el primero es el de valores mínimos y el segundo es el de los índices de estos valores. "
      ],
      "metadata": {
        "id": "0HfcxElqaH5g"
      }
    },
    {
      "cell_type": "code",
      "execution_count": 43,
      "metadata": {
        "id": "xyqyQ1MXypWl",
        "colab": {
          "base_uri": "https://localhost:8080/"
        },
        "outputId": "9675f13e-9f1f-4abb-d1b5-036efbcc0300"
      },
      "outputs": [
        {
          "output_type": "stream",
          "name": "stdout",
          "text": [
            "Max = tensor([0.7655, 0.1210, 0.4793, 0.7216, 0.8777, 0.8915, 0.9952, 0.9458, 0.4805,\n",
            "        0.3522])\n",
            "Índice del valor máximo = tensor([1, 0, 0, 1, 2, 2, 2, 2, 2, 1])\n",
            "Índice del valor máximo (argmax) = tensor([1, 0, 0, 1, 2, 2, 2, 2, 2, 1])\n",
            "Valor mínimo = tensor([0.1149, 0.0728, 0.1386, 0.2405, 0.2107, 0.1410, 0.2840, 0.0901, 0.0161,\n",
            "        0.3182])\n",
            "Índice del valor mínimo = tensor([0, 1, 2, 2, 0, 0, 1, 0, 1, 2])\n",
            "Índice del valor mínimo (argmin) = tensor([0, 1, 2, 2, 0, 0, 1, 0, 1, 2])\n",
            "Sum = tensor([1.5599, 0.2822, 0.7996, 1.4821, 1.6938, 1.2356, 1.8311, 1.1766, 0.7521,\n",
            "        0.9933])\n",
            "Prod = tensor([0.0598, 0.0008, 0.0121, 0.0902, 0.1120, 0.0255, 0.1560, 0.0120, 0.0020,\n",
            "        0.0362])\n",
            "Mean = tensor([0.5200, 0.0941, 0.2665, 0.4940, 0.5646, 0.4119, 0.6104, 0.3922, 0.2507,\n",
            "        0.3311])\n"
          ]
        }
      ],
      "source": [
        "print(f'Max = {x_reduccion.max(axis=0)[0]}') # th.max(x_reduccion, axis=0)[0]\n",
        "print(f'Índice del valor máximo = {x_reduccion.max(axis=0)[1]}') # th.max(x_reduccion, axis=0)[1]\n",
        "print(f'Índice del valor máximo (argmax) = {x_reduccion.argmax(axis=0)}') # th.argmax(x_reduccion, axis=0)\n",
        "print(f'Valor mínimo = {x_reduccion.min(axis=0)[0]}') # th.max(x_reduccion, axis=0)[0]\n",
        "print(f'Índice del valor mínimo = {x_reduccion.min(axis=0)[1]}') # th.min(x_reduccion, axis=0)[1]\n",
        "print(f'Índice del valor mínimo (argmin) = {x_reduccion.argmin(axis=0)}') # th.argmin(x_reduccion, axis=0)\n",
        "print(f'Sum = {x_reduccion.sum(axis=0)}') # th.sum(x_reduccion, axis=0)\n",
        "print(f'Prod = {x_reduccion.prod(axis=0)}') # th.prod(x_reduccion, axis=0)\n",
        "print(f'Mean = {x_reduccion.mean(axis=0)}') # th.mean(x_reduccion, axis=0) "
      ]
    },
    {
      "cell_type": "markdown",
      "metadata": {
        "id": "jolCsEBJyutI"
      },
      "source": [
        "Para el eje 1 del mismo tensor:"
      ]
    },
    {
      "cell_type": "code",
      "execution_count": 44,
      "metadata": {
        "id": "MtbI4B7ZywHp",
        "colab": {
          "base_uri": "https://localhost:8080/"
        },
        "outputId": "3f0fa08e-fcf8-41fd-e122-3e5f4643667a"
      },
      "outputs": [
        {
          "output_type": "stream",
          "name": "stdout",
          "text": [
            "Max = tensor([0.5519, 0.7655, 0.9952])\n",
            "Índice del valor máximo = tensor([6, 0, 6])\n",
            "Índice del valor máximo (argmax) = tensor([6, 0, 6])\n",
            "Valor mínimo = tensor([0.0901, 0.0161, 0.0883])\n",
            "Índice del valor mínimo = tensor([7, 8, 1])\n",
            "Índice del valor mínimo (argmin) = tensor([7, 8, 1])\n",
            "Sum = tensor([2.8071, 3.3433, 5.6559])\n",
            "Prod = tensor([4.2212e-07, 2.0418e-07, 2.2538e-04])\n",
            "Mean = tensor([0.2807, 0.3343, 0.5656])\n"
          ]
        }
      ],
      "source": [
        "print(f'Max = {x_reduccion.max(axis=1)[0]}') # th.max(x_reduccion, axis=1)[0]\n",
        "print(f'Índice del valor máximo = {x_reduccion.max(axis=1)[1]}') # th.max(x_reduccion, axis=1)[1]\n",
        "print(f'Índice del valor máximo (argmax) = {x_reduccion.argmax(axis=1)}') # th.argmax(x_reduccion, axis=1)\n",
        "print(f'Valor mínimo = {x_reduccion.min(axis=1)[0]}') # th.max(x_reduccion, axis=1)[0]\n",
        "print(f'Índice del valor mínimo = {x_reduccion.min(axis=1)[1]}') # th.min(x_reduccion, axis=1)[1]\n",
        "print(f'Índice del valor mínimo (argmin) = {x_reduccion.argmin(axis=1)}') # th.argmin(x_reduccion, axis=1)\n",
        "print(f'Sum = {x_reduccion.sum(axis=1)}') # th.sum(x_reduccion, axis=1)\n",
        "print(f'Prod = {x_reduccion.prod(axis=1)}') # th.prod(x_reduccion, axis=1)\n",
        "print(f'Mean = {x_reduccion.mean(axis=1)}') # th.mean(x_reduccion, axis=1) "
      ]
    },
    {
      "cell_type": "markdown",
      "metadata": {
        "id": "4P0gxS73slNY"
      },
      "source": [
        "Por otro lado, tenemos la función (y el método) `sort` que ordena un tensor. Al igual que `min` y `max`, cuando se especifica un eje `sort` regresa tanto el tensor de valores como el tensor de índices. Si solo requerimos los índices, podemos usar la función `argsort`."
      ]
    },
    {
      "cell_type": "code",
      "execution_count": 45,
      "metadata": {
        "id": "1fjuokqst6br",
        "colab": {
          "base_uri": "https://localhost:8080/"
        },
        "outputId": "295f4ecf-7d05-4641-b8cf-3fa56314fc90"
      },
      "outputs": [
        {
          "output_type": "stream",
          "name": "stdout",
          "text": [
            "Tensor desordenado: tensor([0.3803, 0.4146, 0.2990, 0.3251, 0.6426, 0.9328, 0.2926, 0.7066, 0.5022,\n",
            "        0.5394, 0.8053, 0.0409])\n",
            "Tensor de 3x4 tensor([[0.3803, 0.4146, 0.2990, 0.3251],\n",
            "        [0.6426, 0.9328, 0.2926, 0.7066],\n",
            "        [0.5022, 0.5394, 0.8053, 0.0409]])\n",
            "Tensor de orden 1 de menor a mayor: torch.return_types.sort(\n",
            "values=tensor([0.0409, 0.2926, 0.2990, 0.3251, 0.3803, 0.4146, 0.5022, 0.5394, 0.6426,\n",
            "        0.7066, 0.8053, 0.9328]),\n",
            "indices=tensor([11,  6,  2,  3,  0,  1,  8,  9,  4,  7, 10,  5]))\n",
            "Tensor de orden 1 de mayor a menor: torch.return_types.sort(\n",
            "values=tensor([0.9328, 0.8053, 0.7066, 0.6426, 0.5394, 0.5022, 0.4146, 0.3803, 0.3251,\n",
            "        0.2990, 0.2926, 0.0409]),\n",
            "indices=tensor([ 5, 10,  7,  4,  9,  8,  1,  0,  3,  2,  6, 11]))\n",
            "Tensor de orden 2 de menor a mayor sobre eje 0: torch.return_types.sort(\n",
            "values=tensor([[0.3803, 0.4146, 0.2926, 0.0409],\n",
            "        [0.5022, 0.5394, 0.2990, 0.3251],\n",
            "        [0.6426, 0.9328, 0.8053, 0.7066]]),\n",
            "indices=tensor([[0, 0, 1, 2],\n",
            "        [2, 2, 0, 0],\n",
            "        [1, 1, 2, 1]]))\n",
            "Tensor de orden 2 de menor a mayor sobre eje 1: torch.return_types.sort(\n",
            "values=tensor([[0.2990, 0.3251, 0.3803, 0.4146],\n",
            "        [0.2926, 0.6426, 0.7066, 0.9328],\n",
            "        [0.0409, 0.5022, 0.5394, 0.8053]]),\n",
            "indices=tensor([[2, 3, 0, 1],\n",
            "        [2, 0, 3, 1],\n",
            "        [3, 0, 1, 2]]))\n",
            "Índices de menor a mayor: tensor([11,  6,  2,  3,  0,  1,  8,  9,  4,  7, 10,  5])\n",
            "Índices de mayor a menor: tensor([ 5, 10,  7,  4,  9,  8,  1,  0,  3,  2,  6, 11])\n",
            "Índices de eje 0 de menor a mayor: tensor([[0, 0, 1, 2],\n",
            "        [2, 2, 0, 0],\n",
            "        [1, 1, 2, 1]])\n",
            "Índices de eje 1 de menor a mayor: tensor([[2, 3, 0, 1],\n",
            "        [2, 0, 3, 1],\n",
            "        [3, 0, 1, 2]])\n"
          ]
        }
      ],
      "source": [
        "desord = th.rand([12])\n",
        "print(f'Tensor desordenado: {desord}')\n",
        "print(f'Tensor de 3x4 {desord.reshape((3,4))}')\n",
        "\n",
        "print(f'Tensor de orden 1 de menor a mayor: {th.sort(desord, descending=False)}')\n",
        "print(f'Tensor de orden 1 de mayor a menor: {th.sort(desord, descending=True)}')\n",
        "\n",
        "print(f'Tensor de orden 2 de menor a mayor sobre eje 0: {th.sort(th.reshape(desord, (3,4)), descending=False, axis=0)}')\n",
        "print(f'Tensor de orden 2 de menor a mayor sobre eje 1: {th.sort(th.reshape(desord, (3,4)), descending=False, axis=1)}')\n",
        "\n",
        "print(f'Índices de menor a mayor: {th.argsort(desord, descending=False)}')\n",
        "print(f'Índices de mayor a menor: {th.argsort(desord, descending=True)}')\n",
        "print(f'Índices de eje 0 de menor a mayor: {th.argsort(desord.reshape((3,4)), descending=False, axis=0)}')\n",
        "print(f'Índices de eje 1 de menor a mayor: {th.argsort(desord.reshape((3,4)), descending=False, axis=1)}')"
      ]
    },
    {
      "cell_type": "markdown",
      "metadata": {
        "id": "ndKjVRsqF84d"
      },
      "source": [
        "## GPUs\n",
        "En muchos casos, el uso de GPUs reduce significativamente el tiempo de entrenamiento de los modelos basados en redes neuronales profundas. Por lo mismo, los marcos de trabajo como Tensorflow permiten crear o copiar tensores y ejecutar las operaciones tensoriales en uno o más CPUs/GPUs e incluso en distintas computadoras. Además, ofrecen herramientas para controlar de manera flexible dónde se crea o copia cada tensor y dónde se ejecuta cada operación. Por ello, cada instancia de la clase `Tensor` cuenta con el elemento `.device` que indica el dispositivo en el que se encuentra almacenado. Por defecto, los tensores se crean en el GPU."
      ]
    },
    {
      "cell_type": "code",
      "execution_count": 46,
      "metadata": {
        "id": "ys5WAZQ1F_H8",
        "colab": {
          "base_uri": "https://localhost:8080/"
        },
        "outputId": "a0e143a0-59be-443e-c7ef-bb2f8d046300"
      },
      "outputs": [
        {
          "output_type": "stream",
          "name": "stdout",
          "text": [
            "Dispositivo = cpu\n"
          ]
        }
      ],
      "source": [
        "xcpu = th.rand((100,100))\n",
        "print(f'Dispositivo = {xcpu.device}')"
      ]
    },
    {
      "cell_type": "markdown",
      "metadata": {
        "id": "JW5zZxnGtjPd"
      },
      "source": [
        "Podemos especificar explícitamente dónde queremos crear una instancia de `Tensor` usando el argumento `device` que tienen muchas funciones de PyTorch. Por ej. si queremos crear el tensor en GPU pasamos la cadena `cuda` o `cuda:0`, donde el valor después de los dos puntos en esta última forma especifica el índice del GPU (es distinto de 0 cuando tenemos múltiples GPUs disponibles)."
      ]
    },
    {
      "cell_type": "code",
      "execution_count": 47,
      "metadata": {
        "id": "2fVCcMmBGnRM",
        "colab": {
          "base_uri": "https://localhost:8080/"
        },
        "outputId": "89d9b8d3-8618-4a34-8b90-d6aee613fdc1"
      },
      "outputs": [
        {
          "output_type": "stream",
          "name": "stdout",
          "text": [
            "Dispositivo = (device(type='cuda', index=0), device(type='cuda', index=0))\n"
          ]
        }
      ],
      "source": [
        "xgpu1 = th.rand((100,100), device='cuda:0')\n",
        "xgpu2 = th.rand((100,100), device='cuda:0')\n",
        "print(f'Dispositivo = {xgpu1.device, xgpu2.device}')"
      ]
    },
    {
      "cell_type": "markdown",
      "metadata": {
        "id": "Cwu1qbBJt71F"
      },
      "source": [
        "Las operaciones que se realicen con estos tensores se correrán en el GPU y los tensores resultantes estarán en este mismo dispositivo."
      ]
    },
    {
      "cell_type": "code",
      "source": [
        "print(f'{(xgpu1 + xgpu2).device}')"
      ],
      "metadata": {
        "colab": {
          "base_uri": "https://localhost:8080/"
        },
        "id": "znzRRqWb8gn-",
        "outputId": "e741eda0-8053-4774-f289-d347be606627"
      },
      "execution_count": 48,
      "outputs": [
        {
          "output_type": "stream",
          "name": "stdout",
          "text": [
            "cuda:0\n"
          ]
        }
      ]
    },
    {
      "cell_type": "markdown",
      "source": [
        "Sin embargo, cuando realizamos una operación con tensores que se encuentran en dispositivos distintos, PyTorch lanza un error."
      ],
      "metadata": {
        "id": "gfF0Yzje88Qu"
      }
    },
    {
      "cell_type": "code",
      "execution_count": 49,
      "metadata": {
        "id": "W8a4FrFHHCB9"
      },
      "outputs": [],
      "source": [
        "# genera un error porque se quiere realizar un operación con tensores que están en distintos dispositivos\n",
        "# xgpu1 + xcpu"
      ]
    },
    {
      "cell_type": "markdown",
      "metadata": {
        "id": "vInzUPkzuX8v"
      },
      "source": [
        "Por lo tanto, para poder realizar esta operación es necesario transferir uno de los tensores a otro dispositivo. En PyTorch esto lo llevamos a cabo con el método `to`."
      ]
    },
    {
      "cell_type": "code",
      "execution_count": 50,
      "metadata": {
        "id": "1fR5FKJ-HT-E",
        "colab": {
          "base_uri": "https://localhost:8080/"
        },
        "outputId": "595dd444-18b5-4e37-c737-456495cc7741"
      },
      "outputs": [
        {
          "output_type": "stream",
          "name": "stdout",
          "text": [
            "cpu\n",
            "cuda:0\n"
          ]
        }
      ],
      "source": [
        "print(f'{(xgpu1.to(\"cpu\") + xcpu).device}')\n",
        "print(f'{(xgpu1 + xcpu.to(\"cuda\")).device}')"
      ]
    },
    {
      "cell_type": "markdown",
      "metadata": {
        "id": "zv3gcjM6utuE"
      },
      "source": [
        "Para saber si algún GPU está disponible, contamos con la función `is_available` del módulo de `cuda`."
      ]
    },
    {
      "cell_type": "code",
      "source": [
        "print(f'{th.cuda.is_available()}')"
      ],
      "metadata": {
        "colab": {
          "base_uri": "https://localhost:8080/"
        },
        "id": "ER54V0FH-hy4",
        "outputId": "4babd669-9cac-4758-af3a-2e0ac213f8c7"
      },
      "execution_count": 51,
      "outputs": [
        {
          "output_type": "stream",
          "name": "stdout",
          "text": [
            "True\n"
          ]
        }
      ]
    },
    {
      "cell_type": "markdown",
      "source": [
        "Comparémos ahora los tiempos de ejecución en CPU y GPU de una multiplicación de dos matrices."
      ],
      "metadata": {
        "id": "VvLD_J9E-rP_"
      }
    },
    {
      "cell_type": "code",
      "execution_count": 52,
      "metadata": {
        "id": "b993S-xt7RRY",
        "colab": {
          "base_uri": "https://localhost:8080/"
        },
        "outputId": "b224dfbe-70ac-4525-f1c6-2ed887f19947"
      },
      "outputs": [
        {
          "output_type": "stream",
          "name": "stdout",
          "text": [
            "tensor([[2499.2825, 2528.1794, 2515.3621,  ..., 2503.5759, 2530.5601,\n",
            "         2522.3784],\n",
            "        [2473.7625, 2499.4705, 2478.3386,  ..., 2469.1765, 2507.0325,\n",
            "         2504.0264],\n",
            "        [2521.0120, 2537.6707, 2532.9814,  ..., 2515.5381, 2545.3018,\n",
            "         2540.0166],\n",
            "        ...,\n",
            "        [2462.8530, 2482.8855, 2465.8928,  ..., 2461.8088, 2491.6279,\n",
            "         2483.4465],\n",
            "        [2510.2710, 2544.7288, 2504.7910,  ..., 2514.9312, 2534.3975,\n",
            "         2529.9126],\n",
            "        [2484.7905, 2523.1753, 2493.1162,  ..., 2492.6626, 2512.4226,\n",
            "         2520.3870]])\n",
            "28.4 s ± 0 ns per loop (mean ± std. dev. of 1 run, 1 loop each)\n"
          ]
        }
      ],
      "source": [
        "%%timeit -n1 -r1\n",
        "disp = 'cpu'\n",
        "print(f'{th.rand((10000,10000), device=disp) @ th.rand((10000,10000), device=disp)}')"
      ]
    },
    {
      "cell_type": "code",
      "execution_count": 53,
      "metadata": {
        "id": "SXjywBQ17sBw",
        "colab": {
          "base_uri": "https://localhost:8080/"
        },
        "outputId": "19316ad7-4160-4f49-f956-74d96d041768"
      },
      "outputs": [
        {
          "output_type": "stream",
          "name": "stdout",
          "text": [
            "tensor([[2481.1917, 2474.5183, 2469.2876,  ..., 2478.3320, 2455.5205,\n",
            "         2467.0171],\n",
            "        [2492.7500, 2485.4753, 2497.4526,  ..., 2502.2185, 2456.4038,\n",
            "         2484.2300],\n",
            "        [2500.3464, 2505.5837, 2493.3689,  ..., 2482.5491, 2474.1230,\n",
            "         2481.0161],\n",
            "        ...,\n",
            "        [2512.8955, 2529.6301, 2533.0522,  ..., 2533.3564, 2515.6580,\n",
            "         2511.7749],\n",
            "        [2525.2305, 2537.8325, 2520.4155,  ..., 2516.0530, 2518.5938,\n",
            "         2515.8918],\n",
            "        [2488.2454, 2480.3728, 2495.4624,  ..., 2507.7048, 2493.0857,\n",
            "         2487.9937]], device='cuda:0')\n",
            "2.92 s ± 0 ns per loop (mean ± std. dev. of 1 run, 1 loop each)\n"
          ]
        }
      ],
      "source": [
        "%%timeit -n1 -r1\n",
        "disp = 'cuda'\n",
        "print(f'{th.rand((10000,10000), device=disp) @ th.rand((10000,10000), device=disp)}')"
      ]
    },
    {
      "cell_type": "markdown",
      "metadata": {
        "id": "A5pvTOxDCUHc"
      },
      "source": [
        "### Ejercicio\n",
        "Calcula y despliega el producto de cada matriz de $400 \\times 1000$ en un tensor aleatorio $A$ de tamaño $500 \\times 400 \\times 1000$ con la transpuesta de un tensor aleatorio $B$ de tamaño $200 \\times 1000$. Concatena el resultado a un tensor aleatorio $C$ con el mismo número de columnas que el resultado de la operación anterior. Compara los tiempos de ejecución de esta operación en GPU y CPU."
      ]
    }
  ]
}