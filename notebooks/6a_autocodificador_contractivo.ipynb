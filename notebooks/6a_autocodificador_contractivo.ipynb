{
  "nbformat": 4,
  "nbformat_minor": 0,
  "metadata": {
    "accelerator": "GPU",
    "colab": {
      "name": "6a_autocodificadores.ipynb",
      "provenance": [],
      "collapsed_sections": [],
      "include_colab_link": true
    },
    "kernelspec": {
      "display_name": "Python 3",
      "language": "python",
      "name": "python3"
    },
    "language_info": {
      "codemirror_mode": {
        "name": "ipython",
        "version": 3
      },
      "file_extension": ".py",
      "mimetype": "text/x-python",
      "name": "python",
      "nbconvert_exporter": "python",
      "pygments_lexer": "ipython3",
      "version": "3.7.3"
    }
  },
  "cells": [
    {
      "cell_type": "markdown",
      "metadata": {
        "id": "view-in-github",
        "colab_type": "text"
      },
      "source": [
        "<a href=\"https://colab.research.google.com/github/gibranfp/CursoAprendizajeProfundo/blob/2022-1/notebooks/6a_autocodificador_contractivo.ipynb\" target=\"_parent\"><img src=\"https://colab.research.google.com/assets/colab-badge.svg\" alt=\"Open In Colab\"/></a>"
      ]
    },
    {
      "cell_type": "markdown",
      "metadata": {
        "id": "aqjbxeS9ZTrD"
      },
      "source": [
        "# Autocodificadores\n",
        "En este libreta programaremos un autocodificador contractivo simple usando Pytorch y lo usaremos para reducir dimensiones en tres conjuntos de datos. "
      ]
    },
    {
      "cell_type": "code",
      "metadata": {
        "colab": {
          "base_uri": "https://localhost:8080/"
        },
        "id": "xFiTTx7MV-xx",
        "outputId": "63788773-1e28-445b-af4b-a0d75681d579"
      },
      "source": [
        "import os\n",
        "\n",
        "import numpy as np\n",
        "import pandas as pd\n",
        "import matplotlib.pyplot as plt\n",
        "\n",
        "from sklearn.datasets import load_wine, load_digits\n",
        "from sklearn.decomposition import PCA\n",
        "from sklearn.preprocessing import StandardScaler\n",
        "\n",
        "import torch\n",
        "from torch.nn import Sequential\n",
        "from torch.nn import Linear, Sigmoid, Tanh\n",
        "from torch.optim import Adam\n",
        "\n",
        "from torch.utils.data import Dataset, DataLoader\n",
        "from torchvision.datasets.utils import download_url\n",
        "\n",
        "from itertools import islice as take\n",
        "\n",
        "URL = 'https://raw.githubusercontent.com/gibranfp/CursoAprendizajeProfundo/2022-1/data/iris.csv'\n",
        "base_dir = '../data/iris/'\n",
        "filename = 'iris.csv'\n",
        "filepath = os.path.join(base_dir, 'iris.csv')\n",
        "\n",
        "torch.manual_seed(42)"
      ],
      "execution_count": 1,
      "outputs": [
        {
          "output_type": "execute_result",
          "data": {
            "text/plain": [
              "<torch._C.Generator at 0x7fe3698f1f90>"
            ]
          },
          "metadata": {},
          "execution_count": 1
        }
      ]
    },
    {
      "cell_type": "markdown",
      "metadata": {
        "id": "xjB9QXHhPIMo"
      },
      "source": [
        "Definimos nuestro autocodificador en una subclase, donde tanto el codificador como el decodificador tienen arquitecturas secuenciales. "
      ]
    },
    {
      "cell_type": "code",
      "metadata": {
        "id": "kSw9zuJBjUoP"
      },
      "source": [
        "class Autocodificador(torch.nn.Module):\n",
        "  def __init__(self, d, n_ocultas, n_salidas):\n",
        "    super(Autocodificador, self).__init__()  \n",
        "    \n",
        "    self.cod = Sequential(Linear(d, n_ocultas),\n",
        "                          Tanh(),\n",
        "                          Linear(n_ocultas, n_ocultas),\n",
        "                          Tanh(), \n",
        "                          Linear(n_ocultas, n_salidas))\n",
        "    self.dec = Sequential(Linear(n_salidas, n_ocultas),\n",
        "                          Tanh(),\n",
        "                          Linear(n_ocultas, n_ocultas),                          \n",
        "                          Tanh(),\n",
        "                          Linear(n_ocultas, d))\n",
        "\n",
        "  def forward(self, x):\n",
        "    z = self.cod(x)\n",
        "    x = self.dec(z)\n",
        "\n",
        "    return x"
      ],
      "execution_count": 2,
      "outputs": []
    },
    {
      "cell_type": "markdown",
      "metadata": {
        "id": "8NgbBQt8PZtt"
      },
      "source": [
        "Probemos nuestro autocodificador con datos generados aleatorioriamente."
      ]
    },
    {
      "cell_type": "code",
      "metadata": {
        "colab": {
          "base_uri": "https://localhost:8080/"
        },
        "id": "zSePCBnELufX",
        "outputId": "659e8d1f-fe34-405a-ab9c-793ffc0ba66e"
      },
      "source": [
        "ac = Autocodificador(d=4, n_ocultas=5, n_salidas=2)\n",
        "x = torch.rand(16,4)\n",
        "print(x)\n",
        "print(x.shape)\n",
        "print(ac.cod(x))\n",
        "print(ac.cod(x).shape)\n",
        "print(ac(x))\n",
        "print(ac(x).shape)"
      ],
      "execution_count": 3,
      "outputs": [
        {
          "output_type": "stream",
          "name": "stdout",
          "text": [
            "tensor([[0.0850, 0.0029, 0.6431, 0.3908],\n",
            "        [0.6947, 0.0897, 0.8712, 0.1330],\n",
            "        [0.4137, 0.6044, 0.7581, 0.9037],\n",
            "        [0.9555, 0.1035, 0.6258, 0.2849],\n",
            "        [0.4452, 0.1258, 0.9554, 0.1330],\n",
            "        [0.7672, 0.6757, 0.6625, 0.2297],\n",
            "        [0.9545, 0.6099, 0.5643, 0.0594],\n",
            "        [0.7099, 0.4250, 0.2709, 0.9295],\n",
            "        [0.6115, 0.2234, 0.2469, 0.4761],\n",
            "        [0.7792, 0.3722, 0.2147, 0.3288],\n",
            "        [0.1265, 0.6783, 0.8870, 0.0293],\n",
            "        [0.6161, 0.7583, 0.5907, 0.3219],\n",
            "        [0.7610, 0.7628, 0.6870, 0.4121],\n",
            "        [0.3676, 0.5535, 0.4117, 0.3510],\n",
            "        [0.8196, 0.9297, 0.4505, 0.3881],\n",
            "        [0.5073, 0.4701, 0.6202, 0.6401]])\n",
            "torch.Size([16, 4])\n",
            "tensor([[-0.0927,  0.3174],\n",
            "        [-0.0217,  0.2373],\n",
            "        [-0.0410,  0.2554],\n",
            "        [-0.0040,  0.2155],\n",
            "        [-0.0409,  0.2611],\n",
            "        [-0.0077,  0.2275],\n",
            "        [ 0.0048,  0.2147],\n",
            "        [-0.0334,  0.2490],\n",
            "        [-0.0469,  0.2672],\n",
            "        [-0.0279,  0.2496],\n",
            "        [-0.0626,  0.2974],\n",
            "        [-0.0230,  0.2462],\n",
            "        [-0.0063,  0.2243],\n",
            "        [-0.0595,  0.2872],\n",
            "        [-0.0068,  0.2297],\n",
            "        [-0.0384,  0.2554]], grad_fn=<AddmmBackward0>)\n",
            "torch.Size([16, 2])\n",
            "tensor([[-0.1130,  0.5232,  0.0552, -0.1444],\n",
            "        [-0.1139,  0.5199,  0.0492, -0.1330],\n",
            "        [-0.1137,  0.5207,  0.0508, -0.1363],\n",
            "        [-0.1141,  0.5190,  0.0476, -0.1301],\n",
            "        [-0.1136,  0.5209,  0.0509, -0.1361],\n",
            "        [-0.1140,  0.5194,  0.0481, -0.1304],\n",
            "        [-0.1142,  0.5188,  0.0470, -0.1282],\n",
            "        [-0.1137,  0.5204,  0.0502, -0.1350],\n",
            "        [-0.1136,  0.5212,  0.0514, -0.1371],\n",
            "        [-0.1138,  0.5204,  0.0498, -0.1338],\n",
            "        [-0.1133,  0.5223,  0.0529, -0.1389],\n",
            "        [-0.1138,  0.5202,  0.0494, -0.1329],\n",
            "        [-0.1140,  0.5193,  0.0479, -0.1302],\n",
            "        [-0.1134,  0.5219,  0.0525, -0.1388],\n",
            "        [-0.1140,  0.5195,  0.0480, -0.1301],\n",
            "        [-0.1137,  0.5207,  0.0506, -0.1358]], grad_fn=<AddmmBackward0>)\n",
            "torch.Size([16, 4])\n"
          ]
        }
      ]
    },
    {
      "cell_type": "markdown",
      "metadata": {
        "id": "ehYDqB3dWbvT"
      },
      "source": [
        "Creamos una subclase de `Dataset` para cargar los tres conjuntos de datos que utilizaremos. "
      ]
    },
    {
      "cell_type": "code",
      "metadata": {
        "id": "SAJkY3q2eouW"
      },
      "source": [
        "class MiDS(Dataset):    \n",
        "    def __init__(self, X):\n",
        "        self.x = X\n",
        "\n",
        "    def __getitem__(self, i):\n",
        "        return self.x[i]\n",
        "\n",
        "    def __len__(self):\n",
        "        return len(self.x)"
      ],
      "execution_count": 4,
      "outputs": []
    },
    {
      "cell_type": "markdown",
      "metadata": {
        "id": "5cxGkFdSPzbd"
      },
      "source": [
        "Probamos esta subclase con los datos generados aleatoriamente."
      ]
    },
    {
      "cell_type": "code",
      "metadata": {
        "colab": {
          "base_uri": "https://localhost:8080/"
        },
        "id": "x2DycYOkO6vV",
        "outputId": "ae8850f5-fac8-42dd-d772-2db125bf92e8"
      },
      "source": [
        "ds = MiDS(x)\n",
        "print(len(ds))\n",
        "print(ds[1])"
      ],
      "execution_count": 5,
      "outputs": [
        {
          "output_type": "stream",
          "name": "stdout",
          "text": [
            "16\n",
            "tensor([0.6947, 0.0897, 0.8712, 0.1330])\n"
          ]
        }
      ]
    },
    {
      "cell_type": "markdown",
      "metadata": {
        "id": "kTOEq6SgWZdF"
      },
      "source": [
        "Para hacer más fácil la generación de los cargadores de datos de los tres conjuntos de datos, definimos una función que toma un arreglo de NumPy y el tamaño de lote, estandariza los datos y crea y regresa el cargador de datos."
      ]
    },
    {
      "cell_type": "code",
      "metadata": {
        "id": "4rL6FGK5QOaP"
      },
      "source": [
        "def numpy_a_dataloader(X, t_lote):\n",
        "  sc = StandardScaler()\n",
        "  X = sc.fit_transform(X).astype('float32')\n",
        "\n",
        "  ds = MiDS(X)\n",
        "  print('Tamaño del conjunto de datos: {0}'.format(len(ds)))\n",
        "\n",
        "  dl = DataLoader(ds, \n",
        "                  batch_size=t_lote, \n",
        "                  shuffle=True)\n",
        "\n",
        "  for x in take(dl, 1):\n",
        "    print(f'x shape={x.shape} dtype={x.dtype}')\n",
        "\n",
        "  return X, dl"
      ],
      "execution_count": 6,
      "outputs": []
    },
    {
      "cell_type": "markdown",
      "metadata": {
        "id": "R_S-WIPcQYo_"
      },
      "source": [
        "Probamos nuestra función con los datos generados aleatoriamente."
      ]
    },
    {
      "cell_type": "code",
      "metadata": {
        "colab": {
          "base_uri": "https://localhost:8080/"
        },
        "id": "Pm_SJtngPJ8u",
        "outputId": "0cadeb63-00c8-49d8-d6e7-35dfcc6548c2"
      },
      "source": [
        "x, dl = numpy_a_dataloader(x, 2)"
      ],
      "execution_count": 7,
      "outputs": [
        {
          "output_type": "stream",
          "name": "stdout",
          "text": [
            "Tamaño del conjunto de datos: 16\n",
            "x shape=torch.Size([2, 4]) dtype=torch.float32\n"
          ]
        }
      ]
    },
    {
      "cell_type": "markdown",
      "metadata": {
        "id": "SUMUO6yRQdQt"
      },
      "source": [
        "Encapsulamos la definición, el entrenamiento y la inferencia de los autocodificadores que vamos evaluar en una clase."
      ]
    },
    {
      "cell_type": "code",
      "metadata": {
        "id": "y7jupNGxHljn"
      },
      "source": [
        "class Modelo:\n",
        "  def __init__(self, d, n_ocultas=10, n_salidas=2):\n",
        "    self.ac = Autocodificador(d=d, n_ocultas=n_ocultas, n_salidas=n_salidas)\n",
        " \n",
        "  def fit(self, X, n_epocas=100):\n",
        "    opt = Adam(self.ac.parameters())\n",
        "\n",
        "    perdidas = []\n",
        "    for e in range(n_epocas):   \n",
        "      perdidas_epoca = [] \n",
        "      for r in X:\n",
        "        xs = self.ac(r)\n",
        "        p = torch.nn.functional.mse_loss(xs, r)\n",
        "        opt.zero_grad()\n",
        "        p.backward()\n",
        "        opt.step()\n",
        "        perdidas_epoca.append(p.item())\n",
        "      \n",
        "      perdidas.append(np.mean(perdidas_epoca))\n",
        "\n",
        "    return perdidas\n",
        "\n",
        "  def transform(self, X):\n",
        "    with torch.no_grad():\n",
        "      return self.ac.cod(torch.from_numpy(X)).numpy()"
      ],
      "execution_count": 8,
      "outputs": []
    },
    {
      "cell_type": "markdown",
      "metadata": {
        "id": "80xNzPOjV2mk"
      },
      "source": [
        "Finalmente, creamos una función para visualizar los datos mapeados por el codificador y comparándolos con los de PCA."
      ]
    },
    {
      "cell_type": "code",
      "metadata": {
        "id": "ePwDQBJLPgSX"
      },
      "source": [
        "def grafica_mapeos(X_ac, X_pca, y, etiquetas):\n",
        "  fig, (ax1, ax2) = plt.subplots(1, 2)\n",
        "\n",
        "  for e in etiquetas:\n",
        "    ax1.scatter(X_ac[y==e, 0], \n",
        "                X_ac[y==e, 1], \n",
        "                label=e)\n",
        "\n",
        "    ax2.scatter(X_pca[y==e, 0], \n",
        "                X_pca[y==e, 1], \n",
        "                label=e)\n",
        "    \n",
        "  ax1.set_title('Autocodificador')\n",
        "  ax2.set_title('PCA')"
      ],
      "execution_count": 9,
      "outputs": []
    },
    {
      "cell_type": "markdown",
      "metadata": {
        "id": "w7meg8JOiOns"
      },
      "source": [
        "## Conjunto de datos de la flor Iris\n",
        "Se carga el conjunto de datos Iris usando las funciones predefinidas de PyTorch:"
      ]
    },
    {
      "cell_type": "code",
      "metadata": {
        "colab": {
          "base_uri": "https://localhost:8080/"
        },
        "id": "qlQELSowPD8_",
        "outputId": "4612fe7a-134c-4df4-f0ed-3763158150fa"
      },
      "source": [
        "download_url(URL, base_dir, filename)"
      ],
      "execution_count": 10,
      "outputs": [
        {
          "output_type": "stream",
          "name": "stdout",
          "text": [
            "Using downloaded and verified file: ../data/iris/iris.csv\n"
          ]
        }
      ]
    },
    {
      "cell_type": "markdown",
      "metadata": {
        "id": "SffbmoNmQ_tN"
      },
      "source": [
        "Leemos el archivo y mostramos algunos ejemplos."
      ]
    },
    {
      "cell_type": "code",
      "metadata": {
        "colab": {
          "base_uri": "https://localhost:8080/",
          "height": 204
        },
        "id": "TIgxGMtQPKzu",
        "outputId": "e1417085-96ad-448f-bede-7324ed1289f1"
      },
      "source": [
        "columns = ('largo sépalo', 'ancho sépalo', 'largo pétalo', 'ancho pétalo', 'clase')\n",
        "df = pd.read_csv('../data/iris/iris.csv', names=columns)\n",
        "df.head()"
      ],
      "execution_count": 11,
      "outputs": [
        {
          "output_type": "execute_result",
          "data": {
            "text/html": [
              "<div>\n",
              "<style scoped>\n",
              "    .dataframe tbody tr th:only-of-type {\n",
              "        vertical-align: middle;\n",
              "    }\n",
              "\n",
              "    .dataframe tbody tr th {\n",
              "        vertical-align: top;\n",
              "    }\n",
              "\n",
              "    .dataframe thead th {\n",
              "        text-align: right;\n",
              "    }\n",
              "</style>\n",
              "<table border=\"1\" class=\"dataframe\">\n",
              "  <thead>\n",
              "    <tr style=\"text-align: right;\">\n",
              "      <th></th>\n",
              "      <th>largo sépalo</th>\n",
              "      <th>ancho sépalo</th>\n",
              "      <th>largo pétalo</th>\n",
              "      <th>ancho pétalo</th>\n",
              "      <th>clase</th>\n",
              "    </tr>\n",
              "  </thead>\n",
              "  <tbody>\n",
              "    <tr>\n",
              "      <th>0</th>\n",
              "      <td>5.1</td>\n",
              "      <td>3.5</td>\n",
              "      <td>1.4</td>\n",
              "      <td>0.2</td>\n",
              "      <td>Iris-setosa</td>\n",
              "    </tr>\n",
              "    <tr>\n",
              "      <th>1</th>\n",
              "      <td>4.9</td>\n",
              "      <td>3.0</td>\n",
              "      <td>1.4</td>\n",
              "      <td>0.2</td>\n",
              "      <td>Iris-setosa</td>\n",
              "    </tr>\n",
              "    <tr>\n",
              "      <th>2</th>\n",
              "      <td>4.7</td>\n",
              "      <td>3.2</td>\n",
              "      <td>1.3</td>\n",
              "      <td>0.2</td>\n",
              "      <td>Iris-setosa</td>\n",
              "    </tr>\n",
              "    <tr>\n",
              "      <th>3</th>\n",
              "      <td>4.6</td>\n",
              "      <td>3.1</td>\n",
              "      <td>1.5</td>\n",
              "      <td>0.2</td>\n",
              "      <td>Iris-setosa</td>\n",
              "    </tr>\n",
              "    <tr>\n",
              "      <th>4</th>\n",
              "      <td>5.0</td>\n",
              "      <td>3.6</td>\n",
              "      <td>1.4</td>\n",
              "      <td>0.2</td>\n",
              "      <td>Iris-setosa</td>\n",
              "    </tr>\n",
              "  </tbody>\n",
              "</table>\n",
              "</div>"
            ],
            "text/plain": [
              "   largo sépalo  ancho sépalo  largo pétalo  ancho pétalo        clase\n",
              "0           5.1           3.5           1.4           0.2  Iris-setosa\n",
              "1           4.9           3.0           1.4           0.2  Iris-setosa\n",
              "2           4.7           3.2           1.3           0.2  Iris-setosa\n",
              "3           4.6           3.1           1.5           0.2  Iris-setosa\n",
              "4           5.0           3.6           1.4           0.2  Iris-setosa"
            ]
          },
          "metadata": {},
          "execution_count": 11
        }
      ]
    },
    {
      "cell_type": "markdown",
      "metadata": {
        "id": "xvCehwkcRHJ-"
      },
      "source": [
        "Extraemos los atributos de las flores en un arreglo de NumPy (omitiendo la clase) y creamos nuestro cargador de datos."
      ]
    },
    {
      "cell_type": "code",
      "metadata": {
        "colab": {
          "base_uri": "https://localhost:8080/"
        },
        "id": "v6xbMX2kRjjA",
        "outputId": "928b56af-549b-4b7f-d333-d91ace48e1bd"
      },
      "source": [
        "Xiris = df.loc[:, df.columns!='clase'].to_numpy()\n",
        "irisdim = Xiris.shape[-1]\n",
        "Xiris, irisdl = numpy_a_dataloader(Xiris, 10)"
      ],
      "execution_count": 12,
      "outputs": [
        {
          "output_type": "stream",
          "name": "stdout",
          "text": [
            "Tamaño del conjunto de datos: 150\n",
            "x shape=torch.Size([10, 4]) dtype=torch.float32\n"
          ]
        }
      ]
    },
    {
      "cell_type": "markdown",
      "metadata": {
        "id": "EruevTCfRcxP"
      },
      "source": [
        "Instanciamos y entrenamos nuestro autocodificador con el cargador de datos creado."
      ]
    },
    {
      "cell_type": "code",
      "metadata": {
        "colab": {
          "base_uri": "https://localhost:8080/",
          "height": 283
        },
        "id": "48GeWvuU2-gn",
        "outputId": "d2327108-f553-45f7-b245-9fb8dc328f6d"
      },
      "source": [
        "irisac = Modelo(irisdim, 2, 2)\n",
        "perdidas = irisac.fit(irisdl)\n",
        "\n",
        "plt.plot(perdidas)\n",
        "plt.xlabel('Época')\n",
        "plt.ylabel('Pérdida')\n",
        "plt.show()"
      ],
      "execution_count": 13,
      "outputs": [
        {
          "output_type": "display_data",
          "data": {
            "image/png": "[encoded data removed]",
            "text/plain": [
              "<Figure size 432x288 with 1 Axes>"
            ]
          },
          "metadata": {
            "needs_background": "light"
          }
        }
      ]
    },
    {
      "cell_type": "markdown",
      "metadata": {
        "id": "Y9qAX2zORhEO"
      },
      "source": [
        "Mapeamos los datos a los vectores generador por el codificador entrenado."
      ]
    },
    {
      "cell_type": "code",
      "metadata": {
        "id": "vbPvIHB7FCqu"
      },
      "source": [
        "X_irisac = irisac.transform(Xiris)"
      ],
      "execution_count": 14,
      "outputs": []
    },
    {
      "cell_type": "markdown",
      "metadata": {
        "id": "NQ_zZ-WehIqa"
      },
      "source": [
        "Se visualizan los vectores latentes y se comparan con los producidos por _Principal Component Analysis_ (PCA):\n",
        "\n"
      ]
    },
    {
      "cell_type": "code",
      "metadata": {
        "colab": {
          "base_uri": "https://localhost:8080/",
          "height": 281
        },
        "id": "MrT7P7DeDcwu",
        "outputId": "8e979249-086f-42a1-91c7-dffdd26da0da"
      },
      "source": [
        "irispca = PCA(n_components=2)\n",
        "X_irispca = irispca.fit_transform(Xiris)\n",
        "grafica_mapeos(X_irisac, X_irispca, df.clase, list(df.clase.unique()))"
      ],
      "execution_count": 15,
      "outputs": [
        {
          "output_type": "display_data",
          "data": {
            "image/png": "[encoded data removed]",
            "text/plain": [
              "<Figure size 432x288 with 2 Axes>"
            ]
          },
          "metadata": {
            "needs_background": "light"
          }
        }
      ]
    },
    {
      "cell_type": "markdown",
      "metadata": {
        "id": "_TiYXPBdiUZl"
      },
      "source": [
        "## Conjunto de datos de vinos"
      ]
    },
    {
      "cell_type": "markdown",
      "metadata": {
        "id": "NraqqRPfiDOt"
      },
      "source": [
        "Se carga el conjunto de datos Wine usando las funciones predefinidas de scikit-learn y se crea el cargador de datos:"
      ]
    },
    {
      "cell_type": "code",
      "metadata": {
        "colab": {
          "base_uri": "https://localhost:8080/"
        },
        "id": "_4NieGcc8VdH",
        "outputId": "bb2d7341-bcd5-4af7-e827-15c0921dba9b"
      },
      "source": [
        "vino = load_wine()\n",
        "vinodim = vino.data.shape[-1]\n",
        "Xvino, vinodl = numpy_a_dataloader(X=vino.data, t_lote=10)"
      ],
      "execution_count": 16,
      "outputs": [
        {
          "output_type": "stream",
          "name": "stdout",
          "text": [
            "Tamaño del conjunto de datos: 178\n",
            "x shape=torch.Size([10, 13]) dtype=torch.float32\n"
          ]
        }
      ]
    },
    {
      "cell_type": "markdown",
      "metadata": {
        "id": "3kUlsyMGR6sY"
      },
      "source": [
        "Instanciamos y entrenamos el autocodificador con el cargador de datos creado."
      ]
    },
    {
      "cell_type": "code",
      "metadata": {
        "colab": {
          "base_uri": "https://localhost:8080/",
          "height": 281
        },
        "id": "MUZ_KO2yBM3P",
        "outputId": "9b6b1459-2834-4566-b84c-6872bc69ce86"
      },
      "source": [
        "vinoac = Modelo(vinodim)\n",
        "perdidas = vinoac.fit(vinodl)\n",
        "\n",
        "plt.plot(perdidas)\n",
        "plt.xlabel('Época')\n",
        "plt.ylabel('Pérdida')\n",
        "plt.show()"
      ],
      "execution_count": 17,
      "outputs": [
        {
          "output_type": "display_data",
          "data": {
            "image/png": "[encoded data removed]",
            "text/plain": [
              "<Figure size 432x288 with 1 Axes>"
            ]
          },
          "metadata": {
            "needs_background": "light"
          }
        }
      ]
    },
    {
      "cell_type": "markdown",
      "metadata": {
        "id": "F_LYQ7d_heZv"
      },
      "source": [
        "Se mapea el conjunto de datos a vectores producidos por el codificador entrenado."
      ]
    },
    {
      "cell_type": "code",
      "metadata": {
        "id": "hDb8LtxsTCL_"
      },
      "source": [
        "X_vinoac = vinoac.transform(Xvino)"
      ],
      "execution_count": 18,
      "outputs": []
    },
    {
      "cell_type": "markdown",
      "metadata": {
        "id": "PFU9AXaIhi3_"
      },
      "source": [
        "Se visualizan los vectores latentes y se comparan con los producidos por _Principal Component Analysis_ (PCA):"
      ]
    },
    {
      "cell_type": "code",
      "metadata": {
        "colab": {
          "base_uri": "https://localhost:8080/",
          "height": 281
        },
        "id": "CpL73_yXizO-",
        "outputId": "e73a9320-9a9c-40e5-e190-79f7d6d93de1"
      },
      "source": [
        "pca = PCA(n_components=2)\n",
        "X_vinopca = pca.fit_transform(Xvino)\n",
        "grafica_mapeos(X_vinoac, X_vinopca, vino.target, np.unique(vino.target))"
      ],
      "execution_count": 19,
      "outputs": [
        {
          "output_type": "display_data",
          "data": {
            "image/png": "[encoded data removed]",
            "text/plain": [
              "<Figure size 432x288 with 2 Axes>"
            ]
          },
          "metadata": {
            "needs_background": "light"
          }
        }
      ]
    },
    {
      "cell_type": "markdown",
      "metadata": {
        "id": "jMlfU1imjKkN"
      },
      "source": [
        "## Conjunto de datos de dígitos"
      ]
    },
    {
      "cell_type": "markdown",
      "metadata": {
        "id": "4W8qFEAEiMvo"
      },
      "source": [
        "Se carga el conjunto de datos Digits usando las funciones predefinidas de scikit-learn y se crea el cargador de datos."
      ]
    },
    {
      "cell_type": "code",
      "metadata": {
        "colab": {
          "base_uri": "https://localhost:8080/"
        },
        "id": "PD1WgNyyjKWt",
        "outputId": "d45ea66c-5554-4f83-91a7-dd2fea1545dd"
      },
      "source": [
        "digitos = load_digits()\n",
        "digitosdim = digitos.data.shape[-1]\n",
        "Xdigitos, digitosdl = numpy_a_dataloader(X=digitos.data, t_lote=10)"
      ],
      "execution_count": 20,
      "outputs": [
        {
          "output_type": "stream",
          "name": "stdout",
          "text": [
            "Tamaño del conjunto de datos: 1797\n",
            "x shape=torch.Size([10, 64]) dtype=torch.float32\n"
          ]
        }
      ]
    },
    {
      "cell_type": "markdown",
      "metadata": {
        "id": "Bbp9Kf91hgtZ"
      },
      "source": [
        "Se instancia y entrena un autcodificador con el cargador de datos creado."
      ]
    },
    {
      "cell_type": "code",
      "metadata": {
        "colab": {
          "base_uri": "https://localhost:8080/",
          "height": 281
        },
        "id": "NPneZZXajC1G",
        "outputId": "e387a219-9232-4763-b53a-ad5e9307572f"
      },
      "source": [
        "digitosac = Modelo(digitosdim)\n",
        "perdidas = digitosac.fit(digitosdl)\n",
        "\n",
        "plt.plot(perdidas)\n",
        "plt.xlabel('Época')\n",
        "plt.ylabel('Pérdida')\n",
        "plt.show()"
      ],
      "execution_count": 21,
      "outputs": [
        {
          "output_type": "display_data",
          "data": {
            "image/png": "[encoded data removed]",
            "text/plain": [
              "<Figure size 432x288 with 1 Axes>"
            ]
          },
          "metadata": {
            "needs_background": "light"
          }
        }
      ]
    },
    {
      "cell_type": "markdown",
      "metadata": {
        "id": "rbYqpY3sSlPm"
      },
      "source": [
        "Se mapea el conjunto de datos con el codificador entrenado."
      ]
    },
    {
      "cell_type": "code",
      "metadata": {
        "id": "ZfVV0DK-U9DA"
      },
      "source": [
        "X_digitosac = digitosac.transform(Xdigitos)"
      ],
      "execution_count": 22,
      "outputs": []
    },
    {
      "cell_type": "markdown",
      "metadata": {
        "id": "EzpYRsvYh0Rw"
      },
      "source": [
        "Se visualizan los vectores latentes y se comparan con los producidos por _Principal Component Analysis_ (PCA)."
      ]
    },
    {
      "cell_type": "code",
      "metadata": {
        "colab": {
          "base_uri": "https://localhost:8080/",
          "height": 281
        },
        "id": "K9o_KDgxjeD2",
        "outputId": "febc6ee3-3ad3-422a-d04f-184a6446e703"
      },
      "source": [
        "digitospca = PCA(n_components=2)\n",
        "X_digitospca = digitospca.fit_transform(Xdigitos)\n",
        "grafica_mapeos(X_digitosac, X_digitospca, digitos.target, np.unique(digitos.target))"
      ],
      "execution_count": 23,
      "outputs": [
        {
          "output_type": "display_data",
          "data": {
            "image/png": "[encoded data removed]",
            "text/plain": [
              "<Figure size 432x288 with 2 Axes>"
            ]
          },
          "metadata": {
            "needs_background": "light"
          }
        }
      ]
    }
  ]
}