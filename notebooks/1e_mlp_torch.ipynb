{
 "cells": [
  {
   "cell_type": "markdown",
   "metadata": {},
   "source": [
    "# Perceptrón multicapa\n",
    "\n",
    "#### <div style=\"text-align: right\"> Berenice Montalvo Lezama </div>\n",
    "\n",
    "En este ejemplo veremos como implementar un perceptrón multicapa para la tarea de clasificación de imágenes. Emplearemos un conjunto referencia llamado [MNIST](http://yann.lecun.com/exdb/mnist/) recolectado por [Yann LeCun](http://yann.lecun.com). Tiene imágenes en escala de grises de 28 × 28 píxeles que contienen dígitos entre 0 y 9 escritos a mano. El conjunto cuenta con 60,000 imágenes de entrenamiento y 10,000 de prueba.\n",
    "\n",
    "![Lecun](../figs/yan_lecun.png)\n"
   ]
  },
  {
   "cell_type": "markdown",
   "metadata": {},
   "source": [
    "## 1 Carga de datos\n",
    "\n",
    "Comenzaremos descargando y leyendo el conjunto de datos. Aprovecharemos que torchvision cuenta con utilerias en para descargar el dataset MNIST."
   ]
  },
  {
   "cell_type": "code",
   "execution_count": 1,
   "metadata": {},
   "outputs": [
    {
     "name": "stderr",
     "output_type": "stream",
     "text": [
      "WARNING:root:This caffe2 python run does not have GPU support. Will run in CPU only mode.\n"
     ]
    },
    {
     "data": {
      "text/plain": [
       "<torch._C.Generator at 0x83f7eb0>"
      ]
     },
     "execution_count": 1,
     "metadata": {},
     "output_type": "execute_result"
    }
   ],
   "source": [
    "import matplotlib.pyplot as plt\n",
    "import numpy as np\n",
    "import torch\n",
    "import torch.nn as nn\n",
    "import torch.nn.functional as F\n",
    "\n",
    "from datetime import datetime\n",
    "from torchvision.datasets import MNIST\n",
    "from torchvision import transforms\n",
    "from torch.utils.data import DataLoader\n",
    "from torch.utils.tensorboard import SummaryWriter\n",
    "\n",
    "device = torch.device('cuda' if torch.cuda.is_available() else 'cpu')\n",
    "\n",
    "torch.manual_seed(2019)"
   ]
  },
  {
   "cell_type": "code",
   "execution_count": 2,
   "metadata": {},
   "outputs": [],
   "source": [
    "mnist_train = MNIST('~/.data', train=True, transform=transforms.ToTensor(), download=True)\n",
    "mnist_test = MNIST('~/.data', train=False, transform=transforms.ToTensor())"
   ]
  },
  {
   "cell_type": "markdown",
   "metadata": {},
   "source": [
    "Una vez descargadas las imágenes, podemos visualizar algunas para ver cómo lucen."
   ]
  },
  {
   "cell_type": "code",
   "execution_count": 3,
   "metadata": {},
   "outputs": [
    {
     "data": {
      "image/png": "[encoded data removed]",
      "text/plain": [
       "<Figure size 432x432 with 9 Axes>"
      ]
     },
     "metadata": {
      "needs_background": "light"
     },
     "output_type": "display_data"
    }
   ],
   "source": [
    "fig, ax = plt.subplots(nrows=3, ncols=3, figsize=(6, 6))\n",
    "\n",
    "for i, axi in enumerate(ax.flat):\n",
    "    axi.imshow(mnist_train.data[5 * i], cmap='gray')\n",
    "    axi.set_axis_off()"
   ]
  },
  {
   "cell_type": "markdown",
   "metadata": {},
   "source": [
    "Definimos nuestra tubería de datos para el conjunto de entrenamiento."
   ]
  },
  {
   "cell_type": "code",
   "execution_count": 4,
   "metadata": {},
   "outputs": [
    {
     "name": "stdout",
     "output_type": "stream",
     "text": [
      "x=[[[[0. 0. 0. ... 0. 0. 0.]\n",
      "   [0. 0. 0. ... 0. 0. 0.]\n",
      "   [0. 0. 0. ... 0. 0. 0.]\n",
      "   ...\n",
      "   [0. 0. 0. ... 0. 0. 0.]\n",
      "   [0. 0. 0. ... 0. 0. 0.]\n",
      "   [0. 0. 0. ... 0. 0. 0.]]]\n",
      "\n",
      "\n",
      " [[[0. 0. 0. ... 0. 0. 0.]\n",
      "   [0. 0. 0. ... 0. 0. 0.]\n",
      "   [0. 0. 0. ... 0. 0. 0.]\n",
      "   ...\n",
      "   [0. 0. 0. ... 0. 0. 0.]\n",
      "   [0. 0. 0. ... 0. 0. 0.]\n",
      "   [0. 0. 0. ... 0. 0. 0.]]]\n",
      "\n",
      "\n",
      " [[[0. 0. 0. ... 0. 0. 0.]\n",
      "   [0. 0. 0. ... 0. 0. 0.]\n",
      "   [0. 0. 0. ... 0. 0. 0.]\n",
      "   ...\n",
      "   [0. 0. 0. ... 0. 0. 0.]\n",
      "   [0. 0. 0. ... 0. 0. 0.]\n",
      "   [0. 0. 0. ... 0. 0. 0.]]]\n",
      "\n",
      "\n",
      " ...\n",
      "\n",
      "\n",
      " [[[0. 0. 0. ... 0. 0. 0.]\n",
      "   [0. 0. 0. ... 0. 0. 0.]\n",
      "   [0. 0. 0. ... 0. 0. 0.]\n",
      "   ...\n",
      "   [0. 0. 0. ... 0. 0. 0.]\n",
      "   [0. 0. 0. ... 0. 0. 0.]\n",
      "   [0. 0. 0. ... 0. 0. 0.]]]\n",
      "\n",
      "\n",
      " [[[0. 0. 0. ... 0. 0. 0.]\n",
      "   [0. 0. 0. ... 0. 0. 0.]\n",
      "   [0. 0. 0. ... 0. 0. 0.]\n",
      "   ...\n",
      "   [0. 0. 0. ... 0. 0. 0.]\n",
      "   [0. 0. 0. ... 0. 0. 0.]\n",
      "   [0. 0. 0. ... 0. 0. 0.]]]\n",
      "\n",
      "\n",
      " [[[0. 0. 0. ... 0. 0. 0.]\n",
      "   [0. 0. 0. ... 0. 0. 0.]\n",
      "   [0. 0. 0. ... 0. 0. 0.]\n",
      "   ...\n",
      "   [0. 0. 0. ... 0. 0. 0.]\n",
      "   [0. 0. 0. ... 0. 0. 0.]\n",
      "   [0. 0. 0. ... 0. 0. 0.]]]] x.shape=torch.Size([64, 1, 28, 28])\n",
      "y_true=[1 6 0 9 7 9 1 0 4 4 2 1 8 4 1 7 5 7 8 3 1 6 3 7 2 9 1 3 4 9 2 8 7 6 7 4 1\n",
      " 0 8 6 5 3 0 5 5 2 3 2 5 6 0 5 8 9 6 4 7 6 3 5 8 6 2 6] y_true.shape=torch.Size([64])\n"
     ]
    }
   ],
   "source": [
    "batch_size = 64\n",
    "train_dl = DataLoader(mnist_train, batch_size=batch_size, shuffle=True)\n",
    "test_dl = DataLoader(mnist_test, batch_size=batch_size)\n",
    "\n",
    "x, y_true = next(iter(train_dl))\n",
    "print(f'x={x.numpy()} x.shape={x.shape}')\n",
    "print(f'y_true={y_true.numpy()} y_true.shape={y_true.shape}')"
   ]
  },
  {
   "cell_type": "markdown",
   "metadata": {},
   "source": [
    "### Quiz 1\n",
    "\n",
    "¿Cúal es la función de activación adecuada para la capa de salida de una red neuronal para clasificación multiclase?"
   ]
  },
  {
   "cell_type": "markdown",
   "metadata": {},
   "source": [
    "## 2 Definición del modelo"
   ]
  },
  {
   "cell_type": "code",
   "execution_count": 5,
   "metadata": {},
   "outputs": [],
   "source": [
    "class MLP(nn.Module):\n",
    "\n",
    "    def __init__(self):\n",
    "        super().__init__()\n",
    "        self.fc1 = nn.Linear(28 * 28, 128)\n",
    "        self.fc2 = nn.Linear(128, 10)\n",
    "        \n",
    "    def forward(self, x):\n",
    "        x = x.view(x.size(0), -1)\n",
    "        x = self.fc1(x)\n",
    "        x = F.relu(x)\n",
    "        x = self.fc2(x)\n",
    "        return x"
   ]
  },
  {
   "cell_type": "code",
   "execution_count": 6,
   "metadata": {
    "scrolled": true
   },
   "outputs": [
    {
     "data": {
      "text/plain": [
       "MLP(\n",
       "  (fc1): Linear(in_features=784, out_features=128, bias=True)\n",
       "  (fc2): Linear(in_features=128, out_features=10, bias=True)\n",
       ")"
      ]
     },
     "execution_count": 6,
     "metadata": {},
     "output_type": "execute_result"
    }
   ],
   "source": [
    "model = MLP().to(device)\n",
    "model"
   ]
  },
  {
   "cell_type": "markdown",
   "metadata": {},
   "source": [
    "### Quiz 2\n",
    "\n",
    "¿Comó sacamos las cuentitas del número de parámeros de las capas?"
   ]
  },
  {
   "cell_type": "markdown",
   "metadata": {},
   "source": [
    "### Quiz 3\n",
    "\n",
    "Si las clases fueran 100 en vez de 10 y quisera utilizar la misma arquitectura anterior ¿qué modificación tendría que realizar? "
   ]
  },
  {
   "cell_type": "markdown",
   "metadata": {},
   "source": [
    "### Definición de pérdida y optimizador"
   ]
  },
  {
   "cell_type": "code",
   "execution_count": 7,
   "metadata": {},
   "outputs": [],
   "source": [
    "loss_fn = nn.CrossEntropyLoss(reduction='none')\n",
    "optimizer = torch.optim.SGD(model.parameters(), lr=1e-3)"
   ]
  },
  {
   "cell_type": "markdown",
   "metadata": {},
   "source": [
    "## 3 Entrenamiento"
   ]
  },
  {
   "cell_type": "code",
   "execution_count": 8,
   "metadata": {},
   "outputs": [
    {
     "name": "stdout",
     "output_type": "stream",
     "text": [
      "Epoch:  1. Train Loss: 2.22, Train Acc: 36.68%. Val Loss: 2.1333, Val Acc: 59.21%\n",
      "Epoch:  2. Train Loss: 2.03, Train Acc: 65.23%. Val Loss: 1.8910, Val Acc: 70.46%\n",
      "Epoch:  3. Train Loss: 1.75, Train Acc: 71.70%. Val Loss: 1.5773, Val Acc: 75.59%\n",
      "Epoch:  4. Train Loss: 1.44, Train Acc: 76.15%. Val Loss: 1.2769, Val Acc: 78.81%\n",
      "Epoch:  5. Train Loss: 1.18, Train Acc: 79.21%. Val Loss: 1.0470, Val Acc: 81.22%\n",
      "Epoch:  6. Train Loss: 0.98, Train Acc: 81.36%. Val Loss: 0.8869, Val Acc: 82.69%\n",
      "Epoch:  7. Train Loss: 0.85, Train Acc: 82.71%. Val Loss: 0.7755, Val Acc: 84.08%\n",
      "Epoch:  8. Train Loss: 0.76, Train Acc: 83.82%. Val Loss: 0.6955, Val Acc: 85.12%\n",
      "Epoch:  9. Train Loss: 0.69, Train Acc: 84.65%. Val Loss: 0.6362, Val Acc: 85.93%\n",
      "Epoch: 10. Train Loss: 0.63, Train Acc: 85.41%. Val Loss: 0.5902, Val Acc: 86.54%\n",
      "Epoch: 11. Train Loss: 0.59, Train Acc: 86.02%. Val Loss: 0.5541, Val Acc: 87.08%\n",
      "Epoch: 12. Train Loss: 0.56, Train Acc: 86.52%. Val Loss: 0.5247, Val Acc: 87.45%\n",
      "Epoch: 13. Train Loss: 0.53, Train Acc: 86.94%. Val Loss: 0.5004, Val Acc: 87.78%\n",
      "Epoch: 14. Train Loss: 0.51, Train Acc: 87.32%. Val Loss: 0.4800, Val Acc: 88.18%\n",
      "Epoch: 15. Train Loss: 0.49, Train Acc: 87.61%. Val Loss: 0.4625, Val Acc: 88.37%\n",
      "Epoch: 16. Train Loss: 0.48, Train Acc: 87.82%. Val Loss: 0.4478, Val Acc: 88.61%\n",
      "Epoch: 17. Train Loss: 0.46, Train Acc: 88.09%. Val Loss: 0.4347, Val Acc: 88.75%\n",
      "Epoch: 18. Train Loss: 0.45, Train Acc: 88.29%. Val Loss: 0.4232, Val Acc: 89.05%\n",
      "Epoch: 19. Train Loss: 0.44, Train Acc: 88.47%. Val Loss: 0.4134, Val Acc: 89.26%\n",
      "Epoch: 20. Train Loss: 0.43, Train Acc: 88.66%. Val Loss: 0.4043, Val Acc: 89.40%\n"
     ]
    }
   ],
   "source": [
    "tensorboard = False # cambiar si se quiere visualizar en tensorboard\n",
    "# para visualizar tensorboard se abre una terminal y se ejecuta: tensorboard --logdir=mlp_runs\n",
    "if tensorboard:\n",
    "    writer = SummaryWriter('mlp_runs') \n",
    "    x, y = next(iter(train_dl))\n",
    "    writer.add_graph(model, x)\n",
    "\n",
    "# ciclo de entrenamiento\n",
    "def corre_epoch(model, dl, loss_fn, optimizer, train=True):\n",
    "    \n",
    "    model.train() if train else model.eval()\n",
    "    losses, accs = [], []\n",
    "    \n",
    "    with torch.set_grad_enabled(train):\n",
    "        \n",
    "        for x, y_true in dl:\n",
    "            x, y_true = x.to(device), y_true.to(device)\n",
    "            y_pred = model(x)\n",
    "            loss = loss_fn(y_pred, y_true)\n",
    "        \n",
    "            if train:\n",
    "                loss.mean().backward()\n",
    "                optimizer.step()\n",
    "                optimizer.zero_grad()\n",
    "            \n",
    "            losses.extend(loss.data.cpu().numpy())\n",
    "            accs.extend((y_pred.argmax(-1) == y_true).cpu().numpy())\n",
    "        \n",
    "    return losses, accs\n",
    "\n",
    "epochs = 20\n",
    "for epoch in range(epochs):\n",
    "\n",
    "    train_losses, train_accs = corre_epoch(model, train_dl, loss_fn, optimizer)\n",
    "    val_losses, val_accs = corre_epoch(model, test_dl, loss_fn, optimizer, train=False)\n",
    "    \n",
    "    metrics = {'Loss': {'train': np.mean(train_losses), 'valid': np.mean(val_losses)},\n",
    "               'Accuracy': {'train': np.mean(train_accs), 'valid': np.mean(val_accs)}}\n",
    "        \n",
    "    if tensorboard:\n",
    "        for metric, partitions in metrics.items():\n",
    "            for partition, value in partitions.items():\n",
    "                writer.add_scalar(f'{metric}/{partition}', value, epoch)\n",
    "\n",
    "    print(f'Epoch: {epoch+1:>2}. Train Loss: {np.mean(train_losses):.2f}, Train Acc: {np.mean(train_accs):.2%}. '\n",
    "          f'Val Loss: {np.mean(val_losses):.4f}, Val Acc: {np.mean(val_accs):.2%}')"
   ]
  },
  {
   "cell_type": "markdown",
   "metadata": {},
   "source": [
    "## 4 Validación"
   ]
  },
  {
   "cell_type": "code",
   "execution_count": 9,
   "metadata": {},
   "outputs": [],
   "source": [
    "y_pred_test = []\n",
    "with torch.no_grad():\n",
    "    for x, _ in test_dl:\n",
    "        x = x.to(device)\n",
    "        y_pred = model(x).cpu().numpy()\n",
    "        y_pred_test.extend(y_pred)\n",
    "y_pred_test = np.array(y_pred_test)"
   ]
  },
  {
   "cell_type": "code",
   "execution_count": 10,
   "metadata": {},
   "outputs": [
    {
     "data": {
      "image/png": "[encoded data removed]",
      "text/plain": [
       "<Figure size 432x432 with 9 Axes>"
      ]
     },
     "metadata": {
      "needs_background": "light"
     },
     "output_type": "display_data"
    }
   ],
   "source": [
    "fig, ax = plt.subplots(nrows=3, ncols=3, figsize=(6, 6))\n",
    "\n",
    "for i, axi in enumerate(ax.flat):\n",
    "    axi.imshow(mnist_test.data[5*i], cmap='gray')\n",
    "    axi.set_axis_off()\n",
    "    axi.set_title(f'{y_pred_test[5*i].argmax()}')"
   ]
  }
 ],
 "metadata": {
  "kernelspec": {
   "display_name": "Python 3",
   "language": "python",
   "name": "python3"
  },
  "language_info": {
   "codemirror_mode": {
    "name": "ipython",
    "version": 3
   },
   "file_extension": ".py",
   "mimetype": "text/x-python",
   "name": "python",
   "nbconvert_exporter": "python",
   "pygments_lexer": "ipython3",
   "version": "3.6.8"
  }
 },
 "nbformat": 4,
 "nbformat_minor": 4
}
