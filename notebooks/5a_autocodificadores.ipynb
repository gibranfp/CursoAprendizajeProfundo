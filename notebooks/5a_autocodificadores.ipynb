{
  "nbformat": 4,
  "nbformat_minor": 0,
  "metadata": {
    "accelerator": "GPU",
    "colab": {
      "provenance": [],
      "include_colab_link": true
    },
    "kernelspec": {
      "display_name": "Python 3",
      "language": "python",
      "name": "python3"
    },
    "language_info": {
      "codemirror_mode": {
        "name": "ipython",
        "version": 3
      },
      "file_extension": ".py",
      "mimetype": "text/x-python",
      "name": "python",
      "nbconvert_exporter": "python",
      "pygments_lexer": "ipython3",
      "version": "3.7.3"
    },
    "widgets": {
      "application/vnd.jupyter.widget-state+json": {
        "afd1ce226b4d438b865fa4941f4906a6": {
          "model_module": "@jupyter-widgets/controls",
          "model_name": "HBoxModel",
          "model_module_version": "1.5.0",
          "state": {
            "_dom_classes": [],
            "_model_module": "@jupyter-widgets/controls",
            "_model_module_version": "1.5.0",
            "_model_name": "HBoxModel",
            "_view_count": null,
            "_view_module": "@jupyter-widgets/controls",
            "_view_module_version": "1.5.0",
            "_view_name": "HBoxView",
            "box_style": "",
            "children": [
              "IPY_MODEL_42832e558a2e4938946230898a24ffd1",
              "IPY_MODEL_bdb8d49ebece48e6b7870cb8f486d962",
              "IPY_MODEL_3325674880634d0882440900e734a704"
            ],
            "layout": "IPY_MODEL_69c631e21cb8499a9492f2a4a5c2bc06"
          }
        },
        "42832e558a2e4938946230898a24ffd1": {
          "model_module": "@jupyter-widgets/controls",
          "model_name": "HTMLModel",
          "model_module_version": "1.5.0",
          "state": {
            "_dom_classes": [],
            "_model_module": "@jupyter-widgets/controls",
            "_model_module_version": "1.5.0",
            "_model_name": "HTMLModel",
            "_view_count": null,
            "_view_module": "@jupyter-widgets/controls",
            "_view_module_version": "1.5.0",
            "_view_name": "HTMLView",
            "description": "",
            "description_tooltip": null,
            "layout": "IPY_MODEL_e69c03c31da0453fa07f6ff3b94e0635",
            "placeholder": "​",
            "style": "IPY_MODEL_74e23b6910b443deacaf406fe52ad8d3",
            "value": "100%"
          }
        },
        "bdb8d49ebece48e6b7870cb8f486d962": {
          "model_module": "@jupyter-widgets/controls",
          "model_name": "FloatProgressModel",
          "model_module_version": "1.5.0",
          "state": {
            "_dom_classes": [],
            "_model_module": "@jupyter-widgets/controls",
            "_model_module_version": "1.5.0",
            "_model_name": "FloatProgressModel",
            "_view_count": null,
            "_view_module": "@jupyter-widgets/controls",
            "_view_module_version": "1.5.0",
            "_view_name": "ProgressView",
            "bar_style": "success",
            "description": "",
            "description_tooltip": null,
            "layout": "IPY_MODEL_db2d0caed69540a69b326be43995b2a8",
            "max": 4551,
            "min": 0,
            "orientation": "horizontal",
            "style": "IPY_MODEL_f24689c0d9e54fe6bfe425e8f66acfce",
            "value": 4551
          }
        },
        "3325674880634d0882440900e734a704": {
          "model_module": "@jupyter-widgets/controls",
          "model_name": "HTMLModel",
          "model_module_version": "1.5.0",
          "state": {
            "_dom_classes": [],
            "_model_module": "@jupyter-widgets/controls",
            "_model_module_version": "1.5.0",
            "_model_name": "HTMLModel",
            "_view_count": null,
            "_view_module": "@jupyter-widgets/controls",
            "_view_module_version": "1.5.0",
            "_view_name": "HTMLView",
            "description": "",
            "description_tooltip": null,
            "layout": "IPY_MODEL_3f9d6d713ffb4dd5acea5633b6861023",
            "placeholder": "​",
            "style": "IPY_MODEL_b61c437ce29643b784db50941b276070",
            "value": " 4551/4551 [00:00&lt;00:00, 149557.14it/s]"
          }
        },
        "69c631e21cb8499a9492f2a4a5c2bc06": {
          "model_module": "@jupyter-widgets/base",
          "model_name": "LayoutModel",
          "model_module_version": "1.2.0",
          "state": {
            "_model_module": "@jupyter-widgets/base",
            "_model_module_version": "1.2.0",
            "_model_name": "LayoutModel",
            "_view_count": null,
            "_view_module": "@jupyter-widgets/base",
            "_view_module_version": "1.2.0",
            "_view_name": "LayoutView",
            "align_content": null,
            "align_items": null,
            "align_self": null,
            "border": null,
            "bottom": null,
            "display": null,
            "flex": null,
            "flex_flow": null,
            "grid_area": null,
            "grid_auto_columns": null,
            "grid_auto_flow": null,
            "grid_auto_rows": null,
            "grid_column": null,
            "grid_gap": null,
            "grid_row": null,
            "grid_template_areas": null,
            "grid_template_columns": null,
            "grid_template_rows": null,
            "height": null,
            "justify_content": null,
            "justify_items": null,
            "left": null,
            "margin": null,
            "max_height": null,
            "max_width": null,
            "min_height": null,
            "min_width": null,
            "object_fit": null,
            "object_position": null,
            "order": null,
            "overflow": null,
            "overflow_x": null,
            "overflow_y": null,
            "padding": null,
            "right": null,
            "top": null,
            "visibility": null,
            "width": null
          }
        },
        "e69c03c31da0453fa07f6ff3b94e0635": {
          "model_module": "@jupyter-widgets/base",
          "model_name": "LayoutModel",
          "model_module_version": "1.2.0",
          "state": {
            "_model_module": "@jupyter-widgets/base",
            "_model_module_version": "1.2.0",
            "_model_name": "LayoutModel",
            "_view_count": null,
            "_view_module": "@jupyter-widgets/base",
            "_view_module_version": "1.2.0",
            "_view_name": "LayoutView",
            "align_content": null,
            "align_items": null,
            "align_self": null,
            "border": null,
            "bottom": null,
            "display": null,
            "flex": null,
            "flex_flow": null,
            "grid_area": null,
            "grid_auto_columns": null,
            "grid_auto_flow": null,
            "grid_auto_rows": null,
            "grid_column": null,
            "grid_gap": null,
            "grid_row": null,
            "grid_template_areas": null,
            "grid_template_columns": null,
            "grid_template_rows": null,
            "height": null,
            "justify_content": null,
            "justify_items": null,
            "left": null,
            "margin": null,
            "max_height": null,
            "max_width": null,
            "min_height": null,
            "min_width": null,
            "object_fit": null,
            "object_position": null,
            "order": null,
            "overflow": null,
            "overflow_x": null,
            "overflow_y": null,
            "padding": null,
            "right": null,
            "top": null,
            "visibility": null,
            "width": null
          }
        },
        "74e23b6910b443deacaf406fe52ad8d3": {
          "model_module": "@jupyter-widgets/controls",
          "model_name": "DescriptionStyleModel",
          "model_module_version": "1.5.0",
          "state": {
            "_model_module": "@jupyter-widgets/controls",
            "_model_module_version": "1.5.0",
            "_model_name": "DescriptionStyleModel",
            "_view_count": null,
            "_view_module": "@jupyter-widgets/base",
            "_view_module_version": "1.2.0",
            "_view_name": "StyleView",
            "description_width": ""
          }
        },
        "db2d0caed69540a69b326be43995b2a8": {
          "model_module": "@jupyter-widgets/base",
          "model_name": "LayoutModel",
          "model_module_version": "1.2.0",
          "state": {
            "_model_module": "@jupyter-widgets/base",
            "_model_module_version": "1.2.0",
            "_model_name": "LayoutModel",
            "_view_count": null,
            "_view_module": "@jupyter-widgets/base",
            "_view_module_version": "1.2.0",
            "_view_name": "LayoutView",
            "align_content": null,
            "align_items": null,
            "align_self": null,
            "border": null,
            "bottom": null,
            "display": null,
            "flex": null,
            "flex_flow": null,
            "grid_area": null,
            "grid_auto_columns": null,
            "grid_auto_flow": null,
            "grid_auto_rows": null,
            "grid_column": null,
            "grid_gap": null,
            "grid_row": null,
            "grid_template_areas": null,
            "grid_template_columns": null,
            "grid_template_rows": null,
            "height": null,
            "justify_content": null,
            "justify_items": null,
            "left": null,
            "margin": null,
            "max_height": null,
            "max_width": null,
            "min_height": null,
            "min_width": null,
            "object_fit": null,
            "object_position": null,
            "order": null,
            "overflow": null,
            "overflow_x": null,
            "overflow_y": null,
            "padding": null,
            "right": null,
            "top": null,
            "visibility": null,
            "width": null
          }
        },
        "f24689c0d9e54fe6bfe425e8f66acfce": {
          "model_module": "@jupyter-widgets/controls",
          "model_name": "ProgressStyleModel",
          "model_module_version": "1.5.0",
          "state": {
            "_model_module": "@jupyter-widgets/controls",
            "_model_module_version": "1.5.0",
            "_model_name": "ProgressStyleModel",
            "_view_count": null,
            "_view_module": "@jupyter-widgets/base",
            "_view_module_version": "1.2.0",
            "_view_name": "StyleView",
            "bar_color": null,
            "description_width": ""
          }
        },
        "3f9d6d713ffb4dd5acea5633b6861023": {
          "model_module": "@jupyter-widgets/base",
          "model_name": "LayoutModel",
          "model_module_version": "1.2.0",
          "state": {
            "_model_module": "@jupyter-widgets/base",
            "_model_module_version": "1.2.0",
            "_model_name": "LayoutModel",
            "_view_count": null,
            "_view_module": "@jupyter-widgets/base",
            "_view_module_version": "1.2.0",
            "_view_name": "LayoutView",
            "align_content": null,
            "align_items": null,
            "align_self": null,
            "border": null,
            "bottom": null,
            "display": null,
            "flex": null,
            "flex_flow": null,
            "grid_area": null,
            "grid_auto_columns": null,
            "grid_auto_flow": null,
            "grid_auto_rows": null,
            "grid_column": null,
            "grid_gap": null,
            "grid_row": null,
            "grid_template_areas": null,
            "grid_template_columns": null,
            "grid_template_rows": null,
            "height": null,
            "justify_content": null,
            "justify_items": null,
            "left": null,
            "margin": null,
            "max_height": null,
            "max_width": null,
            "min_height": null,
            "min_width": null,
            "object_fit": null,
            "object_position": null,
            "order": null,
            "overflow": null,
            "overflow_x": null,
            "overflow_y": null,
            "padding": null,
            "right": null,
            "top": null,
            "visibility": null,
            "width": null
          }
        },
        "b61c437ce29643b784db50941b276070": {
          "model_module": "@jupyter-widgets/controls",
          "model_name": "DescriptionStyleModel",
          "model_module_version": "1.5.0",
          "state": {
            "_model_module": "@jupyter-widgets/controls",
            "_model_module_version": "1.5.0",
            "_model_name": "DescriptionStyleModel",
            "_view_count": null,
            "_view_module": "@jupyter-widgets/base",
            "_view_module_version": "1.2.0",
            "_view_name": "StyleView",
            "description_width": ""
          }
        }
      }
    }
  },
  "cells": [
    {
      "cell_type": "markdown",
      "metadata": {
        "id": "view-in-github",
        "colab_type": "text"
      },
      "source": [
        "<a href=\"https://colab.research.google.com/github/gibranfp/CursoAprendizajeProfundo/blob/2023-1/notebooks/5a_autocodificadores.ipynb\" target=\"_parent\"><img src=\"https://colab.research.google.com/assets/colab-badge.svg\" alt=\"Open In Colab\"/></a>"
      ]
    },
    {
      "cell_type": "markdown",
      "metadata": {
        "id": "aqjbxeS9ZTrD"
      },
      "source": [
        "# Autocodificadores\n",
        "En este libreta programaremos un autocodificador contractivo simple usando Pytorch y lo usaremos para reducir dimensiones en tres conjuntos de datos. "
      ]
    },
    {
      "cell_type": "code",
      "metadata": {
        "colab": {
          "base_uri": "https://localhost:8080/"
        },
        "id": "xFiTTx7MV-xx",
        "outputId": "b3bca55d-d875-4988-f266-184ba79fda0e"
      },
      "source": [
        "import os\n",
        "\n",
        "import numpy as np\n",
        "import pandas as pd\n",
        "import matplotlib.pyplot as plt\n",
        "\n",
        "from sklearn.datasets import load_wine, load_digits\n",
        "from sklearn.decomposition import PCA\n",
        "from sklearn.preprocessing import StandardScaler\n",
        "\n",
        "import torch\n",
        "from torch.nn import Sequential\n",
        "from torch.nn import Linear, Sigmoid, Tanh\n",
        "from torch.optim import Adam\n",
        "\n",
        "from torch.utils.data import Dataset, DataLoader\n",
        "from torchvision.datasets.utils import download_url\n",
        "\n",
        "from itertools import islice as take\n",
        "\n",
        "URL = 'https://raw.githubusercontent.com/gibranfp/CursoAprendizajeProfundo/2022-1/data/iris.csv'\n",
        "base_dir = '../data/iris/'\n",
        "filename = 'iris.csv'\n",
        "filepath = os.path.join(base_dir, 'iris.csv')\n",
        "\n",
        "torch.manual_seed(42)"
      ],
      "execution_count": 1,
      "outputs": [
        {
          "output_type": "execute_result",
          "data": {
            "text/plain": [
              "<torch._C.Generator at 0x7f1b74bbb630>"
            ]
          },
          "metadata": {},
          "execution_count": 1
        }
      ]
    },
    {
      "cell_type": "markdown",
      "metadata": {
        "id": "xjB9QXHhPIMo"
      },
      "source": [
        "Definimos nuestro autocodificador en una subclase, donde tanto el codificador como el decodificador tienen arquitecturas secuenciales. "
      ]
    },
    {
      "cell_type": "code",
      "metadata": {
        "id": "kSw9zuJBjUoP"
      },
      "source": [
        "class Autocodificador(torch.nn.Module):\n",
        "  def __init__(self, d, n_ocultas, n_salidas):\n",
        "    super(Autocodificador, self).__init__()  \n",
        "    \n",
        "    self.cod = Sequential(Linear(d, n_ocultas),\n",
        "                          Tanh(),\n",
        "                          Linear(n_ocultas, n_ocultas),\n",
        "                          Tanh(), \n",
        "                          Linear(n_ocultas, n_salidas))\n",
        "    self.dec = Sequential(Linear(n_salidas, n_ocultas),\n",
        "                          Tanh(),\n",
        "                          Linear(n_ocultas, n_ocultas),                          \n",
        "                          Tanh(),\n",
        "                          Linear(n_ocultas, d))\n",
        "\n",
        "  def forward(self, x):\n",
        "    z = self.cod(x)\n",
        "    x = self.dec(z)\n",
        "\n",
        "    return x"
      ],
      "execution_count": 2,
      "outputs": []
    },
    {
      "cell_type": "markdown",
      "metadata": {
        "id": "8NgbBQt8PZtt"
      },
      "source": [
        "Probemos nuestro autocodificador con datos generados aleatorioriamente."
      ]
    },
    {
      "cell_type": "code",
      "metadata": {
        "colab": {
          "base_uri": "https://localhost:8080/"
        },
        "id": "zSePCBnELufX",
        "outputId": "0f4a4f7a-b0cb-4e62-a57d-216f21c5536a"
      },
      "source": [
        "ac = Autocodificador(d=4, n_ocultas=5, n_salidas=2)\n",
        "x = torch.rand(16,4)\n",
        "print(x)\n",
        "print(x.shape)\n",
        "print(ac.cod(x))\n",
        "print(ac.cod(x).shape)\n",
        "print(ac(x))\n",
        "print(ac(x).shape)"
      ],
      "execution_count": 3,
      "outputs": [
        {
          "output_type": "stream",
          "name": "stdout",
          "text": [
            "tensor([[0.0850, 0.0029, 0.6431, 0.3908],\n",
            "        [0.6947, 0.0897, 0.8712, 0.1330],\n",
            "        [0.4137, 0.6044, 0.7581, 0.9037],\n",
            "        [0.9555, 0.1035, 0.6258, 0.2849],\n",
            "        [0.4452, 0.1258, 0.9554, 0.1330],\n",
            "        [0.7672, 0.6757, 0.6625, 0.2297],\n",
            "        [0.9545, 0.6099, 0.5643, 0.0594],\n",
            "        [0.7099, 0.4250, 0.2709, 0.9295],\n",
            "        [0.6115, 0.2234, 0.2469, 0.4761],\n",
            "        [0.7792, 0.3722, 0.2147, 0.3288],\n",
            "        [0.1265, 0.6783, 0.8870, 0.0293],\n",
            "        [0.6161, 0.7583, 0.5907, 0.3219],\n",
            "        [0.7610, 0.7628, 0.6870, 0.4121],\n",
            "        [0.3676, 0.5535, 0.4117, 0.3510],\n",
            "        [0.8196, 0.9297, 0.4505, 0.3881],\n",
            "        [0.5073, 0.4701, 0.6202, 0.6401]])\n",
            "torch.Size([16, 4])\n",
            "tensor([[-0.0927,  0.3174],\n",
            "        [-0.0217,  0.2373],\n",
            "        [-0.0410,  0.2554],\n",
            "        [-0.0040,  0.2155],\n",
            "        [-0.0409,  0.2611],\n",
            "        [-0.0077,  0.2275],\n",
            "        [ 0.0048,  0.2147],\n",
            "        [-0.0334,  0.2490],\n",
            "        [-0.0469,  0.2672],\n",
            "        [-0.0279,  0.2496],\n",
            "        [-0.0626,  0.2974],\n",
            "        [-0.0230,  0.2462],\n",
            "        [-0.0063,  0.2243],\n",
            "        [-0.0595,  0.2872],\n",
            "        [-0.0068,  0.2297],\n",
            "        [-0.0384,  0.2554]], grad_fn=<AddmmBackward0>)\n",
            "torch.Size([16, 2])\n",
            "tensor([[-0.1130,  0.5232,  0.0552, -0.1444],\n",
            "        [-0.1139,  0.5199,  0.0492, -0.1330],\n",
            "        [-0.1137,  0.5207,  0.0508, -0.1363],\n",
            "        [-0.1141,  0.5190,  0.0476, -0.1301],\n",
            "        [-0.1136,  0.5209,  0.0509, -0.1361],\n",
            "        [-0.1140,  0.5194,  0.0481, -0.1304],\n",
            "        [-0.1142,  0.5188,  0.0470, -0.1282],\n",
            "        [-0.1137,  0.5204,  0.0502, -0.1350],\n",
            "        [-0.1136,  0.5212,  0.0514, -0.1371],\n",
            "        [-0.1138,  0.5204,  0.0498, -0.1338],\n",
            "        [-0.1133,  0.5223,  0.0529, -0.1389],\n",
            "        [-0.1138,  0.5202,  0.0494, -0.1329],\n",
            "        [-0.1140,  0.5193,  0.0479, -0.1302],\n",
            "        [-0.1134,  0.5219,  0.0525, -0.1388],\n",
            "        [-0.1140,  0.5195,  0.0480, -0.1301],\n",
            "        [-0.1137,  0.5207,  0.0506, -0.1358]], grad_fn=<AddmmBackward0>)\n",
            "torch.Size([16, 4])\n"
          ]
        }
      ]
    },
    {
      "cell_type": "markdown",
      "metadata": {
        "id": "ehYDqB3dWbvT"
      },
      "source": [
        "Creamos una subclase de `Dataset` para cargar los tres conjuntos de datos que utilizaremos. "
      ]
    },
    {
      "cell_type": "code",
      "metadata": {
        "id": "SAJkY3q2eouW"
      },
      "source": [
        "class MiDS(Dataset):    \n",
        "    def __init__(self, X):\n",
        "        self.x = X\n",
        "\n",
        "    def __getitem__(self, i):\n",
        "        return self.x[i]\n",
        "\n",
        "    def __len__(self):\n",
        "        return len(self.x)"
      ],
      "execution_count": 4,
      "outputs": []
    },
    {
      "cell_type": "markdown",
      "metadata": {
        "id": "5cxGkFdSPzbd"
      },
      "source": [
        "Probamos esta subclase con los datos generados aleatoriamente."
      ]
    },
    {
      "cell_type": "code",
      "metadata": {
        "colab": {
          "base_uri": "https://localhost:8080/"
        },
        "id": "x2DycYOkO6vV",
        "outputId": "93b2f9e6-b835-4398-b5c6-9cca17e48acd"
      },
      "source": [
        "ds = MiDS(x)\n",
        "print(len(ds))\n",
        "print(ds[1])"
      ],
      "execution_count": 5,
      "outputs": [
        {
          "output_type": "stream",
          "name": "stdout",
          "text": [
            "16\n",
            "tensor([0.6947, 0.0897, 0.8712, 0.1330])\n"
          ]
        }
      ]
    },
    {
      "cell_type": "markdown",
      "metadata": {
        "id": "kTOEq6SgWZdF"
      },
      "source": [
        "Para hacer más fácil la generación de los cargadores de datos de los tres conjuntos de datos, definimos una función que toma un arreglo de NumPy y el tamaño de lote, estandariza los datos y crea y regresa el cargador de datos."
      ]
    },
    {
      "cell_type": "code",
      "metadata": {
        "id": "4rL6FGK5QOaP"
      },
      "source": [
        "def numpy_a_dataloader(X, t_lote):\n",
        "  sc = StandardScaler()\n",
        "  X = sc.fit_transform(X).astype('float32')\n",
        "\n",
        "  ds = MiDS(X)\n",
        "  print('Tamaño del conjunto de datos: {0}'.format(len(ds)))\n",
        "\n",
        "  dl = DataLoader(ds, \n",
        "                  batch_size=t_lote, \n",
        "                  shuffle=True)\n",
        "\n",
        "  for x in take(dl, 1):\n",
        "    print(f'x shape={x.shape} dtype={x.dtype}')\n",
        "\n",
        "  return X, dl"
      ],
      "execution_count": 6,
      "outputs": []
    },
    {
      "cell_type": "markdown",
      "metadata": {
        "id": "R_S-WIPcQYo_"
      },
      "source": [
        "Probamos nuestra función con los datos generados aleatoriamente."
      ]
    },
    {
      "cell_type": "code",
      "metadata": {
        "colab": {
          "base_uri": "https://localhost:8080/"
        },
        "id": "Pm_SJtngPJ8u",
        "outputId": "c54efd55-9462-49c9-8d5c-b9cfdc089098"
      },
      "source": [
        "x, dl = numpy_a_dataloader(x, 2)"
      ],
      "execution_count": 7,
      "outputs": [
        {
          "output_type": "stream",
          "name": "stdout",
          "text": [
            "Tamaño del conjunto de datos: 16\n",
            "x shape=torch.Size([2, 4]) dtype=torch.float32\n"
          ]
        }
      ]
    },
    {
      "cell_type": "markdown",
      "metadata": {
        "id": "SUMUO6yRQdQt"
      },
      "source": [
        "Encapsulamos la definición, el entrenamiento y la inferencia de los autocodificadores que vamos evaluar en una clase."
      ]
    },
    {
      "cell_type": "code",
      "metadata": {
        "id": "y7jupNGxHljn"
      },
      "source": [
        "class Modelo:\n",
        "  def __init__(self, d, n_ocultas=10, n_salidas=2):\n",
        "    self.ac = Autocodificador(d=d, n_ocultas=n_ocultas, n_salidas=n_salidas)\n",
        " \n",
        "  def fit(self, X, n_epocas=100):\n",
        "    opt = Adam(self.ac.parameters())\n",
        "\n",
        "    perdidas = []\n",
        "    for e in range(n_epocas):   \n",
        "      perdidas_epoca = [] \n",
        "      for r in X:\n",
        "        xs = self.ac(r)\n",
        "        p = torch.nn.functional.mse_loss(xs, r)\n",
        "        opt.zero_grad()\n",
        "        p.backward()\n",
        "        opt.step()\n",
        "        perdidas_epoca.append(p.item())\n",
        "      \n",
        "      perdidas.append(np.mean(perdidas_epoca))\n",
        "\n",
        "    return perdidas\n",
        "\n",
        "  def transform(self, X):\n",
        "    with torch.no_grad():\n",
        "      return self.ac.cod(torch.from_numpy(X)).numpy()"
      ],
      "execution_count": 8,
      "outputs": []
    },
    {
      "cell_type": "markdown",
      "metadata": {
        "id": "80xNzPOjV2mk"
      },
      "source": [
        "Finalmente, creamos una función para visualizar los datos mapeados por el codificador y comparándolos con los de PCA."
      ]
    },
    {
      "cell_type": "code",
      "metadata": {
        "id": "ePwDQBJLPgSX"
      },
      "source": [
        "def grafica_mapeos(X_ac, X_pca, y, etiquetas):\n",
        "  fig, (ax1, ax2) = plt.subplots(1, 2)\n",
        "\n",
        "  for e in etiquetas:\n",
        "    ax1.scatter(X_ac[y==e, 0], \n",
        "                X_ac[y==e, 1], \n",
        "                label=e)\n",
        "\n",
        "    ax2.scatter(X_pca[y==e, 0], \n",
        "                X_pca[y==e, 1], \n",
        "                label=e)\n",
        "    \n",
        "  ax1.set_title('Autocodificador')\n",
        "  ax2.set_title('PCA')"
      ],
      "execution_count": 9,
      "outputs": []
    },
    {
      "cell_type": "markdown",
      "metadata": {
        "id": "w7meg8JOiOns"
      },
      "source": [
        "## Conjunto de datos de la flor Iris\n",
        "Se carga el conjunto de datos Iris usando las funciones predefinidas de PyTorch:"
      ]
    },
    {
      "cell_type": "code",
      "metadata": {
        "colab": {
          "base_uri": "https://localhost:8080/",
          "height": 67,
          "referenced_widgets": [
            "afd1ce226b4d438b865fa4941f4906a6",
            "42832e558a2e4938946230898a24ffd1",
            "bdb8d49ebece48e6b7870cb8f486d962",
            "3325674880634d0882440900e734a704",
            "69c631e21cb8499a9492f2a4a5c2bc06",
            "e69c03c31da0453fa07f6ff3b94e0635",
            "74e23b6910b443deacaf406fe52ad8d3",
            "db2d0caed69540a69b326be43995b2a8",
            "f24689c0d9e54fe6bfe425e8f66acfce",
            "3f9d6d713ffb4dd5acea5633b6861023",
            "b61c437ce29643b784db50941b276070"
          ]
        },
        "id": "qlQELSowPD8_",
        "outputId": "4f83b3ac-5de5-4662-88a7-1bfd4b1e7f4d"
      },
      "source": [
        "download_url(URL, base_dir, filename)"
      ],
      "execution_count": 10,
      "outputs": [
        {
          "output_type": "stream",
          "name": "stdout",
          "text": [
            "Downloading https://raw.githubusercontent.com/gibranfp/CursoAprendizajeProfundo/2022-1/data/iris.csv to ../data/iris/iris.csv\n"
          ]
        },
        {
          "output_type": "display_data",
          "data": {
            "text/plain": [
              "  0%|          | 0/4551 [00:00<?, ?it/s]"
            ],
            "application/vnd.jupyter.widget-view+json": {
              "version_major": 2,
              "version_minor": 0,
              "model_id": "afd1ce226b4d438b865fa4941f4906a6"
            }
          },
          "metadata": {}
        }
      ]
    },
    {
      "cell_type": "markdown",
      "metadata": {
        "id": "SffbmoNmQ_tN"
      },
      "source": [
        "Leemos el archivo y mostramos algunos ejemplos."
      ]
    },
    {
      "cell_type": "code",
      "metadata": {
        "colab": {
          "base_uri": "https://localhost:8080/",
          "height": 206
        },
        "id": "TIgxGMtQPKzu",
        "outputId": "8f974e91-784d-4aac-c5d4-360822281ca8"
      },
      "source": [
        "columns = ('largo sépalo', 'ancho sépalo', 'largo pétalo', 'ancho pétalo', 'clase')\n",
        "df = pd.read_csv('../data/iris/iris.csv', names=columns)\n",
        "df.head()"
      ],
      "execution_count": 11,
      "outputs": [
        {
          "output_type": "execute_result",
          "data": {
            "text/plain": [
              "   largo sépalo  ancho sépalo  largo pétalo  ancho pétalo        clase\n",
              "0           5.1           3.5           1.4           0.2  Iris-setosa\n",
              "1           4.9           3.0           1.4           0.2  Iris-setosa\n",
              "2           4.7           3.2           1.3           0.2  Iris-setosa\n",
              "3           4.6           3.1           1.5           0.2  Iris-setosa\n",
              "4           5.0           3.6           1.4           0.2  Iris-setosa"
            ],
            "text/html": [
              "\n",
              "  <div id=\"df-41e77cd4-15d6-435b-8611-11fc5116196d\">\n",
              "    <div class=\"colab-df-container\">\n",
              "      <div>\n",
              "<style scoped>\n",
              "    .dataframe tbody tr th:only-of-type {\n",
              "        vertical-align: middle;\n",
              "    }\n",
              "\n",
              "    .dataframe tbody tr th {\n",
              "        vertical-align: top;\n",
              "    }\n",
              "\n",
              "    .dataframe thead th {\n",
              "        text-align: right;\n",
              "    }\n",
              "</style>\n",
              "<table border=\"1\" class=\"dataframe\">\n",
              "  <thead>\n",
              "    <tr style=\"text-align: right;\">\n",
              "      <th></th>\n",
              "      <th>largo sépalo</th>\n",
              "      <th>ancho sépalo</th>\n",
              "      <th>largo pétalo</th>\n",
              "      <th>ancho pétalo</th>\n",
              "      <th>clase</th>\n",
              "    </tr>\n",
              "  </thead>\n",
              "  <tbody>\n",
              "    <tr>\n",
              "      <th>0</th>\n",
              "      <td>5.1</td>\n",
              "      <td>3.5</td>\n",
              "      <td>1.4</td>\n",
              "      <td>0.2</td>\n",
              "      <td>Iris-setosa</td>\n",
              "    </tr>\n",
              "    <tr>\n",
              "      <th>1</th>\n",
              "      <td>4.9</td>\n",
              "      <td>3.0</td>\n",
              "      <td>1.4</td>\n",
              "      <td>0.2</td>\n",
              "      <td>Iris-setosa</td>\n",
              "    </tr>\n",
              "    <tr>\n",
              "      <th>2</th>\n",
              "      <td>4.7</td>\n",
              "      <td>3.2</td>\n",
              "      <td>1.3</td>\n",
              "      <td>0.2</td>\n",
              "      <td>Iris-setosa</td>\n",
              "    </tr>\n",
              "    <tr>\n",
              "      <th>3</th>\n",
              "      <td>4.6</td>\n",
              "      <td>3.1</td>\n",
              "      <td>1.5</td>\n",
              "      <td>0.2</td>\n",
              "      <td>Iris-setosa</td>\n",
              "    </tr>\n",
              "    <tr>\n",
              "      <th>4</th>\n",
              "      <td>5.0</td>\n",
              "      <td>3.6</td>\n",
              "      <td>1.4</td>\n",
              "      <td>0.2</td>\n",
              "      <td>Iris-setosa</td>\n",
              "    </tr>\n",
              "  </tbody>\n",
              "</table>\n",
              "</div>\n",
              "      <button class=\"colab-df-convert\" onclick=\"convertToInteractive('df-41e77cd4-15d6-435b-8611-11fc5116196d')\"\n",
              "              title=\"Convert this dataframe to an interactive table.\"\n",
              "              style=\"display:none;\">\n",
              "        \n",
              "  <svg xmlns=\"http://www.w3.org/2000/svg\" height=\"24px\"viewBox=\"0 0 24 24\"\n",
              "       width=\"24px\">\n",
              "    <path d=\"M0 0h24v24H0V0z\" fill=\"none\"/>\n",
              "    <path d=\"M18.56 5.44l.94 2.06.94-2.06 2.06-.94-2.06-.94-.94-2.06-.94 2.06-2.06.94zm-11 1L8.5 8.5l.94-2.06 2.06-.94-2.06-.94L8.5 2.5l-.94 2.06-2.06.94zm10 10l.94 2.06.94-2.06 2.06-.94-2.06-.94-.94-2.06-.94 2.06-2.06.94z\"/><path d=\"M17.41 7.96l-1.37-1.37c-.4-.4-.92-.59-1.43-.59-.52 0-1.04.2-1.43.59L10.3 9.45l-7.72 7.72c-.78.78-.78 2.05 0 2.83L4 21.41c.39.39.9.59 1.41.59.51 0 1.02-.2 1.41-.59l7.78-7.78 2.81-2.81c.8-.78.8-2.07 0-2.86zM5.41 20L4 18.59l7.72-7.72 1.47 1.35L5.41 20z\"/>\n",
              "  </svg>\n",
              "      </button>\n",
              "      \n",
              "  <style>\n",
              "    .colab-df-container {\n",
              "      display:flex;\n",
              "      flex-wrap:wrap;\n",
              "      gap: 12px;\n",
              "    }\n",
              "\n",
              "    .colab-df-convert {\n",
              "      background-color: #E8F0FE;\n",
              "      border: none;\n",
              "      border-radius: 50%;\n",
              "      cursor: pointer;\n",
              "      display: none;\n",
              "      fill: #1967D2;\n",
              "      height: 32px;\n",
              "      padding: 0 0 0 0;\n",
              "      width: 32px;\n",
              "    }\n",
              "\n",
              "    .colab-df-convert:hover {\n",
              "      background-color: #E2EBFA;\n",
              "      box-shadow: 0px 1px 2px rgba(60, 64, 67, 0.3), 0px 1px 3px 1px rgba(60, 64, 67, 0.15);\n",
              "      fill: #174EA6;\n",
              "    }\n",
              "\n",
              "    [theme=dark] .colab-df-convert {\n",
              "      background-color: #3B4455;\n",
              "      fill: #D2E3FC;\n",
              "    }\n",
              "\n",
              "    [theme=dark] .colab-df-convert:hover {\n",
              "      background-color: #434B5C;\n",
              "      box-shadow: 0px 1px 3px 1px rgba(0, 0, 0, 0.15);\n",
              "      filter: drop-shadow(0px 1px 2px rgba(0, 0, 0, 0.3));\n",
              "      fill: #FFFFFF;\n",
              "    }\n",
              "  </style>\n",
              "\n",
              "      <script>\n",
              "        const buttonEl =\n",
              "          document.querySelector('#df-41e77cd4-15d6-435b-8611-11fc5116196d button.colab-df-convert');\n",
              "        buttonEl.style.display =\n",
              "          google.colab.kernel.accessAllowed ? 'block' : 'none';\n",
              "\n",
              "        async function convertToInteractive(key) {\n",
              "          const element = document.querySelector('#df-41e77cd4-15d6-435b-8611-11fc5116196d');\n",
              "          const dataTable =\n",
              "            await google.colab.kernel.invokeFunction('convertToInteractive',\n",
              "                                                     [key], {});\n",
              "          if (!dataTable) return;\n",
              "\n",
              "          const docLinkHtml = 'Like what you see? Visit the ' +\n",
              "            '<a target=\"_blank\" href=https://colab.research.google.com/notebooks/data_table.ipynb>data table notebook</a>'\n",
              "            + ' to learn more about interactive tables.';\n",
              "          element.innerHTML = '';\n",
              "          dataTable['output_type'] = 'display_data';\n",
              "          await google.colab.output.renderOutput(dataTable, element);\n",
              "          const docLink = document.createElement('div');\n",
              "          docLink.innerHTML = docLinkHtml;\n",
              "          element.appendChild(docLink);\n",
              "        }\n",
              "      </script>\n",
              "    </div>\n",
              "  </div>\n",
              "  "
            ]
          },
          "metadata": {},
          "execution_count": 11
        }
      ]
    },
    {
      "cell_type": "markdown",
      "metadata": {
        "id": "xvCehwkcRHJ-"
      },
      "source": [
        "Extraemos los atributos de las flores en un arreglo de NumPy (omitiendo la clase) y creamos nuestro cargador de datos."
      ]
    },
    {
      "cell_type": "code",
      "metadata": {
        "colab": {
          "base_uri": "https://localhost:8080/"
        },
        "id": "v6xbMX2kRjjA",
        "outputId": "1fbad1e0-e7ae-4755-fd79-f3f0d3e15081"
      },
      "source": [
        "Xiris = df.loc[:, df.columns!='clase'].to_numpy()\n",
        "irisdim = Xiris.shape[-1]\n",
        "Xiris, irisdl = numpy_a_dataloader(Xiris, 10)"
      ],
      "execution_count": 12,
      "outputs": [
        {
          "output_type": "stream",
          "name": "stdout",
          "text": [
            "Tamaño del conjunto de datos: 150\n",
            "x shape=torch.Size([10, 4]) dtype=torch.float32\n"
          ]
        }
      ]
    },
    {
      "cell_type": "markdown",
      "metadata": {
        "id": "EruevTCfRcxP"
      },
      "source": [
        "Instanciamos y entrenamos nuestro autocodificador con el cargador de datos creado."
      ]
    },
    {
      "cell_type": "code",
      "metadata": {
        "colab": {
          "base_uri": "https://localhost:8080/",
          "height": 281
        },
        "id": "48GeWvuU2-gn",
        "outputId": "057e2828-9124-4a3e-b482-e50fcb2943b4"
      },
      "source": [
        "irisac = Modelo(irisdim, 10, 2)\n",
        "perdidas = irisac.fit(irisdl)\n",
        "\n",
        "plt.plot(perdidas)\n",
        "plt.xlabel('Época')\n",
        "plt.ylabel('Pérdida')\n",
        "plt.show()"
      ],
      "execution_count": 13,
      "outputs": [
        {
          "output_type": "display_data",
          "data": {
            "text/plain": [
              "<Figure size 432x288 with 1 Axes>"
            ],
            "image/png": "[encoded data removed]"
          },
          "metadata": {
            "needs_background": "light"
          }
        }
      ]
    },
    {
      "cell_type": "markdown",
      "metadata": {
        "id": "Y9qAX2zORhEO"
      },
      "source": [
        "Mapeamos los datos a los vectores generador por el codificador entrenado."
      ]
    },
    {
      "cell_type": "code",
      "metadata": {
        "id": "vbPvIHB7FCqu"
      },
      "source": [
        "X_irisac = irisac.transform(Xiris)"
      ],
      "execution_count": 14,
      "outputs": []
    },
    {
      "cell_type": "markdown",
      "metadata": {
        "id": "NQ_zZ-WehIqa"
      },
      "source": [
        "Se visualizan los vectores latentes y se comparan con los producidos por _Principal Component Analysis_ (PCA):\n",
        "\n"
      ]
    },
    {
      "cell_type": "code",
      "metadata": {
        "colab": {
          "base_uri": "https://localhost:8080/",
          "height": 281
        },
        "id": "MrT7P7DeDcwu",
        "outputId": "b2564957-1694-4ed0-9f48-f70d7feace60"
      },
      "source": [
        "irispca = PCA(n_components=2)\n",
        "X_irispca = irispca.fit_transform(Xiris)\n",
        "grafica_mapeos(X_irisac, X_irispca, df.clase, list(df.clase.unique()))"
      ],
      "execution_count": 15,
      "outputs": [
        {
          "output_type": "display_data",
          "data": {
            "text/plain": [
              "<Figure size 432x288 with 2 Axes>"
            ],
            "image/png": "[encoded data removed]"
          },
          "metadata": {
            "needs_background": "light"
          }
        }
      ]
    },
    {
      "cell_type": "markdown",
      "metadata": {
        "id": "_TiYXPBdiUZl"
      },
      "source": [
        "## Conjunto de datos de vinos"
      ]
    },
    {
      "cell_type": "markdown",
      "metadata": {
        "id": "NraqqRPfiDOt"
      },
      "source": [
        "Se carga el conjunto de datos Wine usando las funciones predefinidas de scikit-learn y se crea el cargador de datos:"
      ]
    },
    {
      "cell_type": "code",
      "metadata": {
        "colab": {
          "base_uri": "https://localhost:8080/"
        },
        "id": "_4NieGcc8VdH",
        "outputId": "821a83e8-b4f0-4f42-ac7f-5027496d9c81"
      },
      "source": [
        "vino = load_wine()\n",
        "vinodim = vino.data.shape[-1]\n",
        "Xvino, vinodl = numpy_a_dataloader(X=vino.data, t_lote=10)"
      ],
      "execution_count": 16,
      "outputs": [
        {
          "output_type": "stream",
          "name": "stdout",
          "text": [
            "Tamaño del conjunto de datos: 178\n",
            "x shape=torch.Size([10, 13]) dtype=torch.float32\n"
          ]
        }
      ]
    },
    {
      "cell_type": "markdown",
      "metadata": {
        "id": "3kUlsyMGR6sY"
      },
      "source": [
        "Instanciamos y entrenamos el autocodificador con el cargador de datos creado."
      ]
    },
    {
      "cell_type": "code",
      "metadata": {
        "colab": {
          "base_uri": "https://localhost:8080/",
          "height": 281
        },
        "id": "MUZ_KO2yBM3P",
        "outputId": "aadb8c87-2e03-4f85-e0fe-6e28511be7e1"
      },
      "source": [
        "vinoac = Modelo(vinodim)\n",
        "perdidas = vinoac.fit(vinodl)\n",
        "\n",
        "plt.plot(perdidas)\n",
        "plt.xlabel('Época')\n",
        "plt.ylabel('Pérdida')\n",
        "plt.show()"
      ],
      "execution_count": 17,
      "outputs": [
        {
          "output_type": "display_data",
          "data": {
            "text/plain": [
              "<Figure size 432x288 with 1 Axes>"
            ],
            "image/png": "[encoded data removed]"
          },
          "metadata": {
            "needs_background": "light"
          }
        }
      ]
    },
    {
      "cell_type": "markdown",
      "metadata": {
        "id": "F_LYQ7d_heZv"
      },
      "source": [
        "Se mapea el conjunto de datos a vectores producidos por el codificador entrenado."
      ]
    },
    {
      "cell_type": "code",
      "metadata": {
        "id": "hDb8LtxsTCL_"
      },
      "source": [
        "X_vinoac = vinoac.transform(Xvino)"
      ],
      "execution_count": 18,
      "outputs": []
    },
    {
      "cell_type": "markdown",
      "metadata": {
        "id": "PFU9AXaIhi3_"
      },
      "source": [
        "Se visualizan los vectores latentes y se comparan con los producidos por _Principal Component Analysis_ (PCA):"
      ]
    },
    {
      "cell_type": "code",
      "metadata": {
        "colab": {
          "base_uri": "https://localhost:8080/",
          "height": 281
        },
        "id": "CpL73_yXizO-",
        "outputId": "77c254e3-14c1-4efd-a148-c6a9180079fa"
      },
      "source": [
        "pca = PCA(n_components=2)\n",
        "X_vinopca = pca.fit_transform(Xvino)\n",
        "grafica_mapeos(X_vinoac, X_vinopca, vino.target, np.unique(vino.target))"
      ],
      "execution_count": 19,
      "outputs": [
        {
          "output_type": "display_data",
          "data": {
            "text/plain": [
              "<Figure size 432x288 with 2 Axes>"
            ],
            "image/png": "[encoded data removed]"
          },
          "metadata": {
            "needs_background": "light"
          }
        }
      ]
    },
    {
      "cell_type": "markdown",
      "metadata": {
        "id": "jMlfU1imjKkN"
      },
      "source": [
        "## Conjunto de datos de dígitos"
      ]
    },
    {
      "cell_type": "markdown",
      "metadata": {
        "id": "4W8qFEAEiMvo"
      },
      "source": [
        "Se carga el conjunto de datos Digits usando las funciones predefinidas de scikit-learn y se crea el cargador de datos."
      ]
    },
    {
      "cell_type": "code",
      "metadata": {
        "colab": {
          "base_uri": "https://localhost:8080/"
        },
        "id": "PD1WgNyyjKWt",
        "outputId": "0c985c84-8978-4779-f685-405fba8d94c6"
      },
      "source": [
        "digitos = load_digits()\n",
        "digitosdim = digitos.data.shape[-1]\n",
        "Xdigitos, digitosdl = numpy_a_dataloader(X=digitos.data, t_lote=10)"
      ],
      "execution_count": 20,
      "outputs": [
        {
          "output_type": "stream",
          "name": "stdout",
          "text": [
            "Tamaño del conjunto de datos: 1797\n",
            "x shape=torch.Size([10, 64]) dtype=torch.float32\n"
          ]
        }
      ]
    },
    {
      "cell_type": "markdown",
      "metadata": {
        "id": "Bbp9Kf91hgtZ"
      },
      "source": [
        "Se instancia y entrena un autcodificador con el cargador de datos creado."
      ]
    },
    {
      "cell_type": "code",
      "metadata": {
        "colab": {
          "base_uri": "https://localhost:8080/",
          "height": 281
        },
        "id": "NPneZZXajC1G",
        "outputId": "9fcbbe6f-ccee-4bf5-838d-263c2ed192d3"
      },
      "source": [
        "digitosac = Modelo(digitosdim)\n",
        "perdidas = digitosac.fit(digitosdl)\n",
        "\n",
        "plt.plot(perdidas)\n",
        "plt.xlabel('Época')\n",
        "plt.ylabel('Pérdida')\n",
        "plt.show()"
      ],
      "execution_count": 21,
      "outputs": [
        {
          "output_type": "display_data",
          "data": {
            "text/plain": [
              "<Figure size 432x288 with 1 Axes>"
            ],
            "image/png": "[encoded data removed]"
          },
          "metadata": {
            "needs_background": "light"
          }
        }
      ]
    },
    {
      "cell_type": "markdown",
      "metadata": {
        "id": "rbYqpY3sSlPm"
      },
      "source": [
        "Se mapea el conjunto de datos con el codificador entrenado."
      ]
    },
    {
      "cell_type": "code",
      "metadata": {
        "id": "ZfVV0DK-U9DA"
      },
      "source": [
        "X_digitosac = digitosac.transform(Xdigitos)"
      ],
      "execution_count": 22,
      "outputs": []
    },
    {
      "cell_type": "markdown",
      "metadata": {
        "id": "EzpYRsvYh0Rw"
      },
      "source": [
        "Se visualizan los vectores latentes y se comparan con los producidos por _Principal Component Analysis_ (PCA)."
      ]
    },
    {
      "cell_type": "code",
      "metadata": {
        "colab": {
          "base_uri": "https://localhost:8080/",
          "height": 281
        },
        "id": "K9o_KDgxjeD2",
        "outputId": "b2864249-c86d-417c-ef0c-344cce5f3ab4"
      },
      "source": [
        "digitospca = PCA(n_components=2)\n",
        "X_digitospca = digitospca.fit_transform(Xdigitos)\n",
        "grafica_mapeos(X_digitosac, X_digitospca, digitos.target, np.unique(digitos.target))"
      ],
      "execution_count": 23,
      "outputs": [
        {
          "output_type": "display_data",
          "data": {
            "text/plain": [
              "<Figure size 432x288 with 2 Axes>"
            ],
            "image/png": "[encoded data removed]"
          },
          "metadata": {
            "needs_background": "light"
          }
        }
      ]
    }
  ]
}