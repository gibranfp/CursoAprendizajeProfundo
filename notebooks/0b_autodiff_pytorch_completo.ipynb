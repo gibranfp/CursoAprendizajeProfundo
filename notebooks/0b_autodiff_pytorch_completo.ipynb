{
  "nbformat": 4,
  "nbformat_minor": 0,
  "metadata": {
    "colab": {
      "provenance": [],
      "include_colab_link": true
    },
    "kernelspec": {
      "name": "python3",
      "display_name": "Python 3"
    },
    "language_info": {
      "name": "python"
    }
  },
  "cells": [
    {
      "cell_type": "markdown",
      "metadata": {
        "id": "view-in-github",
        "colab_type": "text"
      },
      "source": [
        "<a href=\"https://colab.research.google.com/github/gibranfp/CursoAprendizajeProfundo/blob/2024-1/notebooks/0b_autodiff_pytorch_completo.ipynb\" target=\"_parent\"><img src=\"https://colab.research.google.com/assets/colab-badge.svg\" alt=\"Open In Colab\"/></a>"
      ]
    },
    {
      "cell_type": "markdown",
      "source": [
        "# Diferenciación automática\n",
        "La [diferenciación automática](https://en.wikipedia.org/wiki/Automatic_differentiation) es un método para evaluar derivadas de funciones representadas como programas [[Automatic Differentiation in Machine Learning: a Survey, Baydin et. al, 2018](https://arxiv.org/abs/1502.05767)].\n",
        "\n",
        "![Diferenciación automática](https://gowrishankar.info/blog/automatic-differentiation-using-gradient-tapes/auto_diff.png)\n",
        "\n",
        "Fuente: [Automatic Differentiation in Machine Learning: a Survey, Baydin et. al, 2018](https://arxiv.org/abs/1502.05767)."
      ],
      "metadata": {
        "id": "4tx-1XjsIRQM"
      }
    },
    {
      "cell_type": "code",
      "execution_count": 1,
      "metadata": {
        "id": "iVsEjrKqxoo9"
      },
      "outputs": [],
      "source": [
        "import torch as th\n",
        "from torch import nn\n",
        "\n",
        "import numpy as np\n",
        "import matplotlib.pyplot as plt\n",
        "\n",
        "# Por reproducibilidad\n",
        "th.manual_seed(42)\n",
        "np.random.seed(42)"
      ]
    },
    {
      "cell_type": "markdown",
      "source": [
        "## Clase `Parameter`\n",
        "La clase [`Parameter`](https://www.tensorflow.org/api_docs/python/tf/Variable) del módulo `nn` de PyTorch define una subclase de `Tensor` que se emplea comúnmente para representar los parámetros que modifican los algoritmos de aprendizaje para generar un modelo. Las instancias de `Parameter` que se definen dentro de una subclase de `Module` del módulo de `nn` se agregan a su lista de parámetros a optimizar.\n",
        "\n",
        "El constructor de la clase `Parameter` recibe un tensor como argumento con el que se crea la instancia.\n"
      ],
      "metadata": {
        "id": "0ZoBbTML6Vqa"
      }
    },
    {
      "cell_type": "code",
      "source": [
        "print(f'Con un tensor de ceros: {nn.parameter.Parameter(th.zeros((10,5)))}')\n",
        "print(f'Con un tensor aleatorio: {nn.parameter.Parameter(th.rand((10,5)))}')\n",
        "print(f'Con un arreglo de NumPy: {nn.parameter.Parameter(th.rand(5,5))}')\n",
        "print(f'Con una lista: {nn.parameter.Parameter(th.tensor([[1.0, 2.0], [3.0, 4.0]]))}')"
      ],
      "metadata": {
        "id": "ppRAmedE8zFz",
        "colab": {
          "base_uri": "https://localhost:8080/"
        },
        "outputId": "f077e8f9-b5ed-4eb7-f05a-1d309cd6eb37"
      },
      "execution_count": 2,
      "outputs": [
        {
          "output_type": "stream",
          "name": "stdout",
          "text": [
            "Con un tensor de ceros: Parameter containing:\n",
            "tensor([[0., 0., 0., 0., 0.],\n",
            "        [0., 0., 0., 0., 0.],\n",
            "        [0., 0., 0., 0., 0.],\n",
            "        [0., 0., 0., 0., 0.],\n",
            "        [0., 0., 0., 0., 0.],\n",
            "        [0., 0., 0., 0., 0.],\n",
            "        [0., 0., 0., 0., 0.],\n",
            "        [0., 0., 0., 0., 0.],\n",
            "        [0., 0., 0., 0., 0.],\n",
            "        [0., 0., 0., 0., 0.]], requires_grad=True)\n",
            "Con un tensor aleatorio: Parameter containing:\n",
            "tensor([[0.8823, 0.9150, 0.3829, 0.9593, 0.3904],\n",
            "        [0.6009, 0.2566, 0.7936, 0.9408, 0.1332],\n",
            "        [0.9346, 0.5936, 0.8694, 0.5677, 0.7411],\n",
            "        [0.4294, 0.8854, 0.5739, 0.2666, 0.6274],\n",
            "        [0.2696, 0.4414, 0.2969, 0.8317, 0.1053],\n",
            "        [0.2695, 0.3588, 0.1994, 0.5472, 0.0062],\n",
            "        [0.9516, 0.0753, 0.8860, 0.5832, 0.3376],\n",
            "        [0.8090, 0.5779, 0.9040, 0.5547, 0.3423],\n",
            "        [0.6343, 0.3644, 0.7104, 0.9464, 0.7890],\n",
            "        [0.2814, 0.7886, 0.5895, 0.7539, 0.1952]], requires_grad=True)\n",
            "Con un arreglo de NumPy: Parameter containing:\n",
            "tensor([[0.0050, 0.3068, 0.1165, 0.9103, 0.6440],\n",
            "        [0.7071, 0.6581, 0.4913, 0.8913, 0.1447],\n",
            "        [0.5315, 0.1587, 0.6542, 0.3278, 0.6532],\n",
            "        [0.3958, 0.9147, 0.2036, 0.2018, 0.2018],\n",
            "        [0.9497, 0.6666, 0.9811, 0.0874, 0.0041]], requires_grad=True)\n",
            "Con una lista: Parameter containing:\n",
            "tensor([[1., 2.],\n",
            "        [3., 4.]], requires_grad=True)\n"
          ]
        }
      ]
    },
    {
      "cell_type": "markdown",
      "source": [
        "Podemos realizar cualquier operación tensorial con una instancia de `Parameter`, ya sea con otras instancias de `Parameter` o `Tensor`. El resultado de la operación es una instancia de `Tensor`."
      ],
      "metadata": {
        "id": "9nBPiInUJ1nb"
      }
    },
    {
      "cell_type": "code",
      "source": [
        "param = th.nn.parameter.Parameter(th.zeros((10,5)))\n",
        "\n",
        "print(f'Transpuesta: {param.T}')\n",
        "print(f'Suma: {param + th.ones_like(param)}')\n",
        "print(f'Multiplicación elemento a elemento: {param * th.zeros_like(param)}')\n",
        "print(f'Multiplicación: {param @ th.rand_like(param).T}')"
      ],
      "metadata": {
        "id": "3YtbOBKYKWYL",
        "colab": {
          "base_uri": "https://localhost:8080/"
        },
        "outputId": "ec318509-b0b9-4847-9abd-5f8d86955405"
      },
      "execution_count": 3,
      "outputs": [
        {
          "output_type": "stream",
          "name": "stdout",
          "text": [
            "Transpuesta: tensor([[0., 0., 0., 0., 0., 0., 0., 0., 0., 0.],\n",
            "        [0., 0., 0., 0., 0., 0., 0., 0., 0., 0.],\n",
            "        [0., 0., 0., 0., 0., 0., 0., 0., 0., 0.],\n",
            "        [0., 0., 0., 0., 0., 0., 0., 0., 0., 0.],\n",
            "        [0., 0., 0., 0., 0., 0., 0., 0., 0., 0.]], grad_fn=<PermuteBackward0>)\n",
            "Suma: tensor([[1., 1., 1., 1., 1.],\n",
            "        [1., 1., 1., 1., 1.],\n",
            "        [1., 1., 1., 1., 1.],\n",
            "        [1., 1., 1., 1., 1.],\n",
            "        [1., 1., 1., 1., 1.],\n",
            "        [1., 1., 1., 1., 1.],\n",
            "        [1., 1., 1., 1., 1.],\n",
            "        [1., 1., 1., 1., 1.],\n",
            "        [1., 1., 1., 1., 1.],\n",
            "        [1., 1., 1., 1., 1.]], grad_fn=<AddBackward0>)\n",
            "Multiplicación elemento a elemento: tensor([[0., 0., 0., 0., 0.],\n",
            "        [0., 0., 0., 0., 0.],\n",
            "        [0., 0., 0., 0., 0.],\n",
            "        [0., 0., 0., 0., 0.],\n",
            "        [0., 0., 0., 0., 0.],\n",
            "        [0., 0., 0., 0., 0.],\n",
            "        [0., 0., 0., 0., 0.],\n",
            "        [0., 0., 0., 0., 0.],\n",
            "        [0., 0., 0., 0., 0.],\n",
            "        [0., 0., 0., 0., 0.]], grad_fn=<MulBackward0>)\n",
            "Multiplicación: tensor([[0., 0., 0., 0., 0., 0., 0., 0., 0., 0.],\n",
            "        [0., 0., 0., 0., 0., 0., 0., 0., 0., 0.],\n",
            "        [0., 0., 0., 0., 0., 0., 0., 0., 0., 0.],\n",
            "        [0., 0., 0., 0., 0., 0., 0., 0., 0., 0.],\n",
            "        [0., 0., 0., 0., 0., 0., 0., 0., 0., 0.],\n",
            "        [0., 0., 0., 0., 0., 0., 0., 0., 0., 0.],\n",
            "        [0., 0., 0., 0., 0., 0., 0., 0., 0., 0.],\n",
            "        [0., 0., 0., 0., 0., 0., 0., 0., 0., 0.],\n",
            "        [0., 0., 0., 0., 0., 0., 0., 0., 0., 0.],\n",
            "        [0., 0., 0., 0., 0., 0., 0., 0., 0., 0.]], grad_fn=<MmBackward0>)\n"
          ]
        }
      ]
    },
    {
      "cell_type": "markdown",
      "source": [
        "## Diferenciación automática en PyTorch\n",
        "PyTorch puede diferenciar automáticamente secuencias de operaciones con instancias de `Tensor` o `Parameter`. Para ello se mantiene una gráfica de cómputo, la cual se va generando de manera dinámica conforme se ejecutan operaciones con instancias que tienen la propiedad `requires_grad` en verdadero (solo ten cuidado con las operaciones _in-place_). Por defecto, todas las instancias de `Parameter` tienen esta propiedad en verdadero y las instancias de `Tensor` en falso."
      ],
      "metadata": {
        "id": "KNsBnBVfYQln"
      }
    },
    {
      "cell_type": "code",
      "source": [
        "ten = th.linspace(start=-10, end=10, steps=100)\n",
        "print(param.requires_grad)\n",
        "print(ten.requires_grad)"
      ],
      "metadata": {
        "id": "D8gRZPnJYTqA",
        "colab": {
          "base_uri": "https://localhost:8080/"
        },
        "outputId": "95996453-c10d-43f3-8689-12bb568b8ee8"
      },
      "execution_count": 4,
      "outputs": [
        {
          "output_type": "stream",
          "name": "stdout",
          "text": [
            "True\n",
            "False\n"
          ]
        }
      ]
    },
    {
      "cell_type": "markdown",
      "source": [
        "Es posible cambiar el valor de esta propiedad en una instancia usando el método `requires_grad_` (_in-place_)."
      ],
      "metadata": {
        "id": "YFjSw0bpcY4V"
      }
    },
    {
      "cell_type": "code",
      "source": [
        "param.requires_grad_(False)\n",
        "ten.requires_grad_(True)\n",
        "print(param.requires_grad)\n",
        "print(ten.requires_grad)"
      ],
      "metadata": {
        "colab": {
          "base_uri": "https://localhost:8080/"
        },
        "id": "npCReZQwc6Qa",
        "outputId": "a9c9c11f-7b54-47d2-eeb1-82d1970050dd"
      },
      "execution_count": 5,
      "outputs": [
        {
          "output_type": "stream",
          "name": "stdout",
          "text": [
            "False\n",
            "True\n"
          ]
        }
      ]
    },
    {
      "cell_type": "markdown",
      "source": [
        "Para modificar el contenido de una instancia de `Parameter` es necesario especificar que no se registre la operación usando el ámbito `no_grad`."
      ],
      "metadata": {
        "id": "uvmThL4IIoJk"
      }
    },
    {
      "cell_type": "code",
      "source": [
        "with th.no_grad():\n",
        "  param[0, 0] = 1\n",
        "print(f'Nuevo valor del elemento (0,0) = {param[0, 0]}')"
      ],
      "metadata": {
        "colab": {
          "base_uri": "https://localhost:8080/"
        },
        "id": "F91sInvJI3n7",
        "outputId": "16abe4cd-0999-4de0-e761-37ab70fdd936"
      },
      "execution_count": 6,
      "outputs": [
        {
          "output_type": "stream",
          "name": "stdout",
          "text": [
            "Nuevo valor del elemento (0,0) = 1.0\n"
          ]
        }
      ]
    },
    {
      "cell_type": "markdown",
      "source": [
        "En general, existen métodos para instancias tanto de `Parameter` como de `Tensor` que modifican el contenido _in-place_. Los nombres de estos métodos usualmente terminan con un guión bajo. Tal es el caso de `add_` y `mul_`, que suman y multiplican un tensor. Debido a que estas operaciones no deben registrarse cuando las instancias de `Parameter` o `Tensor` tienen `requires_grad = True`, las ejecutamos dentro del ámbito `no_grad`."
      ],
      "metadata": {
        "id": "bTyVfg2Q9QmR"
      }
    },
    {
      "cell_type": "code",
      "source": [
        "with th.no_grad():\n",
        "  print(f'Suma matriz de unos a parámetros: {param.add_(th.ones_like(param))}')\n",
        "  print(f'Resta matriz de unos a parámetros: {param.subtract_(th.ones_like(param))}')\n",
        "  print(f'Multiplica parámetros por matriz de dos: {param.mul_(2 * th.ones_like(param))}')"
      ],
      "metadata": {
        "colab": {
          "base_uri": "https://localhost:8080/"
        },
        "id": "iyktgZWhbyir",
        "outputId": "340ab02a-da4b-429e-be23-774d75506b91"
      },
      "execution_count": 7,
      "outputs": [
        {
          "output_type": "stream",
          "name": "stdout",
          "text": [
            "Suma matriz de unos a parámetros: Parameter containing:\n",
            "tensor([[2., 1., 1., 1., 1.],\n",
            "        [1., 1., 1., 1., 1.],\n",
            "        [1., 1., 1., 1., 1.],\n",
            "        [1., 1., 1., 1., 1.],\n",
            "        [1., 1., 1., 1., 1.],\n",
            "        [1., 1., 1., 1., 1.],\n",
            "        [1., 1., 1., 1., 1.],\n",
            "        [1., 1., 1., 1., 1.],\n",
            "        [1., 1., 1., 1., 1.],\n",
            "        [1., 1., 1., 1., 1.]])\n",
            "Resta matriz de unos a parámetros: Parameter containing:\n",
            "tensor([[1., 0., 0., 0., 0.],\n",
            "        [0., 0., 0., 0., 0.],\n",
            "        [0., 0., 0., 0., 0.],\n",
            "        [0., 0., 0., 0., 0.],\n",
            "        [0., 0., 0., 0., 0.],\n",
            "        [0., 0., 0., 0., 0.],\n",
            "        [0., 0., 0., 0., 0.],\n",
            "        [0., 0., 0., 0., 0.],\n",
            "        [0., 0., 0., 0., 0.],\n",
            "        [0., 0., 0., 0., 0.]])\n",
            "Multiplica parámetros por matriz de dos: Parameter containing:\n",
            "tensor([[2., 0., 0., 0., 0.],\n",
            "        [0., 0., 0., 0., 0.],\n",
            "        [0., 0., 0., 0., 0.],\n",
            "        [0., 0., 0., 0., 0.],\n",
            "        [0., 0., 0., 0., 0.],\n",
            "        [0., 0., 0., 0., 0.],\n",
            "        [0., 0., 0., 0., 0.],\n",
            "        [0., 0., 0., 0., 0.],\n",
            "        [0., 0., 0., 0., 0.],\n",
            "        [0., 0., 0., 0., 0.]])\n"
          ]
        }
      ]
    },
    {
      "cell_type": "markdown",
      "source": [
        "Para obtener el gradiente de una [función escalar](https://en.wiktionary.org/wiki/scalar_function) respecto a un tensor que está siendo contemplado se debe llamar al método `backward`.\n",
        "\n",
        "Por ejemplo, considera la siguiente función:\n",
        "\n",
        "$$\n",
        "f(x, y) = 2x^3 + 3y^2 + c\n",
        "$$\n",
        "\n",
        "![](https://camo.githubusercontent.com/32e5a6b4cf8ad981ba5b19c9a5fab02fdc14d409237f774034d23536a731ae5c/68747470733a2f2f7261772e67697468756275736572636f6e74656e742e636f6d2f626572656d6c2f6961702f6d61737465722f6669672f6175746f646966665f6578616d706c652e737667)\n",
        "\n",
        "Ejemplo y figura de Berenice Montalvo-Lezama y Ricardo Montalvo-Lezama (tomado de [https://github.com/gibranfp/CursoAprendizajeProfundo/blob/2022-1/notebooks/1c_pytorch.ipynb](https://github.com/gibranfp/CursoAprendizajeProfundo/blob/2022-1/notebooks/1c_pytorch.ipynb)).\n",
        "\n",
        "Evaluando esta función en $x = 2$, $y = 3$ y $c = 1.0$, tenemos\n",
        "\n",
        "$$\n",
        "f(2, 3) = 2\\cdot (2)^3 + 3 \\cdot (3)^2 + 1 = 44\n",
        "$$\n",
        "\n",
        "Las derivadas partiales evaluadas en estos puntos estarían dadas por\n",
        "$$\n",
        "\\begin{align}\n",
        "\\frac{\\partial f}{\\partial x} = 6x^2 = 6 \\cdot (2)^2 = 24\\\\\n",
        "\\frac{\\partial f}{\\partial y} = 6y = 6 (3) = 18\n",
        "\\end{align}\n",
        "$$"
      ],
      "metadata": {
        "id": "IC0yKUxFb6CI"
      }
    },
    {
      "cell_type": "code",
      "source": [
        "x = th.tensor(2.0, requires_grad=True)\n",
        "y = th.tensor(3.0, requires_grad=True)\n",
        "c = th.tensor(1.0)\n",
        "\n",
        "f = 2 * x**3 + 3 * y**2 + c\n",
        "f.backward()"
      ],
      "metadata": {
        "id": "c5USoC1Xdymn"
      },
      "execution_count": 8,
      "outputs": []
    },
    {
      "cell_type": "markdown",
      "source": [
        "Cuando se invoca a este método, se calculan los gradientes de la función respecto al tensor correspondiente y se acumulan en el tensor `grad` que es una propiedad de todas las instancia de `Tensor` y `Parameter`."
      ],
      "metadata": {
        "id": "l8cxaru0Z8zE"
      }
    },
    {
      "cell_type": "code",
      "source": [
        "print(f'Función evaluada = {f}')\n",
        "print(f'Derivada respecto a: x = {x.grad}, y = {y.grad} y c = {c.grad}')"
      ],
      "metadata": {
        "colab": {
          "base_uri": "https://localhost:8080/"
        },
        "id": "yw9hDOw0Z-5c",
        "outputId": "b5028350-b376-4387-f4e9-91e1b1652e2b"
      },
      "execution_count": 9,
      "outputs": [
        {
          "output_type": "stream",
          "name": "stdout",
          "text": [
            "Función evaluada = 44.0\n",
            "Derivada respecto a: x = 24.0, y = 18.0 y c = None\n"
          ]
        }
      ]
    },
    {
      "cell_type": "markdown",
      "source": [
        "Además, al construir la gráfica de cómputo de una operación, PyTorch almacena la función de retropropagación correspondiente en la propiedad `grad_fn` del tensor resultante. Para el ejemplo anterior, esta sería:"
      ],
      "metadata": {
        "id": "XWPY5NCnkInN"
      }
    },
    {
      "cell_type": "code",
      "source": [
        "a = x**3\n",
        "b = 2 * a\n",
        "\n",
        "d = y**2\n",
        "e = 3 * d\n",
        "\n",
        "g = b + e\n",
        "f = g + c\n",
        "print(f'Función de retropropagación para a = {a.grad_fn}')\n",
        "print(f'Función de retropropagación para b = {b.grad_fn}')\n",
        "print(f'Función de retropropagación para c = {c.grad_fn}')\n",
        "print(f'Función de retropropagación para d = {d.grad_fn}')\n",
        "print(f'Función de retropropagación para e = {e.grad_fn}')\n",
        "print(f'Función de retropropagación para g = {g.grad_fn}')\n",
        "print(f'Función de retropropagación para f = {f.grad_fn}')"
      ],
      "metadata": {
        "colab": {
          "base_uri": "https://localhost:8080/"
        },
        "id": "K3wv_aBmliuo",
        "outputId": "15ce00e0-e391-4a82-ea08-ac23b36f3305"
      },
      "execution_count": 10,
      "outputs": [
        {
          "output_type": "stream",
          "name": "stdout",
          "text": [
            "Función de retropropagación para a = <PowBackward0 object at 0x7c6bd6c8b040>\n",
            "Función de retropropagación para b = <MulBackward0 object at 0x7c6bd6c8bd00>\n",
            "Función de retropropagación para c = None\n",
            "Función de retropropagación para d = <PowBackward0 object at 0x7c6be428c610>\n",
            "Función de retropropagación para e = <MulBackward0 object at 0x7c6be428ccd0>\n",
            "Función de retropropagación para g = <AddBackward0 object at 0x7c6be428d4e0>\n",
            "Función de retropropagación para f = <AddBackward0 object at 0x7c6be428c220>\n"
          ]
        }
      ]
    },
    {
      "cell_type": "markdown",
      "source": [
        "Podemos evaluar estas funciones:"
      ],
      "metadata": {
        "id": "uWahNo-Pq1xA"
      }
    },
    {
      "cell_type": "code",
      "source": [
        "print(f'Retropropagación para a = {a.grad_fn(th.tensor(1.))}')\n",
        "print(f'Retropropagación para b = {b.grad_fn(th.tensor(1.))}')\n",
        "print(f'Retropropagación para a y b = {a.grad_fn(b.grad_fn(th.tensor(1.))[0])}')\n",
        "print(f'Retropropagación para d = {d.grad_fn(th.tensor(1.))}')\n",
        "print(f'Retropropagación para e = {e.grad_fn(th.tensor(1.))}')\n",
        "print(f'Retropropagación para d y e = {d.grad_fn(e.grad_fn(th.tensor(1.))[0])}')\n",
        "print(f'Retropropagación para g = {g.grad_fn(th.tensor(1.))}')\n",
        "print(f'Retropropagación para f = {f.grad_fn(th.tensor(1.))}')"
      ],
      "metadata": {
        "colab": {
          "base_uri": "https://localhost:8080/"
        },
        "outputId": "545e36fc-69b9-4498-ed3d-66d1dad2b244",
        "id": "lDkD5Lhcq1xB"
      },
      "execution_count": 11,
      "outputs": [
        {
          "output_type": "stream",
          "name": "stdout",
          "text": [
            "Retropropagación para a = 12.0\n",
            "Retropropagación para b = (tensor(2.), None)\n",
            "Retropropagación para a y b = 24.0\n",
            "Retropropagación para d = 6.0\n",
            "Retropropagación para e = (tensor(3.), None)\n",
            "Retropropagación para d y e = 18.0\n",
            "Retropropagación para g = (tensor(1.), tensor(1.))\n",
            "Retropropagación para f = (tensor(1.), None)\n"
          ]
        }
      ]
    },
    {
      "cell_type": "code",
      "source": [
        "print(a.grad_fn(b.grad_fn(g.grad_fn(f.grad_fn(th.tensor(1.))[0])[0])[0]))\n",
        "print(d.grad_fn(e.grad_fn(g.grad_fn(f.grad_fn(th.tensor(1.))[0])[0])[0]))"
      ],
      "metadata": {
        "colab": {
          "base_uri": "https://localhost:8080/"
        },
        "id": "GXNA8YEsVRvA",
        "outputId": "de6022a8-532c-4afc-d6af-71d43d8bebb5"
      },
      "execution_count": 12,
      "outputs": [
        {
          "output_type": "stream",
          "name": "stdout",
          "text": [
            "tensor(24., grad_fn=<MulBackward0>)\n",
            "tensor(18., grad_fn=<MulBackward0>)\n"
          ]
        }
      ]
    },
    {
      "cell_type": "markdown",
      "source": [
        "Cuando se llama al método `backward` se van evaluando las funciones de retropropagación en la gráfica de cómputo desde el último nodo hacia atrás usando la propiedad `next_functions` de `grad_fn` hasta obtener los gradientes de los tensores correspondientes en los nodos hoja. Nota que en algunos casos es necesario mantener los resultados intermedios para poder evaluar esta función y obtener el gradiente correspondiente.\n",
        "\n",
        "Consideremos ahora la función:\n",
        "\n",
        "$$\n",
        "g(\\mathbf{m}) =  \\sum_{j=1}^d m_j^2\n",
        "$$\n",
        "\n",
        "La derivada parcial de esta función respecto a cada elemento de $\\mathbf{m}$ estaría dada por\n",
        "\n",
        "$$\n",
        "\\frac{\\partial g(\\mathbf{m})}{\\partial m_j} = 2\\cdot m_j\n",
        "$$\n",
        "\n",
        "Definimos esta función, la evalúamos para 100 valores entre -10 y 10 y obtenemos las derivadas parciales respecto a cada uno de los 100 valores (gradiente) usando el método `backward`:"
      ],
      "metadata": {
        "id": "RcXGNFw7eUAp"
      }
    },
    {
      "cell_type": "code",
      "source": [
        "m = th.linspace(start=-10, end=10, steps=100, requires_grad=True)\n",
        "g = (m**2).sum()\n",
        "g.backward()\n",
        "\n",
        "print(f'Función evaluada = {g}, retropropagación = {g.grad_fn}')\n",
        "print(f'Derivada respecto a cada valor de m = {m.grad}')"
      ],
      "metadata": {
        "colab": {
          "base_uri": "https://localhost:8080/"
        },
        "id": "bhGoV0mdevZU",
        "outputId": "8f5c1651-239f-41bb-f612-7892dbe4f47f"
      },
      "execution_count": 13,
      "outputs": [
        {
          "output_type": "stream",
          "name": "stdout",
          "text": [
            "Función evaluada = 3400.67333984375, retropropagación = <SumBackward0 object at 0x7c6be428caf0>\n",
            "Derivada respecto a cada valor de m = tensor([-20.0000, -19.5960, -19.1919, -18.7879, -18.3838, -17.9798, -17.5758,\n",
            "        -17.1717, -16.7677, -16.3636, -15.9596, -15.5556, -15.1515, -14.7475,\n",
            "        -14.3434, -13.9394, -13.5354, -13.1313, -12.7273, -12.3232, -11.9192,\n",
            "        -11.5152, -11.1111, -10.7071, -10.3030,  -9.8990,  -9.4949,  -9.0909,\n",
            "         -8.6869,  -8.2828,  -7.8788,  -7.4747,  -7.0707,  -6.6667,  -6.2626,\n",
            "         -5.8586,  -5.4545,  -5.0505,  -4.6465,  -4.2424,  -3.8384,  -3.4343,\n",
            "         -3.0303,  -2.6263,  -2.2222,  -1.8182,  -1.4141,  -1.0101,  -0.6061,\n",
            "         -0.2020,   0.2020,   0.6061,   1.0101,   1.4141,   1.8182,   2.2222,\n",
            "          2.6263,   3.0303,   3.4343,   3.8384,   4.2424,   4.6465,   5.0505,\n",
            "          5.4545,   5.8586,   6.2626,   6.6667,   7.0707,   7.4747,   7.8788,\n",
            "          8.2828,   8.6869,   9.0909,   9.4949,   9.8990,  10.3030,  10.7071,\n",
            "         11.1111,  11.5152,  11.9192,  12.3232,  12.7273,  13.1313,  13.5354,\n",
            "         13.9394,  14.3434,  14.7475,  15.1515,  15.5556,  15.9596,  16.3636,\n",
            "         16.7677,  17.1717,  17.5758,  17.9798,  18.3838,  18.7879,  19.1919,\n",
            "         19.5960,  20.0000])\n"
          ]
        }
      ]
    },
    {
      "cell_type": "markdown",
      "source": [
        "Una vez que se llama al método `.backward`, se elimina el grafo de cómputo. Sin embargo, es posible mantenerlo pasando el argumento `retain_graph=True` en la llamada."
      ],
      "metadata": {
        "id": "5ABAfcxqfeJM"
      }
    },
    {
      "cell_type": "code",
      "source": [
        "g = (m**2).sum()\n",
        "# g.backward()\n",
        "g.backward(retain_graph=True) # mantiene el grafo de cómputo después de llamar a backward\n",
        "print(f'Gradiente en primera llamada a backward = {m.grad}')\n",
        "g.backward() # sin retain_graph=True esta segunda llamada a backward arrojaría un error\n",
        "print(f'Gradiente en segunda llamada a backward = {m.grad}') # el gradiente se acumula"
      ],
      "metadata": {
        "colab": {
          "base_uri": "https://localhost:8080/"
        },
        "id": "-qP5SQS3gnEf",
        "outputId": "e900251f-db70-4339-a3cd-bec6a094f1b2"
      },
      "execution_count": 14,
      "outputs": [
        {
          "output_type": "stream",
          "name": "stdout",
          "text": [
            "Gradiente en primera llamada a backward = tensor([-40.0000, -39.1919, -38.3838, -37.5758, -36.7677, -35.9596, -35.1515,\n",
            "        -34.3434, -33.5354, -32.7273, -31.9192, -31.1111, -30.3030, -29.4949,\n",
            "        -28.6869, -27.8788, -27.0707, -26.2626, -25.4545, -24.6465, -23.8384,\n",
            "        -23.0303, -22.2222, -21.4141, -20.6061, -19.7980, -18.9899, -18.1818,\n",
            "        -17.3737, -16.5657, -15.7576, -14.9495, -14.1414, -13.3333, -12.5253,\n",
            "        -11.7172, -10.9091, -10.1010,  -9.2929,  -8.4848,  -7.6768,  -6.8687,\n",
            "         -6.0606,  -5.2525,  -4.4444,  -3.6364,  -2.8283,  -2.0202,  -1.2121,\n",
            "         -0.4040,   0.4040,   1.2121,   2.0202,   2.8283,   3.6364,   4.4444,\n",
            "          5.2525,   6.0606,   6.8687,   7.6768,   8.4848,   9.2929,  10.1010,\n",
            "         10.9091,  11.7172,  12.5253,  13.3333,  14.1414,  14.9495,  15.7576,\n",
            "         16.5657,  17.3737,  18.1818,  18.9899,  19.7980,  20.6061,  21.4141,\n",
            "         22.2222,  23.0303,  23.8384,  24.6465,  25.4545,  26.2626,  27.0707,\n",
            "         27.8788,  28.6869,  29.4949,  30.3030,  31.1111,  31.9192,  32.7273,\n",
            "         33.5354,  34.3434,  35.1515,  35.9596,  36.7677,  37.5758,  38.3838,\n",
            "         39.1919,  40.0000])\n",
            "Gradiente en segunda llamada a backward = tensor([-60.0000, -58.7879, -57.5758, -56.3636, -55.1515, -53.9394, -52.7273,\n",
            "        -51.5152, -50.3030, -49.0909, -47.8788, -46.6667, -45.4545, -44.2424,\n",
            "        -43.0303, -41.8182, -40.6061, -39.3939, -38.1818, -36.9697, -35.7576,\n",
            "        -34.5455, -33.3333, -32.1212, -30.9091, -29.6970, -28.4848, -27.2727,\n",
            "        -26.0606, -24.8485, -23.6364, -22.4242, -21.2121, -20.0000, -18.7879,\n",
            "        -17.5758, -16.3636, -15.1515, -13.9394, -12.7273, -11.5152, -10.3030,\n",
            "         -9.0909,  -7.8788,  -6.6667,  -5.4545,  -4.2424,  -3.0303,  -1.8182,\n",
            "         -0.6061,   0.6061,   1.8182,   3.0303,   4.2424,   5.4545,   6.6667,\n",
            "          7.8788,   9.0909,  10.3030,  11.5152,  12.7273,  13.9394,  15.1515,\n",
            "         16.3636,  17.5758,  18.7879,  20.0000,  21.2121,  22.4242,  23.6364,\n",
            "         24.8485,  26.0606,  27.2727,  28.4848,  29.6970,  30.9091,  32.1212,\n",
            "         33.3333,  34.5455,  35.7576,  36.9697,  38.1818,  39.3939,  40.6061,\n",
            "         41.8182,  43.0303,  44.2424,  45.4545,  46.6667,  47.8788,  49.0909,\n",
            "         50.3030,  51.5152,  52.7273,  53.9394,  55.1515,  56.3636,  57.5758,\n",
            "         58.7879,  60.0000])\n"
          ]
        }
      ]
    },
    {
      "cell_type": "markdown",
      "source": [
        "Múltiples llamadas a la función y al método `backward` acumulan los gradientes en `.grad`. Por lo mismo, en muchas ocasiones es necesarios ponerlos a 0 con el método (_in-pace_) `zero`."
      ],
      "metadata": {
        "id": "DxiBlYG8iI4t"
      }
    },
    {
      "cell_type": "code",
      "source": [
        "with th.no_grad():\n",
        "  m.grad.zero_()\n",
        "print(f'Tensor de gradiente puesto a ceros = {m.grad}')"
      ],
      "metadata": {
        "colab": {
          "base_uri": "https://localhost:8080/"
        },
        "id": "qIGcqWEzf0F4",
        "outputId": "a3a38768-3142-4f1c-fc58-4c37cf2ccda6"
      },
      "execution_count": 15,
      "outputs": [
        {
          "output_type": "stream",
          "name": "stdout",
          "text": [
            "Tensor de gradiente puesto a ceros = tensor([0., 0., 0., 0., 0., 0., 0., 0., 0., 0., 0., 0., 0., 0., 0., 0., 0., 0., 0., 0., 0., 0., 0., 0.,\n",
            "        0., 0., 0., 0., 0., 0., 0., 0., 0., 0., 0., 0., 0., 0., 0., 0., 0., 0., 0., 0., 0., 0., 0., 0.,\n",
            "        0., 0., 0., 0., 0., 0., 0., 0., 0., 0., 0., 0., 0., 0., 0., 0., 0., 0., 0., 0., 0., 0., 0., 0.,\n",
            "        0., 0., 0., 0., 0., 0., 0., 0., 0., 0., 0., 0., 0., 0., 0., 0., 0., 0., 0., 0., 0., 0., 0., 0.,\n",
            "        0., 0., 0., 0.])\n"
          ]
        }
      ]
    },
    {
      "cell_type": "markdown",
      "source": [
        "También podemos diferenciar automáticamente respecto a más de un tensor."
      ],
      "metadata": {
        "id": "pz7QElnzxYha"
      }
    },
    {
      "cell_type": "code",
      "source": [
        "l = th.rand_like(m, requires_grad=True)\n",
        "h = (m**2 + l**3).sum()\n",
        "h.backward()\n",
        "\n",
        "print(f'Función evaluada = {h}, retropropagación = {h.grad_fn}')\n",
        "print(f'Derivada respecto a: m = {m.grad}, l = {l.grad}')"
      ],
      "metadata": {
        "id": "MUaFQOABZnRI",
        "colab": {
          "base_uri": "https://localhost:8080/"
        },
        "outputId": "4dbda7de-3758-43eb-ab10-7ae5d987fbfa"
      },
      "execution_count": 16,
      "outputs": [
        {
          "output_type": "stream",
          "name": "stdout",
          "text": [
            "Función evaluada = 3423.46875, retropropagación = <SumBackward0 object at 0x7c6be428e8f0>\n",
            "Derivada respecto a: m = tensor([-20.0000, -19.5960, -19.1919, -18.7879, -18.3838, -17.9798, -17.5758,\n",
            "        -17.1717, -16.7677, -16.3636, -15.9596, -15.5556, -15.1515, -14.7475,\n",
            "        -14.3434, -13.9394, -13.5354, -13.1313, -12.7273, -12.3232, -11.9192,\n",
            "        -11.5152, -11.1111, -10.7071, -10.3030,  -9.8990,  -9.4949,  -9.0909,\n",
            "         -8.6869,  -8.2828,  -7.8788,  -7.4747,  -7.0707,  -6.6667,  -6.2626,\n",
            "         -5.8586,  -5.4545,  -5.0505,  -4.6465,  -4.2424,  -3.8384,  -3.4343,\n",
            "         -3.0303,  -2.6263,  -2.2222,  -1.8182,  -1.4141,  -1.0101,  -0.6061,\n",
            "         -0.2020,   0.2020,   0.6061,   1.0101,   1.4141,   1.8182,   2.2222,\n",
            "          2.6263,   3.0303,   3.4343,   3.8384,   4.2424,   4.6465,   5.0505,\n",
            "          5.4545,   5.8586,   6.2626,   6.6667,   7.0707,   7.4747,   7.8788,\n",
            "          8.2828,   8.6869,   9.0909,   9.4949,   9.8990,  10.3030,  10.7071,\n",
            "         11.1111,  11.5152,  11.9192,  12.3232,  12.7273,  13.1313,  13.5354,\n",
            "         13.9394,  14.3434,  14.7475,  15.1515,  15.5556,  15.9596,  16.3636,\n",
            "         16.7677,  17.1717,  17.5758,  17.9798,  18.3838,  18.7879,  19.1919,\n",
            "         19.5960,  20.0000]), l = tensor([1.3017e-01, 3.2443e-01, 3.3302e-02, 2.5350e+00, 4.8184e-01, 2.5958e+00,\n",
            "        1.2902e+00, 1.7603e-02, 2.1472e+00, 3.9406e-01, 2.8522e-01, 2.1657e-02,\n",
            "        2.5573e-05, 1.2406e+00, 4.5812e-01, 1.4477e+00, 2.4121e-02, 2.2770e+00,\n",
            "        5.3046e-02, 5.1335e-01, 1.0960e+00, 1.7243e+00, 2.4498e+00, 2.7388e+00,\n",
            "        3.2161e-02, 1.1750e+00, 2.4357e-01, 5.9463e-01, 4.7443e-02, 2.7385e+00,\n",
            "        5.3087e-02, 1.7659e+00, 1.3698e+00, 1.3166e+00, 1.5825e-01, 2.7331e+00,\n",
            "        1.1158e+00, 9.5537e-01, 1.0575e-02, 1.5118e+00, 5.4185e-01, 2.2022e-01,\n",
            "        2.5918e+00, 1.1217e+00, 1.4967e-01, 1.8292e-01, 6.8008e-01, 1.8214e+00,\n",
            "        4.1567e-01, 1.3830e-01, 3.2429e-01, 4.7978e-02, 1.3803e+00, 2.3604e+00,\n",
            "        2.5719e-03, 1.1388e+00, 1.7250e+00, 1.0467e+00, 3.1093e-01, 1.7372e+00,\n",
            "        1.7454e+00, 1.4158e+00, 5.0958e-01, 4.0539e-01, 9.1906e-01, 5.0842e-01,\n",
            "        3.6960e-01, 2.0152e+00, 2.5930e+00, 6.0885e-01, 4.5175e-01, 7.7205e-01,\n",
            "        6.6311e-01, 1.1540e+00, 1.2292e+00, 6.3126e-03, 2.9859e-01, 2.5451e+00,\n",
            "        1.4481e+00, 6.7725e-01, 1.1826e-01, 1.1302e-01, 8.1484e-03, 3.4075e-01,\n",
            "        1.3421e+00, 2.0114e+00, 1.6024e+00, 1.0102e-02, 1.1918e-01, 5.3195e-01,\n",
            "        2.9028e+00, 9.8268e-01, 4.1184e-01, 1.4989e+00, 2.8748e-01, 9.3321e-02,\n",
            "        2.2444e+00, 2.2301e-01, 4.7944e-01, 2.0247e-05])\n"
          ]
        }
      ]
    },
    {
      "cell_type": "markdown",
      "source": [
        "Por otro lado, es posible obtener derivadas de orden mayor, pero esto se logra usando la función `grad` del módulo `autograd` en lugar del método `backward`."
      ],
      "metadata": {
        "id": "3_BvYzBLw4XZ"
      }
    },
    {
      "cell_type": "code",
      "source": [
        "z = th.rand(100, requires_grad=True)\n",
        "f = (z**2).sum()\n",
        "df = th.autograd.grad(f, z, create_graph=True)[0]\n",
        "d2f = th.autograd.grad(df.sum(), z)[0]\n",
        "\n",
        "print(f'Función f evaluada = {f}, retropropagación |= {f.grad_fn}')\n",
        "print(f'Función df evaluada = {df}, retropropagación = {df.grad_fn}')\n",
        "print(f'Derivada respecto a z = {z.grad}')"
      ],
      "metadata": {
        "id": "V-0lkQnzZYwH",
        "colab": {
          "base_uri": "https://localhost:8080/"
        },
        "outputId": "8b5d9f5d-d754-4862-8001-aeefe46990ff"
      },
      "execution_count": 17,
      "outputs": [
        {
          "output_type": "stream",
          "name": "stdout",
          "text": [
            "Función f evaluada = 30.59467124938965, retropropagación |= <SumBackward0 object at 0x7c6be428c460>\n",
            "Función df evaluada = tensor([1.6693, 1.7576, 1.3644, 0.3027, 0.0131, 0.1878, 1.7457, 1.4801, 1.8415,\n",
            "        1.5239, 1.2531, 0.9902, 0.2395, 0.1432, 0.0647, 1.4094, 0.5090, 0.7987,\n",
            "        0.4245, 0.8178, 0.2962, 0.3466, 1.3317, 0.7028, 1.6173, 0.6792, 0.2664,\n",
            "        0.8236, 0.5153, 0.6941, 0.0480, 1.5595, 0.3038, 1.5026, 1.4538, 1.7144,\n",
            "        0.2329, 1.7192, 0.5272, 1.3711, 1.9391, 0.8590, 0.9923, 0.7698, 0.1650,\n",
            "        1.4799, 0.0073, 1.6208, 1.7482, 1.9457, 0.7641, 0.1784, 1.2248, 1.5524,\n",
            "        0.0047, 0.7730, 0.4005, 0.9125, 0.5078, 0.5912, 0.6825, 0.0497, 1.8205,\n",
            "        1.8383, 0.8431, 0.8861, 0.5919, 0.0969, 0.0269, 1.3717, 0.4510, 0.3571,\n",
            "        0.9220, 0.6670, 0.6765, 1.0321, 0.7879, 0.6557, 0.5212, 0.1862, 1.8385,\n",
            "        0.5998, 1.2650, 0.6530, 1.0813, 1.9323, 1.4607, 0.1334, 1.3969, 1.9492,\n",
            "        1.2631, 1.6704, 1.9859, 0.8468, 1.2076, 0.3050, 0.7939, 1.7406, 1.5126,\n",
            "        0.3672], grad_fn=<MulBackward0>), retropropagación = <MulBackward0 object at 0x7c6be428cd60>\n",
            "Derivada respecto a z = None\n"
          ]
        }
      ]
    },
    {
      "cell_type": "markdown",
      "source": [
        "## Neurona artificial\n",
        "La salida de una neurona artificial se obtiene multiplicando la transpuesta del vector columna de pesos $\\mathbf{w}\\in \\mathbb{R}^d$ por el vector columna de entrada $\\mathbf{x} \\in \\mathbb{R}^d$, sumando al final el valor del sesgo $b$ y evaluando el resultado con la función de activación $\\phi$, esto es\n",
        "\n",
        "$$\n",
        "a = \\phi\\left(\\mathbf{w}^\\top \\mathbf{x} + b\\right)\n",
        "$$\n",
        "\n",
        "![Diagrama general de la neurona artificial](http://turing.iimas.unam.mx/~gibranfp/cursos/neurona.svg)\n",
        "\n",
        "Una neurona artificial con función de activación logística o sigmoide entrenada minimizando la [entropía cruzada binaria](https://en.wikipedia.org/wiki/Cross_entropy) se corresponde con una [regresión logística](https://en.wikipedia.org/wiki/Logistic_regression). La [función sigmoide](https://en.wikipedia.org/wiki/Sigmoid_function) o logística está dada por\n",
        "\n",
        "$$\n",
        "\\sigma(z) = \\frac{1}{1 + e^{-z}},\n",
        "$$\n",
        "\n",
        "Por lo tanto, la salida de la neurona sigmoide o logística sería\n",
        "\n",
        "$$\n",
        "\\hat{y} = \\sigma(\\mathbf{w}^\\top \\mathbf{x} + b)\n",
        "$$\n",
        "\n"
      ],
      "metadata": {
        "id": "vk9WlAmq7LUH"
      }
    },
    {
      "cell_type": "code",
      "source": [
        "def neurona_sigmoide(w, b, X):\n",
        "  return th.sigmoid(X @ w + b)"
      ],
      "metadata": {
        "id": "BzT_ShW3Vaqr"
      },
      "execution_count": 18,
      "outputs": []
    },
    {
      "cell_type": "markdown",
      "source": [
        "Por su parte, la entropía cruzada binaria está dada por\n",
        "$$\n",
        "ECB(\\mathbf{y}, \\mathbf{\\hat{y}}) = -\\sum_{i=1}^n \\left[y^{(i)} \\log{(\\hat{y}^{(i)})} + (1 - y^{(i)}) \\log{(1 - \\hat{y}^{(i)}}\\right]\n",
        "$$"
      ],
      "metadata": {
        "id": "bVrf1MGzWh06"
      }
    },
    {
      "cell_type": "code",
      "source": [
        "def ecb(y, y_hat):\n",
        "  perdida_ceros = th.log(y_hat[y == 0]).sum()\n",
        "  perdida_unos = th.log(1.0 - y_hat[y == 1]).sum()\n",
        "  return -(perdida_unos + perdida_ceros)"
      ],
      "metadata": {
        "id": "7NhMcpgjxKot"
      },
      "execution_count": 19,
      "outputs": []
    },
    {
      "cell_type": "markdown",
      "source": [
        "Generamos un conjunto de ejemplos sintéticos (aleatorios)."
      ],
      "metadata": {
        "id": "r8kKCDhfWuCe"
      }
    },
    {
      "cell_type": "code",
      "source": [
        "n = 100\n",
        "d = 10\n",
        "\n",
        "X = th.normal(size=(n,d), mean=0, std=1)\n",
        "y = th.randint(low=0, high=2, size=(n, 1))\n",
        "\n",
        "print(f'X = {X}\\ny = {y}')"
      ],
      "metadata": {
        "colab": {
          "base_uri": "https://localhost:8080/"
        },
        "id": "Ek6GMF5pWtWV",
        "outputId": "4a8ae07f-ac8c-42ca-d6b2-bf4f724babb0"
      },
      "execution_count": 20,
      "outputs": [
        {
          "output_type": "stream",
          "name": "stdout",
          "text": [
            "X = tensor([[ 3.7139e-01, -4.6568e-03,  7.9549e-02, -4.5604e-01, -6.1913e-02,\n",
            "         -2.2219e-01, -1.2470e+00, -4.8619e-01,  2.6589e-01, -5.8710e-01],\n",
            "        [ 8.2689e-02,  1.8576e-01, -9.6980e-01,  1.8932e+00,  4.4469e-01,\n",
            "          1.3637e-01, -7.0976e-01, -4.8751e-01,  5.0096e-02,  3.2731e-01],\n",
            "        [ 1.2922e-01,  2.8520e+00, -7.4357e-01,  1.9537e-01, -6.7663e-01,\n",
            "         -5.7302e-01, -3.3032e-01, -3.0713e-01, -7.1550e-01,  7.6167e-02],\n",
            "        [-2.1271e-01, -5.6626e-01, -8.4438e-01, -5.5135e-01,  1.9890e+00,\n",
            "          8.4787e-01, -6.9534e-01,  3.0562e-01,  2.9091e-01,  4.0854e-01],\n",
            "        [-7.0464e-01, -3.9465e-01,  1.8868e+00,  1.7868e-01, -3.8506e-02,\n",
            "         -8.6883e-02, -1.1803e+00,  1.5460e+00,  6.4248e-01, -2.0395e-01],\n",
            "        [ 6.8537e-01, -1.3351e+00,  1.6516e+00,  1.9810e+00, -1.0479e-01,\n",
            "          4.9029e-01,  8.5406e-01, -4.9007e-01, -3.5946e-01, -5.8936e-02],\n",
            "        [-4.8092e-01,  9.9334e-01,  2.6951e-01, -1.8316e+00, -9.3909e-01,\n",
            "         -6.0132e-01, -9.9640e-02, -1.2311e+00,  8.6572e-01, -1.4236e+00],\n",
            "        [-6.9609e-01, -3.1824e-01, -3.3197e-01, -8.0762e-01,  8.2436e-01,\n",
            "          1.4862e+00, -1.4091e+00, -3.6389e-01, -9.9332e-02,  3.1054e-01],\n",
            "        [-1.4264e-01,  1.5271e-01, -3.8802e-02, -2.1305e-01, -5.9036e-01,\n",
            "          4.6679e-01,  3.9561e-01, -2.7107e+00, -2.7634e-01, -1.9321e-01],\n",
            "        [ 7.7678e-01,  7.2035e-01, -1.3358e+00,  8.1080e-01,  7.5460e-01,\n",
            "          4.1451e-01, -6.0864e-01, -4.6192e-02, -1.6457e+00, -6.9602e-01],\n",
            "        [ 2.3589e-01,  8.2809e-01,  1.1044e-01, -3.0158e-01, -6.2644e-01,\n",
            "         -5.1509e-01,  6.9029e-01,  2.0403e+00, -1.2979e+00,  6.1607e-01],\n",
            "        [-2.5084e-01,  8.2107e-01, -4.7891e-02,  6.6856e-01,  1.0430e+00,\n",
            "          7.2045e-01,  1.4701e+00, -1.1215e+00,  2.1004e+00,  2.3664e+00],\n",
            "        [ 1.1895e+00,  7.6069e-01, -7.4630e-01, -5.8236e-01,  1.3500e+00,\n",
            "          2.7785e-01,  9.1604e-02,  1.5164e+00, -9.8180e-01, -6.4206e-01],\n",
            "        [ 8.2659e-01, -3.6460e-01,  8.7162e-02,  1.1225e+00,  9.7974e-02,\n",
            "          1.1226e+00, -9.2281e-01, -1.2620e+00,  1.0861e+00, -8.7859e-01],\n",
            "        [ 2.5487e+00,  6.5939e-01,  6.7016e-01, -1.2605e-01,  1.1960e+00,\n",
            "         -1.3062e+00, -1.4040e+00,  9.5265e-02, -3.6589e-01,  1.9605e-01],\n",
            "        [-1.5174e+00,  2.0587e-01,  1.9535e+00,  2.0487e+00, -1.0880e+00,\n",
            "         -2.0479e+00,  1.0006e+00,  6.8633e-01, -6.8454e-01,  7.1336e-01],\n",
            "        [-6.1849e-01, -1.6470e+00, -1.0362e+00, -9.7107e-01,  2.8605e+00,\n",
            "         -9.9410e-01, -3.5902e-01, -1.0009e+00, -3.0454e-02,  3.8303e-01],\n",
            "        [-4.4770e-02, -2.3120e+00, -6.4156e-01,  1.0530e+00,  1.4495e+00,\n",
            "          9.5283e-01, -6.4723e-01, -1.2823e+00,  1.9653e+00, -1.1766e+00],\n",
            "        [ 1.1889e+00,  2.1555e-01,  6.2646e-01,  9.1435e-01,  4.2319e-01,\n",
            "         -3.3890e-01,  5.1797e-01, -1.7459e+00,  1.0964e+00,  4.8656e-01],\n",
            "        [ 3.6682e-01, -3.9118e-01,  2.1230e-01, -7.2520e-01, -9.5277e-01,\n",
            "         -8.4279e-01, -1.6413e+00, -7.1809e-01, -1.0896e-01, -1.8300e+00],\n",
            "        [ 9.3293e-02, -1.9153e+00, -6.4218e-01, -6.7525e-01, -8.1040e-01,\n",
            "         -8.3296e-01,  1.8296e+00,  7.7788e-01, -2.6475e+00, -1.4575e+00],\n",
            "        [-9.7124e-01,  2.4150e-01, -1.1612e+00,  1.4511e-01,  1.6612e+00,\n",
            "          5.4387e-01,  6.1104e-01,  1.2208e+00, -6.0764e-01, -4.5261e-02],\n",
            "        [-3.5729e-01, -5.7139e-01, -1.4078e+00, -3.7637e-01, -7.8918e-01,\n",
            "         -1.6782e-01,  1.6433e+00,  5.1626e-01,  1.6060e+00, -9.8150e-01],\n",
            "        [ 5.3607e-01,  9.2260e-01, -4.1253e-01, -9.7696e-01, -3.3634e-02,\n",
            "         -7.9826e-01, -2.6482e-01, -1.6661e-01,  2.5182e-01,  1.2571e+00],\n",
            "        [-2.3609e-01,  3.0341e-01, -4.5008e-01, -1.7387e-01,  2.9909e-02,\n",
            "         -1.3959e-02, -1.0164e-02,  2.3372e-01, -6.0354e-01, -1.7426e-01],\n",
            "        [ 6.0921e-01,  2.2544e-01, -2.7933e-01,  6.7019e-01,  1.1880e-01,\n",
            "         -6.1194e-01, -2.6157e-01, -4.4025e-01,  2.1848e+00,  9.7715e-01],\n",
            "        [-1.4153e+00, -7.8205e-04,  9.2348e-01, -1.1860e+00, -2.5418e-01,\n",
            "         -1.2055e+00, -9.5421e-01,  8.9873e-01, -1.3368e-01,  6.8441e-01],\n",
            "        [ 7.1139e-01,  3.0481e-01,  3.1300e-01,  8.0505e-01, -1.1134e+00,\n",
            "          5.2580e-01,  1.6828e+00,  9.6736e-02,  2.5708e-01,  4.7277e-01],\n",
            "        [ 1.5979e-01,  1.7698e+00,  6.2682e-01, -4.9761e-01, -1.8228e-01,\n",
            "         -2.1200e-01,  8.1622e-01,  8.9822e-01, -2.3180e+00,  1.2946e+00],\n",
            "        [ 2.2267e-01, -1.2924e+00,  1.6887e-01, -8.3261e-01, -8.1295e-01,\n",
            "          9.7003e-01,  3.6835e-01,  7.6380e-01,  1.1792e+00,  8.3019e-02],\n",
            "        [ 4.2202e-01,  3.4185e-01, -2.7016e+00,  6.6608e-02,  7.1104e-02,\n",
            "          5.6335e-01, -5.7864e-01, -1.2299e+00,  2.0929e+00,  8.7579e-01],\n",
            "        [ 3.2558e-01,  3.1258e-01,  1.4443e+00,  2.3203e-01,  5.0650e-01,\n",
            "         -9.1776e-01,  4.2057e-01, -3.6886e-01, -7.6961e-01,  2.0705e-02],\n",
            "        [-7.6215e-01, -1.1906e+00,  7.7561e-01, -9.4374e-01,  1.7305e-01,\n",
            "         -1.8815e+00,  5.8509e-01,  1.5287e+00, -1.5664e-01, -8.7085e-01],\n",
            "        [-6.4110e-01,  5.3738e-01,  7.8175e-01,  1.0477e+00, -3.9481e-01,\n",
            "          1.6077e+00,  1.0938e+00, -1.1772e-01, -2.9864e-01,  1.5193e+00],\n",
            "        [ 3.5802e-02,  1.0366e+00,  8.8169e-01, -1.3237e+00,  8.3954e-01,\n",
            "          5.8523e-02, -1.6682e+00, -1.9967e-02, -1.2131e+00,  1.1971e+00],\n",
            "        [-7.8177e-01,  1.1162e+00,  9.6252e-01,  2.7944e-01, -5.7182e-01,\n",
            "          1.9491e+00, -4.2519e-01, -3.7528e-01,  1.4467e+00, -7.8717e-01],\n",
            "        [-2.6985e-01,  1.2306e-01,  8.7575e-01,  2.1163e-01,  1.2271e+00,\n",
            "         -5.7228e-01, -1.7070e-01, -4.5870e-01, -3.0918e-01, -9.6581e-02],\n",
            "        [ 1.5419e+00, -1.5147e+00,  1.8518e+00, -1.7016e-01, -1.3861e+00,\n",
            "          1.6513e+00,  3.0250e+00,  1.3463e+00,  8.5561e-01, -1.5256e+00],\n",
            "        [ 1.2538e+00, -6.8434e-01, -2.1216e+00,  7.2196e-01,  1.3705e+00,\n",
            "         -4.8094e-01, -9.9036e-01, -1.2157e+00,  1.5274e-02, -1.0486e+00],\n",
            "        [ 1.7823e+00, -5.9511e-01,  3.7975e-01,  9.9930e-01,  1.2752e+00,\n",
            "          1.2704e+00, -7.5035e-02, -2.2950e+00, -1.3631e+00,  1.4306e+00],\n",
            "        [ 2.7928e-01,  1.8645e-01,  3.5471e-01,  1.2479e-01,  4.9390e-01,\n",
            "          7.8391e-02,  2.2359e-01,  1.1128e-01, -1.4591e+00, -1.4937e+00],\n",
            "        [-2.2139e-01,  1.2098e-01,  5.5353e-01, -1.9203e+00, -9.7065e-02,\n",
            "         -3.4867e-01,  8.6905e-01, -8.0971e-01, -1.4299e+00, -1.4811e-01],\n",
            "        [-7.9777e-01,  1.8783e+00,  1.8154e-01, -7.1250e-01, -9.8580e-01,\n",
            "         -1.2371e+00, -2.3019e+00,  6.0715e-01,  3.4609e-02, -5.1238e-01],\n",
            "        [ 5.5741e-01, -1.7602e-02,  3.2603e-01, -3.8945e-01,  2.8544e+00,\n",
            "          3.3091e-01,  9.7702e-01, -3.4443e-01, -1.8887e-01,  4.1699e-02],\n",
            "        [-1.6034e+00, -4.2982e-01,  5.7616e-01,  6.8292e-01, -3.5719e-02,\n",
            "         -8.8810e-01, -5.8912e-01,  1.3071e-01, -2.5974e-01, -7.1902e-01],\n",
            "        [-3.8583e-01,  4.9101e-02,  1.2479e+00,  9.2914e-02, -7.8436e-01,\n",
            "          3.5015e-02,  7.6927e-01, -7.6689e-01, -9.4949e-01,  5.8314e-01],\n",
            "        [ 3.3020e-02, -1.2598e+00, -7.2981e-01,  1.2975e+00, -2.4521e+00,\n",
            "          4.1598e-01,  1.9025e+00, -1.3525e+00, -1.3029e-01,  1.7551e+00],\n",
            "        [ 6.7511e-02, -3.9783e-01,  1.4162e+00,  6.8340e-01, -1.3825e-01,\n",
            "          9.8639e-01, -3.8926e-01,  6.1381e-01, -2.7863e-01,  5.8851e-01],\n",
            "        [-1.7925e-01,  1.9956e-01, -1.2462e+00,  4.0352e-01,  4.4627e-01,\n",
            "         -5.2184e-01,  8.3020e-01, -5.0971e-02, -4.7199e-01, -1.2894e+00],\n",
            "        [ 1.0763e+00, -2.2879e+00, -4.8341e-01,  5.6000e-01, -1.0602e+00,\n",
            "         -1.4201e+00, -1.0240e+00,  2.2405e-01, -7.5548e-01,  8.6708e-01],\n",
            "        [ 1.9191e-01,  1.1600e+00, -8.8152e-03,  8.5048e-01,  2.1477e+00,\n",
            "         -6.6041e-01,  1.1353e-01,  3.5569e-01,  1.2056e+00,  1.3690e+00],\n",
            "        [-6.9496e-01,  1.4324e+00, -4.5792e-01, -1.2322e+00, -5.9808e-01,\n",
            "         -1.3493e-01,  1.4877e-01, -2.3777e-01, -1.0139e-01,  9.0772e-01],\n",
            "        [ 1.0082e+00, -5.9500e-01,  3.9263e-01, -1.4314e+00, -3.9799e-02,\n",
            "         -5.0034e-01,  2.9304e-01,  1.8386e-01,  9.9495e-01,  7.2019e-01],\n",
            "        [-1.3413e-01, -1.6446e-01,  1.3389e+00,  2.0047e+00, -1.5808e+00,\n",
            "         -1.3382e+00,  1.1383e+00, -2.5052e-01,  1.6705e+00,  1.8888e+00],\n",
            "        [-7.5381e-01, -1.7143e+00, -2.2070e+00, -2.6699e-01, -3.9920e-01,\n",
            "          4.9674e-01, -2.3692e+00, -2.7667e-01, -3.3858e-01, -8.8103e-01],\n",
            "        [ 3.4835e-01,  6.9300e-01, -7.8323e-02, -9.7058e-01,  1.4724e+00,\n",
            "         -1.3775e+00, -1.2044e+00, -4.8242e-01, -8.1642e-01, -1.6489e+00],\n",
            "        [-2.5447e+00,  1.3719e+00, -5.3795e-01, -1.7564e-01, -3.6833e-01,\n",
            "         -8.3345e-01, -3.3530e-01,  9.8604e-01, -3.7876e-01, -1.5598e+00],\n",
            "        [-8.0095e-01,  3.5879e-01,  1.2862e+00,  8.2114e-01,  9.0019e-01,\n",
            "         -3.2305e-01,  3.2225e-01,  1.8754e+00,  1.1043e+00,  1.1282e+00],\n",
            "        [-1.7131e-01,  2.3035e-01, -3.6578e-01, -9.6004e-01,  1.6706e+00,\n",
            "          1.5921e+00, -4.1619e-01, -7.5094e-01, -1.4861e+00, -3.3338e-02],\n",
            "        [ 1.1998e+00,  5.7890e-01, -8.6810e-01, -5.7016e-01,  3.2332e-01,\n",
            "         -1.7204e-01, -1.3672e+00,  6.4966e-01, -3.3725e-01,  1.8537e+00],\n",
            "        [ 1.2587e+00,  8.6913e-01, -9.6094e-01,  3.8965e-01,  3.7807e-01,\n",
            "         -1.3722e-01,  1.1605e+00,  2.3078e+00, -3.8746e-01, -2.2964e-01],\n",
            "        [-4.0709e-01,  7.0701e-01, -1.2130e+00,  8.9170e-01,  7.0017e-01,\n",
            "          4.0820e-01,  5.8928e-01,  9.1878e-01,  6.6628e-01,  2.2452e-01],\n",
            "        [-9.7451e-01,  9.8167e-01,  5.8369e-01,  2.6442e-01, -5.8957e-01,\n",
            "          5.6918e-01, -7.9111e-01,  1.4817e+00, -1.7027e+00,  1.3427e+00],\n",
            "        [-1.7466e-01, -3.5871e-01,  1.4557e+00, -3.4610e-01, -2.6338e-01,\n",
            "          1.5014e+00, -3.3501e-02,  1.1346e+00,  1.4366e-01,  4.1993e-01],\n",
            "        [-7.8877e-01,  1.3062e+00, -9.2758e-01, -4.5160e-01,  3.6237e-01,\n",
            "          1.2908e+00,  1.5468e+00, -8.4712e-01,  2.1861e+00, -6.4932e-01],\n",
            "        [ 4.5214e-01,  1.2460e+00, -8.6473e-01, -8.4755e-01, -2.3523e-02,\n",
            "         -1.1376e+00, -7.1240e-01, -1.6171e+00, -3.5899e-01, -1.1988e-01],\n",
            "        [ 9.4048e-01,  4.7628e-01,  1.3965e-02, -1.4741e+00,  5.4047e-01,\n",
            "          4.3507e-01, -2.2717e+00,  6.9916e-02,  5.1788e-01, -3.4573e-01],\n",
            "        [ 1.3411e+00,  5.2996e-01, -1.4929e-01, -5.5225e-01, -9.3420e-02,\n",
            "         -4.1371e-01, -5.2854e-01, -5.0818e-01,  1.1478e+00,  2.4006e-01],\n",
            "        [ 1.2499e+00,  9.8214e-01,  2.2690e-01,  1.5630e+00,  5.9832e-01,\n",
            "         -5.4073e-01,  7.8416e-01,  6.9914e-01, -4.3242e-01,  1.1740e+00],\n",
            "        [ 7.0114e-01,  1.0107e-01, -1.3095e+00, -4.1036e-01,  4.6809e-01,\n",
            "         -2.3463e-01,  1.1085e+00,  5.5442e-01,  1.5818e+00, -5.5852e-01],\n",
            "        [ 6.6369e-01, -1.7025e+00,  1.6696e+00, -1.2137e-01,  6.9784e-02,\n",
            "         -1.6635e+00, -7.6506e-01,  7.9285e-01,  2.8815e-01, -1.1787e+00],\n",
            "        [-2.1401e+00, -4.9028e-01,  6.5981e-01, -7.0325e-02,  2.7448e-01,\n",
            "          5.5695e-01, -2.3221e-01, -5.9746e-02, -1.6665e+00,  1.5731e+00],\n",
            "        [-7.9642e-02,  1.3200e+00, -1.5197e+00, -1.2531e+00, -2.0160e-01,\n",
            "         -1.9768e+00,  9.2746e-01,  5.2450e-01,  7.8247e-01, -6.4659e-02],\n",
            "        [-2.3021e-04,  5.6931e-01,  7.4762e-01,  2.1337e+00,  5.0145e-01,\n",
            "          3.9462e-01,  1.3448e+00,  1.4614e+00,  1.0566e+00, -5.4614e-01],\n",
            "        [-2.1778e-01, -2.8094e-01, -3.6046e-01, -1.0566e+00, -1.1568e+00,\n",
            "         -1.7660e+00, -2.5380e+00, -3.3437e-02, -1.7017e+00,  5.8634e-01],\n",
            "        [-1.7527e+00,  1.6813e+00,  5.2475e-01,  3.5178e-01,  2.4913e-01,\n",
            "          4.2356e-02,  8.9666e-01, -2.3369e-01,  6.0499e-02,  1.1134e+00],\n",
            "        [-1.0381e+00, -1.0130e-01, -9.2718e-01,  7.3442e-01,  3.0971e-02,\n",
            "         -5.8653e-01, -3.1545e-01,  5.3031e-01,  3.8398e-01,  1.2310e+00],\n",
            "        [ 1.2287e+00, -1.5806e-01,  6.9485e-01, -1.2785e+00, -1.2692e+00,\n",
            "         -5.2661e-01, -1.4584e+00,  1.8989e+00, -4.0566e-02,  6.4671e-01],\n",
            "        [-2.0813e+00, -9.3036e-01, -1.3950e+00,  2.7535e-01,  1.1060e+00,\n",
            "          2.5285e-01, -1.0754e-01,  3.0077e-02,  1.7702e+00, -9.5189e-01],\n",
            "        [ 3.9345e-01,  7.3784e-01, -1.1049e+00, -7.9095e-01, -2.1609e-01,\n",
            "          8.5740e-01,  1.1460e+00, -1.1312e-01,  1.4093e+00, -4.6115e-01],\n",
            "        [ 1.9432e-01,  1.6020e+00, -1.0372e+00, -1.6251e+00,  1.4376e+00,\n",
            "          1.1150e-01,  1.7074e+00, -9.0254e-01,  4.0618e-02, -6.4642e-02],\n",
            "        [ 3.4456e+00,  3.6727e-01, -3.9193e-01,  1.6057e-01,  2.2374e+00,\n",
            "         -5.0588e-01, -8.7617e-01,  1.2223e+00,  3.2682e-01, -7.0210e-01],\n",
            "        [-6.7328e-01,  2.0705e-01, -2.6125e-01,  1.6910e+00, -6.0611e-01,\n",
            "          6.4498e-01, -2.4771e-01, -9.7677e-01, -4.4397e-01,  7.3737e-01],\n",
            "        [-1.3395e-01, -1.9454e-01,  1.7792e+00,  2.5832e-01, -2.4341e+00,\n",
            "          7.2732e-01, -1.2681e+00, -2.0726e+00, -2.1241e+00, -4.2500e-01],\n",
            "        [-7.3262e-01,  4.0940e-01, -5.8410e-01,  1.0093e+00,  1.0439e+00,\n",
            "          2.9792e-01,  8.3817e-01,  2.3014e-01, -9.9392e-01,  2.9083e+00],\n",
            "        [ 1.4483e+00, -1.6121e+00, -5.1999e-01, -2.0852e+00, -8.5524e-01,\n",
            "         -1.0998e+00, -7.5015e-01,  1.2355e+00,  1.0141e+00, -6.5355e-01],\n",
            "        [ 1.4623e+00,  1.2034e-01,  7.5142e-01, -5.8523e-01, -6.3676e-01,\n",
            "         -8.7683e-01, -1.5510e+00,  3.4990e-02, -2.6942e-01, -2.0694e-01],\n",
            "        [ 4.4716e-01, -2.8297e-01,  1.7561e+00,  2.1129e-01,  1.4860e+00,\n",
            "          2.1218e+00,  4.1782e-01,  4.4609e-01, -2.6669e-02,  6.5747e-01],\n",
            "        [ 4.8435e-01, -3.0399e-02,  1.0925e+00,  1.4625e+00, -1.8284e+00,\n",
            "         -1.4184e-01, -2.4392e-01,  1.7086e+00, -2.6778e-01,  1.5685e+00],\n",
            "        [-2.8351e-01, -1.4658e+00, -6.2930e-02, -2.5271e+00,  4.7731e-01,\n",
            "          7.2549e-01,  5.4687e-01, -6.0580e-02, -5.3049e-01, -1.0819e+00],\n",
            "        [-1.9946e-01,  1.6893e+00, -6.2972e-01, -1.0814e+00,  1.2923e+00,\n",
            "         -1.4459e+00, -3.1467e-01, -1.2422e+00, -3.3403e-01, -1.5728e+00],\n",
            "        [ 2.8104e+00,  9.2329e-01, -1.3392e+00,  1.2358e+00, -2.0371e+00,\n",
            "         -1.0704e-01, -1.0936e+00, -1.2532e+00,  9.5636e-01, -1.6116e+00],\n",
            "        [-4.7921e-01,  2.9985e-01,  7.2138e-01,  7.2838e-01, -3.4462e-01,\n",
            "          4.7902e-01,  2.4239e-02,  1.0386e+00,  9.4199e-01,  4.3399e-01],\n",
            "        [ 1.1234e+00,  9.9357e-01,  1.5131e+00,  2.5294e-01,  1.2658e-01,\n",
            "         -1.2759e+00, -5.6215e-01,  8.2530e-01,  2.2683e+00, -6.6117e-02],\n",
            "        [-1.0740e+00,  1.3754e+00, -3.8243e-01,  5.4232e-01,  1.9130e-02,\n",
            "         -1.0700e+00, -7.5189e-01,  5.9962e-01, -1.0590e+00, -3.7052e-01],\n",
            "        [ 3.4176e-01,  1.5560e+00, -1.1728e-01, -6.3051e-01, -1.2655e+00,\n",
            "          7.0858e-01,  1.0582e+00,  1.1458e-01,  1.9056e+00,  1.6714e+00],\n",
            "        [-9.8185e-01,  1.1259e+00,  2.5539e-01,  1.4447e+00,  1.2691e+00,\n",
            "         -2.1851e+00,  2.5435e-01, -2.5370e-02,  1.6296e+00, -1.5457e+00],\n",
            "        [-1.6960e-01,  2.5529e-01,  9.0565e-01, -1.6130e+00, -1.7463e+00,\n",
            "          2.5339e+00, -1.2726e+00, -6.2674e-01,  1.3713e+00, -4.3869e-01],\n",
            "        [-1.3193e+00,  1.7944e+00, -2.1130e-01, -7.2560e-01,  1.6372e-01,\n",
            "          1.0746e+00,  8.3665e-01,  2.3852e-02, -1.5204e+00,  5.2940e-01],\n",
            "        [-3.9083e-01, -1.9291e+00, -1.5509e-01,  1.2101e+00, -2.1411e+00,\n",
            "         -3.3964e-01,  7.3262e-03, -5.2180e-02,  1.1675e+00,  1.7302e+00]])\n",
            "y = tensor([[1],\n",
            "        [0],\n",
            "        [0],\n",
            "        [0],\n",
            "        [0],\n",
            "        [0],\n",
            "        [0],\n",
            "        [1],\n",
            "        [0],\n",
            "        [1],\n",
            "        [1],\n",
            "        [0],\n",
            "        [1],\n",
            "        [1],\n",
            "        [1],\n",
            "        [1],\n",
            "        [0],\n",
            "        [1],\n",
            "        [0],\n",
            "        [1],\n",
            "        [1],\n",
            "        [0],\n",
            "        [1],\n",
            "        [1],\n",
            "        [1],\n",
            "        [0],\n",
            "        [1],\n",
            "        [0],\n",
            "        [1],\n",
            "        [0],\n",
            "        [0],\n",
            "        [1],\n",
            "        [1],\n",
            "        [0],\n",
            "        [0],\n",
            "        [1],\n",
            "        [0],\n",
            "        [1],\n",
            "        [1],\n",
            "        [1],\n",
            "        [1],\n",
            "        [0],\n",
            "        [1],\n",
            "        [0],\n",
            "        [1],\n",
            "        [0],\n",
            "        [1],\n",
            "        [0],\n",
            "        [0],\n",
            "        [1],\n",
            "        [1],\n",
            "        [1],\n",
            "        [1],\n",
            "        [0],\n",
            "        [1],\n",
            "        [0],\n",
            "        [0],\n",
            "        [1],\n",
            "        [0],\n",
            "        [0],\n",
            "        [0],\n",
            "        [0],\n",
            "        [1],\n",
            "        [1],\n",
            "        [1],\n",
            "        [1],\n",
            "        [0],\n",
            "        [0],\n",
            "        [1],\n",
            "        [1],\n",
            "        [1],\n",
            "        [0],\n",
            "        [1],\n",
            "        [1],\n",
            "        [1],\n",
            "        [0],\n",
            "        [0],\n",
            "        [0],\n",
            "        [0],\n",
            "        [0],\n",
            "        [0],\n",
            "        [0],\n",
            "        [0],\n",
            "        [1],\n",
            "        [1],\n",
            "        [0],\n",
            "        [0],\n",
            "        [1],\n",
            "        [0],\n",
            "        [0],\n",
            "        [0],\n",
            "        [1],\n",
            "        [1],\n",
            "        [1],\n",
            "        [1],\n",
            "        [1],\n",
            "        [0],\n",
            "        [1],\n",
            "        [0],\n",
            "        [0]])\n"
          ]
        }
      ]
    },
    {
      "cell_type": "markdown",
      "source": [
        " Creamos tensores para los pesos inicializados con valores aleatorios muestreados de una normal ($\\mu = 0$ y $\\sigma = 1$) y el sesgo inicializado con cero."
      ],
      "metadata": {
        "id": "O_Gcq2hhW8Lr"
      }
    },
    {
      "cell_type": "code",
      "source": [
        "b = nn.parameter.Parameter(th.tensor([[0.]]))\n",
        "w = nn.parameter.Parameter(th.normal(size=(d,1), mean=0, std=0.1))\n",
        "\n",
        "print(f'Pesos (w) = {w}\\nSesgo (b) = {b}')"
      ],
      "metadata": {
        "colab": {
          "base_uri": "https://localhost:8080/"
        },
        "id": "KXmyOCkTW-UB",
        "outputId": "27a23e9e-5982-4504-86d7-ffc32958a685"
      },
      "execution_count": 21,
      "outputs": [
        {
          "output_type": "stream",
          "name": "stdout",
          "text": [
            "Pesos (w) = Parameter containing:\n",
            "tensor([[ 0.0816],\n",
            "        [-0.1222],\n",
            "        [-0.1274],\n",
            "        [ 0.1385],\n",
            "        [-0.1249],\n",
            "        [ 0.0017],\n",
            "        [-0.0171],\n",
            "        [-0.0166],\n",
            "        [-0.1935],\n",
            "        [ 0.0601]], requires_grad=True)\n",
            "Sesgo (b) = Parameter containing:\n",
            "tensor([[0.]], requires_grad=True)\n"
          ]
        }
      ]
    },
    {
      "cell_type": "markdown",
      "source": [
        "Podemos obtener los gradientes de $\\mathbf{w}$ y $b$ respecto a la [entropía cruzada binaria](https://en.wikipedia.org/wiki/Cross_entropy) usando diferenciación automática.\n",
        "\n",
        "![](https://pytorch.org/tutorials/_images/comp-graph.png)\n",
        "\n",
        "Fuente: Tutorial [Automatic Differentiation with `torch.autograd`](https://pytorch.org/tutorials/beginner/basics/autogradqs_tutorial.html).\n",
        "\n",
        "Nota que en esta gráfica de cómputo no se observa la función sigmoide. Esto se debe a que en PyTorch hay una versión de la entropía cruzada binaria que recibe los _logits_ como entrada.\n",
        "\n"
      ],
      "metadata": {
        "id": "62Z-cB8DVv8r"
      }
    },
    {
      "cell_type": "code",
      "source": [
        "y_hat = neurona_sigmoide(w, b, X)\n",
        "fp = ecb(y, y_hat)\n",
        "fp.backward()\n",
        "\n",
        "print(f'Gradiente de ECB respecto a pesos = {w.grad}')\n",
        "print(f'Gradiente de ECB respecto a sesgo = {b.grad}')"
      ],
      "metadata": {
        "colab": {
          "base_uri": "https://localhost:8080/"
        },
        "id": "ZQpo-mcFXPuK",
        "outputId": "96c5535b-6c7d-46d7-f276-d76f76c6eed1"
      },
      "execution_count": 22,
      "outputs": [
        {
          "output_type": "stream",
          "name": "stdout",
          "text": [
            "Gradiente de ECB respecto a pesos = tensor([[  5.4469],\n",
            "        [ -5.5183],\n",
            "        [  3.1663],\n",
            "        [  5.1672],\n",
            "        [-12.0330],\n",
            "        [ -1.9842],\n",
            "        [ -3.4405],\n",
            "        [  4.1539],\n",
            "        [ -8.3471],\n",
            "        [ -2.8037]])\n",
            "Gradiente de ECB respecto a sesgo = tensor([[0.1178]])\n"
          ]
        }
      ]
    },
    {
      "cell_type": "markdown",
      "source": [
        "## Ejercicio\n",
        "Genera un conjunto de datos sintético, programa la propagación hacia adelante y calcula los gradientes de la función de pérdida de la suma del error cuadrático medio respecto a los pesos y sesgos para $K$ regresiones lineales."
      ],
      "metadata": {
        "id": "WHkUtKnsx0qZ"
      }
    },
    {
      "cell_type": "markdown",
      "source": [
        "## Entrenando un modelo de regresión con descenso por gradiente\n",
        "Vamos a entrenar un modelo de regresión lineal con [descenso por gradiente](https://youtu.be/IHZwWFHWa-w) usando la diferenciación automática de Tensorflow.\n",
        "\n",
        "Primero generamos un conjunto de datos sintético y lo almacenamos en una instancia de `Tensor`."
      ],
      "metadata": {
        "id": "lYJTQtdb5lD5"
      }
    },
    {
      "cell_type": "code",
      "source": [
        "n = 100\n",
        "x = th.randn(n, 1)\n",
        "y = 2 * x + th.normal(size=(n, 1), mean=0, std=0.1)\n",
        "\n",
        "plt.scatter(x.numpy()[:, 0], y.numpy()[:, 0])\n",
        "plt.show()"
      ],
      "metadata": {
        "id": "cd212ccQ9taq",
        "colab": {
          "base_uri": "https://localhost:8080/",
          "height": 430
        },
        "outputId": "36ce85b2-1372-48f6-86d6-6cbc96cf3410"
      },
      "execution_count": 23,
      "outputs": [
        {
          "output_type": "display_data",
          "data": {
            "text/plain": [
              "<Figure size 640x480 with 1 Axes>"
            ],
            "image/png": "[encoded data removed]"
          },
          "metadata": {}
        }
      ]
    },
    {
      "cell_type": "markdown",
      "source": [
        "Definimos las instancias de `Parameter` para $\\mathbf{w}$ y $b$ las cuales inicializamos con valores aleatorios (normal con media 0 y desviación estándar 0.1) y con ceros, respectivamente."
      ],
      "metadata": {
        "id": "3kc0MjqmplU8"
      }
    },
    {
      "cell_type": "code",
      "source": [
        "w = nn.parameter.Parameter(th.normal(size=(1, 1), mean=0, std=0.1))\n",
        "b = nn.parameter.Parameter(th.zeros(size=(1, 1)))\n",
        "w, b"
      ],
      "metadata": {
        "id": "aYnpFtmUT7ZS",
        "colab": {
          "base_uri": "https://localhost:8080/"
        },
        "outputId": "5f32c4e5-6893-43e4-f61d-8f9f7009323b"
      },
      "execution_count": 24,
      "outputs": [
        {
          "output_type": "execute_result",
          "data": {
            "text/plain": [
              "(Parameter containing:\n",
              " tensor([[0.0768]], requires_grad=True),\n",
              " Parameter containing:\n",
              " tensor([[0.]], requires_grad=True))"
            ]
          },
          "metadata": {},
          "execution_count": 24
        }
      ]
    },
    {
      "cell_type": "markdown",
      "source": [
        "Definimos una función para producir un tensor de salidas a partir de un tensor de entradas, esto es,\n",
        "$$\n",
        "\\hat{y} = b + \\mathbf{w}^\\top\\mathbf{x}.\n",
        "$$\n"
      ],
      "metadata": {
        "id": "VQh_QEMrqWrT"
      }
    },
    {
      "cell_type": "code",
      "source": [
        "def neurona_lineal(w, b, x):\n",
        "  return x @ w + b"
      ],
      "metadata": {
        "id": "sMQQfEePqXZ1"
      },
      "execution_count": 25,
      "outputs": []
    },
    {
      "cell_type": "markdown",
      "source": [
        "Ahora definimos nuestro ciclo de entrenamiento en el cual generamos la salida para cada entrada, calculamos los gradientes de $\\mathbf{w}$ y $b$ respecto al error cuadrático medio usando la diferenciación automática de Tensorflow y finalmente actualizamos $\\mathbf{w}$ y $b$ con la regla de actualización del descenso por gradiente:\n",
        "\n",
        "$$\n",
        "\\boldsymbol{\\theta}^{[t + 1]}   = \\boldsymbol{\\theta}^{[t]} - \\alpha \\nabla \\mathcal{L}(\\boldsymbol{\\theta}^{[t]})\n",
        "$$\n",
        "donde\n",
        "$$\n",
        "\\begin{align*}\n",
        "\\boldsymbol{\\theta} & = \\{\\mathbf{w}, \\mathbf{b}\\}\\\\\n",
        "\\nabla \\mathcal{L}(\\boldsymbol{\\theta}^{[t]}) & = \\left[  \\frac{\\partial \\mathcal{L}}{\\partial  \\theta_0^{[t]}}, \\cdots , \\frac{\\partial \\mathcal{L}}{\\partial \\theta_d^{[t]}}\\right]\n",
        "\\end{align*}\n",
        "$$    \n",
        "\n",
        "A $\\alpha$ se le conoce como tasa de aprendizaje.\n"
      ],
      "metadata": {
        "id": "EEHP6ZlSp58d"
      }
    },
    {
      "cell_type": "code",
      "source": [
        "tasa = 0.1\n",
        "hist = []\n",
        "for e in range(100):\n",
        "  y_hat = neurona_lineal(w, b, x)\n",
        "  ecm = th.mean((y - y_hat)**2)\n",
        "  ecm.backward() # calcula los gradientes de los tensores\n",
        "\n",
        "  # actualiza los parámetros in-place\n",
        "  # (es necesario que esté dentro de ámbito no_grad)\n",
        "  with th.no_grad():\n",
        "    w.subtract_(tasa * w.grad)\n",
        "    b.subtract_(tasa * b.grad)\n",
        "\n",
        "    # Se limpian los gradientes para que no se acumulen\n",
        "    w.grad.zero_()\n",
        "    b.grad.zero_()\n",
        "\n",
        "    hist.append(ecm.numpy())"
      ],
      "metadata": {
        "id": "OIW3x4vMpxr0"
      },
      "execution_count": 26,
      "outputs": []
    },
    {
      "cell_type": "markdown",
      "source": [
        "Visualizamos el modelo."
      ],
      "metadata": {
        "id": "7IaB_ffwstBo"
      }
    },
    {
      "cell_type": "code",
      "source": [
        "y_hat = neurona_lineal(w, b, x)\n",
        "\n",
        "plt.scatter(x.numpy()[:, 0], y.numpy()[:, 0])\n",
        "plt.plot(x.numpy()[:, 0], y_hat.detach().numpy()[:, 0], 'r')\n",
        "plt.show()"
      ],
      "metadata": {
        "id": "cg6Dt5vw_VM5",
        "colab": {
          "base_uri": "https://localhost:8080/",
          "height": 430
        },
        "outputId": "e07267e8-a858-4492-dcb9-1a67d9d9c8ff"
      },
      "execution_count": 27,
      "outputs": [
        {
          "output_type": "display_data",
          "data": {
            "text/plain": [
              "<Figure size 640x480 with 1 Axes>"
            ],
            "image/png": "[encoded data removed]"
          },
          "metadata": {}
        }
      ]
    },
    {
      "cell_type": "markdown",
      "source": [
        "Graficamos el valor de la pérdida por época."
      ],
      "metadata": {
        "id": "qWq-lMYzszHA"
      }
    },
    {
      "cell_type": "code",
      "source": [
        "plt.plot(hist)\n",
        "plt.xlabel('Época')\n",
        "plt.ylabel('Pérdida en entrenamiento')\n",
        "plt.show()"
      ],
      "metadata": {
        "id": "zFn9I3rXAdtK",
        "colab": {
          "base_uri": "https://localhost:8080/",
          "height": 451
        },
        "outputId": "9c7df6bd-44f3-43ab-f82c-3a68a2e5c33b"
      },
      "execution_count": 28,
      "outputs": [
        {
          "output_type": "display_data",
          "data": {
            "text/plain": [
              "<Figure size 640x480 with 1 Axes>"
            ],
            "image/png": "[encoded data removed]"
          },
          "metadata": {}
        }
      ]
    },
    {
      "cell_type": "markdown",
      "source": [
        "En el entrenamiento de redes neuronales profundas es común usar aproximaciones estocásticas del descenso por gradiente (o variaciones). Estas aproximaciones estiman $\\nabla \\mathcal{L}(\\boldsymbol{\\theta}^{[t]})$ y actualizan los parámetros (pesos y sesgos) usando un minilote $\\mathcal{B}$ de ejemplos (en lugar de todo el conjunto) de entrenamiento, donde $\\vert \\mathcal{B} \\vert$ es un hiperparámetro. Una estrategia para generar los lotes es dividir y ordenar aleatoriamente el conjunto de $n$ ejemplos de entrenamiento en $k$ minilotes ($\\vert \\mathcal{B} \\vert \\times k \\approx n$) e ir tomando lotes consecutivos hasta pasar por todo el conjunto. Aquí una época ocurre cada vez que se han considerado los $k$ minilotes."
      ],
      "metadata": {
        "id": "U6roxslovyls"
      }
    },
    {
      "cell_type": "code",
      "source": [
        "w = nn.parameter.Parameter(th.normal(size=(1, 1), mean=0, std=0.1))\n",
        "b = nn.parameter.Parameter(th.zeros(size=(1, 1)))\n",
        "\n",
        "tasa = 0.1\n",
        "hist = []\n",
        "t_lote = 10\n",
        "n_lotes = 10\n",
        "for e in range(100):\n",
        "  perdida = 0\n",
        "  # Generamos una permutación aleatoria del conjunto de entrenamiento\n",
        "  perm = th.randperm(x.shape[0])\n",
        "  xperm = x[perm]\n",
        "  yperm = y[perm]\n",
        "\n",
        "  # Vamos tomando lote por lote ejemplos del conjunto reordenado\n",
        "  for lote in range(n_lotes):\n",
        "    y_hat = neurona_lineal(w, b, xperm[lote * t_lote:(lote + 1) * t_lote])\n",
        "    ecm = th.mean((yperm[lote * t_lote:(lote + 1) * t_lote] - y_hat)**2)\n",
        "    ecm.backward() # calcula los gradientes de los tensores\n",
        "\n",
        "      # actualiza los parámetros in-place\n",
        "      # (es necesario que esté dentro de ámbito no_grad)\n",
        "    with th.no_grad():\n",
        "      w.subtract_(tasa * w.grad)\n",
        "      b.subtract_(tasa * b.grad)\n",
        "\n",
        "      # Se limpian los gradientes para que no se acumulen\n",
        "      w.grad.zero_()\n",
        "      b.grad.zero_()\n",
        "\n",
        "      perdida += ecm.numpy()\n",
        "\n",
        "    hist.append(perdida)"
      ],
      "metadata": {
        "id": "EWlKUlTI_Lol"
      },
      "execution_count": 29,
      "outputs": []
    },
    {
      "cell_type": "markdown",
      "source": [
        "Visualizamos el modelo."
      ],
      "metadata": {
        "id": "LBxR5WsKBTFS"
      }
    },
    {
      "cell_type": "code",
      "source": [
        "y_hat = neurona_lineal(w, b, x)\n",
        "\n",
        "plt.scatter(x.numpy()[:, 0], y.numpy()[:, 0])\n",
        "plt.plot(x.numpy()[:, 0], y_hat.detach().numpy()[:, 0], 'r')\n",
        "plt.show()"
      ],
      "metadata": {
        "colab": {
          "base_uri": "https://localhost:8080/",
          "height": 430
        },
        "id": "tcd81LquA-zl",
        "outputId": "55bc8637-6f86-4c60-dff6-cdab3b6e43af"
      },
      "execution_count": 30,
      "outputs": [
        {
          "output_type": "display_data",
          "data": {
            "text/plain": [
              "<Figure size 640x480 with 1 Axes>"
            ],
            "image/png": "[encoded data removed]"
          },
          "metadata": {}
        }
      ]
    },
    {
      "cell_type": "markdown",
      "source": [
        "Graficamos el valor de la pérdida por época."
      ],
      "metadata": {
        "id": "SIxdI9udBVg7"
      }
    },
    {
      "cell_type": "code",
      "source": [
        "plt.plot(hist)\n",
        "plt.xlabel('Época')\n",
        "plt.ylabel('Pérdida en entrenamiento')\n",
        "plt.show()"
      ],
      "metadata": {
        "colab": {
          "base_uri": "https://localhost:8080/",
          "height": 451
        },
        "id": "geNTYCeZAdT8",
        "outputId": "734f6a13-394d-4691-bec0-d8579f7d3c05"
      },
      "execution_count": 31,
      "outputs": [
        {
          "output_type": "display_data",
          "data": {
            "text/plain": [
              "<Figure size 640x480 with 1 Axes>"
            ],
            "image/png": "[encoded data removed]"
          },
          "metadata": {}
        }
      ]
    }
  ]
}