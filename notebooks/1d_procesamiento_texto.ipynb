{
  "nbformat": 4,
  "nbformat_minor": 0,
  "metadata": {
    "colab": {
      "provenance": [],
      "toc_visible": true
    },
    "kernelspec": {
      "name": "python3",
      "display_name": "Python 3"
    },
    "language_info": {
      "name": "python"
    }
  },
  "cells": [
    {
      "cell_type": "markdown",
      "source": [
        "[![Open In Colab](https://colab.research.google.com/assets/colab-badge.svg)](https://github.com/gibranfp/CursoAprendizajeProfundo/blob/2024-1/notebooks/1d_procesamiento_texto.ipynb)"
      ],
      "metadata": {
        "id": "BuTQlwkbnhn1"
      }
    },
    {
      "cell_type": "markdown",
      "source": [
        "# Introducción al pre-procesamiento de datos para AP (Texto)\n",
        "\n",
        "---\n",
        "Curso: Aprendizaje Profundo.\n",
        "\n",
        "Profesor: Gibran Fuentes Pineda.\n",
        "\n",
        "Ayudantes: Fernando Nava y Rodrigo del Moral\n",
        "\n",
        "---\n",
        "\n",
        "En esta libreta nos familiarizaremos en cómo crear y manipular archivos de texto para modelos de aprendizaje profundo."
      ],
      "metadata": {
        "id": "Xj59H1K_cEMc"
      }
    },
    {
      "cell_type": "markdown",
      "source": [
        "## 1. Preparación"
      ],
      "metadata": {
        "id": "PcJPKXLzSElW"
      }
    },
    {
      "cell_type": "markdown",
      "source": [
        "### 1.1 Importar bibliotecas"
      ],
      "metadata": {
        "id": "c_PcRWEFoGTm"
      }
    },
    {
      "cell_type": "code",
      "source": [
        "# Colab\n",
        "\n",
        "import os\n",
        "\n",
        "# Exploración dataset\n",
        "import pandas as pd\n",
        "import matplotlib.pyplot as plt\n",
        "\n",
        "# Crear Dataset/Dataloader\n",
        "import torch\n",
        "from torch.utils.data import Dataset, DataLoader\n",
        "\n",
        "# Preparar textos para Dataset\n",
        "from torchtext.vocab import build_vocab_from_iterator\n",
        "from torchtext.data.utils import get_tokenizer\n",
        "from torch.nn.utils.rnn import pad_sequence"
      ],
      "metadata": {
        "id": "6HQht_LrSFNm"
      },
      "execution_count": 1,
      "outputs": []
    },
    {
      "cell_type": "markdown",
      "source": [
        "## 2. Datos\n"
      ],
      "metadata": {
        "id": "3t3GIoB5HUD_"
      }
    },
    {
      "cell_type": "markdown",
      "source": [
        "### 2.1 Descargar datos\n",
        "\n"
      ],
      "metadata": {
        "id": "rIf97x23oPmd"
      }
    },
    {
      "cell_type": "code",
      "source": [
        "! wget http://ai.stanford.edu/~amaas/data/sentiment/aclImdb_v1.tar.gz\n",
        "! tar xfz aclImdb_v1.tar.gz"
      ],
      "metadata": {
        "id": "868zcjkkGkv5",
        "outputId": "bafcd976-7b72-46be-d685-19e9d3568a00",
        "colab": {
          "base_uri": "https://localhost:8080/"
        }
      },
      "execution_count": 2,
      "outputs": [
        {
          "output_type": "stream",
          "name": "stdout",
          "text": [
            "--2023-09-18 19:04:05--  http://ai.stanford.edu/~amaas/data/sentiment/aclImdb_v1.tar.gz\n",
            "Resolving ai.stanford.edu (ai.stanford.edu)... 171.64.68.10\n",
            "Connecting to ai.stanford.edu (ai.stanford.edu)|171.64.68.10|:80... connected.\n",
            "HTTP request sent, awaiting response... 200 OK\n",
            "Length: 84125825 (80M) [application/x-gzip]\n",
            "Saving to: ‘aclImdb_v1.tar.gz.1’\n",
            "\n",
            "aclImdb_v1.tar.gz.1 100%[===================>]  80.23M  23.5MB/s    in 6.3s    \n",
            "\n",
            "2023-09-18 19:04:12 (12.8 MB/s) - ‘aclImdb_v1.tar.gz.1’ saved [84125825/84125825]\n",
            "\n"
          ]
        }
      ]
    },
    {
      "cell_type": "code",
      "source": [
        "# Ver archivo descargado y carpeta descomprimida\n",
        "! ls"
      ],
      "metadata": {
        "id": "4cbb5i2PGkyB",
        "colab": {
          "base_uri": "https://localhost:8080/"
        },
        "outputId": "41c7af2f-4f14-4882-e997-cbeefa44e8bd"
      },
      "execution_count": 3,
      "outputs": [
        {
          "output_type": "stream",
          "name": "stdout",
          "text": [
            "aclImdb  aclImdb_v1.tar.gz  aclImdb_v1.tar.gz.1  sample_data\n"
          ]
        }
      ]
    },
    {
      "cell_type": "code",
      "source": [
        "DATA_DIR = 'aclImdb/'"
      ],
      "metadata": {
        "id": "tH0lsVRKLls4"
      },
      "execution_count": 4,
      "outputs": []
    },
    {
      "cell_type": "markdown",
      "source": [
        "## 3. Exploración de datos"
      ],
      "metadata": {
        "id": "9un6PwC6HaQq"
      }
    },
    {
      "cell_type": "code",
      "source": [
        "# Imprimir tamaños por partición y etiqueta\n",
        "train_path = \"aclImdb/train\"\n",
        "test_path = \"aclImdb/test\"\n",
        "\n",
        "print(\"==================== Conjunto Train ====================\")\n",
        "print(f\"Se tienen: {len(os.listdir(train_path+'/pos'))} positive reviews.\")\n",
        "print(f\"Se tienen: {len(os.listdir(train_path+'/neg'))} negative reviews.\")\n",
        "\n",
        "print(\"==================== Conjunto Test ====================\")\n",
        "print(f\"Se tienen: {len(os.listdir(test_path+'/pos'))} positive reviews.\")\n",
        "print(f\"Se tienen: {len(os.listdir(test_path+'/neg'))} negative reviews.\")"
      ],
      "metadata": {
        "colab": {
          "base_uri": "https://localhost:8080/"
        },
        "id": "GiMyjr4kHccJ",
        "outputId": "b1639002-34b2-4d9c-ffc1-a238c54d3f6e"
      },
      "execution_count": 5,
      "outputs": [
        {
          "output_type": "stream",
          "name": "stdout",
          "text": [
            "==================== Conjunto Train ====================\n",
            "Se tienen: 12500 positive reviews.\n",
            "Se tienen: 12500 negative reviews.\n",
            "==================== Conjunto Test ====================\n",
            "Se tienen: 12500 positive reviews.\n",
            "Se tienen: 12500 negative reviews.\n"
          ]
        }
      ]
    },
    {
      "cell_type": "code",
      "source": [
        "# Fn que toma un directorio y regresa una lista con todos los textos que encontró en ella\n",
        "def abrir_archivos(path):\n",
        "    data = []\n",
        "    files = [f for f in os.listdir(path)]\n",
        "    for file in files:\n",
        "        with open(path+file, \"r\", encoding='utf8') as f:\n",
        "            data.append(f.read())\n",
        "\n",
        "    return data"
      ],
      "metadata": {
        "id": "kTh9U5-SHh-J"
      },
      "execution_count": 6,
      "outputs": []
    },
    {
      "cell_type": "code",
      "source": [
        "# Abrir archivos de train y test en un dataframe.\n",
        "# Se crea columna con el review y el label de tal forma que:\n",
        "    # positivo etiqueta 1\n",
        "    # negativo etiqueta 0\n",
        "\n",
        "df_train_pos = pd.DataFrame({'review': abrir_archivos('aclImdb/train/pos/'), 'label': 1})\n",
        "\n",
        "df_train_pos.head()"
      ],
      "metadata": {
        "colab": {
          "base_uri": "https://localhost:8080/",
          "height": 206
        },
        "id": "2lfnOWm3IvtP",
        "outputId": "da34b4dc-3025-4806-a4e1-e33baac1e1ce"
      },
      "execution_count": 7,
      "outputs": [
        {
          "output_type": "execute_result",
          "data": {
            "text/plain": [
              "                                              review  label\n",
              "0  If you fast forward through the horrible singi...      1\n",
              "1  Great voices, lots of adventure and clever dia...      1\n",
              "2  Matthew McConaughey is a mysterious man waitin...      1\n",
              "3  Okay, this show is nothing but AWESOME! It has...      1\n",
              "4  Although this movie has some weaknesses, it is...      1"
            ],
            "text/html": [
              "\n",
              "  <div id=\"df-b3741700-32e2-4cf5-8318-841d495ec373\" class=\"colab-df-container\">\n",
              "    <div>\n",
              "<style scoped>\n",
              "    .dataframe tbody tr th:only-of-type {\n",
              "        vertical-align: middle;\n",
              "    }\n",
              "\n",
              "    .dataframe tbody tr th {\n",
              "        vertical-align: top;\n",
              "    }\n",
              "\n",
              "    .dataframe thead th {\n",
              "        text-align: right;\n",
              "    }\n",
              "</style>\n",
              "<table border=\"1\" class=\"dataframe\">\n",
              "  <thead>\n",
              "    <tr style=\"text-align: right;\">\n",
              "      <th></th>\n",
              "      <th>review</th>\n",
              "      <th>label</th>\n",
              "    </tr>\n",
              "  </thead>\n",
              "  <tbody>\n",
              "    <tr>\n",
              "      <th>0</th>\n",
              "      <td>If you fast forward through the horrible singi...</td>\n",
              "      <td>1</td>\n",
              "    </tr>\n",
              "    <tr>\n",
              "      <th>1</th>\n",
              "      <td>Great voices, lots of adventure and clever dia...</td>\n",
              "      <td>1</td>\n",
              "    </tr>\n",
              "    <tr>\n",
              "      <th>2</th>\n",
              "      <td>Matthew McConaughey is a mysterious man waitin...</td>\n",
              "      <td>1</td>\n",
              "    </tr>\n",
              "    <tr>\n",
              "      <th>3</th>\n",
              "      <td>Okay, this show is nothing but AWESOME! It has...</td>\n",
              "      <td>1</td>\n",
              "    </tr>\n",
              "    <tr>\n",
              "      <th>4</th>\n",
              "      <td>Although this movie has some weaknesses, it is...</td>\n",
              "      <td>1</td>\n",
              "    </tr>\n",
              "  </tbody>\n",
              "</table>\n",
              "</div>\n",
              "    <div class=\"colab-df-buttons\">\n",
              "\n",
              "  <div class=\"colab-df-container\">\n",
              "    <button class=\"colab-df-convert\" onclick=\"convertToInteractive('df-b3741700-32e2-4cf5-8318-841d495ec373')\"\n",
              "            title=\"Convert this dataframe to an interactive table.\"\n",
              "            style=\"display:none;\">\n",
              "\n",
              "  <svg xmlns=\"http://www.w3.org/2000/svg\" height=\"24px\" viewBox=\"0 -960 960 960\">\n",
              "    <path d=\"M120-120v-720h720v720H120Zm60-500h600v-160H180v160Zm220 220h160v-160H400v160Zm0 220h160v-160H400v160ZM180-400h160v-160H180v160Zm440 0h160v-160H620v160ZM180-180h160v-160H180v160Zm440 0h160v-160H620v160Z\"/>\n",
              "  </svg>\n",
              "    </button>\n",
              "\n",
              "  <style>\n",
              "    .colab-df-container {\n",
              "      display:flex;\n",
              "      gap: 12px;\n",
              "    }\n",
              "\n",
              "    .colab-df-convert {\n",
              "      background-color: #E8F0FE;\n",
              "      border: none;\n",
              "      border-radius: 50%;\n",
              "      cursor: pointer;\n",
              "      display: none;\n",
              "      fill: #1967D2;\n",
              "      height: 32px;\n",
              "      padding: 0 0 0 0;\n",
              "      width: 32px;\n",
              "    }\n",
              "\n",
              "    .colab-df-convert:hover {\n",
              "      background-color: #E2EBFA;\n",
              "      box-shadow: 0px 1px 2px rgba(60, 64, 67, 0.3), 0px 1px 3px 1px rgba(60, 64, 67, 0.15);\n",
              "      fill: #174EA6;\n",
              "    }\n",
              "\n",
              "    .colab-df-buttons div {\n",
              "      margin-bottom: 4px;\n",
              "    }\n",
              "\n",
              "    [theme=dark] .colab-df-convert {\n",
              "      background-color: #3B4455;\n",
              "      fill: #D2E3FC;\n",
              "    }\n",
              "\n",
              "    [theme=dark] .colab-df-convert:hover {\n",
              "      background-color: #434B5C;\n",
              "      box-shadow: 0px 1px 3px 1px rgba(0, 0, 0, 0.15);\n",
              "      filter: drop-shadow(0px 1px 2px rgba(0, 0, 0, 0.3));\n",
              "      fill: #FFFFFF;\n",
              "    }\n",
              "  </style>\n",
              "\n",
              "    <script>\n",
              "      const buttonEl =\n",
              "        document.querySelector('#df-b3741700-32e2-4cf5-8318-841d495ec373 button.colab-df-convert');\n",
              "      buttonEl.style.display =\n",
              "        google.colab.kernel.accessAllowed ? 'block' : 'none';\n",
              "\n",
              "      async function convertToInteractive(key) {\n",
              "        const element = document.querySelector('#df-b3741700-32e2-4cf5-8318-841d495ec373');\n",
              "        const dataTable =\n",
              "          await google.colab.kernel.invokeFunction('convertToInteractive',\n",
              "                                                    [key], {});\n",
              "        if (!dataTable) return;\n",
              "\n",
              "        const docLinkHtml = 'Like what you see? Visit the ' +\n",
              "          '<a target=\"_blank\" href=https://colab.research.google.com/notebooks/data_table.ipynb>data table notebook</a>'\n",
              "          + ' to learn more about interactive tables.';\n",
              "        element.innerHTML = '';\n",
              "        dataTable['output_type'] = 'display_data';\n",
              "        await google.colab.output.renderOutput(dataTable, element);\n",
              "        const docLink = document.createElement('div');\n",
              "        docLink.innerHTML = docLinkHtml;\n",
              "        element.appendChild(docLink);\n",
              "      }\n",
              "    </script>\n",
              "  </div>\n",
              "\n",
              "\n",
              "<div id=\"df-f13373d9-a787-4e64-8d17-434d31082d9f\">\n",
              "  <button class=\"colab-df-quickchart\" onclick=\"quickchart('df-f13373d9-a787-4e64-8d17-434d31082d9f')\"\n",
              "            title=\"Suggest charts.\"\n",
              "            style=\"display:none;\">\n",
              "\n",
              "<svg xmlns=\"http://www.w3.org/2000/svg\" height=\"24px\"viewBox=\"0 0 24 24\"\n",
              "     width=\"24px\">\n",
              "    <g>\n",
              "        <path d=\"M19 3H5c-1.1 0-2 .9-2 2v14c0 1.1.9 2 2 2h14c1.1 0 2-.9 2-2V5c0-1.1-.9-2-2-2zM9 17H7v-7h2v7zm4 0h-2V7h2v10zm4 0h-2v-4h2v4z\"/>\n",
              "    </g>\n",
              "</svg>\n",
              "  </button>\n",
              "\n",
              "<style>\n",
              "  .colab-df-quickchart {\n",
              "      --bg-color: #E8F0FE;\n",
              "      --fill-color: #1967D2;\n",
              "      --hover-bg-color: #E2EBFA;\n",
              "      --hover-fill-color: #174EA6;\n",
              "      --disabled-fill-color: #AAA;\n",
              "      --disabled-bg-color: #DDD;\n",
              "  }\n",
              "\n",
              "  [theme=dark] .colab-df-quickchart {\n",
              "      --bg-color: #3B4455;\n",
              "      --fill-color: #D2E3FC;\n",
              "      --hover-bg-color: #434B5C;\n",
              "      --hover-fill-color: #FFFFFF;\n",
              "      --disabled-bg-color: #3B4455;\n",
              "      --disabled-fill-color: #666;\n",
              "  }\n",
              "\n",
              "  .colab-df-quickchart {\n",
              "    background-color: var(--bg-color);\n",
              "    border: none;\n",
              "    border-radius: 50%;\n",
              "    cursor: pointer;\n",
              "    display: none;\n",
              "    fill: var(--fill-color);\n",
              "    height: 32px;\n",
              "    padding: 0;\n",
              "    width: 32px;\n",
              "  }\n",
              "\n",
              "  .colab-df-quickchart:hover {\n",
              "    background-color: var(--hover-bg-color);\n",
              "    box-shadow: 0 1px 2px rgba(60, 64, 67, 0.3), 0 1px 3px 1px rgba(60, 64, 67, 0.15);\n",
              "    fill: var(--button-hover-fill-color);\n",
              "  }\n",
              "\n",
              "  .colab-df-quickchart-complete:disabled,\n",
              "  .colab-df-quickchart-complete:disabled:hover {\n",
              "    background-color: var(--disabled-bg-color);\n",
              "    fill: var(--disabled-fill-color);\n",
              "    box-shadow: none;\n",
              "  }\n",
              "\n",
              "  .colab-df-spinner {\n",
              "    border: 2px solid var(--fill-color);\n",
              "    border-color: transparent;\n",
              "    border-bottom-color: var(--fill-color);\n",
              "    animation:\n",
              "      spin 1s steps(1) infinite;\n",
              "  }\n",
              "\n",
              "  @keyframes spin {\n",
              "    0% {\n",
              "      border-color: transparent;\n",
              "      border-bottom-color: var(--fill-color);\n",
              "      border-left-color: var(--fill-color);\n",
              "    }\n",
              "    20% {\n",
              "      border-color: transparent;\n",
              "      border-left-color: var(--fill-color);\n",
              "      border-top-color: var(--fill-color);\n",
              "    }\n",
              "    30% {\n",
              "      border-color: transparent;\n",
              "      border-left-color: var(--fill-color);\n",
              "      border-top-color: var(--fill-color);\n",
              "      border-right-color: var(--fill-color);\n",
              "    }\n",
              "    40% {\n",
              "      border-color: transparent;\n",
              "      border-right-color: var(--fill-color);\n",
              "      border-top-color: var(--fill-color);\n",
              "    }\n",
              "    60% {\n",
              "      border-color: transparent;\n",
              "      border-right-color: var(--fill-color);\n",
              "    }\n",
              "    80% {\n",
              "      border-color: transparent;\n",
              "      border-right-color: var(--fill-color);\n",
              "      border-bottom-color: var(--fill-color);\n",
              "    }\n",
              "    90% {\n",
              "      border-color: transparent;\n",
              "      border-bottom-color: var(--fill-color);\n",
              "    }\n",
              "  }\n",
              "</style>\n",
              "\n",
              "  <script>\n",
              "    async function quickchart(key) {\n",
              "      const quickchartButtonEl =\n",
              "        document.querySelector('#' + key + ' button');\n",
              "      quickchartButtonEl.disabled = true;  // To prevent multiple clicks.\n",
              "      quickchartButtonEl.classList.add('colab-df-spinner');\n",
              "      try {\n",
              "        const charts = await google.colab.kernel.invokeFunction(\n",
              "            'suggestCharts', [key], {});\n",
              "      } catch (error) {\n",
              "        console.error('Error during call to suggestCharts:', error);\n",
              "      }\n",
              "      quickchartButtonEl.classList.remove('colab-df-spinner');\n",
              "      quickchartButtonEl.classList.add('colab-df-quickchart-complete');\n",
              "    }\n",
              "    (() => {\n",
              "      let quickchartButtonEl =\n",
              "        document.querySelector('#df-f13373d9-a787-4e64-8d17-434d31082d9f button');\n",
              "      quickchartButtonEl.style.display =\n",
              "        google.colab.kernel.accessAllowed ? 'block' : 'none';\n",
              "    })();\n",
              "  </script>\n",
              "</div>\n",
              "    </div>\n",
              "  </div>\n"
            ]
          },
          "metadata": {},
          "execution_count": 7
        }
      ]
    },
    {
      "cell_type": "code",
      "source": [
        "df_train_neg = pd.DataFrame({'review': abrir_archivos('aclImdb/train/neg/'), 'label': 0})\n",
        "\n",
        "# Revolver los ejemplos\n",
        "df_train = pd.concat([df_train_pos, df_train_neg], ignore_index=True)\n",
        "df_train = df_train.sample(frac=1)\n",
        "df_train.head()"
      ],
      "metadata": {
        "colab": {
          "base_uri": "https://localhost:8080/",
          "height": 206
        },
        "id": "77onpSS1TjHi",
        "outputId": "a7f34356-ad04-4edc-8675-e7f5c269cb92"
      },
      "execution_count": 8,
      "outputs": [
        {
          "output_type": "execute_result",
          "data": {
            "text/plain": [
              "                                                  review  label\n",
              "11965  Why this is called \"Mistresses\" is a puzzle, b...      1\n",
              "4144   I saw this film at the Toronto Film Festival, ...      1\n",
              "15192  The soul of an ancient mummy is transferred to...      0\n",
              "20831  Don't let the title trick you into watching th...      0\n",
              "9029   I remember watching this as a child in the UK,...      1"
            ],
            "text/html": [
              "\n",
              "  <div id=\"df-f39ba967-84e0-424a-a772-27017a835017\" class=\"colab-df-container\">\n",
              "    <div>\n",
              "<style scoped>\n",
              "    .dataframe tbody tr th:only-of-type {\n",
              "        vertical-align: middle;\n",
              "    }\n",
              "\n",
              "    .dataframe tbody tr th {\n",
              "        vertical-align: top;\n",
              "    }\n",
              "\n",
              "    .dataframe thead th {\n",
              "        text-align: right;\n",
              "    }\n",
              "</style>\n",
              "<table border=\"1\" class=\"dataframe\">\n",
              "  <thead>\n",
              "    <tr style=\"text-align: right;\">\n",
              "      <th></th>\n",
              "      <th>review</th>\n",
              "      <th>label</th>\n",
              "    </tr>\n",
              "  </thead>\n",
              "  <tbody>\n",
              "    <tr>\n",
              "      <th>11965</th>\n",
              "      <td>Why this is called \"Mistresses\" is a puzzle, b...</td>\n",
              "      <td>1</td>\n",
              "    </tr>\n",
              "    <tr>\n",
              "      <th>4144</th>\n",
              "      <td>I saw this film at the Toronto Film Festival, ...</td>\n",
              "      <td>1</td>\n",
              "    </tr>\n",
              "    <tr>\n",
              "      <th>15192</th>\n",
              "      <td>The soul of an ancient mummy is transferred to...</td>\n",
              "      <td>0</td>\n",
              "    </tr>\n",
              "    <tr>\n",
              "      <th>20831</th>\n",
              "      <td>Don't let the title trick you into watching th...</td>\n",
              "      <td>0</td>\n",
              "    </tr>\n",
              "    <tr>\n",
              "      <th>9029</th>\n",
              "      <td>I remember watching this as a child in the UK,...</td>\n",
              "      <td>1</td>\n",
              "    </tr>\n",
              "  </tbody>\n",
              "</table>\n",
              "</div>\n",
              "    <div class=\"colab-df-buttons\">\n",
              "\n",
              "  <div class=\"colab-df-container\">\n",
              "    <button class=\"colab-df-convert\" onclick=\"convertToInteractive('df-f39ba967-84e0-424a-a772-27017a835017')\"\n",
              "            title=\"Convert this dataframe to an interactive table.\"\n",
              "            style=\"display:none;\">\n",
              "\n",
              "  <svg xmlns=\"http://www.w3.org/2000/svg\" height=\"24px\" viewBox=\"0 -960 960 960\">\n",
              "    <path d=\"M120-120v-720h720v720H120Zm60-500h600v-160H180v160Zm220 220h160v-160H400v160Zm0 220h160v-160H400v160ZM180-400h160v-160H180v160Zm440 0h160v-160H620v160ZM180-180h160v-160H180v160Zm440 0h160v-160H620v160Z\"/>\n",
              "  </svg>\n",
              "    </button>\n",
              "\n",
              "  <style>\n",
              "    .colab-df-container {\n",
              "      display:flex;\n",
              "      gap: 12px;\n",
              "    }\n",
              "\n",
              "    .colab-df-convert {\n",
              "      background-color: #E8F0FE;\n",
              "      border: none;\n",
              "      border-radius: 50%;\n",
              "      cursor: pointer;\n",
              "      display: none;\n",
              "      fill: #1967D2;\n",
              "      height: 32px;\n",
              "      padding: 0 0 0 0;\n",
              "      width: 32px;\n",
              "    }\n",
              "\n",
              "    .colab-df-convert:hover {\n",
              "      background-color: #E2EBFA;\n",
              "      box-shadow: 0px 1px 2px rgba(60, 64, 67, 0.3), 0px 1px 3px 1px rgba(60, 64, 67, 0.15);\n",
              "      fill: #174EA6;\n",
              "    }\n",
              "\n",
              "    .colab-df-buttons div {\n",
              "      margin-bottom: 4px;\n",
              "    }\n",
              "\n",
              "    [theme=dark] .colab-df-convert {\n",
              "      background-color: #3B4455;\n",
              "      fill: #D2E3FC;\n",
              "    }\n",
              "\n",
              "    [theme=dark] .colab-df-convert:hover {\n",
              "      background-color: #434B5C;\n",
              "      box-shadow: 0px 1px 3px 1px rgba(0, 0, 0, 0.15);\n",
              "      filter: drop-shadow(0px 1px 2px rgba(0, 0, 0, 0.3));\n",
              "      fill: #FFFFFF;\n",
              "    }\n",
              "  </style>\n",
              "\n",
              "    <script>\n",
              "      const buttonEl =\n",
              "        document.querySelector('#df-f39ba967-84e0-424a-a772-27017a835017 button.colab-df-convert');\n",
              "      buttonEl.style.display =\n",
              "        google.colab.kernel.accessAllowed ? 'block' : 'none';\n",
              "\n",
              "      async function convertToInteractive(key) {\n",
              "        const element = document.querySelector('#df-f39ba967-84e0-424a-a772-27017a835017');\n",
              "        const dataTable =\n",
              "          await google.colab.kernel.invokeFunction('convertToInteractive',\n",
              "                                                    [key], {});\n",
              "        if (!dataTable) return;\n",
              "\n",
              "        const docLinkHtml = 'Like what you see? Visit the ' +\n",
              "          '<a target=\"_blank\" href=https://colab.research.google.com/notebooks/data_table.ipynb>data table notebook</a>'\n",
              "          + ' to learn more about interactive tables.';\n",
              "        element.innerHTML = '';\n",
              "        dataTable['output_type'] = 'display_data';\n",
              "        await google.colab.output.renderOutput(dataTable, element);\n",
              "        const docLink = document.createElement('div');\n",
              "        docLink.innerHTML = docLinkHtml;\n",
              "        element.appendChild(docLink);\n",
              "      }\n",
              "    </script>\n",
              "  </div>\n",
              "\n",
              "\n",
              "<div id=\"df-00cb835d-84bc-461b-a01e-dc5aa431dd0d\">\n",
              "  <button class=\"colab-df-quickchart\" onclick=\"quickchart('df-00cb835d-84bc-461b-a01e-dc5aa431dd0d')\"\n",
              "            title=\"Suggest charts.\"\n",
              "            style=\"display:none;\">\n",
              "\n",
              "<svg xmlns=\"http://www.w3.org/2000/svg\" height=\"24px\"viewBox=\"0 0 24 24\"\n",
              "     width=\"24px\">\n",
              "    <g>\n",
              "        <path d=\"M19 3H5c-1.1 0-2 .9-2 2v14c0 1.1.9 2 2 2h14c1.1 0 2-.9 2-2V5c0-1.1-.9-2-2-2zM9 17H7v-7h2v7zm4 0h-2V7h2v10zm4 0h-2v-4h2v4z\"/>\n",
              "    </g>\n",
              "</svg>\n",
              "  </button>\n",
              "\n",
              "<style>\n",
              "  .colab-df-quickchart {\n",
              "      --bg-color: #E8F0FE;\n",
              "      --fill-color: #1967D2;\n",
              "      --hover-bg-color: #E2EBFA;\n",
              "      --hover-fill-color: #174EA6;\n",
              "      --disabled-fill-color: #AAA;\n",
              "      --disabled-bg-color: #DDD;\n",
              "  }\n",
              "\n",
              "  [theme=dark] .colab-df-quickchart {\n",
              "      --bg-color: #3B4455;\n",
              "      --fill-color: #D2E3FC;\n",
              "      --hover-bg-color: #434B5C;\n",
              "      --hover-fill-color: #FFFFFF;\n",
              "      --disabled-bg-color: #3B4455;\n",
              "      --disabled-fill-color: #666;\n",
              "  }\n",
              "\n",
              "  .colab-df-quickchart {\n",
              "    background-color: var(--bg-color);\n",
              "    border: none;\n",
              "    border-radius: 50%;\n",
              "    cursor: pointer;\n",
              "    display: none;\n",
              "    fill: var(--fill-color);\n",
              "    height: 32px;\n",
              "    padding: 0;\n",
              "    width: 32px;\n",
              "  }\n",
              "\n",
              "  .colab-df-quickchart:hover {\n",
              "    background-color: var(--hover-bg-color);\n",
              "    box-shadow: 0 1px 2px rgba(60, 64, 67, 0.3), 0 1px 3px 1px rgba(60, 64, 67, 0.15);\n",
              "    fill: var(--button-hover-fill-color);\n",
              "  }\n",
              "\n",
              "  .colab-df-quickchart-complete:disabled,\n",
              "  .colab-df-quickchart-complete:disabled:hover {\n",
              "    background-color: var(--disabled-bg-color);\n",
              "    fill: var(--disabled-fill-color);\n",
              "    box-shadow: none;\n",
              "  }\n",
              "\n",
              "  .colab-df-spinner {\n",
              "    border: 2px solid var(--fill-color);\n",
              "    border-color: transparent;\n",
              "    border-bottom-color: var(--fill-color);\n",
              "    animation:\n",
              "      spin 1s steps(1) infinite;\n",
              "  }\n",
              "\n",
              "  @keyframes spin {\n",
              "    0% {\n",
              "      border-color: transparent;\n",
              "      border-bottom-color: var(--fill-color);\n",
              "      border-left-color: var(--fill-color);\n",
              "    }\n",
              "    20% {\n",
              "      border-color: transparent;\n",
              "      border-left-color: var(--fill-color);\n",
              "      border-top-color: var(--fill-color);\n",
              "    }\n",
              "    30% {\n",
              "      border-color: transparent;\n",
              "      border-left-color: var(--fill-color);\n",
              "      border-top-color: var(--fill-color);\n",
              "      border-right-color: var(--fill-color);\n",
              "    }\n",
              "    40% {\n",
              "      border-color: transparent;\n",
              "      border-right-color: var(--fill-color);\n",
              "      border-top-color: var(--fill-color);\n",
              "    }\n",
              "    60% {\n",
              "      border-color: transparent;\n",
              "      border-right-color: var(--fill-color);\n",
              "    }\n",
              "    80% {\n",
              "      border-color: transparent;\n",
              "      border-right-color: var(--fill-color);\n",
              "      border-bottom-color: var(--fill-color);\n",
              "    }\n",
              "    90% {\n",
              "      border-color: transparent;\n",
              "      border-bottom-color: var(--fill-color);\n",
              "    }\n",
              "  }\n",
              "</style>\n",
              "\n",
              "  <script>\n",
              "    async function quickchart(key) {\n",
              "      const quickchartButtonEl =\n",
              "        document.querySelector('#' + key + ' button');\n",
              "      quickchartButtonEl.disabled = true;  // To prevent multiple clicks.\n",
              "      quickchartButtonEl.classList.add('colab-df-spinner');\n",
              "      try {\n",
              "        const charts = await google.colab.kernel.invokeFunction(\n",
              "            'suggestCharts', [key], {});\n",
              "      } catch (error) {\n",
              "        console.error('Error during call to suggestCharts:', error);\n",
              "      }\n",
              "      quickchartButtonEl.classList.remove('colab-df-spinner');\n",
              "      quickchartButtonEl.classList.add('colab-df-quickchart-complete');\n",
              "    }\n",
              "    (() => {\n",
              "      let quickchartButtonEl =\n",
              "        document.querySelector('#df-00cb835d-84bc-461b-a01e-dc5aa431dd0d button');\n",
              "      quickchartButtonEl.style.display =\n",
              "        google.colab.kernel.accessAllowed ? 'block' : 'none';\n",
              "    })();\n",
              "  </script>\n",
              "</div>\n",
              "    </div>\n",
              "  </div>\n"
            ]
          },
          "metadata": {},
          "execution_count": 8
        }
      ]
    },
    {
      "cell_type": "markdown",
      "source": [
        "### 3.1 Examinar un ejemplo"
      ],
      "metadata": {
        "id": "w-5g8flLokxt"
      }
    },
    {
      "cell_type": "code",
      "source": [
        "# Mostrar primer texto de train-positive\n",
        "abrir_archivos('aclImdb/train/pos/')[0]"
      ],
      "metadata": {
        "colab": {
          "base_uri": "https://localhost:8080/",
          "height": 71
        },
        "id": "eGmoU_FdIsyX",
        "outputId": "2657a313-3997-4e80-ea68-2264f8188310"
      },
      "execution_count": 9,
      "outputs": [
        {
          "output_type": "execute_result",
          "data": {
            "text/plain": [
              "'If you fast forward through the horrible singing, you will find a classic fairy tale underneath. Christopher Walken is very humorous and surprisingly good in the role. His trademark style of acting works well for the sly Puss in Boots. The other actors are well for their parts. I did not find any of the acting terribly fake or awkward. The king in particular appears a real dunce though, and I wonder if he is supposed to be. I can not remember the original tale. The special effects are typical of the eighties, but at least they are not overly fake like some of the computer generated fare that we see today. Overall, I recommend this movie for children and adults who are a child at heart.'"
            ],
            "application/vnd.google.colaboratory.intrinsic+json": {
              "type": "string"
            }
          },
          "metadata": {},
          "execution_count": 9
        }
      ]
    },
    {
      "cell_type": "markdown",
      "source": [
        "## 4. Cargar datos"
      ],
      "metadata": {
        "id": "fy0lNBi9KhFD"
      }
    },
    {
      "cell_type": "code",
      "source": [
        "# Fn que recibe el dir de reseñas positivas y el de negativas\n",
        "# Devuelve una lista de textos y una lista de etiquetas\n",
        "# Por convención, 1 positivo, 0 negativo\n",
        "def cargar_datos(path_pos, path_neg):\n",
        "    data_pos = abrir_archivos(path_pos)\n",
        "    label_pos = [1 for _ in range(len(data_pos))]\n",
        "\n",
        "    data_neg = abrir_archivos(path_neg)\n",
        "    label_neg = [0 for _ in range(len(data_neg))]\n",
        "\n",
        "    data = data_pos + data_neg\n",
        "    labels = label_pos + label_neg\n",
        "\n",
        "    return data, labels"
      ],
      "metadata": {
        "id": "eYPQ2EnbKgD8"
      },
      "execution_count": 10,
      "outputs": []
    },
    {
      "cell_type": "markdown",
      "source": [
        "### 4.1 Tokenizar\n",
        "¿Cómo representamos un texto?\n",
        "\n",
        "¿Cómo se puede particionar un texto?"
      ],
      "metadata": {
        "id": "Bv-pnSWrJHTQ"
      }
    },
    {
      "cell_type": "markdown",
      "source": [
        "\n",
        "\n",
        "<img src=\"https://www.mdpi.com/electronics/electronics-09-00483/article_deploy/html/images/electronics-09-00483-g001.png\"/>"
      ],
      "metadata": {
        "id": "2SNBVGf0e201"
      }
    },
    {
      "cell_type": "code",
      "source": [
        "# Función para tokenizar el texto\n",
        "tokenizer = get_tokenizer(\"basic_english\")\n",
        "\n",
        "\"\"\"\n",
        "Basic normalization for a line of text.\n",
        "Normalization includes\n",
        "- lowercasing\n",
        "- complete some basic text normalization for English words as follows:\n",
        "    add spaces before and after '\\''\n",
        "    remove '\\\"',\n",
        "    add spaces before and after '.'\n",
        "    replace '<br \\/>'with single space\n",
        "    add spaces before and after ','\n",
        "    add spaces before and after '('\n",
        "    add spaces before and after ')'\n",
        "    add spaces before and after '!'\n",
        "    add spaces before and after '?'\n",
        "    replace ';' with single space\n",
        "    replace ':' with single space\n",
        "    replace multiple spaces with single space\n",
        "\n",
        "Returns a list of tokens after splitting on whitespace.\n",
        "\"\"\"\n",
        "\n",
        "def tokenize(text):\n",
        "    return tokenizer(text)"
      ],
      "metadata": {
        "id": "mFytasw9UKEr"
      },
      "execution_count": 11,
      "outputs": []
    },
    {
      "cell_type": "code",
      "source": [
        "tokenizer(\"A long time ago, I watched this movie from the middle on cable.\")"
      ],
      "metadata": {
        "colab": {
          "base_uri": "https://localhost:8080/"
        },
        "id": "LaakZaTYUUc7",
        "outputId": "5388aa59-a5b8-41ea-f2ed-1501dd6294a1"
      },
      "execution_count": 12,
      "outputs": [
        {
          "output_type": "execute_result",
          "data": {
            "text/plain": [
              "['a',\n",
              " 'long',\n",
              " 'time',\n",
              " 'ago',\n",
              " ',',\n",
              " 'i',\n",
              " 'watched',\n",
              " 'this',\n",
              " 'movie',\n",
              " 'from',\n",
              " 'the',\n",
              " 'middle',\n",
              " 'on',\n",
              " 'cable',\n",
              " '.']"
            ]
          },
          "metadata": {},
          "execution_count": 12
        }
      ]
    },
    {
      "cell_type": "code",
      "source": [
        "# Iterador para tokenizar el texto:\n",
        "def yield_tokens(data_iter):\n",
        "  # Creamos el tokenizador para el idioma ingles:\n",
        "  tokenizer = get_tokenizer(\"basic_english\")\n",
        "  for text in data_iter:\n",
        "      yield tokenizer(text)\n",
        "\n",
        "path_pos = DATA_DIR+'train/pos/'\n",
        "path_neg = DATA_DIR+'train/neg/'\n",
        "\n",
        "data, labels = cargar_datos(path_pos, path_neg)"
      ],
      "metadata": {
        "id": "LSB7pIDxI2_M"
      },
      "execution_count": 13,
      "outputs": []
    },
    {
      "cell_type": "markdown",
      "source": [
        "### 4.2 Crear vocabulario"
      ],
      "metadata": {
        "id": "NhiMlr0up0KB"
      }
    },
    {
      "cell_type": "code",
      "source": [
        "#Creamos vocabulario:\n",
        "vocab = build_vocab_from_iterator(yield_tokens(data), specials=[\"<pad>\",\"<unk>\"])\n",
        "vocab.set_default_index(vocab[\"<unk>\"])\n",
        "\n",
        "len(vocab)"
      ],
      "metadata": {
        "colab": {
          "base_uri": "https://localhost:8080/"
        },
        "id": "9KeWNsbDpsOH",
        "outputId": "79e4d4ec-d5db-4676-fa9e-d1b1a050ac67"
      },
      "execution_count": 14,
      "outputs": [
        {
          "output_type": "execute_result",
          "data": {
            "text/plain": [
              "100684"
            ]
          },
          "metadata": {},
          "execution_count": 14
        }
      ]
    },
    {
      "cell_type": "markdown",
      "source": [
        "### 4.3 Otras formas de Tokenizar (EXTRA)"
      ],
      "metadata": {
        "id": "jMwTdZhlp4Xx"
      }
    },
    {
      "cell_type": "markdown",
      "source": [
        "¿Qué otras formas de tokenizar un texto existen?\n",
        "\n",
        "<img src=\"https://blogger.googleusercontent.com/img/a/AVvXsEjEYQ4kSwmyg8a-TvQC6gCQyQkbBXrxb04EXec3dsfBlms4GJ0xq-l7eKCW7A-MeuNtoq0ScF_um5W76w4yJtRZ2mhy54tYY6dIR69m_iJT93b2PTqGT9QHeo_XYDe0UrScX2moab-O52BrhAATSQQYz7ZnIN7Z-mKLsRJbofXVVigZXFSz1db2mwIfcQ=w640-h230\"/>\n",
        "\n",
        "Imagen tomada de https://blog.research.google/2021/12/a-fast-wordpiece-tokenization-system.html\n",
        "\n",
        "<img src=\"https://nlp.fast.ai/images/multifit_vocabularies.png\"/>"
      ],
      "metadata": {
        "id": "K8RNEx65UpfJ"
      }
    },
    {
      "cell_type": "code",
      "source": [
        "# Probar tokenizador de BERT\n",
        "! pip install transformers -q\n",
        "from transformers import BertTokenizer"
      ],
      "metadata": {
        "id": "4gIXYQpiZADi"
      },
      "execution_count": 15,
      "outputs": []
    },
    {
      "cell_type": "code",
      "source": [
        "# Cargar el tokenizador de BERT\n",
        "wordpiece_tokenizer = BertTokenizer.from_pretrained('bert-base-uncased')\n",
        "\n",
        "# Tokenizar un texto de ejemplo\n",
        "print(wordpiece_tokenizer.tokenize(\"A long time ago, I watched this movie from the middle on cable asdfing.\"))\n"
      ],
      "metadata": {
        "colab": {
          "base_uri": "https://localhost:8080/"
        },
        "id": "C5VwTJY6YnfU",
        "outputId": "1ff0c441-270e-4a06-af76-6e0f55d3578d"
      },
      "execution_count": 16,
      "outputs": [
        {
          "output_type": "stream",
          "name": "stdout",
          "text": [
            "['a', 'long', 'time', 'ago', ',', 'i', 'watched', 'this', 'movie', 'from', 'the', 'middle', 'on', 'cable', 'as', '##df', '##ing', '.']\n"
          ]
        }
      ]
    },
    {
      "cell_type": "markdown",
      "source": [
        "### 4.4 Explorar texto tokenizado\n",
        "\n",
        "Debemos explorar tamaño de textos para saber si hay que hacer padding o recort\n",
        "\n",
        "¿Cómo podemos igualar los tamaños de los textos?"
      ],
      "metadata": {
        "id": "aHFPv-joOjpi"
      }
    },
    {
      "cell_type": "code",
      "source": [
        "# Tamaño máximo de texto (en caracteres)\n",
        "max([len(x) for x in data])"
      ],
      "metadata": {
        "colab": {
          "base_uri": "https://localhost:8080/"
        },
        "id": "R3_w7TdTNj1w",
        "outputId": "4a5c4416-4e4e-4f00-9ce5-08698183ae2b"
      },
      "execution_count": 17,
      "outputs": [
        {
          "output_type": "execute_result",
          "data": {
            "text/plain": [
              "13704"
            ]
          },
          "metadata": {},
          "execution_count": 17
        }
      ]
    },
    {
      "cell_type": "code",
      "source": [
        "# Histograma de la longitud de los textos de entrenamiento (en caracteres)\n",
        "sentence_lengths = [len(sentence) for sentence in data]\n",
        "\n",
        "plt.figure(figsize=(10, 6))\n",
        "plt.hist(sentence_lengths, bins=50, edgecolor='black', alpha=0.7)\n",
        "plt.title('Histograma de tamaños de textos en X_train')\n",
        "plt.xlabel('Tamaño de texto (caracteres)')\n",
        "plt.ylabel('Número de textos')\n",
        "plt.show()"
      ],
      "metadata": {
        "colab": {
          "base_uri": "https://localhost:8080/",
          "height": 564
        },
        "id": "EUfcxCpYOO2l",
        "outputId": "1a29cfc2-9643-4627-e301-7bfe572d1e53"
      },
      "execution_count": 18,
      "outputs": [
        {
          "output_type": "display_data",
          "data": {
            "text/plain": [
              "<Figure size 1000x600 with 1 Axes>"
            ],
            "image/png": "[encoded data removed]"
          },
          "metadata": {}
        }
      ]
    },
    {
      "cell_type": "markdown",
      "source": [
        "## 5. Conjunto de Datos (Dataset)"
      ],
      "metadata": {
        "id": "aqoMwtFrPwvX"
      }
    },
    {
      "cell_type": "code",
      "source": [
        "# Crear el obj dataset\n",
        "class Imdb_Dataset(Dataset):\n",
        "  def __init__(self, data, labels, vocab):\n",
        "        self.data = data\n",
        "        self.labels = labels\n",
        "        self.vocab = vocab\n",
        "\n",
        "        self.text_pipeline = lambda x: self.vocab(tokenizer(x))\n",
        "\n",
        "  def __len__(self):\n",
        "      return len(self.data)\n",
        "\n",
        "  def __getitem__(self, idx):\n",
        "      text = self.data[idx]\n",
        "      numerical_text = self.text_pipeline(text)\n",
        "      label = self.labels[idx]\n",
        "\n",
        "      return torch.tensor(numerical_text), torch.tensor(label)"
      ],
      "metadata": {
        "id": "qe4U76wYOQ00"
      },
      "execution_count": 19,
      "outputs": []
    },
    {
      "cell_type": "code",
      "source": [
        "# Instanciar Dataset\n",
        "ds = Imdb_Dataset(data, labels, vocab)"
      ],
      "metadata": {
        "id": "aXLPDnsOQp4o"
      },
      "execution_count": 20,
      "outputs": []
    },
    {
      "cell_type": "code",
      "source": [
        "# Observar un dato (tensor de IDs de oración, y tensor con clase)\n",
        "ds[0]"
      ],
      "metadata": {
        "colab": {
          "base_uri": "https://localhost:8080/"
        },
        "id": "QmR5Fpb9Q2IN",
        "outputId": "410a4c0e-a3fd-4de5-b64f-81503ccdd814"
      },
      "execution_count": 21,
      "outputs": [
        {
          "output_type": "execute_result",
          "data": {
            "text/plain": [
              "(tensor([   51,    26,   825,   972,   151,     2,   521,  1111,     4,    26,\n",
              "            86,   172,     6,   356,  2518,   784,  5244,     3,  1314,  3234,\n",
              "            10,    62,  1963,     5,  1196,    57,    12,     2,   219,     3,\n",
              "            32,  5053,   440,     7,   122,   492,    80,    19,     2,  7187,\n",
              "         22661,    12,  7537,     3,     2,    88,   162,    31,    80,    19,\n",
              "            73,   525,     3,    13,   126,    29,   172,   107,     7,     2,\n",
              "           122,  1875,  1204,    48,  2074,     3,     2,   615,    12,   826,\n",
              "           723,     6,   156, 43378,   158,     4,     5,    13,   585,    51,\n",
              "            30,    10,   422,     8,    34,     3,    13,    58,    29,   374,\n",
              "             2,   205,   784,     3,     2,   321,   314,    31,   775,     7,\n",
              "             2,  4412,     4,    22,    38,   226,    39,    31,    29,  2171,\n",
              "          1204,    45,    56,     7,     2,  1232,  5330,  2352,    15,    76,\n",
              "            74,   505,     3,   449,     4,    13,   382,    14,    21,    19,\n",
              "           424,     5,  1432,    42,    31,     6,   502,    38,   527,     3]),\n",
              " tensor(1))"
            ]
          },
          "metadata": {},
          "execution_count": 21
        }
      ]
    },
    {
      "cell_type": "code",
      "source": [
        "# Probar función que mapea indice -> token\n",
        "ds.vocab.get_itos()[2]"
      ],
      "metadata": {
        "colab": {
          "base_uri": "https://localhost:8080/",
          "height": 35
        },
        "id": "9SPGNJq33Rue",
        "outputId": "2c6eb086-299d-43f9-ffcd-8cf258c36b12"
      },
      "execution_count": 22,
      "outputs": [
        {
          "output_type": "execute_result",
          "data": {
            "text/plain": [
              "'the'"
            ],
            "application/vnd.google.colaboratory.intrinsic+json": {
              "type": "string"
            }
          },
          "metadata": {},
          "execution_count": 22
        }
      ]
    },
    {
      "cell_type": "markdown",
      "source": [
        "## 6. Cargador de datos (Dataloader)"
      ],
      "metadata": {
        "id": "RGGrxwWbQlJl"
      }
    },
    {
      "cell_type": "code",
      "source": [
        "device = torch.device(\"cuda\" if torch.cuda.is_available() else \"cpu\")\n",
        "\n",
        "# Crear Collate Function (para manejar el padding o truncado)\n",
        "class MyCollate:\n",
        "    def __init__(self, pad_value):\n",
        "        self.pad_value = pad_value\n",
        "\n",
        "    def __call__(self,batch):\n",
        "      texts = [item[0] for item in batch]\n",
        "      texts = pad_sequence(texts, batch_first=True, padding_value=self.pad_value)\n",
        "      targets = [item[1] for item in batch]\n",
        "      return texts.to(device), torch.tensor(targets).to(device)"
      ],
      "metadata": {
        "id": "b7iWCaZ5Qe8O"
      },
      "execution_count": 23,
      "outputs": []
    },
    {
      "cell_type": "code",
      "source": [
        "# Insertar el token con el que se hará el padding\n",
        "pad_value = ds.vocab.get_stoi()['<pad>']\n",
        "\n",
        "# Instanciar el dataloader\n",
        "dl = DataLoader(dataset=ds,\n",
        "                batch_size=32,\n",
        "                shuffle=False,\n",
        "                collate_fn=MyCollate(pad_value))"
      ],
      "metadata": {
        "id": "0DfOykumQjEo"
      },
      "execution_count": 24,
      "outputs": []
    },
    {
      "cell_type": "code",
      "source": [
        "# Ver un ejemplo del dataloader\n",
        "ex = next(iter(dl))"
      ],
      "metadata": {
        "id": "0sVPCt4gQo7s"
      },
      "execution_count": 25,
      "outputs": []
    },
    {
      "cell_type": "code",
      "source": [
        "ex[0].shape"
      ],
      "metadata": {
        "colab": {
          "base_uri": "https://localhost:8080/"
        },
        "id": "VQwCbJB8Q73m",
        "outputId": "03da505a-8fd3-43b6-a793-f13e2785ebb8"
      },
      "execution_count": 26,
      "outputs": [
        {
          "output_type": "execute_result",
          "data": {
            "text/plain": [
              "torch.Size([32, 1923])"
            ]
          },
          "metadata": {},
          "execution_count": 26
        }
      ]
    },
    {
      "cell_type": "code",
      "source": [
        "ex"
      ],
      "metadata": {
        "colab": {
          "base_uri": "https://localhost:8080/"
        },
        "id": "ozRpb3MMRHqs",
        "outputId": "99f70f80-5b8e-4f36-d204-e7f375982e98"
      },
      "execution_count": 27,
      "outputs": [
        {
          "output_type": "execute_result",
          "data": {
            "text/plain": [
              "(tensor([[   51,    26,   825,  ...,     0,     0,     0],\n",
              "         [   93,  2292,     4,  ...,     0,     0,     0],\n",
              "         [ 3803, 14096,    10,  ...,     0,     0,     0],\n",
              "         ...,\n",
              "         [   14,    21,    17,  ...,     0,     0,     0],\n",
              "         [ 1207,   212,     3,  ...,     0,     0,     0],\n",
              "         [   14,    21,    10,  ...,     0,     0,     0]]),\n",
              " tensor([1, 1, 1, 1, 1, 1, 1, 1, 1, 1, 1, 1, 1, 1, 1, 1, 1, 1, 1, 1, 1, 1, 1, 1,\n",
              "         1, 1, 1, 1, 1, 1, 1, 1]))"
            ]
          },
          "metadata": {},
          "execution_count": 27
        }
      ]
    },
    {
      "cell_type": "markdown",
      "source": [
        "### 6.1 ¿Cómo se generan los vectores densos para la red a partir de un tensor con IDs?\n",
        "\n",
        "<img src=\"https://i0.wp.com/clay-atlas.com/wp-content/uploads/2020/07/image-1.png?ssl=1\"/>"
      ],
      "metadata": {
        "id": "bhS4CkM4VlGR"
      }
    },
    {
      "cell_type": "markdown",
      "source": [
        "## 7. Ejercicio: Clase dataset completa"
      ],
      "metadata": {
        "id": "FT6B1waDqfYc"
      }
    },
    {
      "cell_type": "code",
      "source": [
        "# Ejercicio: Implementa todo el manejo del dataset dentro de la clase\n",
        "\n",
        "from torch.utils.data import Dataset\n",
        "# Preprocesar texto:\n",
        "from torchtext.data.utils import get_tokenizer\n",
        "from torchtext.vocab import build_vocab_from_iterator\n",
        "\n",
        "# Tokenizamos el texto:\n",
        "def yield_tokens(data_iter):\n",
        "  # Creamos el tokenizador para el idioma ingles:\n",
        "  tokenizer = get_tokenizer(\"basic_english\")\n",
        "  for text in data_iter:\n",
        "      yield tokenizer(text)\n",
        "\n",
        "\n",
        "class Imdb_Dataset(Dataset):\n",
        "  def __init__(self, data_dir, subset):\n",
        "        self.data_dir = data_dir\n",
        "        self.subset = subset\n",
        "        self.path_pos = self.data_dir+self.subset+'/pos/'\n",
        "        self.path_neg = self.data_dir+self.subset+'/neg/'\n",
        "\n",
        "        self.data_pos = []\n",
        "        self.label_pos = []\n",
        "        files = [f for f in os.listdir(self.path_pos)]\n",
        "        for file in files:\n",
        "            with open(self.path_pos+file, \"r\", encoding='utf8') as f:\n",
        "                self.data_pos.append(f.read())\n",
        "                self.label_pos.append(1)\n",
        "\n",
        "        self.data_neg = []\n",
        "        self.label_neg = []\n",
        "        files = [f for f in os.listdir(self.path_neg)]\n",
        "        for file in files:\n",
        "            with open(self.path_neg+file, \"r\", encoding='utf8') as f:\n",
        "                self.data_neg.append(f.read())\n",
        "                self.label_neg.append(0)\n",
        "\n",
        "        self.data = self.data_pos + self.data_neg\n",
        "        self.labels = self.label_pos + self.label_neg\n",
        "\n",
        "        #Creamos vocabulario:\n",
        "        self.vocab = build_vocab_from_iterator(yield_tokens(self.data), specials=[\"<pad>\",\"<unk>\"])\n",
        "        self.vocab.set_default_index(vocab[\"<unk>\"])\n",
        "\n",
        "        self.text_pipeline = lambda x: self.vocab(tokenizer(x))\n",
        "\n",
        "\n",
        "  def __len__(self):\n",
        "      return len(self.data)\n",
        "\n",
        "  def __getitem__(self, idx):\n",
        "      text = self.data[idx]\n",
        "      numerical_text = self.text_pipeline(text)\n",
        "      label = self.labels[idx]\n",
        "\n",
        "      return torch.tensor(numerical_text), torch.tensor(label)"
      ],
      "metadata": {
        "id": "_iWpkXgGjNS5"
      },
      "execution_count": 28,
      "outputs": []
    },
    {
      "cell_type": "code",
      "source": [
        "ds = Imdb_Dataset(DATA_DIR, \"train\")"
      ],
      "metadata": {
        "id": "PynEpwLYjmwD"
      },
      "execution_count": 29,
      "outputs": []
    },
    {
      "cell_type": "code",
      "source": [
        "ds[0]"
      ],
      "metadata": {
        "colab": {
          "base_uri": "https://localhost:8080/"
        },
        "id": "eLXHuruZ_tgk",
        "outputId": "d80f26d9-bb28-43bc-9957-9eadd14ceb00"
      },
      "execution_count": 30,
      "outputs": [
        {
          "output_type": "execute_result",
          "data": {
            "text/plain": [
              "(tensor([   51,    26,   825,   972,   151,     2,   521,  1111,     4,    26,\n",
              "            86,   172,     6,   356,  2518,   784,  5244,     3,  1314,  3234,\n",
              "            10,    62,  1963,     5,  1196,    57,    12,     2,   219,     3,\n",
              "            32,  5053,   440,     7,   122,   492,    80,    19,     2,  7187,\n",
              "         22661,    12,  7537,     3,     2,    88,   162,    31,    80,    19,\n",
              "            73,   525,     3,    13,   126,    29,   172,   107,     7,     2,\n",
              "           122,  1875,  1204,    48,  2074,     3,     2,   615,    12,   826,\n",
              "           723,     6,   156, 43378,   158,     4,     5,    13,   585,    51,\n",
              "            30,    10,   422,     8,    34,     3,    13,    58,    29,   374,\n",
              "             2,   205,   784,     3,     2,   321,   314,    31,   775,     7,\n",
              "             2,  4412,     4,    22,    38,   226,    39,    31,    29,  2171,\n",
              "          1204,    45,    56,     7,     2,  1232,  5330,  2352,    15,    76,\n",
              "            74,   505,     3,   449,     4,    13,   382,    14,    21,    19,\n",
              "           424,     5,  1432,    42,    31,     6,   502,    38,   527,     3]),\n",
              " tensor(1))"
            ]
          },
          "metadata": {},
          "execution_count": 30
        }
      ]
    },
    {
      "cell_type": "code",
      "source": [],
      "metadata": {
        "id": "tVVVfDDY_yRH"
      },
      "execution_count": 30,
      "outputs": []
    }
  ]
}