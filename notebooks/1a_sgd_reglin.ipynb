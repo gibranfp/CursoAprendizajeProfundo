{
  "cells": [
    {
      "cell_type": "markdown",
      "metadata": {
        "id": "view-in-github",
        "colab_type": "text"
      },
      "source": [
        "<a href=\"https://colab.research.google.com/github/gibranfp/CursoAprendizajeProfundo/blob/2023-1/notebooks/1a_sgd_reglin.ipynb\" target=\"_parent\"><img src=\"https://colab.research.google.com/assets/colab-badge.svg\" alt=\"Open In Colab\"/></a>"
      ]
    },
    {
      "cell_type": "markdown",
      "metadata": {
        "id": "ilaK_YgGx0jg"
      },
      "source": [
        "# Regresión lineal mediante descenso por gradiente\n",
        "En esta libreta programaremos y evaluaremos el algoritmo de descenso por gradiente para regresión lineal."
      ]
    },
    {
      "cell_type": "code",
      "execution_count": 1,
      "metadata": {
        "id": "C5y3Psw8WRmC"
      },
      "outputs": [],
      "source": [
        "import numpy as np\n",
        "np.random.seed(42) # por reproducibilidad\n",
        "\n",
        "import pandas as pd\n",
        "import matplotlib.pyplot as plt\n",
        "\n",
        "from sklearn.metrics import mean_squared_error as ecm\n",
        "from sklearn.model_selection import train_test_split"
      ]
    },
    {
      "cell_type": "markdown",
      "metadata": {
        "id": "B_FEhGbByOeh"
      },
      "source": [
        "## Conjunto de datos\n",
        "Posteriormente cargamos los datos de GPAs de alumnos de licenciatura (fuente: http://onlinestatbook.com/2/case_studies/sat.html). Usamos sólo el atributo Computer Science GPA (columna `comp_GPA`) como regresor para el University GPA (columna `univ_GPA`)."
      ]
    },
    {
      "cell_type": "code",
      "execution_count": 2,
      "metadata": {
        "id": "BxmSb3DAyS1_"
      },
      "outputs": [],
      "source": [
        "sat = pd.read_csv('http://onlinestatbook.com/2/case_studies/data/sat.txt', sep=' ')\n",
        "\n",
        "X = sat.comp_GPA.to_numpy()[:, np.newaxis]\n",
        "y = sat.univ_GPA.to_numpy()[:, np.newaxis]"
      ]
    },
    {
      "cell_type": "markdown",
      "metadata": {
        "id": "SnMd0oZdyZPA"
      },
      "source": [
        "Dividimos  aleatoriamente el conjunto de datos en 80% para entrenamiento y 20% para validación. Para eso usaremos la funcion `train_test_split` de scikit-learn."
      ]
    },
    {
      "cell_type": "code",
      "execution_count": 3,
      "metadata": {
        "id": "PTiqiJcayxTh"
      },
      "outputs": [],
      "source": [
        "X_ent, X_valid, y_ent, y_valid = train_test_split(X, y, test_size=0.2, random_state=42)\n",
        "\n",
        "X_rango = np.arange(2.0, 4.0, 0.01)[:, np.newaxis].T "
      ]
    },
    {
      "cell_type": "markdown",
      "metadata": {
        "id": "Hqvfk27k2qo5"
      },
      "source": [
        "## Descenso por gradiente\n",
        "Vamos a entrenar un modelo de regresión lineal usando descenso por gradiente. En particular, buscaremos minimizar la pérdida de suma de errores cuadráticos, la cual definimos de la siguiente manera:\n",
        "$$\n",
        "ECM(\\mathbf{y}, \\hat{\\mathbf{y}}) = \\frac{1}{2} \\sum_{i = 1} ^n \\left(\\hat{y^{(i)}} - y^{(i)}\\right)^2\n",
        "$$\n",
        "\n",
        "El gradiente de esta función de pérdida respecto a los parámetros $\\mathbf{w} \\in \\mathbb{R}^d$ y $b \\in \\mathbb{R}$ está dado por\n",
        "\n",
        "$$\n",
        "\\nabla ECM(\\mathbf{y}, \\hat{\\mathbf{y}}) = \\left[\\frac{\\partial ECM(\\mathbf{y}, \\hat{\\mathbf{y}})}{\\partial b}, \\frac{\\partial ECM(\\mathbf{y}, \\hat{\\mathbf{y}})}{\\partial w_1}, \\cdots, \\frac{\\partial ECM(\\mathbf{y}, \\hat{\\mathbf{y}})}{\\partial w_d}\\right]\n",
        "$$\n",
        "\n",
        "donde\n",
        "\n",
        "$$\n",
        "\\begin{align*}\n",
        "\\frac{\\partial ECM(\\mathbf{y}, \\hat{\\mathbf{y}})}{\\partial w_j} & = \\sum_{i=1}^n \\left[ \\left(\\hat{y}^{(i)} - y^{(i)}\\right) \\cdot x_j^{(i)} \\right]\\\\\n",
        "\\frac{\\partial ECM(\\mathbf{y}, \\hat{\\mathbf{y}})}{\\partial b} & = \\sum_{i=1}^n \\left(\\hat{y}^{(i)} - y^{(i)}\\right)\n",
        "\\end{align*}\n",
        "$$"
      ]
    },
    {
      "cell_type": "code",
      "execution_count": 4,
      "metadata": {
        "id": "ESSXTMPeWnOy"
      },
      "outputs": [],
      "source": [
        "def descenso_gradiente(X, y, n_epocas = 10, tasa = 0.001):\n",
        "  hist = np.zeros(n_epocas)\n",
        "  \n",
        "  # Inicializamos los pesos con números aleatorios\n",
        "  w = np.random.rand(X.shape[1], 1, )\n",
        "  # Inicializamos el sesgo con 0\n",
        "  b = np.zeros((1, 1))\n",
        "  for e in range(n_epocas):\n",
        "    # Obtenemos predicciones con parámetro actual\n",
        "    y_hat =  X @ w + b\n",
        "\n",
        "    # Monitoreamos la pérdida \n",
        "    hist[e] = ecm(y, y_hat)\n",
        "\n",
        "    # Actualizamos parámetro\n",
        "    w -= tasa * X.T @ (y_hat - y)\n",
        "    b -= tasa * (y_hat - y).sum()\n",
        "\n",
        "  return w, b, hist"
      ]
    },
    {
      "cell_type": "markdown",
      "metadata": {
        "id": "U6roxslovyls"
      },
      "source": [
        "En el entrenamiento de redes neuronales profundas es común usar aproximaciones estocásticas del descenso por gradiente (o variaciones). Estas aproximaciones estiman $\\nabla \\mathcal{L}(\\boldsymbol{\\theta}^{[t]})$ y actualizan los parámetros (pesos y sesgos) usando un minilote $\\mathcal{B}$ de ejemplos (en lugar de todo el conjunto) de entrenamiento, donde $\\vert \\mathcal{B} \\vert$ es un hiperparámetro. Una estrategia para generar los lotes es dividir y ordenar aleatoriamente el conjunto de $n$ ejemplos de entrenamiento en $k$ minilotes ($\\vert \\mathcal{B} \\vert \\times k \\approx n$) e ir tomando lotes consecutivos hasta pasar por todo el conjunto. Aquí una época ocurre cada vez que se han considerado los $k$ minilotes. Para poder entrenar nuestro modelo usando descenso por gradiente estocástico es conveniente definir un generador de lotes."
      ]
    },
    {
      "cell_type": "code",
      "execution_count": 5,
      "metadata": {
        "id": "M3ioAA7WI3n8"
      },
      "outputs": [],
      "source": [
        "def genera_lotes(X, y, t_lote):\n",
        "  n = X.shape[0] \n",
        "  n_lotes = int(np.floor(n / t_lote)) # Se calcula el número de lotes\n",
        "                                      # Se descartan ejemplos posteriores\n",
        "                                      # al último lote, en caso de haber\n",
        "  perm = np.random.permutation(n)\n",
        "  Xperm = X[perm]\n",
        "  yperm = y[perm]\n",
        "  for l in range(n_lotes):\n",
        "    Xlote = Xperm[l * t_lote: (l + 1) * t_lote]\n",
        "    ylote = yperm[l * t_lote: (l + 1) * t_lote]\n",
        "    yield l, Xlote, ylote"
      ]
    },
    {
      "cell_type": "markdown",
      "metadata": {
        "id": "liKCcf2DCOd3"
      },
      "source": [
        "Definimos una función para entrenar nuestro modelo usando el descenso por gradiente estocástico que emplea el generador de lotes.  "
      ]
    },
    {
      "cell_type": "code",
      "execution_count": 6,
      "metadata": {
        "id": "m2mN2-BbHeE6"
      },
      "outputs": [],
      "source": [
        "def descenso_gradiente_estocastico(X, y, n_epocas = 10, t_lote = 10, tasa = 0.001):\n",
        "  hist = np.zeros(n_epocas)\n",
        "  hist_lotes = np.zeros((n_epocas, int(np.floor(X.shape[0] / t_lote))))\n",
        "\n",
        "  # Inicializamos los pesos con números aleatorios\n",
        "  w = np.random.rand(X.shape[1], 1)\n",
        "  # Inicializamos el sesgo con 0\n",
        "  b = np.zeros((1, 1))\n",
        "\n",
        "  for e in range(n_epocas):\n",
        "    # Calculamos el error cuadrático medio en la época\n",
        "    y_hat =  X @ w + b\n",
        "    hist[e] = ecm(y, y_hat)\n",
        "\n",
        "    for l,Xl,yl in genera_lotes(X, y, t_lote):\n",
        "      # Obtenemos predicciones para el lote con pesos y sesgos actuales\n",
        "      y_hat =  Xl @ w + b\n",
        "      \n",
        "      # Calculamos el error cuadrático medio en el lote\n",
        "      hist_lotes[e, l] = ecm(yl, y_hat)\n",
        "    \n",
        "      # Actualizamos pesos y sesgos\n",
        "      w -= tasa * Xl.T @ (y_hat - yl)\n",
        "      b -= tasa * (y_hat - yl).sum()\n",
        "\n",
        "  return w, b, hist, hist_lotes"
      ]
    },
    {
      "cell_type": "markdown",
      "metadata": {
        "id": "-GC963unVL3A"
      },
      "source": [
        "## Entrenamiento\n",
        "Entrenamos nuestro modelo de regresión lineal con este algoritmo por 1000 iteraciones con una tasa de aprendizaje de 0.001:"
      ]
    },
    {
      "cell_type": "markdown",
      "metadata": {
        "id": "PPe3eeh5owJo"
      },
      "source": []
    },
    {
      "cell_type": "code",
      "execution_count": 7,
      "metadata": {
        "id": "zJsvVkse_Zfq"
      },
      "outputs": [],
      "source": [
        "n_epocas = 10\n",
        "np.random.seed(42) # para fijar mismo valor inicial de peso\n",
        "wgd, bgd, histgd = descenso_gradiente(X_ent, \n",
        "                                      y_ent, \n",
        "                                      n_epocas = n_epocas, \n",
        "                                      tasa = 0.001)"
      ]
    },
    {
      "cell_type": "markdown",
      "metadata": {
        "id": "ZJH_IG7bniU-"
      },
      "source": [
        "Graficamos el error cuadrático medio en cada época y lo comparamos con el de los pasos."
      ]
    },
    {
      "cell_type": "code",
      "execution_count": 8,
      "metadata": {
        "colab": {
          "base_uri": "https://localhost:8080/",
          "height": 281
        },
        "id": "fxBkOPsOCTrS",
        "outputId": "a9d66614-ff5a-4287-d62a-9fc2482d6701"
      },
      "outputs": [
        {
          "output_type": "display_data",
          "data": {
            "text/plain": [
              "<Figure size 432x288 with 1 Axes>"
            ],
            "image/png": "[encoded data removed]"
          },
          "metadata": {
            "needs_background": "light"
          }
        }
      ],
      "source": [
        "plt.plot(histgd)\n",
        "plt.xlabel(u'Época')\n",
        "plt.ylabel(u'Error cuadrático medio')\n",
        "plt.show()"
      ]
    },
    {
      "cell_type": "markdown",
      "metadata": {
        "id": "rAMia4Ptnszm"
      },
      "source": [
        "Visualizamos la curva ajustada."
      ]
    },
    {
      "cell_type": "code",
      "execution_count": 9,
      "metadata": {
        "colab": {
          "base_uri": "https://localhost:8080/",
          "height": 279
        },
        "id": "OEizSy1Y8Mhn",
        "outputId": "cb892d06-a0cf-496c-c82a-772f03d44797"
      },
      "outputs": [
        {
          "output_type": "display_data",
          "data": {
            "text/plain": [
              "<Figure size 432x288 with 1 Axes>"
            ],
            "image/png": "[encoded data removed]"
          },
          "metadata": {
            "needs_background": "light"
          }
        }
      ],
      "source": [
        "y_rango_gd = X_rango.T @ wgd + bgd\n",
        "\n",
        "plt.scatter(X_ent[:, 0], y_ent[:, 0], label = 'Datos')\n",
        "plt.plot(X_rango.T[:, 0], y_rango_gd[:, 0], 'r', label = 'Curva ajustada')\n",
        "plt.xlabel('$x$')\n",
        "plt.ylabel('$y$')\n",
        "plt.legend()\n",
        "plt.show()"
      ]
    },
    {
      "cell_type": "code",
      "execution_count": 10,
      "metadata": {
        "id": "TZzQ09G-KxtN"
      },
      "outputs": [],
      "source": [
        "n_epocas = 10\n",
        "np.random.seed(42) # mismo valor inicial de peso que en GD\n",
        "wsgd, bsgd, histsgd, histsgd_lotes = descenso_gradiente_estocastico(X_ent, \n",
        "                                                                    y_ent, \n",
        "                                                                    n_epocas = n_epocas,\n",
        "                                                                    t_lote = 32, \n",
        "                                                                    tasa = 0.001)"
      ]
    },
    {
      "cell_type": "code",
      "execution_count": 11,
      "metadata": {
        "colab": {
          "base_uri": "https://localhost:8080/",
          "height": 336
        },
        "id": "vV7K5StyMkpS",
        "outputId": "ed11c8a0-fdbb-4106-e6f9-595be2da5762"
      },
      "outputs": [
        {
          "output_type": "display_data",
          "data": {
            "text/plain": [
              "<Figure size 1080x360 with 2 Axes>"
            ],
            "image/png": "[encoded data removed]"
          },
          "metadata": {
            "needs_background": "light"
          }
        }
      ],
      "source": [
        "fig, axs = plt.subplots(nrows=1, ncols=2, figsize=(15,5))\n",
        "\n",
        "axs[0].plot(histgd, 'r', label='GD')\n",
        "axs[0].plot(histsgd, 'b', label='SGD')\n",
        "axs[0].set_xlabel(u'Época')\n",
        "axs[0].set_ylabel(u'Error cuadrático medio')\n",
        "axs[0].legend()\n",
        "\n",
        "axs[1].plot(histsgd_lotes.flatten())\n",
        "axs[1].set_xlabel(u'Paso')\n",
        "axs[1].set_ylabel(u'Error cuadrático medio')\n",
        "\n",
        "plt.show()"
      ]
    },
    {
      "cell_type": "markdown",
      "metadata": {
        "id": "MhdLk9_tE8pW"
      },
      "source": [
        "Visualizamos y comparamos el modelo con el del descenso por gradiente completo."
      ]
    },
    {
      "cell_type": "code",
      "execution_count": 12,
      "metadata": {
        "colab": {
          "base_uri": "https://localhost:8080/",
          "height": 265
        },
        "id": "Ny1UGjNpMh0I",
        "outputId": "817bb27b-8ea4-4f6c-9f9f-4e80856eda0d"
      },
      "outputs": [
        {
          "output_type": "display_data",
          "data": {
            "text/plain": [
              "<Figure size 432x288 with 1 Axes>"
            ],
            "image/png": "[encoded data removed]"
          },
          "metadata": {
            "needs_background": "light"
          }
        }
      ],
      "source": [
        "y_rango_sgd = X_rango.T @ wsgd + bsgd\n",
        "\n",
        "plt.scatter(X_ent[:, 0], y_ent[:, 0])\n",
        "plt.plot(X_rango.T[:, 0], y_rango_gd[:, 0], 'r', label='GD')\n",
        "plt.plot(X_rango.T[:, 0], y_rango_sgd[:, 0], 'b', label='SGD')\n",
        "plt.legend()\n",
        "plt.show()"
      ]
    },
    {
      "cell_type": "markdown",
      "metadata": {
        "id": "LFnBPHTxosGW"
      },
      "source": [
        "## Ejercicio\n",
        "+ Programa y evalúa el algoritmo del descenso por gradiente para regresión lineal que minimice la siguiente función de error:\n",
        "\n",
        "$$\n",
        "E(\\mathbf{y}, \\hat{\\mathbf{y}}) = \\frac{1}{2\\cdot n} \\sum_{i = 1} ^n \\left(\\hat{y^{(i)}} - y^{(i)}\\right)^2\n",
        "$$"
      ]
    }
  ],
  "metadata": {
    "colab": {
      "collapsed_sections": [],
      "name": "1a_sgd_reglin.ipynb",
      "provenance": [],
      "include_colab_link": true
    },
    "kernelspec": {
      "display_name": "Python 3",
      "name": "python3"
    }
  },
  "nbformat": 4,
  "nbformat_minor": 0
}