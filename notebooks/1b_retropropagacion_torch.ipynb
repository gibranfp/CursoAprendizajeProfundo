{
 "cells": [
  {
   "cell_type": "markdown",
   "metadata": {
    "colab_type": "text",
    "id": "view-in-github"
   },
   "source": [
    "<a href=\"https://colab.research.google.com/github/gibranfp/CursoAprendizajeProfundo/blob/master/notebooks/1b_retropropagacion_torch.ipynb\" target=\"_parent\"><img src=\"https://colab.research.google.com/assets/colab-badge.svg\" alt=\"Open In Colab\"/></a>"
   ]
  },
  {
   "cell_type": "markdown",
   "metadata": {
    "colab_type": "text",
    "id": "V83__FrBij1f"
   },
   "source": [
    "# Retropropagación de errores\n",
    "\n",
    "En este *notebook* programaremos con PyTorch una red neuronal densa y la entrenaremos para aproximar la operación XOR usando del gradiente descedente con el algoritmo de retropropagación de errores. Recordemos que la operación XOR ($\\otimes$) está de la siguiente manera:\n",
    "\n",
    "| $x_1$ | $x_2$ | $y$\n",
    "| ------------- |:-------------:| -----:|\n",
    "|0 |0 |0|\n",
    "|0 |1 |1|\n",
    "|1 |0 |1|\n",
    "|1 |1 |0|\n"
   ]
  },
  {
   "cell_type": "code",
   "execution_count": 13,
   "metadata": {
    "colab": {},
    "colab_type": "code",
    "id": "xSlnjW4Oi-FP"
   },
   "outputs": [],
   "source": [
    "import torch\n",
    "import math"
   ]
  },
  {
   "cell_type": "markdown",
   "metadata": {
    "colab_type": "text",
    "id": "-iAUmKI5jNuX"
   },
   "source": [
    "Nuestra red neuronal densa está compuesta por una capa de 2 entradas ($x_1$ y $x_2$), una capa oculta con 10 neuronas con función de activación sigmoide y una capa de salida con una sola neurona con función de activación sigmoide. Esta función de activación se define como:\n",
    "\n",
    "$$\n",
    "\\sigma(z) = \\frac{1}{1 + e^{-z}}\n",
    "$$"
   ]
  },
  {
   "cell_type": "code",
   "execution_count": 14,
   "metadata": {
    "colab": {},
    "colab_type": "code",
    "id": "WYhT3i68jf6x"
   },
   "outputs": [],
   "source": [
    "def sigmoide(z):\n",
    "    return 1 / (1 + torch.exp(-z))"
   ]
  },
  {
   "cell_type": "markdown",
   "metadata": {
    "colab_type": "text",
    "id": "qx6SyrPhWBrw"
   },
   "source": [
    "La función sigmoide tiene una derivada que está expresada en términos de la misma función, esto es, \n",
    "\n",
    "$$\n",
    "\\frac{\\partial \\sigma (z)}{\\partial z} = \\sigma(z) (1 - \\sigma(z))\n",
    "$$"
   ]
  },
  {
   "cell_type": "code",
   "execution_count": 15,
   "metadata": {
    "colab": {},
    "colab_type": "code",
    "id": "mJxvxKeAjn24"
   },
   "outputs": [],
   "source": [
    "def derivada_sigmoide(x):\n",
    "    s = sigmoide(x)\n",
    "    return s * (1.0 - s)"
   ]
  },
  {
   "cell_type": "markdown",
   "metadata": {
    "colab_type": "text",
    "id": "4WxI8FfLXKHv"
   },
   "source": [
    "Podemos ver la operación XOR como una tarea de clasificación binaria a partir de 2 entradas. Por lo tanto, usaremos la función de pérdida de entropía cruzada binaria:\n",
    "\n",
    "$$\n",
    "ECB(\\mathbf{y}, \\mathbf{\\hat{y}})  = -\\sum_{i=1}^N \\left[ y^{(i)} \\log \\hat{y}^{(i)} + (1 - y^{(i)}) \\log (1 - \\hat{y}^{(i)}) \\right]\n",
    "$$"
   ]
  },
  {
   "cell_type": "code",
   "execution_count": 16,
   "metadata": {
    "colab": {},
    "colab_type": "code",
    "id": "gDjlmpAQjR3X"
   },
   "outputs": [],
   "source": [
    "def entropia_cruzada_binaria(y, p):\n",
    "    return -(torch.log(p[y == 1]).sum() + torch.log(1 - p[y == 0]).sum())"
   ]
  },
  {
   "cell_type": "markdown",
   "metadata": {
    "colab_type": "text",
    "id": "k8nMdK-RYWMS"
   },
   "source": [
    "Asimismo, calcularemos la exactitud para medir el rendimiento del modelo aprendido por la red neuronal densa:\n",
    "\n",
    "$$\n",
    "exactitud = \\frac{correctos}{total}\n",
    "$$"
   ]
  },
  {
   "cell_type": "code",
   "execution_count": 17,
   "metadata": {
    "colab": {},
    "colab_type": "code",
    "id": "8wxvZq10jIM3"
   },
   "outputs": [],
   "source": [
    "def exactitud(y, y_predicha):\n",
    "    return (y == y_predicha).float().mean() * 100"
   ]
  },
  {
   "cell_type": "markdown",
   "metadata": {
    "colab_type": "text",
    "id": "p02hAdUFZNLL"
   },
   "source": [
    "Ahora, definimos la función que propaga hacia adelante una entrada $\\mathbf{x}^{i}$. Como la red está compuesta de 2 capas densas (1 oculta y 1 de salida), tenemos 2 matrices de pesos con sus correspondientes vectores de sesgos $\\{\\mathbf{W}^{\\{1\\}}, \\mathbf{b}^{\\{1\\}}\\}$ y $\\{\\mathbf{W}^{\\{2\\}}, \\mathbf{b}^{\\{2\\}}\\}$ de la capa oculta y la capa de salida respectivamente. Así, podemos llevar a cabo la propagación hacia adelante en esta red de la siguiente manera:\n",
    "\n",
    "$$\n",
    "\t\\begin{split}\n",
    "\t\t\t\t\\mathbf{a}^{\\{1\\}} & =  \\mathbf{x}^{(i)} \\\\\n",
    "\t\t\t\t\\mathbf{z}^{\\{2\\}} & =  \\mathbf{W}^{\\{1\\}} \\cdot \\mathbf{a}^{\\{1\\}} + \\mathbf{b}^{\\{1\\}}\\\\\n",
    "\t\t\t\t\\mathbf{a}^{\\{2\\}} & =  \\sigma(\\mathbf{z}^{\\{2\\}}) \\\\\n",
    "\t\t\t\t\\mathbf{z}^{\\{3\\}} & =  \\mathbf{W}^{\\{2\\}} \\cdot \\mathbf{a}^{\\{2\\}}  + \\mathbf{b}^{\\{2\\}}\\\\\n",
    "\t\t\t\t\\mathbf{a}^{\\{3\\}} & =  \\sigma(\\mathbf{z}^{\\{3\\}})\\\\\n",
    "\t\t\t\t\\hat{y}^{(i)} & =  \\mathbf{a}^{\\{3\\}}\n",
    "\t\t\t\\end{split}\n",
    "      $$"
   ]
  },
  {
   "cell_type": "code",
   "execution_count": 18,
   "metadata": {
    "colab": {},
    "colab_type": "code",
    "id": "lAsEk-zajvpX"
   },
   "outputs": [],
   "source": [
    "def hacia_adelante(x, W1, b1, W2, b2):\n",
    "    z2 = W1.t() @ x + b1\n",
    "    a2 = sigmoide(z2)\n",
    "    z3 = W2.t() @ a2 + b2\n",
    "    y_hat = sigmoide(z3)\n",
    "  \n",
    "    return z2, a2, z3, y_hat"
   ]
  },
  {
   "cell_type": "markdown",
   "metadata": {
    "colab_type": "text",
    "id": "MiOT6jqXjzwQ"
   },
   "source": [
    "Finalmente, definimos la función para entrenar nuestra red neuronal usando gradiente descendente. Para calcular el gradiente de la función de pérdida respecto a los pesos y sesgos en cada capa empleamos el algoritmo de retropropagación de errores.\n",
    "\n"
   ]
  },
  {
   "cell_type": "code",
   "execution_count": 19,
   "metadata": {
    "colab": {},
    "colab_type": "code",
    "id": "1P7i6eLgkJdg"
   },
   "outputs": [],
   "source": [
    "def retropropagacion(X, y, alpha = 0.01, n_epocas = 100, n_ocultas = 10):\n",
    "    n_ejemplos, n_entradas = X.shape\n",
    "    \n",
    "    # Inicialización de las matrices de pesos W y V\n",
    "    W1 = math.sqrt(1.0 / n_entradas) * torch.randn(n_entradas, n_ocultas)\n",
    "    b1 = torch.zeros(n_ocultas)\n",
    "    \n",
    "    W2 = math.sqrt(1.0 / n_ocultas) * torch.randn(n_ocultas)\n",
    "    b2 = torch.zeros(1)\n",
    "    \n",
    "    perdidas = torch.zeros(n_epocas)\n",
    "    exactitudes = torch.zeros(n_epocas)\n",
    "    y_predicha = torch.zeros(y.shape)\n",
    "    for i in range(n_epocas):\n",
    "        for j in range(n_ejemplos):\n",
    "            z2, a2, z3, y_hat = hacia_adelante(X[j], W1, b1, W2, b2)\n",
    "\n",
    "            # cálculo de gradiente para W2 por retropropagación\n",
    "            delta3 = (y_hat - y[j]) * derivada_sigmoide(z3)\n",
    "            W2 -= alpha * a2 * delta3\n",
    "            b2 -= alpha * delta3\n",
    "\n",
    "            # cálculo de gradiente para W1 por retropropagación\n",
    "            delta2 = W2 * delta3 * derivada_sigmoide(z2)\n",
    "            W1 -= alpha * torch.ger(X[j], delta2)\n",
    "            b1 -= alpha * delta2\n",
    "\n",
    "            y_predicha[j] = y_hat\n",
    "            \n",
    "        # calcula error en época\n",
    "        perdidas[i] = entropia_cruzada_binaria(y, y_predicha)\n",
    "        exactitudes[i] = exactitud(y, torch.round(y_predicha))\n",
    "        if (i+1) % 20 == 0:\n",
    "            print(f'Epoch {i+1}: Error = {perdidas[i]} Exactitud = {exactitudes[i]}')\n",
    "\n",
    "    return W1, W2, perdidas, exactitudes"
   ]
  },
  {
   "cell_type": "markdown",
   "metadata": {
    "colab_type": "text",
    "id": "Nau0HWsrkRxg"
   },
   "source": [
    "Para probar nuestra red, generamos los ejemplos correspondientes a la operación XOR."
   ]
  },
  {
   "cell_type": "code",
   "execution_count": 20,
   "metadata": {
    "colab": {},
    "colab_type": "code",
    "id": "8txXZ34GkUAF"
   },
   "outputs": [],
   "source": [
    "# ejemplo (XOR)\n",
    "X = torch.tensor([[0., 0.], [0., 1.], [1., 0.], [1., 1.]])\n",
    "y = torch.tensor([0., 1., 1., 0.])"
   ]
  },
  {
   "cell_type": "markdown",
   "metadata": {
    "colab_type": "text",
    "id": "vLT8avfhkYH7"
   },
   "source": [
    "Finalmente, entrenamos nuestra red con estos ejemplos por 200 épocas usando una tasa de aprendizaje $\\alpha = 1.0$."
   ]
  },
  {
   "cell_type": "code",
   "execution_count": 21,
   "metadata": {
    "colab": {
     "base_uri": "https://localhost:8080/",
     "height": 1000
    },
    "colab_type": "code",
    "id": "ijKxVwZ3kbyR",
    "outputId": "7fc96d96-2f6a-4fef-a823-497e98220756"
   },
   "outputs": [
    {
     "name": "stdout",
     "output_type": "stream",
     "text": [
      "Epoch 20: Error = 3.4514527320861816 Exactitud = 50.0\n",
      "Epoch 40: Error = 3.483663320541382 Exactitud = 50.0\n",
      "Epoch 60: Error = 3.5026187896728516 Exactitud = 50.0\n",
      "Epoch 80: Error = 3.4997472763061523 Exactitud = 50.0\n",
      "Epoch 100: Error = 3.4624674320220947 Exactitud = 50.0\n",
      "Epoch 120: Error = 3.372633934020996 Exactitud = 50.0\n",
      "Epoch 140: Error = 3.2141807079315186 Exactitud = 50.0\n",
      "Epoch 160: Error = 2.993985891342163 Exactitud = 50.0\n",
      "Epoch 180: Error = 2.748088836669922 Exactitud = 75.0\n",
      "Epoch 200: Error = 2.48521089553833 Exactitud = 75.0\n",
      "Epoch 220: Error = 2.1526074409484863 Exactitud = 75.0\n",
      "Epoch 240: Error = 1.7091784477233887 Exactitud = 100.0\n",
      "Epoch 260: Error = 1.2717576026916504 Exactitud = 100.0\n",
      "Epoch 280: Error = 0.9692773222923279 Exactitud = 100.0\n",
      "Epoch 300: Error = 0.7800878286361694 Exactitud = 100.0\n"
     ]
    }
   ],
   "source": [
    "torch.manual_seed(0)\n",
    "W1, W2, perdidas, exactitudes = retropropagacion(X, \n",
    "                                                 y, \n",
    "                                                 alpha = 1.0, \n",
    "                                                 n_epocas = 300,\n",
    "                                                 n_ocultas = 10)"
   ]
  },
  {
   "cell_type": "markdown",
   "metadata": {
    "colab_type": "text",
    "id": "u8A3KZ5JkDJ3"
   },
   "source": [
    "Graficamos el valor de la pérdida y la exactitud en cada época para ver el comportamiento de nuestra red durante el entrenamiento:"
   ]
  },
  {
   "cell_type": "code",
   "execution_count": 22,
   "metadata": {
    "colab": {
     "base_uri": "https://localhost:8080/",
     "height": 269
    },
    "colab_type": "code",
    "id": "yglJSF9nkR7k",
    "outputId": "059109ba-d686-42e1-b81d-1fa09bf01872"
   },
   "outputs": [
    {
     "data": {
      "image/png": "[encoded data removed]",
      "text/plain": [
       "<Figure size 576x288 with 2 Axes>"
      ]
     },
     "metadata": {
      "needs_background": "light"
     },
     "output_type": "display_data"
    }
   ],
   "source": [
    "import matplotlib.pyplot as plt\n",
    "%matplotlib inline\n",
    "\n",
    "fig, ax = plt.subplots(ncols=2, figsize=(8, 4))\n",
    "\n",
    "ax[0].plot(perdidas.numpy())\n",
    "ax[0].set_title('ECB')\n",
    "ax[1].plot(exactitudes.numpy())\n",
    "ax[1].set_title('Exactitud');"
   ]
  },
  {
   "cell_type": "markdown",
   "metadata": {
    "colab_type": "text",
    "id": "hz0OaZtsCCgs"
   },
   "source": [
    "## Inicializando los pesos con zeros\n",
    "Como se mencionó anteriormente, las matrices de pesos $\\mathbf{W^{\\{1\\}}}$ y $\\mathbf{W^{\\{2\\}}}$ se initializan con valores aleatorios pequeños mientras que los vectores de sesgo $\\mathbf{b^{\\{1\\}}}$ y $\\mathbf{b^{\\{1\\}}}$ con zeros. Examinemos qué pasa si inicializamos las matrices de pesos con zeros. Observa los valores de los pesos en cada época."
   ]
  },
  {
   "cell_type": "code",
   "execution_count": 23,
   "metadata": {
    "colab": {},
    "colab_type": "code",
    "id": "FHaavbWGzqzg"
   },
   "outputs": [],
   "source": [
    "def retropropagacion_zeros(X, y, alpha = 0.1, n_epocas = 100, n_ocultas = 10):\n",
    "    n_ejemplos, n_entradas = X.shape\n",
    "    \n",
    "    # Inicializa matrices de pesos W1 y W2 y vectores de sesgos b1 y b2\n",
    "    W1 = torch.zeros(n_entradas, n_ocultas)\n",
    "    b1 = torch.zeros(n_ocultas) \n",
    "    W2 = torch.zeros(n_ocultas)\n",
    "    b2 = torch.zeros(1)\n",
    "    \n",
    "    perdidas = torch.zeros(n_epocas)\n",
    "    exactitudes = torch.zeros(n_epocas)\n",
    "    y_predicha = torch.zeros(y.shape)\n",
    "    for i in range(n_epocas):\n",
    "        for j in range(n_ejemplos):\n",
    "            z2, a2, z3, y_hat = hacia_adelante(X[j], W1, b1, W2, b2)\n",
    "\n",
    "            # cálculo de gradiente para W2 por retropropagación\n",
    "            delta3 = (y_hat - y[j]) * derivada_sigmoide(z3)\n",
    "            W2 -= alpha * a2 * delta3\n",
    "            b2 -= alpha * delta3\n",
    "\n",
    "            # cálculo de gradiente para W1 por retropropagación\n",
    "            delta2 = W2 * delta3 * derivada_sigmoide(z2)\n",
    "            W1 -= alpha * torch.ger(X[j], delta2)\n",
    "            b1 -= alpha * delta2\n",
    "\n",
    "            y_predicha[j] = y_hat\n",
    "            \n",
    "        # calcula error en época\n",
    "        perdidas[i] = entropia_cruzada_binaria(y, y_predicha)\n",
    "        exactitudes[i] = exactitud(y, torch.round(y_predicha))\n",
    "        print(f'Epoch {i+1}: Error = {perdidas[i]} Exactitud = {exactitudes[i]}')\n",
    "        print('W1 = {0}'.format(W1.numpy()))\n",
    "        print('W2 = {0}'.format(W2.numpy()))\n",
    "            \n",
    "    return W1, W2, perdidas, exactitudes"
   ]
  },
  {
   "cell_type": "code",
   "execution_count": 24,
   "metadata": {
    "colab": {
     "base_uri": "https://localhost:8080/",
     "height": 1000
    },
    "colab_type": "code",
    "id": "jr1HownICHf9",
    "outputId": "df1437c2-8cac-41af-f4a1-1e6a4bf4522e"
   },
   "outputs": [
    {
     "name": "stdout",
     "output_type": "stream",
     "text": [
      "Epoch 1: Error = 3.257566452026367 Exactitud = 50.0\n",
      "W1 = [[0.00222783 0.00222783 0.00222783 0.00222783 0.00222783 0.00222783\n",
      "  0.00222783 0.00222783 0.00222783 0.00222783]\n",
      " [0.00047238 0.00047238 0.00047238 0.00047238 0.00047238 0.00047238\n",
      "  0.00047238 0.00047238 0.00047238 0.00047238]]\n",
      "W2 = [-0.00300507 -0.00300507 -0.00300507 -0.00300507 -0.00300507 -0.00300507\n",
      " -0.00300507 -0.00300507 -0.00300507 -0.00300507]\n",
      "Epoch 2: Error = 3.2594382762908936 Exactitud = 50.0\n",
      "W1 = [[0.00448687 0.00448687 0.00448687 0.00448687 0.00448687 0.00448687\n",
      "  0.00448687 0.00448687 0.00448687 0.00448687]\n",
      " [0.00092736 0.00092736 0.00092736 0.00092736 0.00092736 0.00092736\n",
      "  0.00092736 0.00092736 0.00092736 0.00092736]]\n",
      "W2 = [-0.00457636 -0.00457636 -0.00457636 -0.00457636 -0.00457636 -0.00457636\n",
      " -0.00457636 -0.00457636 -0.00457636 -0.00457636]\n",
      "Epoch 3: Error = 3.2615671157836914 Exactitud = 50.0\n",
      "W1 = [[0.00676583 0.00676583 0.00676583 0.00676583 0.00676583 0.00676583\n",
      "  0.00676583 0.00676583 0.00676583 0.00676583]\n",
      " [0.00137482 0.00137482 0.00137482 0.00137482 0.00137482 0.00137482\n",
      "  0.00137482 0.00137482 0.00137482 0.00137482]]\n",
      "W2 = [-0.00542247 -0.00542247 -0.00542247 -0.00542247 -0.00542247 -0.00542247\n",
      " -0.00542247 -0.00542247 -0.00542247 -0.00542247]\n",
      "Epoch 4: Error = 3.2637853622436523 Exactitud = 50.0\n",
      "W1 = [[0.00905938 0.00905938 0.00905938 0.00905938 0.00905938 0.00905938\n",
      "  0.00905938 0.00905938 0.00905938 0.00905938]\n",
      " [0.00182    0.00182    0.00182    0.00182    0.00182    0.00182\n",
      "  0.00182    0.00182    0.00182    0.00182   ]]\n",
      "W2 = [-0.00590347 -0.00590347 -0.00590347 -0.00590347 -0.00590347 -0.00590347\n",
      " -0.00590347 -0.00590347 -0.00590347 -0.00590347]\n",
      "Epoch 5: Error = 3.2660441398620605 Exactitud = 50.0\n",
      "W1 = [[0.01136488 0.01136488 0.01136488 0.01136488 0.01136488 0.01136488\n",
      "  0.01136488 0.01136488 0.01136488 0.01136488]\n",
      " [0.00226562 0.00226562 0.00226562 0.00226562 0.00226562 0.00226562\n",
      "  0.00226562 0.00226562 0.00226562 0.00226562]]\n",
      "W2 = [-0.00620192 -0.00620192 -0.00620192 -0.00620192 -0.00620192 -0.00620192\n",
      " -0.00620192 -0.00620192 -0.00620192 -0.00620192]\n"
     ]
    }
   ],
   "source": [
    "W1, W2, perdidas, exactitudes = retropropagacion_zeros(X, \n",
    "                                                       y, \n",
    "                                                       alpha = 1.0,\n",
    "                                                       n_epocas = 5,\n",
    "                                                       n_ocultas = 10)"
   ]
  },
  {
   "cell_type": "markdown",
   "metadata": {
    "colab_type": "text",
    "id": "FLY6IWl4J76S"
   },
   "source": [
    "## Tarea\n",
    "Modifica el código anterior para agregar una capa extra de neuronas ocultas.\n"
   ]
  }
 ],
 "metadata": {
  "colab": {
   "collapsed_sections": [],
   "include_colab_link": true,
   "name": "1b_retropropagacion.ipynb",
   "provenance": [],
   "version": "0.3.2"
  },
  "kernelspec": {
   "display_name": "Python 3",
   "language": "python",
   "name": "python3"
  },
  "language_info": {
   "codemirror_mode": {
    "name": "ipython",
    "version": 3
   },
   "file_extension": ".py",
   "mimetype": "text/x-python",
   "name": "python",
   "nbconvert_exporter": "python",
   "pygments_lexer": "ipython3",
   "version": "3.6.8"
  }
 },
 "nbformat": 4,
 "nbformat_minor": 2
}
