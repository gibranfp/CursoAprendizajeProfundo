{
 "cells": [
  {
   "cell_type": "markdown",
   "metadata": {},
   "source": [
    "[![Colab](https://colab.research.google.com/assets/colab-badge.svg)](https://colab.research.google.com/github/gibranfp/CursoAprendizajeProfundo/blob/2023-1/notebooks/1h_pytorch_apis.ipynb)\n",
    "[![Kaggle](https://kaggle.com/static/images/open-in-kaggle.svg)](https://www.kaggle.com/notebooks/welcome?src=https://github.com/gibranfp/CursoAprendizajeProfundo/blob/2023-1/notebooks/1h_pytorch_apis.ipynb)\n",
    "[![Gradient](https://assets.paperspace.io/img/gradient-badge.svg)](https://console.paperspace.com/github/gibranfp/CursoAprendizajeProfundo/blob/2023-1/notebooks/1h_pytorch_apis.ipynb)\n",
    "[![SageMaker](https://studiolab.sagemaker.aws/studiolab.svg)](https://studiolab.sagemaker.aws/import/github/gibranfp/CursoAprendizajeProfundo/blob/2023-1/notebooks/1h_pytorch_apis.ipynb)"
   ]
  },
  {
   "cell_type": "markdown",
   "metadata": {},
   "source": [
    "# APIs en PyTorch\n",
    "\n",
    "Curso: [Aprendizaje Profundo](http://turing.iimas.unam.mx/~gibranfp/cursos/aprendizaje_profundo/). Profesor: [Gibran Fuentes Pineda](http://turing.iimas.unam.mx/~gibranfp/). Ayudantes: [Bere](https://turing.iimas.unam.mx/~bereml/) y [Ricardo](https://turing.iimas.unam.mx/~ricardoml/).\n",
    "\n",
    "---\n",
    "---\n",
    "\n",
    "En esta libreta veremos de manera breve las interfaces de programación de aplicaciones ([API](https://es.wikipedia.org/wiki/Interfaz_de_programaci%C3%B3n_de_aplicaciones)s) para la definición de arquitecturas que provee PyTorch."
   ]
  },
  {
   "cell_type": "markdown",
   "metadata": {},
   "source": [
    "## 1 Preparación\n",
    "\n",
    "### 1.1 Bibliotecas"
   ]
  },
  {
   "cell_type": "code",
   "execution_count": 1,
   "metadata": {},
   "outputs": [],
   "source": [
    "import math\n",
    "# sistema de archivos\n",
    "import os\n",
    "# números aleatorios\n",
    "import random\n",
    "\n",
    "# gráficas\n",
    "import matplotlib.pyplot as plt\n",
    "# arreglos multidimensionales\n",
    "import numpy as np\n",
    "# csv\n",
    "import pandas as pd\n",
    "\n",
    "# redes neuronales\n",
    "import torch\n",
    "import torch.nn as nn\n",
    "import torch.nn.functional as F\n",
    "import torch.optim as optim\n",
    "\n",
    "from torch.utils.data import DataLoader, TensorDataset"
   ]
  },
  {
   "cell_type": "markdown",
   "metadata": {},
   "source": [
    "### 1.2 Auxiliares"
   ]
  },
  {
   "cell_type": "code",
   "execution_count": 2,
   "metadata": {},
   "outputs": [],
   "source": [
    "# datos\n",
    "URL = 'https://raw.githubusercontent.com/gibranfp/CursoAprendizajeProfundo/2023-1/data/califs/califs.csv'\n",
    "data_dir = '../data'\n",
    "filepath = os.path.join(data_dir, 'califs.csv')\n",
    "\n",
    "def set_seed(seed=0):\n",
    "    \"\"\"Initializes pseudo-random number generators.\"\"\"\n",
    "    random.seed(seed)\n",
    "    np.random.seed(seed)\n",
    "    torch.manual_seed(seed)"
   ]
  },
  {
   "cell_type": "markdown",
   "metadata": {},
   "source": [
    "## 2 Datos"
   ]
  },
  {
   "cell_type": "markdown",
   "metadata": {},
   "source": [
    "Descargamos los datos."
   ]
  },
  {
   "cell_type": "code",
   "execution_count": 3,
   "metadata": {},
   "outputs": [
    {
     "name": "stdout",
     "output_type": "stream",
     "text": [
      "mkdir: cannot create directory ‘../data’: File exists\n",
      "--2022-09-05 22:56:57--  https://raw.githubusercontent.com/gibranfp/CursoAprendizajeProfundo/2023-1/data/califs/califs.csv\n",
      "Resolving raw.githubusercontent.com (raw.githubusercontent.com)... 185.199.111.133, 185.199.110.133, 185.199.108.133, ...\n",
      "Connecting to raw.githubusercontent.com (raw.githubusercontent.com)|185.199.111.133|:443... connected.\n",
      "HTTP request sent, awaiting response... 200 OK\n",
      "Length: 666 [text/plain]\n",
      "Saving to: ‘../data/califs.csv’\n",
      "\n",
      "../data/califs.csv  100%[===================>]     666  --.-KB/s    in 0s      \n",
      "\n",
      "2022-09-05 22:56:57 (11.3 MB/s) - ‘../data/califs.csv’ saved [666/666]\n",
      "\n"
     ]
    }
   ],
   "source": [
    "! mkdir {data_dir}\n",
    "! wget -nc {URL} -O {filepath}"
   ]
  },
  {
   "cell_type": "markdown",
   "metadata": {},
   "source": [
    "Cargamos los datos."
   ]
  },
  {
   "cell_type": "code",
   "execution_count": 4,
   "metadata": {
    "scrolled": true
   },
   "outputs": [
    {
     "data": {
      "text/html": [
       "<div>\n",
       "<style scoped>\n",
       "    .dataframe tbody tr th:only-of-type {\n",
       "        vertical-align: middle;\n",
       "    }\n",
       "\n",
       "    .dataframe tbody tr th {\n",
       "        vertical-align: top;\n",
       "    }\n",
       "\n",
       "    .dataframe thead th {\n",
       "        text-align: right;\n",
       "    }\n",
       "</style>\n",
       "<table border=\"1\" class=\"dataframe\">\n",
       "  <thead>\n",
       "    <tr style=\"text-align: right;\">\n",
       "      <th></th>\n",
       "      <th>prev</th>\n",
       "      <th>horas</th>\n",
       "      <th>calif</th>\n",
       "    </tr>\n",
       "  </thead>\n",
       "  <tbody>\n",
       "    <tr>\n",
       "      <th>0</th>\n",
       "      <td>5.6</td>\n",
       "      <td>8.2</td>\n",
       "      <td>5.1</td>\n",
       "    </tr>\n",
       "    <tr>\n",
       "      <th>1</th>\n",
       "      <td>6.7</td>\n",
       "      <td>9.3</td>\n",
       "      <td>5.9</td>\n",
       "    </tr>\n",
       "    <tr>\n",
       "      <th>2</th>\n",
       "      <td>5.1</td>\n",
       "      <td>10.0</td>\n",
       "      <td>5.4</td>\n",
       "    </tr>\n",
       "    <tr>\n",
       "      <th>3</th>\n",
       "      <td>5.7</td>\n",
       "      <td>10.4</td>\n",
       "      <td>6.5</td>\n",
       "    </tr>\n",
       "    <tr>\n",
       "      <th>4</th>\n",
       "      <td>7.1</td>\n",
       "      <td>10.4</td>\n",
       "      <td>6.7</td>\n",
       "    </tr>\n",
       "  </tbody>\n",
       "</table>\n",
       "</div>"
      ],
      "text/plain": [
       "   prev  horas  calif\n",
       "0   5.6    8.2    5.1\n",
       "1   6.7    9.3    5.9\n",
       "2   5.1   10.0    5.4\n",
       "3   5.7   10.4    6.5\n",
       "4   7.1   10.4    6.7"
      ]
     },
     "execution_count": 4,
     "metadata": {},
     "output_type": "execute_result"
    }
   ],
   "source": [
    "df = pd.read_csv(filepath)\n",
    "df.head(5)"
   ]
  },
  {
   "cell_type": "markdown",
   "metadata": {},
   "source": [
    "Graficamos los datos para tener una idea más clara de como se encuentran distribuidos."
   ]
  },
  {
   "cell_type": "code",
   "execution_count": 5,
   "metadata": {
    "scrolled": true
   },
   "outputs": [
    {
     "data": {
      "image/png": "[encoded data removed]",
      "text/plain": [
       "<Figure size 640x480 with 1 Axes>"
      ]
     },
     "metadata": {},
     "output_type": "display_data"
    }
   ],
   "source": [
    "# se obtiene el atributo de entrada y se agrega una dimensión\n",
    "x_trn = np.array(df.iloc[:,1], dtype='float32')[..., np.newaxis]\n",
    "# se obtiene la salda\n",
    "y_trn = np.array(df.iloc[:,-1], dtype='float32')[..., np.newaxis]\n",
    "# graficamos\n",
    "plt.plot(x_trn, y_trn, '.', color='m', markersize=8)\n",
    "plt.xlabel('horas de estudio')\n",
    "plt.ylabel('calificación')\n",
    "plt.show()"
   ]
  },
  {
   "cell_type": "code",
   "execution_count": 6,
   "metadata": {},
   "outputs": [
    {
     "name": "stdout",
     "output_type": "stream",
     "text": [
      "torch.Size([50, 2])\n",
      "torch.Size([50, 1])\n"
     ]
    }
   ],
   "source": [
    "x_trn = np.array(df.iloc[:,:2], dtype=\"float32\")\n",
    "y_trn = np.array(df.iloc[:,-1], dtype=\"float32\")[..., np.newaxis]\n",
    "\n",
    "x_trn = torch.tensor(x_trn)\n",
    "y_trn = torch.tensor(y_trn)\n",
    "\n",
    "print(x_trn.shape)\n",
    "print(y_trn.shape)"
   ]
  },
  {
   "cell_type": "markdown",
   "metadata": {},
   "source": [
    "### 2.1 Conjunto de datos\n",
    "\n",
    "Para hacer lotes podemos user las clase [`TensorDataset`](https://pytorch.org/docs/stable/data.html#torch.utils.data.TensorDataset)."
   ]
  },
  {
   "cell_type": "markdown",
   "metadata": {},
   "source": [
    "<img src=\"https://raw.githubusercontent.com/gibranfp/CursoAprendizajeProfundo/29227f0ad9d952a2239a592a80a7990a085f43d7/figs/califs_tuberia.svg\" width=\"1050\"/>"
   ]
  },
  {
   "cell_type": "code",
   "execution_count": 7,
   "metadata": {},
   "outputs": [
    {
     "data": {
      "text/plain": [
       "(tensor([5.6000, 8.2000]), tensor([5.1000]))"
      ]
     },
     "execution_count": 7,
     "metadata": {},
     "output_type": "execute_result"
    }
   ],
   "source": [
    "ds = TensorDataset(x_trn, y_trn)\n",
    "ds[0]"
   ]
  },
  {
   "cell_type": "markdown",
   "metadata": {},
   "source": [
    "### 2.2 Cargador de datos\n",
    "\n",
    "\n",
    "Para ver el funcionamiento de la tubería de datos imprimimos la forma de cada lote y su primer elemento."
   ]
  },
  {
   "cell_type": "code",
   "execution_count": 8,
   "metadata": {},
   "outputs": [
    {
     "name": "stdout",
     "output_type": "stream",
     "text": [
      "x shape=torch.Size([16, 2]) dtype=torch.float32\n",
      "y shape=torch.Size([16, 1]) dtype=torch.float32\n"
     ]
    }
   ],
   "source": [
    "def build_dl(batch_size=16, shuffle=True):\n",
    "    return DataLoader(ds, batch_size=batch_size, shuffle=True)\n",
    "\n",
    "# creamos un DataLoader\n",
    "dl = build_dl()\n",
    "\n",
    "x, y = next(iter(dl))\n",
    "print(f'x shape={x.shape} dtype={x.dtype}')\n",
    "print(f'y shape={y.shape} dtype={y.dtype}')"
   ]
  },
  {
   "cell_type": "code",
   "execution_count": 9,
   "metadata": {},
   "outputs": [
    {
     "data": {
      "text/plain": [
       "50"
      ]
     },
     "execution_count": 9,
     "metadata": {},
     "output_type": "execute_result"
    }
   ],
   "source": [
    "len(ds)"
   ]
  },
  {
   "cell_type": "markdown",
   "metadata": {},
   "source": [
    "## 3 Ciclo de entrenamiento\n",
    "\n",
    "<img src=\"https://raw.githubusercontent.com/bereml/iap/master/fig/supervisado.svg\" width=\"700\"/>"
   ]
  },
  {
   "cell_type": "code",
   "execution_count": 10,
   "metadata": {},
   "outputs": [],
   "source": [
    "# optimizador\n",
    "def train(model, dl, epochs=5):\n",
    "\n",
    "    opt = optim.SGD(model.parameters(), lr=1e-3)\n",
    "\n",
    "    # historial de pérdida\n",
    "    loss_hist = []\n",
    "\n",
    "    # ciclo de entrenamiento\n",
    "    for epoch in range(epochs):\n",
    "\n",
    "        # historial\n",
    "        loss_hist = []\n",
    "        \n",
    "        # entrenamiento de una época\n",
    "        for x, y_true in dl:\n",
    "            # hacemos inferencia para obtener los logits\n",
    "            y_lgts = model(x)\n",
    "            # calculamos de pérdida\n",
    "            loss = F.mse_loss(y_lgts, y_true)\n",
    "            # vaciamos los gradientes\n",
    "            opt.zero_grad()\n",
    "            # retropropagamos\n",
    "            loss.backward()\n",
    "            # actulizamos parámetros\n",
    "            opt.step()\n",
    "\n",
    "            # guardamos historial de pérdida\n",
    "            loss_hist.append(loss.item() * 100)\n",
    "            \n",
    "        # imprimimos la pérdida de la época\n",
    "        loss = np.mean(loss_hist)\n",
    "        print(f'E{epoch:02} loss=[{loss:6.2f}]')\n",
    "\n",
    "        \n",
    "def train_model(build_model, epochs=5):\n",
    "    set_seed()\n",
    "    dl = build_dl()\n",
    "    model = build_model()\n",
    "    train(model, dl, epochs)"
   ]
  },
  {
   "cell_type": "markdown",
   "metadata": {},
   "source": [
    "## 4 Definición de la arquitectura\n",
    "\n",
    "Para implementar arquitecturas, PyTorch define dos clases fundamentales.\n",
    "\n",
    "* `nn.Module` define una red neuronal que internamente puede tener otras redes neuronales anidadas (o capas). Tres metodos importantes son:\n",
    "  * `__init__(self, args)` es el inicilizador que define al objeto,\n",
    "  * `fordward(x)` realizar predicción (hacia adelante),\n",
    "  * `parameters(x)` regresa una lista de los parámetros (`nn.Parameter`) de la red y redes anidadas.\n",
    "\n",
    "\n",
    "* `nn.Parameter` envuelve un tensor solo para marcarlo como parámetro y que sea regresado por `nn.Module.parameters(x)`."
   ]
  },
  {
   "cell_type": "markdown",
   "metadata": {},
   "source": [
    "### 4.1 Alto nivel (similar a Keras)"
   ]
  },
  {
   "cell_type": "markdown",
   "metadata": {},
   "source": [
    "En esta API basta con apilar las capas (del paquete [`torch.nn`](https://pytorch.org/docs/stable/nn.html)) usando la clase [`nn.Sequential`](https://pytorch.org/docs/stable/generated/torch.nn.Sequential.html#torch.nn.Sequential)."
   ]
  },
  {
   "cell_type": "code",
   "execution_count": 11,
   "metadata": {},
   "outputs": [
    {
     "data": {
      "text/plain": [
       "Sequential(\n",
       "  (0): Linear(in_features=2, out_features=2, bias=True)\n",
       "  (1): ReLU()\n",
       "  (2): Linear(in_features=2, out_features=1, bias=True)\n",
       ")"
      ]
     },
     "execution_count": 11,
     "metadata": {},
     "output_type": "execute_result"
    }
   ],
   "source": [
    "def build_high():\n",
    "    model = nn.Sequential(\n",
    "        nn.Linear(2, 2),\n",
    "        nn.ReLU(),\n",
    "        nn.Linear(2, 1),\n",
    "    )\n",
    "    return model\n",
    "\n",
    "build_high()"
   ]
  },
  {
   "cell_type": "markdown",
   "metadata": {},
   "source": [
    "### 4.2 Medio nivel (Chainer, tensorflow.keras.model)\n",
    "\n",
    "En esta API heredamos de [`nn.Module`](https://pytorch.org/docs/stable/generated/torch.nn.Module.html#torch.nn.Module), creamos las capas en el inicializador e implementamos la inferencia en el método `fordward`. "
   ]
  },
  {
   "cell_type": "code",
   "execution_count": 12,
   "metadata": {},
   "outputs": [
    {
     "data": {
      "text/plain": [
       "LinRegMed(\n",
       "  (fc1): Linear(in_features=2, out_features=2, bias=True)\n",
       "  (fc2): Linear(in_features=2, out_features=1, bias=True)\n",
       ")"
      ]
     },
     "execution_count": 12,
     "metadata": {},
     "output_type": "execute_result"
    }
   ],
   "source": [
    "#se define la clase RegLin que hereda de torch.nn.Module\n",
    "class LinRegMed(nn.Module):\n",
    "\n",
    "    #se define el inicializador\n",
    "    def __init__(self):\n",
    "        # se llama al inicializador de la clase padre\n",
    "        super().__init__()\n",
    "        # importante: se definen las capas como atributos de la clase\n",
    "        self.fc1 = nn.Linear(2, 2)\n",
    "        self.fc2 = nn.Linear(2, 1)\n",
    "\n",
    "    # método para inferencia\n",
    "    def forward(self, x):\n",
    "        x = self.fc1(x)\n",
    "        x = F.relu(x)\n",
    "        x = self.fc2(x)\n",
    "        return x\n",
    "\n",
    "def build_med():\n",
    "    return LinRegMed()\n",
    "\n",
    "build_med()"
   ]
  },
  {
   "cell_type": "markdown",
   "metadata": {},
   "source": [
    "### 4.3 Bajo nivel\n",
    "\n",
    "En esta interfaz debemos implementar las capaz partiendo de los parámetros."
   ]
  },
  {
   "cell_type": "code",
   "execution_count": 13,
   "metadata": {},
   "outputs": [],
   "source": [
    "class MyLinear(nn.Module):\n",
    "\n",
    "    def __init__(self, in_features, out_features, init):\n",
    "        super().__init__()\n",
    "        self.in_features = in_features\n",
    "        self.out_features = out_features\n",
    "        self.init = init\n",
    "        # se envuelven los tensores en parámetros (clase)\n",
    "        # para que model.parameters() los regrese\n",
    "        # y sean visibles al optimizador\n",
    "        self.weight = nn.Parameter(torch.zeros(out_features, in_features))\n",
    "        self.bias = nn.Parameter(torch.zeros(out_features))\n",
    "        if init == 'he':\n",
    "            self.reset_parameters()\n",
    "\n",
    "    def reset_parameters(self):\n",
    "        # Delving Deep into Rectifiers: \n",
    "        #   Surpassing Human-Level Performance on ImageNet Classification\n",
    "        # https://arxiv.org/abs/1502.01852\n",
    "        nn.init.kaiming_uniform_(self.weight, a=math.sqrt(5))\n",
    "        fan_in, _ = nn.init._calculate_fan_in_and_fan_out(self.weight)\n",
    "        bound = 1 / math.sqrt(fan_in)\n",
    "        nn.init.uniform_(self.bias, -bound, bound)\n",
    "        \n",
    "    def forward(self, x):\n",
    "        # X * W + B\n",
    "        return F.linear(x, self.weight, self.bias)\n",
    "    \n",
    "    def extra_repr(self):\n",
    "        return 'in_features={}, out_features={}, init={}, bias={}'.format(\n",
    "            self.in_features, self.out_features, self.init, self.bias is not None\n",
    "        )\n",
    "\n",
    "\n",
    "class LinRegLow(nn.Module):\n",
    "\n",
    "    def __init__(self, init='zeros'):\n",
    "        super().__init__()\n",
    "        \n",
    "        self.cls = nn.Sequential(\n",
    "            MyLinear(2, 2, init),\n",
    "            nn.ReLU(),\n",
    "            MyLinear(2, 1, init),\n",
    "        )\n",
    "\n",
    "    def forward(self, x):\n",
    "        return self.cls(x)"
   ]
  },
  {
   "cell_type": "code",
   "execution_count": 14,
   "metadata": {},
   "outputs": [
    {
     "data": {
      "text/plain": [
       "LinRegLow(\n",
       "  (cls): Sequential(\n",
       "    (0): MyLinear(in_features=2, out_features=2, init=he, bias=True)\n",
       "    (1): ReLU()\n",
       "    (2): MyLinear(in_features=2, out_features=1, init=he, bias=True)\n",
       "  )\n",
       ")"
      ]
     },
     "execution_count": 14,
     "metadata": {},
     "output_type": "execute_result"
    }
   ],
   "source": [
    "def build_low_he():\n",
    "    return LinRegLow(init='he')\n",
    "\n",
    "build_low_he()"
   ]
  },
  {
   "cell_type": "code",
   "execution_count": 15,
   "metadata": {},
   "outputs": [
    {
     "data": {
      "text/plain": [
       "LinRegLow(\n",
       "  (cls): Sequential(\n",
       "    (0): MyLinear(in_features=2, out_features=2, init=zeros, bias=True)\n",
       "    (1): ReLU()\n",
       "    (2): MyLinear(in_features=2, out_features=1, init=zeros, bias=True)\n",
       "  )\n",
       ")"
      ]
     },
     "execution_count": 15,
     "metadata": {},
     "output_type": "execute_result"
    }
   ],
   "source": [
    "def build_low_zeros():\n",
    "    return LinRegLow(init='zeros')\n",
    "\n",
    "build_low_zeros()"
   ]
  },
  {
   "cell_type": "markdown",
   "metadata": {},
   "source": [
    "## 5 Entrenando modelos"
   ]
  },
  {
   "cell_type": "code",
   "execution_count": 16,
   "metadata": {},
   "outputs": [
    {
     "name": "stdout",
     "output_type": "stream",
     "text": [
      "E00 loss=[5240.13]\n",
      "E01 loss=[2730.91]\n",
      "E02 loss=[622.67]\n",
      "E03 loss=[ 47.03]\n",
      "E04 loss=[ 16.73]\n"
     ]
    }
   ],
   "source": [
    "train_model(build_high)"
   ]
  },
  {
   "cell_type": "code",
   "execution_count": 17,
   "metadata": {},
   "outputs": [
    {
     "name": "stdout",
     "output_type": "stream",
     "text": [
      "E00 loss=[5240.13]\n",
      "E01 loss=[2730.91]\n",
      "E02 loss=[622.67]\n",
      "E03 loss=[ 47.03]\n",
      "E04 loss=[ 16.73]\n"
     ]
    }
   ],
   "source": [
    "train_model(build_med)"
   ]
  },
  {
   "cell_type": "code",
   "execution_count": 18,
   "metadata": {},
   "outputs": [
    {
     "name": "stdout",
     "output_type": "stream",
     "text": [
      "E00 loss=[5240.13]\n",
      "E01 loss=[2730.91]\n",
      "E02 loss=[622.67]\n",
      "E03 loss=[ 47.03]\n",
      "E04 loss=[ 16.73]\n"
     ]
    }
   ],
   "source": [
    "train_model(build_low_he)"
   ]
  },
  {
   "cell_type": "code",
   "execution_count": 19,
   "metadata": {},
   "outputs": [
    {
     "name": "stdout",
     "output_type": "stream",
     "text": [
      "E00 loss=[5586.75]\n",
      "E01 loss=[5281.79]\n",
      "E02 loss=[5079.85]\n",
      "E03 loss=[4928.56]\n",
      "E04 loss=[4967.41]\n",
      "E05 loss=[5092.14]\n",
      "E06 loss=[4979.04]\n",
      "E07 loss=[4874.94]\n",
      "E08 loss=[4741.26]\n",
      "E09 loss=[4634.36]\n",
      "E10 loss=[4300.48]\n",
      "E11 loss=[4150.66]\n",
      "E12 loss=[4242.56]\n",
      "E13 loss=[4827.45]\n",
      "E14 loss=[4070.02]\n",
      "E15 loss=[4345.31]\n",
      "E16 loss=[4081.96]\n",
      "E17 loss=[4353.34]\n",
      "E18 loss=[3907.37]\n",
      "E19 loss=[4045.78]\n",
      "E20 loss=[3561.13]\n",
      "E21 loss=[3714.62]\n",
      "E22 loss=[3872.94]\n",
      "E23 loss=[3616.32]\n",
      "E24 loss=[3596.34]\n",
      "E25 loss=[3809.44]\n",
      "E26 loss=[3482.73]\n",
      "E27 loss=[3434.74]\n",
      "E28 loss=[3262.29]\n",
      "E29 loss=[3426.96]\n",
      "E30 loss=[3523.23]\n",
      "E31 loss=[3233.74]\n",
      "E32 loss=[3154.37]\n",
      "E33 loss=[2906.46]\n",
      "E34 loss=[3174.32]\n",
      "E35 loss=[3401.14]\n",
      "E36 loss=[3237.41]\n",
      "E37 loss=[2964.21]\n",
      "E38 loss=[2828.31]\n",
      "E39 loss=[3274.97]\n",
      "E40 loss=[2859.65]\n",
      "E41 loss=[2756.75]\n",
      "E42 loss=[2838.57]\n",
      "E43 loss=[2767.52]\n",
      "E44 loss=[2539.08]\n",
      "E45 loss=[2510.41]\n",
      "E46 loss=[2434.60]\n",
      "E47 loss=[2533.85]\n",
      "E48 loss=[2765.56]\n",
      "E49 loss=[2469.54]\n"
     ]
    }
   ],
   "source": [
    "train_model(build_low_zeros, epochs=50)"
   ]
  },
  {
   "cell_type": "markdown",
   "metadata": {},
   "source": [
    "## 6 Obteniendo  parámetros"
   ]
  },
  {
   "cell_type": "code",
   "execution_count": 20,
   "metadata": {},
   "outputs": [],
   "source": [
    "high = build_high()\n",
    "med = build_med()"
   ]
  },
  {
   "cell_type": "code",
   "execution_count": 21,
   "metadata": {},
   "outputs": [
    {
     "data": {
      "text/plain": [
       "[Parameter containing:\n",
       " tensor([[ 0.0297,  0.4558],\n",
       "         [-0.5345, -0.4854]], requires_grad=True),\n",
       " Parameter containing:\n",
       " tensor([-0.4106,  0.4949], requires_grad=True),\n",
       " Parameter containing:\n",
       " tensor([[-0.2542,  0.5964]], requires_grad=True),\n",
       " Parameter containing:\n",
       " tensor([0.2557], requires_grad=True)]"
      ]
     },
     "execution_count": 21,
     "metadata": {},
     "output_type": "execute_result"
    }
   ],
   "source": [
    "list(high.parameters())"
   ]
  },
  {
   "cell_type": "code",
   "execution_count": 22,
   "metadata": {},
   "outputs": [
    {
     "data": {
      "text/plain": [
       "[Parameter containing:\n",
       " tensor([[ 0.0895, -0.0053],\n",
       "         [-0.1398,  0.0887]], requires_grad=True),\n",
       " Parameter containing:\n",
       " tensor([-0.1615, -0.0050], requires_grad=True),\n",
       " Parameter containing:\n",
       " tensor([[ 0.0902, -0.5531]], requires_grad=True),\n",
       " Parameter containing:\n",
       " tensor([-0.3706], requires_grad=True)]"
      ]
     },
     "execution_count": 22,
     "metadata": {},
     "output_type": "execute_result"
    }
   ],
   "source": [
    "list(med.parameters())"
   ]
  },
  {
   "cell_type": "code",
   "execution_count": 23,
   "metadata": {},
   "outputs": [
    {
     "data": {
      "text/plain": [
       "[('0.weight',\n",
       "  Parameter containing:\n",
       "  tensor([[ 0.0297,  0.4558],\n",
       "          [-0.5345, -0.4854]], requires_grad=True)),\n",
       " ('0.bias',\n",
       "  Parameter containing:\n",
       "  tensor([-0.4106,  0.4949], requires_grad=True)),\n",
       " ('2.weight',\n",
       "  Parameter containing:\n",
       "  tensor([[-0.2542,  0.5964]], requires_grad=True)),\n",
       " ('2.bias',\n",
       "  Parameter containing:\n",
       "  tensor([0.2557], requires_grad=True))]"
      ]
     },
     "execution_count": 23,
     "metadata": {},
     "output_type": "execute_result"
    }
   ],
   "source": [
    "list(high.named_parameters())"
   ]
  },
  {
   "cell_type": "code",
   "execution_count": 24,
   "metadata": {},
   "outputs": [
    {
     "data": {
      "text/plain": [
       "[('fc1.weight',\n",
       "  Parameter containing:\n",
       "  tensor([[ 0.0895, -0.0053],\n",
       "          [-0.1398,  0.0887]], requires_grad=True)),\n",
       " ('fc1.bias',\n",
       "  Parameter containing:\n",
       "  tensor([-0.1615, -0.0050], requires_grad=True)),\n",
       " ('fc2.weight',\n",
       "  Parameter containing:\n",
       "  tensor([[ 0.0902, -0.5531]], requires_grad=True)),\n",
       " ('fc2.bias',\n",
       "  Parameter containing:\n",
       "  tensor([-0.3706], requires_grad=True))]"
      ]
     },
     "execution_count": 24,
     "metadata": {},
     "output_type": "execute_result"
    }
   ],
   "source": [
    "list(med.named_parameters())"
   ]
  }
 ],
 "metadata": {
  "kernelspec": {
   "display_name": "Python 3 (ipykernel)",
   "language": "python",
   "name": "python3"
  },
  "language_info": {
   "codemirror_mode": {
    "name": "ipython",
    "version": 3
   },
   "file_extension": ".py",
   "mimetype": "text/x-python",
   "name": "python",
   "nbconvert_exporter": "python",
   "pygments_lexer": "ipython3",
   "version": "3.10.6"
  }
 },
 "nbformat": 4,
 "nbformat_minor": 4
}
