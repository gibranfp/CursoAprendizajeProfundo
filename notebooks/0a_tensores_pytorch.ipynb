{
  "nbformat": 4,
  "nbformat_minor": 0,
  "metadata": {
    "colab": {
      "provenance": [],
      "include_colab_link": true
    },
    "kernelspec": {
      "name": "python3",
      "display_name": "Python 3"
    },
    "language_info": {
      "name": "python"
    },
    "accelerator": "GPU",
    "gpuClass": "standard"
  },
  "cells": [
    {
      "cell_type": "markdown",
      "metadata": {
        "id": "view-in-github",
        "colab_type": "text"
      },
      "source": [
        "<a href=\"https://colab.research.google.com/github/gibranfp/CursoAprendizajeProfundo/blob/2025-1/notebooks/0a_tensores_pytorch.ipynb\" target=\"_parent\"><img src=\"https://colab.research.google.com/assets/colab-badge.svg\" alt=\"Open In Colab\"/></a>"
      ]
    },
    {
      "cell_type": "markdown",
      "metadata": {
        "id": "eEPX039ZbqYg"
      },
      "source": [
        "<img src=\"https://www.researchgate.net/publication/349108714/figure/fig1/AS:988814684217344@1612763200002/Timeline-of-deep-learning-frameworks.png\" alt=\"Historia de los marcos de trabajo de aprendizaje profundo\" width=\"85%\" height=\"30%\"/>\n",
        "\n",
        "Fuente: [https://www.researchgate.net/publication/349108714_DLBench_a_comprehensive_experimental_evaluation_of_deep_learning_frameworks](https://www.researchgate.net/publication/349108714_DLBench_a_comprehensive_experimental_evaluation_of_deep_learning_frameworks).\n",
        "\n",
        "# Tensores\n",
        "[PyTorch](https://pythorch.org/) es una biblioteca y marco de trabajo de código abierto que facilita la programación de redes neuronales profundas, ofreciendo varias funciones, clases y herramientas. En particular:\n",
        "\n",
        "1. Definición de arreglos multidimensionales (clase `Tensor`) y operaciones entre ellos con soporte para GPUs y cómputo distribuido.\n",
        "2. Diferenciación automática.\n",
        "3. Interfaz modular con distintos niveles de abstracción para definir arquitecturas de redes neuronales y entrenarlas.\n",
        "4. Clases y funciones para carga, generación de lotes y preprocesamiento de conjuntos de datos.\n",
        "\n",
        "<img src=\"https://se.ewi.tudelft.nl/desosa2019/chapters/pytorch/images/pytorch/iGWbOXL.png\" alt=\"Arquitectura de PyTorch\" />\n",
        "\n",
        "Fuente: [https://se.ewi.tudelft.nl/desosa2019/chapters/pytorch/](https://se.ewi.tudelft.nl/desosa2019/chapters/pytorch/)"
      ]
    },
    {
      "cell_type": "code",
      "execution_count": 1,
      "metadata": {
        "id": "tPQ9mQ-WYR8Z"
      },
      "outputs": [],
      "source": [
        "import torch as th\n",
        "import numpy as np"
      ]
    },
    {
      "cell_type": "markdown",
      "metadata": {
        "id": "h-Lzt5Uqt6cX"
      },
      "source": [
        "## Creación de tensores\n",
        "El objeto básico de PyTorch es el tensor, un arreglo multidimensional similar al `ndarray` de NumPy.\n",
        "\n",
        "![](https://static.packt-cdn.com/products/9781787125933/graphics/B07030_14_01.jpg)\n",
        "\n",
        "Fuente: [Python Machine Learning - Second Edition](https://subscription.packtpub.com/book/big_data_and_business_intelligence/9781787125933/14/ch14lvl1sec85/tensorflow-ranks-and-tensors)\n",
        "\n",
        "Podemos definir un tensor a partir de valores específicos con la función `tensor()`. Para un escalar (tensor de orden 0) esto sería:"
      ]
    },
    {
      "cell_type": "code",
      "source": [
        "escalar = th.tensor(4.0)\n",
        "print(f'Tensor de orden 0 (escalar): {escalar}.\\nTipo: {type(escalar)}')"
      ],
      "metadata": {
        "colab": {
          "base_uri": "https://localhost:8080/"
        },
        "id": "Pn7rJ7XQ8pp7",
        "outputId": "b1032f63-64c6-4f6e-a85b-2c157ff0cbef"
      },
      "execution_count": 2,
      "outputs": [
        {
          "output_type": "stream",
          "name": "stdout",
          "text": [
            "Tensor de orden 0 (escalar): 4.0.\n",
            "Tipo: <class 'torch.Tensor'>\n"
          ]
        }
      ]
    },
    {
      "cell_type": "markdown",
      "metadata": {
        "id": "VcXNEA8nXBpb"
      },
      "source": [
        "Un vector (tensor de orden 1):"
      ]
    },
    {
      "cell_type": "code",
      "execution_count": 3,
      "metadata": {
        "id": "DaUPCRu4wRPp",
        "colab": {
          "base_uri": "https://localhost:8080/"
        },
        "outputId": "d74ef9c1-e239-4c25-f27e-8c87d7777706"
      },
      "outputs": [
        {
          "output_type": "stream",
          "name": "stdout",
          "text": [
            "Tensor de orden 1 (vector): tensor([2., 3., 4.])\n"
          ]
        }
      ],
      "source": [
        "vector = th.tensor([2.0, 3.0, 4.0])\n",
        "print(f'Tensor de orden 1 (vector): {vector}')"
      ]
    },
    {
      "cell_type": "markdown",
      "metadata": {
        "id": "jGCegByUXWFe"
      },
      "source": [
        "Una matriz (tensor de orden 2):"
      ]
    },
    {
      "cell_type": "code",
      "execution_count": 4,
      "metadata": {
        "id": "svDTVSY1weL3",
        "colab": {
          "base_uri": "https://localhost:8080/"
        },
        "outputId": "edf18a61-eff8-4677-c7d2-b6078d8a47ee"
      },
      "outputs": [
        {
          "output_type": "stream",
          "name": "stdout",
          "text": [
            "Tensor de orden 2 (matriz): tensor([[1, 2, 3],\n",
            "        [4, 5, 6]])\n"
          ]
        }
      ],
      "source": [
        "matriz = th.tensor([[1, 2, 3], [4, 5, 6]])\n",
        "print(f'Tensor de orden 2 (matriz): {matriz}')"
      ]
    },
    {
      "cell_type": "markdown",
      "metadata": {
        "id": "oEQTHXl7wQ6Z"
      },
      "source": [
        "Un tensor de orden 3:"
      ]
    },
    {
      "cell_type": "code",
      "execution_count": 5,
      "metadata": {
        "id": "G44_drzxwsyu",
        "colab": {
          "base_uri": "https://localhost:8080/"
        },
        "outputId": "ff3604be-e620-46a0-bb15-2eb7ccf916b3"
      },
      "outputs": [
        {
          "output_type": "stream",
          "name": "stdout",
          "text": [
            "Tensor de orden 3: tensor([[[ 1,  2,  3],\n",
            "         [ 4,  5,  6]],\n",
            "\n",
            "        [[ 7,  8,  9],\n",
            "         [10, 11, 12]]])\n"
          ]
        }
      ],
      "source": [
        "tensor3 = th.tensor([[[1,2,3], [4,5,6]], [[7,8,9], [10,11,12]]])\n",
        "print(f'Tensor de orden 3: {tensor3}')"
      ]
    },
    {
      "cell_type": "markdown",
      "metadata": {
        "id": "eKgbsH51Xjbl"
      },
      "source": [
        "Similar a NumPy, las instancias de `Tensor` tienen varios atributos:"
      ]
    },
    {
      "cell_type": "code",
      "execution_count": 6,
      "metadata": {
        "id": "J80SFOYKxjBi",
        "colab": {
          "base_uri": "https://localhost:8080/"
        },
        "outputId": "165764c8-9a29-48f9-ff73-be6aea58ade8"
      },
      "outputs": [
        {
          "output_type": "stream",
          "name": "stdout",
          "text": [
            "Tipo de datos: torch.int64\n",
            "Número de ejes: 3\n",
            "Forma: torch.Size([2, 2, 3])\n",
            "Forma: torch.Size([2, 2, 3])\n"
          ]
        }
      ],
      "source": [
        "print(f'Tipo de datos: {tensor3.dtype}')\n",
        "print(f'Número de ejes: {tensor3.ndim}')\n",
        "print(f'Forma: {tensor3.shape}')\n",
        "print(f'Forma: {tensor3.size()}')"
      ]
    },
    {
      "cell_type": "markdown",
      "metadata": {
        "id": "caUwujeUY4fD"
      },
      "source": [
        "PyTorch infiere el tipo de datos del tensor a partir de los valores, pero también es posible especificarlo."
      ]
    },
    {
      "cell_type": "code",
      "execution_count": 7,
      "metadata": {
        "id": "CMlzOH7TORkn",
        "colab": {
          "base_uri": "https://localhost:8080/"
        },
        "outputId": "11edd12a-4a39-4f47-b9ac-ab02021737a8"
      },
      "outputs": [
        {
          "output_type": "stream",
          "name": "stdout",
          "text": [
            "Tipo de datos por defecto: torch.int64\n",
            "Tipo de datos especificado: torch.float64\n"
          ]
        }
      ],
      "source": [
        "vi64 = th.tensor([1, 2])\n",
        "vf64 = th.tensor([1, 2], dtype=th.float64)\n",
        "print(f'Tipo de datos por defecto: {vi64.dtype}')\n",
        "print(f'Tipo de datos especificado: {vf64.dtype}')"
      ]
    },
    {
      "cell_type": "markdown",
      "metadata": {
        "id": "Vzca1zAjNaCa"
      },
      "source": [
        "Otra forma de crear un tensor es con la función `zeros()`, que recibe como argumento la forma del tensor y regresa un tensor de esa forma con todos los elementos iguales a 0."
      ]
    },
    {
      "cell_type": "code",
      "execution_count": 8,
      "metadata": {
        "id": "tOykh6v-NKyb",
        "colab": {
          "base_uri": "https://localhost:8080/"
        },
        "outputId": "3229fe8d-e53a-4eb9-ada6-3742a0843cfe"
      },
      "outputs": [
        {
          "output_type": "stream",
          "name": "stdout",
          "text": [
            "Matriz de ceros: tensor([[0., 0., 0., 0.],\n",
            "        [0., 0., 0., 0.],\n",
            "        [0., 0., 0., 0.]])\n"
          ]
        }
      ],
      "source": [
        "ceros = th.zeros((3, 4), dtype=th.float32)\n",
        "print(f'Matriz de ceros: {ceros}')"
      ]
    },
    {
      "cell_type": "markdown",
      "metadata": {
        "id": "rPJgDt-0ZQ63"
      },
      "source": [
        "Una variación de la función anterior es `zeros_like()`, la cual hace los mismo pero toma la forma a partir de tensor que se pasa como argumento."
      ]
    },
    {
      "cell_type": "code",
      "execution_count": 9,
      "metadata": {
        "id": "WfAX6AjMN8pU",
        "colab": {
          "base_uri": "https://localhost:8080/"
        },
        "outputId": "7d4201f3-6617-4d7d-81c1-73ee23a944c3"
      },
      "outputs": [
        {
          "output_type": "stream",
          "name": "stdout",
          "text": [
            "Matriz de ceros a partir de tensor: tensor([0, 0]) (torch.int64)\n"
          ]
        }
      ],
      "source": [
        "ceros_l = th.zeros_like(vi64)\n",
        "print(f'Matriz de ceros a partir de tensor: {ceros_l} ({ceros_l.dtype})')"
      ]
    },
    {
      "cell_type": "markdown",
      "metadata": {
        "id": "MaGFmGVENbca"
      },
      "source": [
        "La función `ones()` es similar a la función`zeros()` pero en lugar de poner todos los valores a 0 los pone a 1."
      ]
    },
    {
      "cell_type": "code",
      "execution_count": 10,
      "metadata": {
        "id": "oFlvaijvNosR",
        "colab": {
          "base_uri": "https://localhost:8080/"
        },
        "outputId": "c6cce441-dd69-4bbe-93a4-0d648f59eb95"
      },
      "outputs": [
        {
          "output_type": "stream",
          "name": "stdout",
          "text": [
            "Matriz de unos: tensor([[1., 1., 1., 1.],\n",
            "        [1., 1., 1., 1.],\n",
            "        [1., 1., 1., 1.]]) (torch.float32)\n"
          ]
        }
      ],
      "source": [
        "unos = th.ones((3, 4), dtype=th.float32)\n",
        "print(f'Matriz de unos: {unos} ({unos.dtype})')"
      ]
    },
    {
      "cell_type": "markdown",
      "metadata": {
        "id": "-aIy8MDQNrlC"
      },
      "source": [
        "De forma análoga, `ones_like()` es una variación de esta última función que toma la forma de otro tensor."
      ]
    },
    {
      "cell_type": "code",
      "execution_count": 11,
      "metadata": {
        "id": "DIEwALoUNq_i",
        "colab": {
          "base_uri": "https://localhost:8080/"
        },
        "outputId": "58c3c437-ef51-4a02-d3fc-dfb10c9befb2"
      },
      "outputs": [
        {
          "output_type": "stream",
          "name": "stdout",
          "text": [
            "Matriz de unos a partir de tensor: tensor([1, 1]) (torch.int64)\n"
          ]
        }
      ],
      "source": [
        "unos_l = th.ones_like(vi64)\n",
        "print(f'Matriz de unos a partir de tensor: {unos_l} ({unos_l.dtype})')"
      ]
    },
    {
      "cell_type": "markdown",
      "metadata": {
        "id": "iTOmRb5TaNjb"
      },
      "source": [
        "PyTorch también permite crear tensores con valores muestreados de varias. Por ej. uniforme en un rango $[0,1)$ usando la función `rand`:"
      ]
    },
    {
      "cell_type": "code",
      "execution_count": 12,
      "metadata": {
        "id": "GTh0qcxONt1s",
        "colab": {
          "base_uri": "https://localhost:8080/"
        },
        "outputId": "385be0c3-0880-49b7-e114-b148bd62cc4e"
      },
      "outputs": [
        {
          "output_type": "stream",
          "name": "stdout",
          "text": [
            "Matriz con elementos muestreados uniformemente de [0,1): tensor([[0.2736, 0.7526, 0.5672],\n",
            "        [0.1352, 0.8917, 0.3880],\n",
            "        [0.0560, 0.5856, 0.1787],\n",
            "        [0.6929, 0.5183, 0.8864]])\n"
          ]
        }
      ],
      "source": [
        "unif_ten = th.rand((4, 3))\n",
        "print(f'Matriz con elementos muestreados uniformemente de [0,1): {unif_ten}')"
      ]
    },
    {
      "cell_type": "markdown",
      "source": [
        "Usando los tensores generados por `rand` (y `rand_like`) es posible generar tensores con valores muestreados de una uniforme en un rango $[a, b)$ de la siguiente manera:"
      ],
      "metadata": {
        "id": "8xZMU1mF8Wpa"
      }
    },
    {
      "cell_type": "code",
      "source": [
        "a = -5\n",
        "b = 3\n",
        "unifab_ten = th.rand((4,3)) * (b - a) + a\n",
        "print(f'Matriz con elementos muestreados uniformemente de [-5,3): {unifab_ten}')"
      ],
      "metadata": {
        "id": "oM05jt669LQ5",
        "colab": {
          "base_uri": "https://localhost:8080/"
        },
        "outputId": "7f1d05df-407e-4dda-cccd-7e6457a7698b"
      },
      "execution_count": 13,
      "outputs": [
        {
          "output_type": "stream",
          "name": "stdout",
          "text": [
            "Matriz con elementos muestreados uniformemente de [-5,3): tensor([[ 0.2047, -0.6670,  0.6481],\n",
            "        [ 1.8906, -2.5862,  0.8612],\n",
            "        [ 0.8763, -4.1344,  1.5998],\n",
            "        [-1.6724, -0.2520,  1.5169]])\n"
          ]
        }
      ]
    },
    {
      "cell_type": "markdown",
      "source": [
        "Alternativamente, podemos instanciar una clase `Tensor` pasando el tamaño como argumento al constructor y llamando al método `uniform_`"
      ],
      "metadata": {
        "id": "q-siPcwd7J6q"
      }
    },
    {
      "cell_type": "code",
      "execution_count": 14,
      "metadata": {
        "id": "D4YsYXjpUHVs",
        "colab": {
          "base_uri": "https://localhost:8080/"
        },
        "outputId": "eeece377-f06e-42e1-b40f-a71a03b9e624"
      },
      "outputs": [
        {
          "output_type": "execute_result",
          "data": {
            "text/plain": [
              "tensor([[-3.8975, -1.9672,  1.0559],\n",
              "        [-3.8677, -4.4295,  1.1168],\n",
              "        [ 0.0207, -3.2444, -2.2230],\n",
              "        [ 1.0820, -2.2758,  2.2440]])"
            ]
          },
          "metadata": {},
          "execution_count": 14
        }
      ],
      "source": [
        "th.Tensor(4,3).uniform_(-5, 3)"
      ]
    },
    {
      "cell_type": "markdown",
      "source": [
        "Para valores enteros muestreados uniformemente tenemos la función `randint` (y `randint_like`)."
      ],
      "metadata": {
        "id": "P79PTNY1LBQw"
      }
    },
    {
      "cell_type": "code",
      "source": [
        "unifint_ten = th.randint(low=-5, high=3, size=(4, 3))\n",
        "print(f'Matriz con enteros muestreados uniformemente de [-5,3): {unifint_ten}')"
      ],
      "metadata": {
        "id": "RoEvSMZuLhiQ",
        "colab": {
          "base_uri": "https://localhost:8080/"
        },
        "outputId": "10ff58cf-afbf-46f6-bf2a-1441d276d0da"
      },
      "execution_count": 15,
      "outputs": [
        {
          "output_type": "stream",
          "name": "stdout",
          "text": [
            "Matriz con enteros muestreados uniformemente de [-5,3): tensor([[-1, -3, -5],\n",
            "        [-2, -3, -3],\n",
            "        [ 1, -2,  0],\n",
            "        [ 1, -5, -1]])\n"
          ]
        }
      ]
    },
    {
      "cell_type": "markdown",
      "metadata": {
        "id": "SqAkpbZ6aYsC"
      },
      "source": [
        "De forma similar, la función `randn` genera tensores con valores muestreados de una normal con media 0 y desviación estándar 1."
      ]
    },
    {
      "cell_type": "code",
      "source": [
        "randn_ten = th.randn(size=(4,3))\n",
        "print(f'Matriz con elementos muestreados de normal estándar: {randn_ten}')"
      ],
      "metadata": {
        "id": "VN7ZTsORCh1Y",
        "colab": {
          "base_uri": "https://localhost:8080/"
        },
        "outputId": "e8c939c2-39d7-4f5b-9575-72a147be3b7f"
      },
      "execution_count": 16,
      "outputs": [
        {
          "output_type": "stream",
          "name": "stdout",
          "text": [
            "Matriz con elementos muestreados de normal estándar: tensor([[-1.2943, -0.9628, -0.7408],\n",
            "        [ 0.2388, -0.2310, -0.5919],\n",
            "        [-0.7196,  0.9567,  0.7127],\n",
            "        [ 0.6879,  1.0409, -0.4238]])\n"
          ]
        }
      ]
    },
    {
      "cell_type": "markdown",
      "source": [
        "Con los tensores generados por `randn` podemos generar tensores cuyos valores sean muestreados de una normal con distinta media y desviación estándar de la siguiente manera:"
      ],
      "metadata": {
        "id": "hFD7_q0bCnXA"
      }
    },
    {
      "cell_type": "code",
      "source": [
        "mu = -5\n",
        "std = 10\n",
        "\n",
        "randnms_ten = th.randn(size=(4,3)) * std + mu\n",
        "print(f'Matriz con elementos muestreados de normal (mu = -5, std = 10): {randnms_ten}')"
      ],
      "metadata": {
        "id": "Hg1T6P2kC5tw",
        "colab": {
          "base_uri": "https://localhost:8080/"
        },
        "outputId": "fba3f90a-8657-46e6-b344-a98d9b60e3b8"
      },
      "execution_count": 17,
      "outputs": [
        {
          "output_type": "stream",
          "name": "stdout",
          "text": [
            "Matriz con elementos muestreados de normal (mu = -5, std = 10): tensor([[-13.0450,  -9.0038, -12.8066],\n",
            "        [-12.2525,  -0.3946,   5.1409],\n",
            "        [-24.6648,  -0.2807, -15.5695],\n",
            "        [-15.0479, -13.4326, -10.5041]])\n"
          ]
        }
      ]
    },
    {
      "cell_type": "markdown",
      "source": [
        "También podemos generar tensores con valores muestreados de una normal con media y desviación estándar arbitraria usando la función `normal`."
      ],
      "metadata": {
        "id": "WAZUO2pwKm4Z"
      }
    },
    {
      "cell_type": "code",
      "execution_count": 18,
      "metadata": {
        "id": "7VTO2s-ROfCF",
        "colab": {
          "base_uri": "https://localhost:8080/"
        },
        "outputId": "4fa66ccc-9b2d-4ef2-f9c8-2f0a01eaeae9"
      },
      "outputs": [
        {
          "output_type": "stream",
          "name": "stdout",
          "text": [
            "Matriz con elementos muestreados de normal (mu = -5, std = 10): tensor([[  1.5817, -17.4860,   3.6167],\n",
            "        [-22.4955,   0.2625,  -4.1734],\n",
            "        [ -0.3315,  14.2341,  -2.0750],\n",
            "        [ -6.3002,  -9.2448,  -7.4810]])\n"
          ]
        }
      ],
      "source": [
        "norm_ten = th.normal(size=(4,3), mean=-5, std=10)\n",
        "print(f'Matriz con elementos muestreados de normal (mu = -5, std = 10): {norm_ten}')"
      ]
    },
    {
      "cell_type": "markdown",
      "metadata": {
        "id": "wvZHTKkraetk"
      },
      "source": [
        "Si deseamos generar tensores muestreados de una distribución multinomial podemos usar la función `multinomial`, a la cual deben especificarse las probabilidades de cada clase como un tensor de orden 1 y el número de muestras."
      ]
    },
    {
      "cell_type": "code",
      "execution_count": 19,
      "metadata": {
        "id": "sEpjZ-4WPz6g",
        "colab": {
          "base_uri": "https://localhost:8080/"
        },
        "outputId": "85a192ac-ec4c-4f96-e8af-4f6ead136785"
      },
      "outputs": [
        {
          "output_type": "stream",
          "name": "stdout",
          "text": [
            "Matriz con enteros muestreados de una multinomial: tensor([1, 0, 1, 0, 1, 1, 1, 1, 0, 2, 1, 0, 1, 1, 1, 1, 2, 1, 1, 0, 2, 0, 0, 1,\n",
            "        1, 1, 1, 2, 2, 2, 1, 2, 1, 1, 1, 2, 0, 0, 0, 0, 2, 2, 1, 2, 1, 2, 1, 0,\n",
            "        1, 1, 1, 1, 1, 1, 2, 2, 1, 0, 1, 1, 0, 1, 1, 2, 0, 0, 1, 1, 1, 1, 0, 1,\n",
            "        1, 1, 1, 2, 1, 2, 1, 2, 2, 0, 1, 1, 2, 1, 0, 1, 1, 2, 1, 1, 1, 1, 1, 1,\n",
            "        1, 0, 0, 1])\n"
          ]
        }
      ],
      "source": [
        "cat_ten = th.multinomial(th.tensor([0.2, 0.6, 0.2]), num_samples=100, replacement=True)\n",
        "print(f'Matriz con enteros muestreados de una multinomial: {cat_ten}')"
      ]
    },
    {
      "cell_type": "markdown",
      "metadata": {
        "id": "GTJuENPReN-W"
      },
      "source": [
        "El número de clases depende del tamaño del tensor y el argumento `replacemente` define si las muestras son con o sin reemplazo (en este último caso el número de muestras debe ser menor o igual al número de clases).\n",
        "\n",
        "Por otra parte, la función `arange()` genera una secuencia de números (como el `range()` de Python):"
      ]
    },
    {
      "cell_type": "code",
      "execution_count": 20,
      "metadata": {
        "id": "Dyu8MeR0O39J",
        "colab": {
          "base_uri": "https://localhost:8080/"
        },
        "outputId": "82802f0a-1150-430b-b720-d8ee8846989c"
      },
      "outputs": [
        {
          "output_type": "stream",
          "name": "stdout",
          "text": [
            "Arreglo de elementos en el rango [-3,3): tensor([1, 0, 1, 0, 1, 1, 1, 1, 0, 2, 1, 0, 1, 1, 1, 1, 2, 1, 1, 0, 2, 0, 0, 1,\n",
            "        1, 1, 1, 2, 2, 2, 1, 2, 1, 1, 1, 2, 0, 0, 0, 0, 2, 2, 1, 2, 1, 2, 1, 0,\n",
            "        1, 1, 1, 1, 1, 1, 2, 2, 1, 0, 1, 1, 0, 1, 1, 2, 0, 0, 1, 1, 1, 1, 0, 1,\n",
            "        1, 1, 1, 2, 1, 2, 1, 2, 2, 0, 1, 1, 2, 1, 0, 1, 1, 2, 1, 1, 1, 1, 1, 1,\n",
            "        1, 0, 0, 1])\n"
          ]
        }
      ],
      "source": [
        "rango_ten1 = th.arange(start=-3, end=3, step=0.5)\n",
        "print(f'Arreglo de elementos en el rango [-3,3): {cat_ten}')"
      ]
    },
    {
      "cell_type": "markdown",
      "metadata": {
        "id": "hdK4Xtr9ahpN"
      },
      "source": [
        "De manera similar, la función `linspace()` genera tensores con valores con el mismo espaciados en un intervalo.\n",
        "\n"
      ]
    },
    {
      "cell_type": "code",
      "execution_count": 21,
      "metadata": {
        "id": "mH5VjSodOrTk",
        "colab": {
          "base_uri": "https://localhost:8080/"
        },
        "outputId": "1d884d24-1027-4b6f-d210-07d168977ed1"
      },
      "outputs": [
        {
          "output_type": "stream",
          "name": "stdout",
          "text": [
            "Arreglo de elementos en el rango [-3,3]: tensor([1, 0, 1, 0, 1, 1, 1, 1, 0, 2, 1, 0, 1, 1, 1, 1, 2, 1, 1, 0, 2, 0, 0, 1,\n",
            "        1, 1, 1, 2, 2, 2, 1, 2, 1, 1, 1, 2, 0, 0, 0, 0, 2, 2, 1, 2, 1, 2, 1, 0,\n",
            "        1, 1, 1, 1, 1, 1, 2, 2, 1, 0, 1, 1, 0, 1, 1, 2, 0, 0, 1, 1, 1, 1, 0, 1,\n",
            "        1, 1, 1, 2, 1, 2, 1, 2, 2, 0, 1, 1, 2, 1, 0, 1, 1, 2, 1, 1, 1, 1, 1, 1,\n",
            "        1, 0, 0, 1])\n"
          ]
        }
      ],
      "source": [
        "ls_ten = th.linspace(start=-3, end=3, steps=10)\n",
        "print(f'Arreglo de elementos en el rango [-3,3]: {cat_ten}')"
      ]
    },
    {
      "cell_type": "markdown",
      "metadata": {
        "id": "-o1DfBLZ2Hu2"
      },
      "source": [
        "## Tipos\n",
        "Los elementos de los tensores pueden ser de distintos tipos básicos y precisiones. Por ej. flotantes de 16 bits (`float16`) o enteros sin signo de 8 bits (`uint8`)."
      ]
    },
    {
      "cell_type": "code",
      "execution_count": 22,
      "metadata": {
        "id": "hZNO_ujB2KQA",
        "colab": {
          "base_uri": "https://localhost:8080/"
        },
        "outputId": "637597f4-15a4-4ce1-de69-dbb06ef813f4"
      },
      "outputs": [
        {
          "output_type": "stream",
          "name": "stdout",
          "text": [
            "Tipo flotante de 64: torch.float64\n",
            "Tipo entero de 32: torch.int32\n"
          ]
        }
      ],
      "source": [
        "ten_f64 = th.arange(start=-3, end=3, step=0.5, dtype=th.float64)\n",
        "ten_i32 = th.arange(start=-3, end=3, step=1, dtype=th.int32)\n",
        "print(f'Tipo flotante de 64: {ten_f64.dtype}')\n",
        "print(f'Tipo entero de 32: {ten_i32.dtype}')"
      ]
    },
    {
      "cell_type": "markdown",
      "metadata": {
        "id": "QqixPcFTfwp6"
      },
      "source": [
        "También se pueden convertir de tipos con el método `type()`:"
      ]
    },
    {
      "cell_type": "code",
      "source": [
        "print(f'Conversión de flotante de 64 a 32: {ten_f64.dtype}')\n",
        "print(f'Conversión de entero de 32 a 64: {ten_i32.dtype}')"
      ],
      "metadata": {
        "id": "WJUQaRmYnM1x",
        "colab": {
          "base_uri": "https://localhost:8080/"
        },
        "outputId": "8c1fb689-63d9-4222-8803-24f984df7676"
      },
      "execution_count": 23,
      "outputs": [
        {
          "output_type": "stream",
          "name": "stdout",
          "text": [
            "Conversión de flotante de 64 a 32: torch.float64\n",
            "Conversión de entero de 32 a 64: torch.int32\n"
          ]
        }
      ]
    },
    {
      "cell_type": "markdown",
      "metadata": {
        "id": "1Y1_GJO5x4je"
      },
      "source": [
        "## Índices\n",
        "Los índices de los tensores siguen reglas similares a los arreglos de NumPy y las listas de Python."
      ]
    },
    {
      "cell_type": "code",
      "execution_count": 24,
      "metadata": {
        "id": "sF_J6T9wx7n_",
        "colab": {
          "base_uri": "https://localhost:8080/"
        },
        "outputId": "95dfdcc8-9fa2-469b-d879-45d8e9cd9342"
      },
      "outputs": [
        {
          "output_type": "stream",
          "name": "stdout",
          "text": [
            "tensor([[-10.0000,  -9.3548,  -8.7097,  -8.0645],\n",
            "        [ -7.4194,  -6.7742,  -6.1290,  -5.4839],\n",
            "        [ -4.8387,  -4.1935,  -3.5484,  -2.9032],\n",
            "        [ -2.2581,  -1.6129,  -0.9677,  -0.3226],\n",
            "        [  0.3226,   0.9677,   1.6129,   2.2581],\n",
            "        [  2.9032,   3.5484,   4.1935,   4.8387],\n",
            "        [  5.4839,   6.1290,   6.7742,   7.4194],\n",
            "        [  8.0645,   8.7097,   9.3548,  10.0000]])\n",
            "Primer renglón: [-10.        -9.354838  -8.709678  -8.064516]\n",
            "Tercer renglón: [-4.83871   -4.1935487 -3.5483873 -2.903226 ]\n",
            "Último renglón: [ 8.064516  8.709678  9.354838 10.      ]\n",
            "Primer columna: [-10.          -7.419355    -4.83871     -2.2580647    0.32258093\n",
            "   2.903226     5.483871     8.064516  ]\n",
            "Última columna: [-8.064516   -5.483871   -2.903226   -0.32258093  2.2580647   4.83871\n",
            "  7.419355   10.        ]\n"
          ]
        }
      ],
      "source": [
        "ten_ind = th.reshape(th.linspace(start=-10, end=10, steps = 32), [8, 4])\n",
        "print(ten_ind)\n",
        "print(f\"Primer renglón: {ten_ind[0].numpy()}\")\n",
        "print(f\"Tercer renglón: {ten_ind[2].numpy()}\")\n",
        "print(f\"Último renglón: {ten_ind[-1].numpy()}\")\n",
        "\n",
        "print(f\"Primer columna: {ten_ind[:, 0].numpy()}\")\n",
        "print(f\"Última columna: {ten_ind[:, -1].numpy()}\")"
      ]
    },
    {
      "cell_type": "markdown",
      "metadata": {
        "id": "lIo3Mljii7-X"
      },
      "source": [
        "También se pueden realizar _slices_:"
      ]
    },
    {
      "cell_type": "code",
      "execution_count": 25,
      "metadata": {
        "id": "OViKduOayDEr",
        "colab": {
          "base_uri": "https://localhost:8080/"
        },
        "outputId": "d96f3b81-1119-43e3-89f7-bbcd5a6943b4"
      },
      "outputs": [
        {
          "output_type": "stream",
          "name": "stdout",
          "text": [
            "Todos los renglones: [[-10.          -9.354838    -8.709678    -8.064516  ]\n",
            " [ -7.419355    -6.774194    -6.129032    -5.483871  ]\n",
            " [ -4.83871     -4.1935487   -3.5483873   -2.903226  ]\n",
            " [ -2.2580647   -1.6129035   -0.9677422   -0.32258093]\n",
            " [  0.32258093   0.9677422    1.6129035    2.2580647 ]\n",
            " [  2.903226     3.5483873    4.1935487    4.83871   ]\n",
            " [  5.483871     6.129032     6.774194     7.419355  ]\n",
            " [  8.064516     8.709678     9.354838    10.        ]]\n",
            "Renglones antes del 6: [[-10.          -9.354838    -8.709678    -8.064516  ]\n",
            " [ -7.419355    -6.774194    -6.129032    -5.483871  ]\n",
            " [ -4.83871     -4.1935487   -3.5483873   -2.903226  ]\n",
            " [ -2.2580647   -1.6129035   -0.9677422   -0.32258093]\n",
            " [  0.32258093   0.9677422    1.6129035    2.2580647 ]\n",
            " [  2.903226     3.5483873    4.1935487    4.83871   ]]\n",
            "Renglones del 4 al final [[ 0.32258093  0.9677422   1.6129035   2.2580647 ]\n",
            " [ 2.903226    3.5483873   4.1935487   4.83871   ]\n",
            " [ 5.483871    6.129032    6.774194    7.419355  ]\n",
            " [ 8.064516    8.709678    9.354838   10.        ]]\n",
            "Renglones del 3 al 5 [[-2.2580647  -1.6129035  -0.9677422  -0.32258093]\n",
            " [ 0.32258093  0.9677422   1.6129035   2.2580647 ]\n",
            " [ 2.903226    3.5483873   4.1935487   4.83871   ]]\n",
            "Cada dos renglones: [[-10.          -9.354838    -8.709678    -8.064516  ]\n",
            " [ -4.83871     -4.1935487   -3.5483873   -2.903226  ]\n",
            " [  0.32258093   0.9677422    1.6129035    2.2580647 ]\n",
            " [  5.483871     6.129032     6.774194     7.419355  ]]\n"
          ]
        }
      ],
      "source": [
        "print(\"Todos los renglones:\", ten_ind[:].numpy())\n",
        "print(\"Renglones antes del 6:\", ten_ind[:6].numpy())\n",
        "print(\"Renglones del 4 al final\", ten_ind[4:].numpy())\n",
        "print(\"Renglones del 3 al 5\", ten_ind[3:6].numpy())\n",
        "print(\"Cada dos renglones:\", ten_ind[::2].numpy())"
      ]
    },
    {
      "cell_type": "markdown",
      "source": [
        "Un error relativamente comun es:\n",
        "\n",
        "A diferencia de los arreglos de NumPy, en las instancias de `Tensor` no es posible que el paso de los índices sea negativo."
      ],
      "metadata": {
        "id": "LeRdZJ-tSQai"
      }
    },
    {
      "cell_type": "code",
      "source": [
        "# NumPy\n",
        "nparr = np.arange(start=0, stop=10, step=1)\n",
        "print(nparr[::-1])\n",
        "\n",
        "# PyTorch\n",
        "tharr = th.arange(start=0, end=10, step=1)\n",
        "# produce un error con tharr[::-1]"
      ],
      "metadata": {
        "id": "R1Hn88b5SgGv",
        "colab": {
          "base_uri": "https://localhost:8080/"
        },
        "outputId": "dd0afd13-2e57-41bc-809b-d9200058bf67"
      },
      "execution_count": 26,
      "outputs": [
        {
          "output_type": "stream",
          "name": "stdout",
          "text": [
            "[9 8 7 6 5 4 3 2 1 0]\n"
          ]
        }
      ]
    },
    {
      "cell_type": "markdown",
      "metadata": {
        "id": "3dN_Fn8rnUb-"
      },
      "source": [
        "Ademas, podemos iterar sobre los elementos de un tensor:"
      ]
    },
    {
      "cell_type": "code",
      "execution_count": 27,
      "metadata": {
        "id": "bVkmSrO-0esx",
        "colab": {
          "base_uri": "https://localhost:8080/"
        },
        "outputId": "4a800946-f23b-4c78-96e0-73295a8db33f"
      },
      "outputs": [
        {
          "output_type": "stream",
          "name": "stdout",
          "text": [
            "tensor([-10.0000,  -9.3548,  -8.7097,  -8.0645])\n",
            "tensor([-7.4194, -6.7742, -6.1290, -5.4839])\n",
            "tensor([-4.8387, -4.1935, -3.5484, -2.9032])\n",
            "tensor([-2.2581, -1.6129, -0.9677, -0.3226])\n",
            "tensor([0.3226, 0.9677, 1.6129, 2.2581])\n",
            "tensor([2.9032, 3.5484, 4.1935, 4.8387])\n",
            "tensor([5.4839, 6.1290, 6.7742, 7.4194])\n",
            "tensor([ 8.0645,  8.7097,  9.3548, 10.0000])\n",
            "tensor(-10.)\n",
            "tensor(-9.3548)\n",
            "tensor(-8.7097)\n",
            "tensor(-8.0645)\n",
            "tensor(-7.4194)\n",
            "tensor(-6.7742)\n",
            "tensor(-6.1290)\n",
            "tensor(-5.4839)\n",
            "tensor(-4.8387)\n",
            "tensor(-4.1935)\n",
            "tensor(-3.5484)\n",
            "tensor(-2.9032)\n",
            "tensor(-2.2581)\n",
            "tensor(-1.6129)\n",
            "tensor(-0.9677)\n",
            "tensor(-0.3226)\n",
            "tensor(0.3226)\n",
            "tensor(0.9677)\n",
            "tensor(1.6129)\n",
            "tensor(2.2581)\n",
            "tensor(2.9032)\n",
            "tensor(3.5484)\n",
            "tensor(4.1935)\n",
            "tensor(4.8387)\n",
            "tensor(5.4839)\n",
            "tensor(6.1290)\n",
            "tensor(6.7742)\n",
            "tensor(7.4194)\n",
            "tensor(8.0645)\n",
            "tensor(8.7097)\n",
            "tensor(9.3548)\n",
            "tensor(10.)\n"
          ]
        }
      ],
      "source": [
        "for x in ten_ind:\n",
        "  print(x)\n",
        "\n",
        "for x in ten_ind:\n",
        "  for i in x:\n",
        "    print(i)"
      ]
    },
    {
      "cell_type": "markdown",
      "metadata": {
        "id": "9Oq47vJ8W_PD"
      },
      "source": [
        "## Formas\n",
        "La forma de los tensores pueden cambiar, siempre y cuando se mantenga el mismo número de elementos totales:\n",
        "\n",
        "![](https://www.tensorflow.org/guide/images/tensor/reshape-before.png)\n",
        "![](https://www.tensorflow.org/guide/images/tensor/reshape-good1.png)\n",
        "![](https://www.tensorflow.org/guide/images/tensor/reshape-good2.png)\n",
        "\n",
        "Fuente: Tutorial [_Introduction to Tensors_](https://www.tensorflow.org/guide/tensor) de Tensorflow"
      ]
    },
    {
      "cell_type": "code",
      "execution_count": 28,
      "metadata": {
        "id": "UxeWDifW1wKL",
        "colab": {
          "base_uri": "https://localhost:8080/"
        },
        "outputId": "30a8e25d-0dba-42ea-e8ae-d5aff2cba5f4"
      },
      "outputs": [
        {
          "output_type": "stream",
          "name": "stdout",
          "text": [
            "Forma de tensor original: torch.Size([30])\n"
          ]
        }
      ],
      "source": [
        "x_orig = th.arange(30)\n",
        "print(f'Forma de tensor original: {x_orig.shape}')"
      ]
    },
    {
      "cell_type": "markdown",
      "metadata": {
        "id": "z2k4OOvmoc3z"
      },
      "source": [
        "Nota que es necesario asegurarse de que, al cambiar la forma, el número total de elementos sea el mismo. Por ej. si tenemos 30 elementos, solo podemos cambiar a formas en las que el producto de todas las dimensiones sea igual a 30 ($5 \\times 6$, $6 \\times 5$, $3 \\times 10$, $10 \\times 3$, $1 \\times 30$, $30 \\times 1$, $1 \\times 1 \\times 30$, $5 \\times 1 \\times 6$, etc.).\n",
        "\n",
        "Para cambiar la forma de este vector usamos la función (o el método) `reshape()`."
      ]
    },
    {
      "cell_type": "code",
      "execution_count": 29,
      "metadata": {
        "id": "5ZXc9czlo_cF"
      },
      "outputs": [],
      "source": [
        "x_forma2 = th.reshape(x_orig, [3, 2, 5]) # de forma equivalente x_orig.reshape([3, 2, 5])\n",
        "x_forma3 = th.reshape(x_orig, [3, 10]) # x_orig.reshape([3, 10])\n",
        "x_forma4 = th.reshape(x_orig, [6, 5]) # x_orig.reshape([6, 5])\n",
        "x_forma5 = th.reshape(x_orig, [2, 3, 5]) # x_orig.reshape([2, 3, 5])\n",
        "x_forma6 = th.reshape(x_orig, [5, 3, 2]) # x_orig.reshape([5, 3, 2])"
      ]
    },
    {
      "cell_type": "markdown",
      "metadata": {
        "id": "iOdNCtT-pD9I"
      },
      "source": [
        "Examinemos sus formas:"
      ]
    },
    {
      "cell_type": "code",
      "execution_count": 30,
      "metadata": {
        "id": "Tc9e27sb1z23",
        "colab": {
          "base_uri": "https://localhost:8080/"
        },
        "outputId": "e48a261d-f8b0-450c-feda-08abec2c4f05"
      },
      "outputs": [
        {
          "output_type": "stream",
          "name": "stdout",
          "text": [
            "torch.Size([30])\n",
            "torch.Size([3, 2, 5])\n",
            "torch.Size([3, 10])\n",
            "torch.Size([6, 5])\n",
            "torch.Size([2, 3, 5])\n",
            "torch.Size([5, 3, 2])\n"
          ]
        }
      ],
      "source": [
        "print(x_orig.shape)\n",
        "print(x_forma2.shape)\n",
        "print(x_forma3.shape)\n",
        "print(x_forma4.shape)\n",
        "print(x_forma5.shape)\n",
        "print(x_forma6.shape)"
      ]
    },
    {
      "cell_type": "code",
      "source": [
        "x_orig, x_forma3"
      ],
      "metadata": {
        "colab": {
          "base_uri": "https://localhost:8080/"
        },
        "id": "etpugVXg7quB",
        "outputId": "c1c23280-8a78-4ad0-cac7-cf6be5c87516"
      },
      "execution_count": 31,
      "outputs": [
        {
          "output_type": "execute_result",
          "data": {
            "text/plain": [
              "(tensor([ 0,  1,  2,  3,  4,  5,  6,  7,  8,  9, 10, 11, 12, 13, 14, 15, 16, 17,\n",
              "         18, 19, 20, 21, 22, 23, 24, 25, 26, 27, 28, 29]),\n",
              " tensor([[ 0,  1,  2,  3,  4,  5,  6,  7,  8,  9],\n",
              "         [10, 11, 12, 13, 14, 15, 16, 17, 18, 19],\n",
              "         [20, 21, 22, 23, 24, 25, 26, 27, 28, 29]]))"
            ]
          },
          "metadata": {},
          "execution_count": 31
        }
      ]
    },
    {
      "cell_type": "markdown",
      "metadata": {
        "id": "K-jHZhFfVwBR"
      },
      "source": [
        "Si solo requerimos agregar una dimensión, además de la función `reshape` podemos usar `unsqueeze`, la cual toma como argumento un tensor y un eje y regresa un tensor con los mismos elementos pero con una dimensión agregada."
      ]
    },
    {
      "cell_type": "code",
      "execution_count": 32,
      "metadata": {
        "id": "19l2v-l6V3B6",
        "colab": {
          "base_uri": "https://localhost:8080/"
        },
        "outputId": "33b1870c-baff-43e7-c37b-1940799646eb"
      },
      "outputs": [
        {
          "output_type": "stream",
          "name": "stdout",
          "text": [
            "Tensor de : torch.Size([3, 10])\n",
            "Eje 0: torch.Size([1, 3, 10])\n",
            "Eje 1: torch.Size([3, 1, 10])\n",
            "Eje 2: torch.Size([3, 10, 1])\n"
          ]
        }
      ],
      "source": [
        "print(f'Tensor de : {x_forma3.shape}')\n",
        "print(f'Eje 0: {th.unsqueeze(x_forma3, axis=0).shape}')\n",
        "print(f'Eje 1: {th.unsqueeze(x_forma3, axis=1).shape}')\n",
        "print(f'Eje 2: {th.unsqueeze(x_forma3, axis=2).shape}')"
      ]
    },
    {
      "cell_type": "markdown",
      "metadata": {
        "id": "ItaRsiVsaM0p"
      },
      "source": [
        "Para quitar dimensiones de tamaño 1 se puede utilizar la función `squeeze`."
      ]
    },
    {
      "cell_type": "code",
      "execution_count": 33,
      "metadata": {
        "id": "fdGVTF0SbK8y",
        "colab": {
          "base_uri": "https://localhost:8080/"
        },
        "outputId": "d1dcf4ef-2159-4c3b-b058-e942d106b95e"
      },
      "outputs": [
        {
          "output_type": "stream",
          "name": "stdout",
          "text": [
            "Tensor de 4: torch.Size([1, 3, 10, 1])\n",
            "Aplicando squeeze: torch.Size([3, 10])\n",
            "Aplicando squeeze sobre eje 1: torch.Size([3, 10, 1])\n"
          ]
        }
      ],
      "source": [
        "x_exp4 = th.unsqueeze(x_forma3, axis=2)\n",
        "x_exp4 = th.unsqueeze(x_exp4, axis=0)\n",
        "print(f'Tensor de 4: {x_exp4.shape}')\n",
        "print(f'Aplicando squeeze: {th.squeeze(x_exp4).shape}')\n",
        "print(f'Aplicando squeeze sobre eje 1: {th.squeeze(x_exp4, axis=0).shape}')"
      ]
    },
    {
      "cell_type": "markdown",
      "metadata": {
        "id": "TpEVU2UGclWK"
      },
      "source": [
        "También podemos dividir un tensor de orden $k$ en múltiples tensores de orden $k$ con la función `split`."
      ]
    },
    {
      "cell_type": "code",
      "execution_count": 34,
      "metadata": {
        "id": "qQUA6ymPdcLV",
        "colab": {
          "base_uri": "https://localhost:8080/"
        },
        "outputId": "a4d4f7f5-58ae-4a0b-eb54-50f0d2cfef87"
      },
      "outputs": [
        {
          "output_type": "stream",
          "name": "stdout",
          "text": [
            "Tensor de 3: torch.Size([3, 2, 5])\n",
            "División en 3 sobre eje 0: (tensor([[[ 0,  1,  2,  3,  4],\n",
            "         [ 5,  6,  7,  8,  9]],\n",
            "\n",
            "        [[10, 11, 12, 13, 14],\n",
            "         [15, 16, 17, 18, 19]],\n",
            "\n",
            "        [[20, 21, 22, 23, 24],\n",
            "         [25, 26, 27, 28, 29]]]),)\n",
            "División en 2 sobre eje 1: (tensor([[[ 0,  1,  2,  3,  4],\n",
            "         [ 5,  6,  7,  8,  9]],\n",
            "\n",
            "        [[10, 11, 12, 13, 14],\n",
            "         [15, 16, 17, 18, 19]],\n",
            "\n",
            "        [[20, 21, 22, 23, 24],\n",
            "         [25, 26, 27, 28, 29]]]),)\n",
            "División en 3 sobre eje 2: (tensor([[[ 0,  1],\n",
            "         [ 5,  6]],\n",
            "\n",
            "        [[10, 11],\n",
            "         [15, 16]],\n",
            "\n",
            "        [[20, 21],\n",
            "         [25, 26]]]), tensor([[[ 2,  3],\n",
            "         [ 7,  8]],\n",
            "\n",
            "        [[12, 13],\n",
            "         [17, 18]],\n",
            "\n",
            "        [[22, 23],\n",
            "         [27, 28]]]), tensor([[[ 4],\n",
            "         [ 9]],\n",
            "\n",
            "        [[14],\n",
            "         [19]],\n",
            "\n",
            "        [[24],\n",
            "         [29]]]))\n"
          ]
        }
      ],
      "source": [
        "print(f'Tensor de 3: {x_forma2.shape}')\n",
        "print(f'División en 3 sobre eje 0: {th.split(x_forma2, split_size_or_sections=3, dim=0)}')\n",
        "print(f'División en 2 sobre eje 1: {th.split(x_forma2, split_size_or_sections=2, dim=1)}')\n",
        "print(f'División en 3 sobre eje 2: {th.split(x_forma2, split_size_or_sections=[2, 2, 1], dim=2)}')"
      ]
    },
    {
      "cell_type": "markdown",
      "source": [
        "Cuando redimensionamos con `reshape` o asignamos un tensor a otro, no se está creando una copia del tensor original en memoria, sino que solo se modifica la cabecera."
      ],
      "metadata": {
        "id": "U5enEpZS1-Ip"
      }
    },
    {
      "cell_type": "code",
      "source": [
        "x_orig_igual = x_orig\n",
        "x_orig[0] = -1\n",
        "x_orig, x_orig_igual, x_forma2"
      ],
      "metadata": {
        "colab": {
          "base_uri": "https://localhost:8080/"
        },
        "id": "MeKsuMyd2cWv",
        "outputId": "d71db40d-7596-4c28-e5a7-ff96d456b77f"
      },
      "execution_count": 35,
      "outputs": [
        {
          "output_type": "execute_result",
          "data": {
            "text/plain": [
              "(tensor([-1,  1,  2,  3,  4,  5,  6,  7,  8,  9, 10, 11, 12, 13, 14, 15, 16, 17,\n",
              "         18, 19, 20, 21, 22, 23, 24, 25, 26, 27, 28, 29]),\n",
              " tensor([-1,  1,  2,  3,  4,  5,  6,  7,  8,  9, 10, 11, 12, 13, 14, 15, 16, 17,\n",
              "         18, 19, 20, 21, 22, 23, 24, 25, 26, 27, 28, 29]),\n",
              " tensor([[[-1,  1,  2,  3,  4],\n",
              "          [ 5,  6,  7,  8,  9]],\n",
              " \n",
              "         [[10, 11, 12, 13, 14],\n",
              "          [15, 16, 17, 18, 19]],\n",
              " \n",
              "         [[20, 21, 22, 23, 24],\n",
              "          [25, 26, 27, 28, 29]]]))"
            ]
          },
          "metadata": {},
          "execution_count": 35
        }
      ]
    },
    {
      "cell_type": "markdown",
      "source": [
        "Para crear una copia de los datos es necesario usar el método `clone()` o `deepcopy()`."
      ],
      "metadata": {
        "id": "7e9JvTOS2noL"
      }
    },
    {
      "cell_type": "code",
      "source": [
        "x_orig_clone = x_orig.clone()\n",
        "x_orig[0] = 9999\n",
        "x_orig, x_orig_clone, x_forma2"
      ],
      "metadata": {
        "colab": {
          "base_uri": "https://localhost:8080/"
        },
        "id": "1lv5GZee21R2",
        "outputId": "b61e3d9c-15c9-4f79-9156-853f6b3bc716"
      },
      "execution_count": 36,
      "outputs": [
        {
          "output_type": "execute_result",
          "data": {
            "text/plain": [
              "(tensor([9999,    1,    2,    3,    4,    5,    6,    7,    8,    9,   10,   11,\n",
              "           12,   13,   14,   15,   16,   17,   18,   19,   20,   21,   22,   23,\n",
              "           24,   25,   26,   27,   28,   29]),\n",
              " tensor([-1,  1,  2,  3,  4,  5,  6,  7,  8,  9, 10, 11, 12, 13, 14, 15, 16, 17,\n",
              "         18, 19, 20, 21, 22, 23, 24, 25, 26, 27, 28, 29]),\n",
              " tensor([[[9999,    1,    2,    3,    4],\n",
              "          [   5,    6,    7,    8,    9]],\n",
              " \n",
              "         [[  10,   11,   12,   13,   14],\n",
              "          [  15,   16,   17,   18,   19]],\n",
              " \n",
              "         [[  20,   21,   22,   23,   24],\n",
              "          [  25,   26,   27,   28,   29]]]))"
            ]
          },
          "metadata": {},
          "execution_count": 36
        }
      ]
    },
    {
      "cell_type": "markdown",
      "metadata": {
        "id": "41-gYI5fsrut"
      },
      "source": [
        "## PyTorch y NumPy\n",
        "Los tensores de PyTorch se pueden convertir a arreglos de NumPy y viceversa."
      ]
    },
    {
      "cell_type": "code",
      "execution_count": 37,
      "metadata": {
        "id": "ZBB3sXKVs_av"
      },
      "outputs": [],
      "source": [
        "nparr = np.ones([2, 5])"
      ]
    },
    {
      "cell_type": "markdown",
      "metadata": {
        "id": "FXxvxGngtxJP"
      },
      "source": [
        "De arreglo de NumPy a Tensorflow:"
      ]
    },
    {
      "cell_type": "code",
      "execution_count": 38,
      "metadata": {
        "id": "S1ppt3X9tyvA"
      },
      "outputs": [],
      "source": [
        "tharr = th.tensor(nparr)"
      ]
    },
    {
      "cell_type": "code",
      "source": [
        "tharr.numpy()"
      ],
      "metadata": {
        "colab": {
          "base_uri": "https://localhost:8080/"
        },
        "id": "SzgsXo1NKcEz",
        "outputId": "a1122a72-55b0-487a-b274-91e2a4f68249"
      },
      "execution_count": 39,
      "outputs": [
        {
          "output_type": "execute_result",
          "data": {
            "text/plain": [
              "array([[1., 1., 1., 1., 1.],\n",
              "       [1., 1., 1., 1., 1.]])"
            ]
          },
          "metadata": {},
          "execution_count": 39
        }
      ]
    },
    {
      "cell_type": "markdown",
      "metadata": {
        "id": "PPO8vkoAt5-E"
      },
      "source": [
        "De tensor a arreglo de NumPy con método `numpy` de cualquier instancia de `Tensor`."
      ]
    },
    {
      "cell_type": "code",
      "execution_count": 40,
      "metadata": {
        "id": "71-FwUH7t9gu",
        "colab": {
          "base_uri": "https://localhost:8080/"
        },
        "outputId": "e6cdb9a2-c221-45f9-8cd4-4d822ebe1a9f"
      },
      "outputs": [
        {
          "output_type": "stream",
          "name": "stdout",
          "text": [
            "[[1. 1. 1. 1. 1.]\n",
            " [1. 1. 1. 1. 1.]]\n"
          ]
        }
      ],
      "source": [
        "print(tharr.numpy())"
      ]
    },
    {
      "cell_type": "markdown",
      "metadata": {
        "id": "CKGwAZQku52E"
      },
      "source": [
        "## Operaciones básicas\n",
        "PyTorch cuenta con operadores y funciones básicas para los tensores, similares a las de NumPy, entre ellas operadores elemento a elemento, multiplicación de tensores, etc.\n",
        "\n",
        "### Elemento a elemento\n",
        "Estas operaciones se realizan entre dos tensores que tienen la misma forma. El resultado es un tensor con la misma forma que la de los operandos, cuyos elementos se obtienen al aplicar la operación especificada entre cada elemento de un tensor y el correspondiente elemento del otro tensor. Estas operaciones pueden ser suma, resta, división, multiplicación, potenciación, etc."
      ]
    },
    {
      "cell_type": "code",
      "execution_count": 41,
      "metadata": {
        "id": "9XR6DMXX2L00",
        "colab": {
          "base_uri": "https://localhost:8080/"
        },
        "outputId": "a8c7f66e-4024-43b7-89f5-728716e4f8d1"
      },
      "outputs": [
        {
          "output_type": "stream",
          "name": "stdout",
          "text": [
            "x = tensor([[1., 2., 3.]])\n",
            "y = tensor([[3., 4., 5.]])\n",
            "10 * x = tensor([[10., 20., 30.]])\n",
            "x + y = tensor([[4., 6., 8.]])\n",
            "x - y = tensor([[-2., -2., -2.]])\n",
            "x * y = tensor([[ 3.,  8., 15.]])\n",
            "x / y = tensor([[0.3333, 0.5000, 0.6000]])\n",
            "x^y = tensor([[  1.,  16., 243.]])\n",
            "x^2 = tensor([[1., 4., 9.]])\n"
          ]
        }
      ],
      "source": [
        "x = th.tensor([[1., 2., 3.]])\n",
        "y = th.tensor([[3., 4., 5.]])\n",
        "\n",
        "print(f'x = {x}')\n",
        "print(f'y = {y}')\n",
        "print(f'10 * x = {10 * x}')\n",
        "print(f'x + y = {x + y}')\n",
        "print(f'x - y = {x - y}')\n",
        "print(f'x * y = {x * y}')\n",
        "print(f'x / y = {x / y}')\n",
        "print(f'x^y = {x**y}')\n",
        "print(f'x^2 = {x**2}')"
      ]
    },
    {
      "cell_type": "markdown",
      "metadata": {
        "id": "1AUEVAvw9KOB"
      },
      "source": [
        "### Transpuesta, producto y concatenación\n",
        "Es posible obtener la transpuesta de una matriz usando la función `transpose` (como argumentos se ponen los índices de los ejes en el orden deseado) o el método `.T` de cualquier instancia de `Tensor`. Además, podemos calcular el producto de dos vectores, dos matrices o un vector y una matriz."
      ]
    },
    {
      "cell_type": "code",
      "source": [
        "th.transpose(x, 1, 0), x.T"
      ],
      "metadata": {
        "colab": {
          "base_uri": "https://localhost:8080/"
        },
        "id": "nrdoOmMtL1Ul",
        "outputId": "7ff9ed7a-e30c-4f78-e4a8-ef0bc29804b3"
      },
      "execution_count": 42,
      "outputs": [
        {
          "output_type": "execute_result",
          "data": {
            "text/plain": [
              "(tensor([[1.],\n",
              "         [2.],\n",
              "         [3.]]),\n",
              " tensor([[1.],\n",
              "         [2.],\n",
              "         [3.]]))"
            ]
          },
          "metadata": {},
          "execution_count": 42
        }
      ]
    },
    {
      "cell_type": "code",
      "execution_count": 43,
      "metadata": {
        "id": "Y62XHd5kvXJZ",
        "colab": {
          "base_uri": "https://localhost:8080/"
        },
        "outputId": "0f221597-dd1e-43e0-ada1-f38e0c6200b5"
      },
      "outputs": [
        {
          "output_type": "stream",
          "name": "stdout",
          "text": [
            "Transpuesta de x: torch.Size([3, 1])\n",
            "Transpuesta de y: torch.Size([3, 1])\n",
            "Transpuesta de M1: torch.Size([3, 4])\n",
            "Transpuesta de M2: torch.Size([2, 3])\n"
          ]
        }
      ],
      "source": [
        "# Generamos 2 matrices aleatorias\n",
        "M1 = th.rand((4,3))\n",
        "M2 = th.rand((3,2))\n",
        "\n",
        "print(f'Transpuesta de x: {th.transpose(x, 1, 0).shape}')\n",
        "print(f'Transpuesta de y: {y.T.shape}')\n",
        "print(f'Transpuesta de M1: {th.transpose(M1, 1, 0).shape}')\n",
        "print(f'Transpuesta de M2: {M2.T.shape}')"
      ]
    },
    {
      "cell_type": "code",
      "source": [
        "# x es de [3,1]\n",
        "# y es de [3,1]\n",
        "print(x @ y.T) # [3,1] @ [1,3] -> [3,3]\n",
        "print(x.T @ y)# [1,3] @ [3,1] -> [1,1]\n",
        "print(M1 @ M2) # [4,3] @ [3,2] -> [4,2]"
      ],
      "metadata": {
        "colab": {
          "base_uri": "https://localhost:8080/"
        },
        "id": "C-mvXKpxRLAV",
        "outputId": "4601ea5b-26a2-49fe-c9b3-5e7d16e92412"
      },
      "execution_count": 44,
      "outputs": [
        {
          "output_type": "stream",
          "name": "stdout",
          "text": [
            "tensor([[26.]])\n",
            "tensor([[ 3.,  4.,  5.],\n",
            "        [ 6.,  8., 10.],\n",
            "        [ 9., 12., 15.]])\n",
            "tensor([[1.1325, 1.1298],\n",
            "        [1.1802, 0.6932],\n",
            "        [0.7861, 0.7483],\n",
            "        [0.7416, 0.6821]])\n"
          ]
        }
      ]
    },
    {
      "cell_type": "markdown",
      "metadata": {
        "id": "hedsYYviv-tX"
      },
      "source": [
        "También podemos concatenar (función `concat`) una lista de tensores (primer argumento) sobre un eje específico (argumento `axis`)."
      ]
    },
    {
      "cell_type": "code",
      "execution_count": 45,
      "metadata": {
        "id": "ibPxuVNcwAbo",
        "colab": {
          "base_uri": "https://localhost:8080/"
        },
        "outputId": "f87e86d7-c47c-49fc-8a96-c0e8f5c0b951"
      },
      "outputs": [
        {
          "output_type": "stream",
          "name": "stdout",
          "text": [
            "tensor([[1., 2., 3.]])\n",
            "tensor([[3., 4., 5.]])\n",
            "tensor([[1., 2., 3.],\n",
            "        [3., 4., 5.]])\n",
            "tensor([[1., 2., 3., 3., 4., 5.]])\n"
          ]
        }
      ],
      "source": [
        "print(x)\n",
        "print(y)\n",
        "print(th.concat([x, y], axis = 0))\n",
        "print(th.concat([x, y], axis = 1))"
      ]
    },
    {
      "cell_type": "markdown",
      "metadata": {
        "id": "Ac6pydM0vRR6"
      },
      "source": [
        "De forma similar, es posible apilar tensores sobre un eje usando la función `stack` (el tensor resultando es un orden mayor al de los tensores de argumento, los cuales tienen la misma forma)."
      ]
    },
    {
      "cell_type": "code",
      "execution_count": 46,
      "metadata": {
        "id": "NjghxJ4LvX0o",
        "colab": {
          "base_uri": "https://localhost:8080/"
        },
        "outputId": "9bc2ff90-06d4-4676-cae3-5ed703521665"
      },
      "outputs": [
        {
          "output_type": "stream",
          "name": "stdout",
          "text": [
            "Apilado de vectores sobre eje 0: torch.Size([3, 5])\n",
            "Apilado de vectores sobre eje 1: torch.Size([5, 3])\n",
            "Apilado de matrices sobre eje 0: torch.Size([3, 2, 3])\n",
            "Apilado de matrices sobre eje 1: torch.Size([2, 3, 3])\n",
            "Apilado de matrices sobre eje 2: torch.Size([2, 3, 3])\n"
          ]
        }
      ],
      "source": [
        "v1 = th.rand([5])\n",
        "v2 = th.rand([5])\n",
        "v3 = th.rand([5])\n",
        "\n",
        "M1 = th.rand([2,3])\n",
        "M2 = th.rand([2,3])\n",
        "M3 = th.rand([2,3])\n",
        "\n",
        "print(f'Apilado de vectores sobre eje 0: {th.stack([v1, v2, v3], axis=0).shape}')\n",
        "print(f'Apilado de vectores sobre eje 1: {th.stack([v1, v2, v3], axis=1).shape}')\n",
        "print(f'Apilado de matrices sobre eje 0: {th.stack([M1, M2, M3], axis=0).shape}')\n",
        "print(f'Apilado de matrices sobre eje 1: {th.stack([M1, M2, M3], axis=1).shape}')\n",
        "print(f'Apilado de matrices sobre eje 2: {th.stack([M1, M2, M3], axis=2).shape}')"
      ]
    },
    {
      "cell_type": "markdown",
      "metadata": {
        "id": "dojbrYEZwqyF"
      },
      "source": [
        "## Reducción\n",
        "También se puede reducir un eje de un tensor con distintas funciones (y métodos equivalentes), tales como suma (`sum`), producto (`prod`) y promedio (`mean`):"
      ]
    },
    {
      "cell_type": "code",
      "execution_count": 47,
      "metadata": {
        "id": "5a6YRfdSxWIe",
        "colab": {
          "base_uri": "https://localhost:8080/"
        },
        "outputId": "0637d0bf-ea94-4d99-d408-9b34b19d1c28"
      },
      "outputs": [
        {
          "output_type": "stream",
          "name": "stdout",
          "text": [
            "tensor([[0.4975, 0.1335, 0.1757, 0.8154, 0.7924, 0.5640, 0.4543, 0.4947, 0.0106,\n",
            "         0.1630],\n",
            "        [0.2002, 0.6441, 0.3470, 0.4447, 0.8397, 0.2288, 0.5114, 0.3058, 0.8801,\n",
            "         0.3742],\n",
            "        [0.7168, 0.1379, 0.4873, 0.7944, 0.9341, 0.7425, 0.0661, 0.8297, 0.9491,\n",
            "         0.5998]])\n",
            "tensor(0.9491)\n",
            "tensor(0.0106)\n",
            "tensor(28)\n",
            "tensor(8)\n",
            "tensor(0.5045)\n",
            "tensor(15.1347)\n",
            "tensor(2.6881e-13)\n"
          ]
        }
      ],
      "source": [
        "x_reduction = th.rand([3, 10])\n",
        "\n",
        "print(x_reduction)\n",
        "print(th.max(x_reduction))\n",
        "print(th.min(x_reduction))\n",
        "print(th.argmax(x_reduction))\n",
        "print(th.argmin(x_reduction))\n",
        "print(th.mean(x_reduction))\n",
        "print(th.sum(x_reduction))\n",
        "print(th.prod(x_reduction))"
      ]
    },
    {
      "cell_type": "markdown",
      "source": [
        "Es posible especificar un eje donde se desea realizar la reducción, para las funciones/métodos `min` y `max` devuelven un par de tensores: el primero es el de valores mínimos y el segundo es el de los índices de estos valores."
      ],
      "metadata": {
        "id": "0HfcxElqaH5g"
      }
    },
    {
      "cell_type": "code",
      "execution_count": 48,
      "metadata": {
        "id": "xyqyQ1MXypWl",
        "colab": {
          "base_uri": "https://localhost:8080/"
        },
        "outputId": "0fde7c53-8d8c-4d81-a8c9-04a5d3c59ca3"
      },
      "outputs": [
        {
          "output_type": "stream",
          "name": "stdout",
          "text": [
            "tensor([[0.4975, 0.1335, 0.1757, 0.8154, 0.7924, 0.5640, 0.4543, 0.4947, 0.0106,\n",
            "         0.1630],\n",
            "        [0.2002, 0.6441, 0.3470, 0.4447, 0.8397, 0.2288, 0.5114, 0.3058, 0.8801,\n",
            "         0.3742],\n",
            "        [0.7168, 0.1379, 0.4873, 0.7944, 0.9341, 0.7425, 0.0661, 0.8297, 0.9491,\n",
            "         0.5998]])\n",
            "torch.return_types.max(\n",
            "values=tensor([0.7168, 0.6441, 0.4873, 0.8154, 0.9341, 0.7425, 0.5114, 0.8297, 0.9491,\n",
            "        0.5998]),\n",
            "indices=tensor([2, 1, 2, 0, 2, 2, 1, 2, 2, 2]))\n",
            "torch.return_types.min(\n",
            "values=tensor([0.2002, 0.1335, 0.1757, 0.4447, 0.7924, 0.2288, 0.0661, 0.3058, 0.0106,\n",
            "        0.1630]),\n",
            "indices=tensor([1, 0, 0, 1, 0, 1, 2, 1, 0, 0]))\n",
            "tensor([2, 1, 2, 0, 2, 2, 1, 2, 2, 2])\n",
            "tensor([1, 0, 0, 1, 0, 1, 2, 1, 0, 0])\n",
            "tensor([0.4715, 0.3052, 0.3367, 0.6849, 0.8554, 0.5118, 0.3439, 0.5434, 0.6132,\n",
            "        0.3790])\n",
            "tensor([1.4145, 0.9155, 1.0100, 2.0546, 2.5662, 1.5353, 1.0318, 1.6301, 1.8397,\n",
            "        1.1369])\n",
            "tensor([0.0714, 0.0119, 0.0297, 0.2881, 0.6215, 0.0958, 0.0154, 0.1255, 0.0088,\n",
            "        0.0366])\n"
          ]
        }
      ],
      "source": [
        "print(x_reduction)\n",
        "print(th.max(x_reduction, axis=0))\n",
        "print(th.min(x_reduction, axis=0))\n",
        "print(th.argmax(x_reduction, axis=0))\n",
        "print(th.argmin(x_reduction, axis=0))\n",
        "print(th.mean(x_reduction, axis=0))\n",
        "print(th.sum(x_reduction, axis=0))\n",
        "print(th.prod(x_reduction, axis=0))"
      ]
    },
    {
      "cell_type": "markdown",
      "metadata": {
        "id": "jolCsEBJyutI"
      },
      "source": [
        "Para el eje 1 del mismo tensor:"
      ]
    },
    {
      "cell_type": "code",
      "execution_count": 49,
      "metadata": {
        "id": "MtbI4B7ZywHp",
        "colab": {
          "base_uri": "https://localhost:8080/"
        },
        "outputId": "7a87a63e-e56c-4d6a-e506-266f394ade39"
      },
      "outputs": [
        {
          "output_type": "stream",
          "name": "stdout",
          "text": [
            "tensor([[0.4975, 0.1335, 0.1757, 0.8154, 0.7924, 0.5640, 0.4543, 0.4947, 0.0106,\n",
            "         0.1630],\n",
            "        [0.2002, 0.6441, 0.3470, 0.4447, 0.8397, 0.2288, 0.5114, 0.3058, 0.8801,\n",
            "         0.3742],\n",
            "        [0.7168, 0.1379, 0.4873, 0.7944, 0.9341, 0.7425, 0.0661, 0.8297, 0.9491,\n",
            "         0.5998]])\n",
            "torch.return_types.max(\n",
            "values=tensor([0.8154, 0.8801, 0.9491]),\n",
            "indices=tensor([3, 8, 8]))\n",
            "torch.return_types.min(\n",
            "values=tensor([0.0106, 0.2002, 0.0661]),\n",
            "indices=tensor([8, 0, 6]))\n",
            "tensor([3, 8, 8])\n",
            "tensor([8, 0, 6])\n",
            "tensor([0.4101, 0.4776, 0.6258])\n",
            "tensor([4.1009, 4.7761, 6.2577])\n",
            "tensor([1.6469e-06, 1.9696e-04, 8.2870e-04])\n"
          ]
        }
      ],
      "source": [
        "print(x_reduction)\n",
        "print(th.max(x_reduction, axis=1))\n",
        "print(th.min(x_reduction, axis=1))\n",
        "print(th.argmax(x_reduction, axis=1))\n",
        "print(th.argmin(x_reduction, axis=1))\n",
        "print(th.mean(x_reduction, axis=1))\n",
        "print(th.sum(x_reduction, axis=1))\n",
        "print(th.prod(x_reduction, axis=1))"
      ]
    },
    {
      "cell_type": "markdown",
      "metadata": {
        "id": "4P0gxS73slNY"
      },
      "source": [
        "Por otro lado, tenemos la función (y el método) `sort` que ordena un tensor. Al igual que `min` y `max`, cuando se especifica un eje `sort` regresa tanto el tensor de valores como el tensor de índices. Si solo requerimos los índices, podemos usar la función `argsort`."
      ]
    },
    {
      "cell_type": "code",
      "execution_count": 50,
      "metadata": {
        "id": "1fjuokqst6br",
        "colab": {
          "base_uri": "https://localhost:8080/"
        },
        "outputId": "505967ae-2e01-48a8-867a-c293867e7174"
      },
      "outputs": [
        {
          "output_type": "stream",
          "name": "stdout",
          "text": [
            "Tensor desordenado: tensor([0.0983, 0.0520, 0.4535, 0.8866, 0.1273, 0.2371, 0.6835, 0.6202, 0.8067,\n",
            "        0.7697, 0.6446, 0.0601])\n",
            "Tensor de 3x4 tensor([[0.0983, 0.0520, 0.4535, 0.8866],\n",
            "        [0.1273, 0.2371, 0.6835, 0.6202],\n",
            "        [0.8067, 0.7697, 0.6446, 0.0601]])\n",
            "Tensor de orden 1 de menor a mayor: torch.return_types.sort(\n",
            "values=tensor([0.0520, 0.0601, 0.0983, 0.1273, 0.2371, 0.4535, 0.6202, 0.6446, 0.6835,\n",
            "        0.7697, 0.8067, 0.8866]),\n",
            "indices=tensor([ 1, 11,  0,  4,  5,  2,  7, 10,  6,  9,  8,  3]))\n",
            "Tensor de orden 1 de mayor a menor: torch.return_types.sort(\n",
            "values=tensor([0.8866, 0.8067, 0.7697, 0.6835, 0.6446, 0.6202, 0.4535, 0.2371, 0.1273,\n",
            "        0.0983, 0.0601, 0.0520]),\n",
            "indices=tensor([ 3,  8,  9,  6, 10,  7,  2,  5,  4,  0, 11,  1]))\n",
            "Tensor de orden 2 de menor a mayor sobre eje 0: torch.return_types.sort(\n",
            "values=tensor([[0.0983, 0.0520, 0.4535, 0.0601],\n",
            "        [0.1273, 0.2371, 0.6446, 0.6202],\n",
            "        [0.8067, 0.7697, 0.6835, 0.8866]]),\n",
            "indices=tensor([[0, 0, 0, 2],\n",
            "        [1, 1, 2, 1],\n",
            "        [2, 2, 1, 0]]))\n",
            "Tensor de orden 2 de menor a mayor sobre eje 1: torch.return_types.sort(\n",
            "values=tensor([[0.0520, 0.0983, 0.4535, 0.8866],\n",
            "        [0.1273, 0.2371, 0.6202, 0.6835],\n",
            "        [0.0601, 0.6446, 0.7697, 0.8067]]),\n",
            "indices=tensor([[1, 0, 2, 3],\n",
            "        [0, 1, 3, 2],\n",
            "        [3, 2, 1, 0]]))\n",
            "Índices de menor a mayor: tensor([ 1, 11,  0,  4,  5,  2,  7, 10,  6,  9,  8,  3])\n",
            "Índices de mayor a menor: tensor([ 3,  8,  9,  6, 10,  7,  2,  5,  4,  0, 11,  1])\n",
            "Índices de eje 0 de menor a mayor: tensor([[0, 0, 0, 2],\n",
            "        [1, 1, 2, 1],\n",
            "        [2, 2, 1, 0]])\n",
            "Índices de eje 1 de menor a mayor: tensor([[1, 0, 2, 3],\n",
            "        [0, 1, 3, 2],\n",
            "        [3, 2, 1, 0]])\n"
          ]
        }
      ],
      "source": [
        "desord = th.rand([12])\n",
        "print(f'Tensor desordenado: {desord}')\n",
        "print(f'Tensor de 3x4 {desord.reshape((3,4))}')\n",
        "\n",
        "print(f'Tensor de orden 1 de menor a mayor: {th.sort(desord, descending=False)}')\n",
        "print(f'Tensor de orden 1 de mayor a menor: {th.sort(desord, descending=True)}')\n",
        "\n",
        "print(f'Tensor de orden 2 de menor a mayor sobre eje 0: {th.sort(th.reshape(desord, (3,4)), descending=False, axis=0)}')\n",
        "print(f'Tensor de orden 2 de menor a mayor sobre eje 1: {th.sort(th.reshape(desord, (3,4)), descending=False, axis=1)}')\n",
        "\n",
        "print(f'Índices de menor a mayor: {th.argsort(desord, descending=False)}')\n",
        "print(f'Índices de mayor a menor: {th.argsort(desord, descending=True)}')\n",
        "print(f'Índices de eje 0 de menor a mayor: {th.argsort(desord.reshape((3,4)), descending=False, axis=0)}')\n",
        "print(f'Índices de eje 1 de menor a mayor: {th.argsort(desord.reshape((3,4)), descending=False, axis=1)}')"
      ]
    },
    {
      "cell_type": "markdown",
      "metadata": {
        "id": "ndKjVRsqF84d"
      },
      "source": [
        "## GPUs\n",
        "En muchos casos, el uso de GPUs reduce significativamente el tiempo de entrenamiento de los modelos basados en redes neuronales profundas. Por lo mismo, los marcos de trabajo como PyTorch permiten crear o copiar tensores y ejecutar las operaciones tensoriales en uno o más CPUs/GPUs e incluso en distintas computadoras. Además, ofrecen herramientas para controlar de manera flexible dónde se crea o copia cada tensor y dónde se ejecuta cada operación. Por ello, cada instancia de la clase `Tensor` cuenta con el elemento `.device` que indica el dispositivo en el que se encuentra almacenado. Por defecto, si hay al menos uno disponible, los tensores se crean en el GPU."
      ]
    },
    {
      "cell_type": "code",
      "execution_count": 51,
      "metadata": {
        "id": "ys5WAZQ1F_H8",
        "colab": {
          "base_uri": "https://localhost:8080/"
        },
        "outputId": "23fbf530-59cb-406c-94ee-a083e19976a5"
      },
      "outputs": [
        {
          "output_type": "stream",
          "name": "stdout",
          "text": [
            "Thu Aug  8 16:26:50 2024       \n",
            "+---------------------------------------------------------------------------------------+\n",
            "| NVIDIA-SMI 535.104.05             Driver Version: 535.104.05   CUDA Version: 12.2     |\n",
            "|-----------------------------------------+----------------------+----------------------+\n",
            "| GPU  Name                 Persistence-M | Bus-Id        Disp.A | Volatile Uncorr. ECC |\n",
            "| Fan  Temp   Perf          Pwr:Usage/Cap |         Memory-Usage | GPU-Util  Compute M. |\n",
            "|                                         |                      |               MIG M. |\n",
            "|=========================================+======================+======================|\n",
            "|   0  Tesla T4                       Off | 00000000:00:04.0 Off |                    0 |\n",
            "| N/A   37C    P8               9W /  70W |      0MiB / 15360MiB |      0%      Default |\n",
            "|                                         |                      |                  N/A |\n",
            "+-----------------------------------------+----------------------+----------------------+\n",
            "                                                                                         \n",
            "+---------------------------------------------------------------------------------------+\n",
            "| Processes:                                                                            |\n",
            "|  GPU   GI   CI        PID   Type   Process name                            GPU Memory |\n",
            "|        ID   ID                                                             Usage      |\n",
            "|=======================================================================================|\n",
            "|  No running processes found                                                           |\n",
            "+---------------------------------------------------------------------------------------+\n"
          ]
        }
      ],
      "source": [
        "!nvidia-smi"
      ]
    },
    {
      "cell_type": "code",
      "source": [
        "xcpu = th.rand((100, 100))\n",
        "print(xcpu.device)"
      ],
      "metadata": {
        "colab": {
          "base_uri": "https://localhost:8080/"
        },
        "id": "0Ss76GCGTZTG",
        "outputId": "6d6a2fd9-dc7c-4a84-90a9-17c141095169"
      },
      "execution_count": 52,
      "outputs": [
        {
          "output_type": "stream",
          "name": "stdout",
          "text": [
            "cpu\n"
          ]
        }
      ]
    },
    {
      "cell_type": "markdown",
      "metadata": {
        "id": "JW5zZxnGtjPd"
      },
      "source": [
        "Podemos especificar explícitamente dónde queremos crear una instancia de `Tensor` usando el argumento `device` que tienen muchas funciones de PyTorch. Por ej. si queremos crear el tensor en GPU pasamos la cadena `cuda` o `cuda:0`, donde el valor después de los dos puntos en esta última forma especifica el índice del GPU (es distinto de 0 cuando tenemos múltiples GPUs disponibles)."
      ]
    },
    {
      "cell_type": "code",
      "execution_count": 53,
      "metadata": {
        "id": "2fVCcMmBGnRM",
        "colab": {
          "base_uri": "https://localhost:8080/"
        },
        "outputId": "fa28d8fc-d220-4da8-e4c5-2320e6d6ed9c"
      },
      "outputs": [
        {
          "output_type": "execute_result",
          "data": {
            "text/plain": [
              "device(type='cuda', index=0)"
            ]
          },
          "metadata": {},
          "execution_count": 53
        }
      ],
      "source": [
        "xgpu = th.rand((100, 100), device='cuda:0')\n",
        "xgpu.device"
      ]
    },
    {
      "cell_type": "markdown",
      "metadata": {
        "id": "Cwu1qbBJt71F"
      },
      "source": [
        "Las operaciones que se realicen con estos tensores se correrán en el GPU y los tensores resultantes estarán en este mismo dispositivo."
      ]
    },
    {
      "cell_type": "code",
      "source": [
        "ygpu = th.rand((100, 100), device='cuda:0')\n",
        "(xgpu + ygpu).device"
      ],
      "metadata": {
        "id": "znzRRqWb8gn-",
        "colab": {
          "base_uri": "https://localhost:8080/"
        },
        "outputId": "2d9a9df6-5a25-47ba-fcf0-ae4e545cd223"
      },
      "execution_count": 54,
      "outputs": [
        {
          "output_type": "execute_result",
          "data": {
            "text/plain": [
              "device(type='cuda', index=0)"
            ]
          },
          "metadata": {},
          "execution_count": 54
        }
      ]
    },
    {
      "cell_type": "markdown",
      "source": [
        "Sin embargo, cuando realizamos una operación con tensores que se encuentran en dispositivos distintos, PyTorch lanza un error.!)"
      ],
      "metadata": {
        "id": "gfF0Yzje88Qu"
      }
    },
    {
      "cell_type": "code",
      "execution_count": 55,
      "metadata": {
        "id": "W8a4FrFHHCB9"
      },
      "outputs": [],
      "source": [
        "# genera un error porque se quiere realizar un operación con tensores que están en distintos dispositivos\n",
        "# xgpu1 + xcpu"
      ]
    },
    {
      "cell_type": "markdown",
      "metadata": {
        "id": "vInzUPkzuX8v"
      },
      "source": [
        "Por lo tanto, para poder realizar esta operación es necesario transferir uno de los tensores a otro dispositivo. En PyTorch esto lo llevamos a cabo con el método `to`."
      ]
    },
    {
      "cell_type": "code",
      "execution_count": 56,
      "metadata": {
        "id": "1fR5FKJ-HT-E",
        "colab": {
          "base_uri": "https://localhost:8080/"
        },
        "outputId": "a1a8fee9-31e8-4395-8497-e1cf6c0293fd"
      },
      "outputs": [
        {
          "output_type": "execute_result",
          "data": {
            "text/plain": [
              "device(type='cuda', index=0)"
            ]
          },
          "metadata": {},
          "execution_count": 56
        }
      ],
      "source": [
        "xcpugpu = xcpu.to('cuda:0')\n",
        "(xgpu + xcpugpu).device"
      ]
    },
    {
      "cell_type": "code",
      "source": [
        "xcpugpu.device"
      ],
      "metadata": {
        "colab": {
          "base_uri": "https://localhost:8080/"
        },
        "id": "nMvEf2PLVRSk",
        "outputId": "bbd683ea-bc2f-41e2-9e4e-2915a1e6842e"
      },
      "execution_count": 57,
      "outputs": [
        {
          "output_type": "execute_result",
          "data": {
            "text/plain": [
              "device(type='cuda', index=0)"
            ]
          },
          "metadata": {},
          "execution_count": 57
        }
      ]
    },
    {
      "cell_type": "markdown",
      "metadata": {
        "id": "zv3gcjM6utuE"
      },
      "source": [
        "Para saber si algún GPU está disponible, contamos con la función `is_available` del módulo de `cuda`."
      ]
    },
    {
      "cell_type": "code",
      "source": [
        "th.cuda.is_available()"
      ],
      "metadata": {
        "id": "ER54V0FH-hy4",
        "colab": {
          "base_uri": "https://localhost:8080/"
        },
        "outputId": "2ea638f4-f9aa-453c-9c4d-7060fad01e88"
      },
      "execution_count": 58,
      "outputs": [
        {
          "output_type": "execute_result",
          "data": {
            "text/plain": [
              "True"
            ]
          },
          "metadata": {},
          "execution_count": 58
        }
      ]
    },
    {
      "cell_type": "markdown",
      "source": [
        "Comparémos ahora los tiempos de ejecución en CPU y GPU de una multiplicación de dos matrices."
      ],
      "metadata": {
        "id": "VvLD_J9E-rP_"
      }
    },
    {
      "cell_type": "code",
      "execution_count": 59,
      "metadata": {
        "id": "b993S-xt7RRY",
        "colab": {
          "base_uri": "https://localhost:8080/"
        },
        "outputId": "7cf7be09-ae4c-41b0-c62e-316b65a7fcc6"
      },
      "outputs": [
        {
          "output_type": "stream",
          "name": "stdout",
          "text": [
            "21.5 s ± 0 ns per loop (mean ± std. dev. of 1 run, 1 loop each)\n"
          ]
        }
      ],
      "source": [
        "%%timeit -n1 -r1\n",
        "disp = 'cpu'\n",
        "res = th.rand((10000, 10000), device=disp) @ th.rand((10000, 10000), device=disp)"
      ]
    },
    {
      "cell_type": "code",
      "source": [
        "%%timeit -n1 -r1\n",
        "disp = 'cuda:0'\n",
        "res = th.rand((10000, 10000), device=disp) @ th.rand((10000, 10000), device=disp)"
      ],
      "metadata": {
        "colab": {
          "base_uri": "https://localhost:8080/"
        },
        "id": "JYlkqWe_XKYM",
        "outputId": "3238d164-e60e-4f46-a843-cabeed735804"
      },
      "execution_count": 60,
      "outputs": [
        {
          "output_type": "stream",
          "name": "stdout",
          "text": [
            "126 ms ± 0 ns per loop (mean ± std. dev. of 1 run, 1 loop each)\n"
          ]
        }
      ]
    },
    {
      "cell_type": "markdown",
      "metadata": {
        "id": "A5pvTOxDCUHc"
      },
      "source": [
        "### Ejercicio\n",
        "Calcula y despliega el producto de cada matriz de $400 \\times 1000$ en un tensor aleatorio $A$ de tamaño $500 \\times 400 \\times 1000$ con la transpuesta de un tensor aleatorio $B$ de tamaño $200 \\times 1000$. Concatena el resultado a un tensor aleatorio $C$ con el mismo número de columnas que el resultado de la operación anterior. Compara los tiempos de ejecución de esta operación en GPU y CPU."
      ]
    }
  ]
}