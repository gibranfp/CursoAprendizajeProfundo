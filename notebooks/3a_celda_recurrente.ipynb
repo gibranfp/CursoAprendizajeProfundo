{
  "nbformat": 4,
  "nbformat_minor": 0,
  "metadata": {
    "colab": {
      "provenance": [],
      "authorship_tag": "ABX9TyNuTrB/8uP7ixXHpO+6krqi",
      "include_colab_link": true
    },
    "kernelspec": {
      "name": "python3",
      "display_name": "Python 3"
    },
    "language_info": {
      "name": "python"
    }
  },
  "cells": [
    {
      "cell_type": "markdown",
      "metadata": {
        "id": "view-in-github",
        "colab_type": "text"
      },
      "source": [
        "<a href=\"https://colab.research.google.com/github/gibranfp/CursoAprendizajeProfundo/blob/2025-1/notebooks/3a_celda_recurrente.ipynb\" target=\"_parent\"><img src=\"https://colab.research.google.com/assets/colab-badge.svg\" alt=\"Open In Colab\"/></a>"
      ]
    },
    {
      "cell_type": "code",
      "source": [
        "import numpy as np\n",
        "np.random.seed(123)\n",
        "from collections import Counter\n",
        "\n",
        "textos = ['un bolillo para el susto',\n",
        "          'tembló el 19 de septiembre']\n",
        "n_docs = len(textos)"
      ],
      "metadata": {
        "id": "VgQhSbaKPCP0"
      },
      "execution_count": 1,
      "outputs": []
    },
    {
      "cell_type": "code",
      "source": [
        "tokens = [t.split() for t in textos]\n",
        "max_sec = len(tokens[0])\n",
        "print(tokens[0])\n",
        "print(tokens[1])"
      ],
      "metadata": {
        "colab": {
          "base_uri": "https://localhost:8080/"
        },
        "id": "zIDBc1zUTRZj",
        "outputId": "b57f36d3-7d55-46a8-ffb7-ccc1b4c2d00c"
      },
      "execution_count": 2,
      "outputs": [
        {
          "output_type": "stream",
          "name": "stdout",
          "text": [
            "['un', 'bolillo', 'para', 'el', 'susto']\n",
            "['tembló', 'el', '19', 'de', 'septiembre']\n"
          ]
        }
      ]
    },
    {
      "cell_type": "code",
      "source": [
        "voc = Counter([p for t in tokens for p in t])\n",
        "\n",
        "i2p = {i:p for i,(p,f) in enumerate(voc.most_common())}\n",
        "p2i = {p:i for i,(p,f) in enumerate(voc.most_common())}\n",
        "\n",
        "tam_voc = len(i2p)\n",
        "\n",
        "indsecs = np.array([[p2i[p] for p in t] for t in tokens])\n",
        "\n",
        "print(tam_voc)\n",
        "print(indsecs)"
      ],
      "metadata": {
        "id": "tsnqJFnzMDzI",
        "colab": {
          "base_uri": "https://localhost:8080/"
        },
        "outputId": "301f3762-9ab0-4506-e9a0-53f0b086f2f6"
      },
      "execution_count": 3,
      "outputs": [
        {
          "output_type": "stream",
          "name": "stdout",
          "text": [
            "9\n",
            "[[1 2 3 0 4]\n",
            " [5 0 6 7 8]]\n"
          ]
        }
      ]
    },
    {
      "cell_type": "code",
      "source": [],
      "metadata": {
        "id": "zw_VpqMo5DxB"
      },
      "execution_count": 3,
      "outputs": []
    },
    {
      "cell_type": "code",
      "source": [
        "ohesecs = np.zeros((n_docs, max_sec, tam_voc))\n",
        "\n",
        "for i in range(ohesecs.shape[0]):\n",
        "  for j in range(ohesecs.shape[1]):\n",
        "    ohesecs[i, j, indsecs[i, j]] = 1\n",
        "\n",
        "print(ohesecs)"
      ],
      "metadata": {
        "id": "cFVSu-pXRTGY",
        "colab": {
          "base_uri": "https://localhost:8080/"
        },
        "outputId": "e4371a25-f49e-4c2f-eaf5-632ef4571789"
      },
      "execution_count": 4,
      "outputs": [
        {
          "output_type": "stream",
          "name": "stdout",
          "text": [
            "[[[0. 1. 0. 0. 0. 0. 0. 0. 0.]\n",
            "  [0. 0. 1. 0. 0. 0. 0. 0. 0.]\n",
            "  [0. 0. 0. 1. 0. 0. 0. 0. 0.]\n",
            "  [1. 0. 0. 0. 0. 0. 0. 0. 0.]\n",
            "  [0. 0. 0. 0. 1. 0. 0. 0. 0.]]\n",
            "\n",
            " [[0. 0. 0. 0. 0. 1. 0. 0. 0.]\n",
            "  [1. 0. 0. 0. 0. 0. 0. 0. 0.]\n",
            "  [0. 0. 0. 0. 0. 0. 1. 0. 0.]\n",
            "  [0. 0. 0. 0. 0. 0. 0. 1. 0.]\n",
            "  [0. 0. 0. 0. 0. 0. 0. 0. 1.]]]\n"
          ]
        }
      ]
    },
    {
      "cell_type": "code",
      "source": [
        "tam_edo = 10\n",
        "\n",
        "h = np.zeros((tam_edo, 1))\n",
        "\n",
        "k = 1 / tam_edo\n",
        "Wih = np.random.uniform(-np.sqrt(k), np.sqrt(k), size=(tam_voc, tam_edo))\n",
        "Whh = np.random.uniform(-np.sqrt(k), np.sqrt(k), size=(tam_edo, tam_edo))\n",
        "b = np.random.uniform(-np.sqrt(k), np.sqrt(k), size=(tam_edo, 1))\n",
        "\n",
        "print(Wih)\n",
        "print(Whh)\n",
        "print(b)\n",
        "print(h)"
      ],
      "metadata": {
        "colab": {
          "base_uri": "https://localhost:8080/"
        },
        "id": "kQkoQln-OJv9",
        "outputId": "c4979d7b-ceb4-4c74-9be6-c82a93a65b58"
      },
      "execution_count": 5,
      "outputs": [
        {
          "output_type": "stream",
          "name": "stdout",
          "text": [
            "[[ 0.12425802 -0.13525736 -0.17275431  0.03245431  0.13880436 -0.04863174\n",
            "   0.30406198  0.11689659 -0.01205972 -0.06823087]\n",
            " [-0.09918293  0.14486375 -0.03885032 -0.27848415 -0.06448247  0.15052151\n",
            "  -0.20080986 -0.20526233  0.01995484  0.02012953]\n",
            " [ 0.08500263  0.22100007  0.14195801  0.07021743  0.14068555 -0.11197061\n",
            "  -0.08741253 -0.17186142 -0.13046669  0.08283657]\n",
            " [-0.25797549 -0.04193106 -0.04372623 -0.00399389 -0.04690904 -0.11873643\n",
            "  -0.04657952  0.24880115  0.28091146  0.00116162]\n",
            " [ 0.07839473 -0.24310427 -0.11555881 -0.05386863  0.23167425 -0.15782588\n",
            "  -0.01073007  0.30709497  0.01232347  0.07140077]\n",
            " [-0.2399355   0.20639604  0.06518095  0.02850351 -0.09944488 -0.12388489\n",
            "  -0.05247976  0.11466467  0.23745976  0.00659166]\n",
            " [ 0.10708344  0.05435105  0.07899591  0.11048306  0.21651637 -0.26361064\n",
            "   0.16676767 -0.16211962 -0.19339038  0.0458258 ]\n",
            " [-0.25569386  0.24370208  0.08047932  0.14130091 -0.30602676  0.05972396\n",
            "   0.03591411 -0.21569286 -0.21941747  0.12366373]\n",
            " [-0.11462218  0.12141268  0.03439499 -0.07023382  0.26887739  0.21609108\n",
            "  -0.0901897  -0.2886581  -0.12347551 -0.06439303]]\n",
            "[[ 0.12962735  0.31329221 -0.09112744  0.16604982  0.05893026  0.12124286\n",
            "  -0.22064637 -0.06395625 -0.16389712 -0.09900711]\n",
            " [ 0.00830297  0.10538262 -0.24924536 -0.23344253 -0.11258935  0.10218226\n",
            "   0.21914978  0.0336829   0.22417544 -0.07283496]\n",
            " [-0.11587351 -0.09217111 -0.20802612  0.20814911 -0.10203352  0.03312174\n",
            "   0.04968031  0.0136187  -0.31452768  0.30885676]\n",
            " [ 0.25636052 -0.18490732 -0.13124122  0.01265553  0.25419107  0.30587503\n",
            "  -0.15334386  0.04070423  0.19414404 -0.06680624]\n",
            " [ 0.14614342 -0.21435878  0.06368737  0.231393    0.30580592 -0.26603243\n",
            "  -0.04531716 -0.1868635  -0.03122022  0.03020834]\n",
            " [-0.25720277 -0.12847653  0.27042802  0.04364179 -0.02693502  0.16034392\n",
            "   0.15296706 -0.28550369  0.13199182  0.21455633]\n",
            " [-0.21127943  0.1777187  -0.1350061  -0.12239928  0.10452053 -0.24577717\n",
            "   0.10427449  0.24530217  0.12415815 -0.03773996]\n",
            " [-0.03907665  0.16766149  0.04151565 -0.26252966  0.05228579  0.19912464\n",
            "  -0.10304827  0.27042317  0.15856735  0.04684208]\n",
            " [ 0.15915363 -0.26616957  0.22729761  0.20333705  0.2592256  -0.23487425\n",
            "  -0.2645055  -0.22868607 -0.06363849 -0.04787254]\n",
            " [ 0.03935036 -0.23891416 -0.18885154  0.19710119 -0.02024644  0.19475722\n",
            "  -0.31153091  0.0326301   0.27317788  0.05197232]]\n",
            "[[-0.18588138]\n",
            " [ 0.13772197]\n",
            " [-0.07653607]\n",
            " [ 0.10649536]\n",
            " [-0.29768435]\n",
            " [ 0.08595093]\n",
            " [-0.295864  ]\n",
            " [ 0.15481288]\n",
            " [-0.01713132]\n",
            " [-0.23922355]]\n",
            "[[0.]\n",
            " [0.]\n",
            " [0.]\n",
            " [0.]\n",
            " [0.]\n",
            " [0.]\n",
            " [0.]\n",
            " [0.]\n",
            " [0.]\n",
            " [0.]]\n"
          ]
        }
      ]
    },
    {
      "cell_type": "code",
      "source": [
        "print(h)\n",
        "\n",
        "x = ohesecs[0, 0].reshape(-1, 1)\n",
        "h = np.tanh(Wih.T @ x + Whh.T @ h + b)\n",
        "\n",
        "print(x)\n",
        "print(h)"
      ],
      "metadata": {
        "colab": {
          "base_uri": "https://localhost:8080/"
        },
        "id": "cKwLJXF5UPYM",
        "outputId": "27d55fd1-40be-4334-a17d-90c58a6ea50b"
      },
      "execution_count": 6,
      "outputs": [
        {
          "output_type": "stream",
          "name": "stdout",
          "text": [
            "[[0.]\n",
            " [0.]\n",
            " [0.]\n",
            " [0.]\n",
            " [0.]\n",
            " [0.]\n",
            " [0.]\n",
            " [0.]\n",
            " [0.]\n",
            " [0.]]\n",
            "[[0.]\n",
            " [1.]\n",
            " [0.]\n",
            " [0.]\n",
            " [0.]\n",
            " [0.]\n",
            " [0.]\n",
            " [0.]\n",
            " [0.]]\n",
            "[[-0.27758571]\n",
            " [ 0.27529654]\n",
            " [-0.11487702]\n",
            " [-0.1703128 ]\n",
            " [-0.3471212 ]\n",
            " [ 0.23216107]\n",
            " [-0.45949731]\n",
            " [-0.0504067 ]\n",
            " [ 0.00282351]\n",
            " [-0.21565438]]\n"
          ]
        }
      ]
    },
    {
      "cell_type": "code",
      "source": [
        "x = ohesecs[0, 1].reshape(-1, 1)\n",
        "h = np.tanh(Wih.T @ x + Whh.T @ h + b)\n",
        "\n",
        "print(h)"
      ],
      "metadata": {
        "colab": {
          "base_uri": "https://localhost:8080/"
        },
        "id": "fC2z3_UQOnAs",
        "outputId": "08bb5599-dfab-4819-c3f0-b4c7cc1bad1a"
      },
      "execution_count": 7,
      "outputs": [
        {
          "output_type": "stream",
          "name": "stdout",
          "text": [
            "[[-0.18229209]\n",
            " [ 0.33467929]\n",
            " [ 0.20728909]\n",
            " [-0.00235884]\n",
            " [-0.37471099]\n",
            " [ 0.10200451]\n",
            " [-0.16481057]\n",
            " [-0.13317152]\n",
            " [-0.11940297]\n",
            " [-0.12936611]]\n"
          ]
        }
      ]
    },
    {
      "cell_type": "code",
      "source": [
        "x = ohesecs[0, 2].reshape(-1, 1)\n",
        "h = np.tanh(Wih.T @ x + Whh.T @ h + b)\n",
        "\n",
        "print(h)"
      ],
      "metadata": {
        "colab": {
          "base_uri": "https://localhost:8080/"
        },
        "id": "iMYjdqocXDT6",
        "outputId": "9051c8e6-2dc2-42a1-ab6c-ae079388368d"
      },
      "execution_count": 8,
      "outputs": [
        {
          "output_type": "stream",
          "name": "stdout",
          "text": [
            "[[-0.50380956]\n",
            " [ 0.1327796 ]\n",
            " [-0.20902012]\n",
            " [-0.03965543]\n",
            " [-0.5260194 ]\n",
            " [ 0.11778588]\n",
            " [-0.11667681]\n",
            " [ 0.39424248]\n",
            " [ 0.25323813]\n",
            " [-0.16903096]]\n"
          ]
        }
      ]
    },
    {
      "cell_type": "code",
      "source": [
        "x = ohesecs[0, 3].reshape(-1, 1)\n",
        "h = np.tanh(Wih.T @ x +  Whh.T @ h + b)\n",
        "\n",
        "print(h)"
      ],
      "metadata": {
        "colab": {
          "base_uri": "https://localhost:8080/"
        },
        "id": "lQJ4v-NVXqUN",
        "outputId": "c93dd577-c006-476b-fb80-19251cd3cc06"
      },
      "execution_count": 9,
      "outputs": [
        {
          "output_type": "stream",
          "name": "stdout",
          "text": [
            "[[-0.17424923]\n",
            " [ 0.00118325]\n",
            " [-0.06773097]\n",
            " [-0.20441229]\n",
            " [-0.27181108]\n",
            " [ 0.14336168]\n",
            " [ 0.11833813]\n",
            " [ 0.36545911]\n",
            " [ 0.15757325]\n",
            " [-0.30752426]]\n"
          ]
        }
      ]
    },
    {
      "cell_type": "code",
      "source": [
        "x = ohesecs[0, 4].reshape(-1, 1)\n",
        "h = np.tanh(Wih.T @ ohesecs[0, 4].reshape(-1, 1) + Whh.T @ h + b)\n",
        "\n",
        "print(h)"
      ],
      "metadata": {
        "colab": {
          "base_uri": "https://localhost:8080/"
        },
        "id": "S-crtS0PXsCh",
        "outputId": "f4f29b2b-bda6-4040-bd81-30ace56e7618"
      },
      "execution_count": 10,
      "outputs": [
        {
          "output_type": "stream",
          "name": "stdout",
          "text": [
            "[[-0.27060999]\n",
            " [ 0.03785503]\n",
            " [-0.02104424]\n",
            " [-0.18669299]\n",
            " [-0.12916769]\n",
            " [-0.11505438]\n",
            " [-0.17503436]\n",
            " [ 0.50462974]\n",
            " [ 0.01164821]\n",
            " [-0.14521163]]\n"
          ]
        }
      ]
    },
    {
      "cell_type": "code",
      "source": [
        "class CeldaRecurrente:\n",
        "  def __init__(self, tam_ent, tam_edo):\n",
        "    self.input_size = tam_ent\n",
        "    self.hidden_size = tam_edo\n",
        "\n",
        "    k = 1 / tam_edo\n",
        "    self.W = np.random.uniform(-np.sqrt(k), np.sqrt(k),\n",
        "                               size=(tam_edo + tam_voc, tam_edo))\n",
        "    self.b = np.random.uniform(-np.sqrt(k), np.sqrt(k),\n",
        "                               size=(tam_edo, 1))\n",
        "\n",
        "  def __call__(self, x, h):\n",
        "    xh = np.concatenate((x.reshape(-1, 1), h), axis=0)\n",
        "    return np.tanh(self.W.T @ xh + self.b)"
      ],
      "metadata": {
        "id": "QbZ2A7KTMKkS"
      },
      "execution_count": 11,
      "outputs": []
    },
    {
      "cell_type": "code",
      "source": [
        "def ejecuta_celda(celda, X, h0):\n",
        "  # Calculamos los estados para todas las entradas\n",
        "  # del primer ejemplo\n",
        "  for i in range(X.shape[0]):\n",
        "    print(f'Ejemplo {i}')\n",
        "    h = h0 # primer estado con ceros\n",
        "    print(f'\\tEstado 0: {h.reshape(-1)}')\n",
        "    for t in range(X.shape[1]):\n",
        "      print(f'\\tEntrada {t}: {X[i, t]}')\n",
        "      h = celda(X[i, t], h)\n",
        "      print(f'\\tEstado {t + 1}: {h.reshape(-1)}')\n",
        "\n",
        "rec = CeldaRecurrente(tam_voc, tam_edo)\n",
        "ejecuta_celda(rec, ohesecs, np.zeros((tam_edo, 1)))"
      ],
      "metadata": {
        "colab": {
          "base_uri": "https://localhost:8080/"
        },
        "id": "lsVIunmeMn5f",
        "outputId": "c13619e8-fa2f-4f34-d602-cd231261fad0"
      },
      "execution_count": 12,
      "outputs": [
        {
          "output_type": "stream",
          "name": "stdout",
          "text": [
            "Ejemplo 0\n",
            "\tEstado 0: [0. 0. 0. 0. 0. 0. 0. 0. 0. 0.]\n",
            "\tEntrada 0: [0. 1. 0. 0. 0. 0. 0. 0. 0.]\n",
            "\tEstado 1: [-0.0759335  -0.08485358  0.22996836  0.17487778 -0.1986069  -0.09994107\n",
            " -0.3664835  -0.16142094  0.04018256  0.02065069]\n",
            "\tEntrada 1: [0. 0. 1. 0. 0. 0. 0. 0. 0.]\n",
            "\tEstado 2: [-0.4016619   0.06029743  0.15565653  0.25876275  0.24521503 -0.28031747\n",
            " -0.10754939  0.13020968 -0.338656   -0.00040447]\n",
            "\tEntrada 2: [0. 0. 0. 1. 0. 0. 0. 0. 0.]\n",
            "\tEstado 3: [-0.56882713 -0.46993657  0.29491674 -0.02776678  0.06797312 -0.31030028\n",
            " -0.4119208   0.34701066 -0.27164639  0.30664792]\n",
            "\tEntrada 3: [1. 0. 0. 0. 0. 0. 0. 0. 0.]\n",
            "\tEstado 4: [-0.25864153 -0.61467619  0.60491373  0.26232086  0.29968149 -0.07874826\n",
            " -0.39924809  0.19577913 -0.0546648  -0.07383566]\n",
            "\tEntrada 4: [0. 0. 0. 0. 1. 0. 0. 0. 0.]\n",
            "\tEstado 5: [-0.4364386  -0.30670577  0.70127047 -0.01428004 -0.28900731 -0.08953324\n",
            "  0.19283268  0.13413254 -0.09338661  0.53283121]\n",
            "Ejemplo 1\n",
            "\tEstado 0: [0. 0. 0. 0. 0. 0. 0. 0. 0. 0.]\n",
            "\tEntrada 0: [0. 0. 0. 0. 0. 1. 0. 0. 0.]\n",
            "\tEstado 1: [-0.41816513 -0.13193924  0.39473753 -0.06208394 -0.32817147  0.20447038\n",
            " -0.08743262  0.17933901 -0.4451162   0.07113105]\n",
            "\tEntrada 1: [1. 0. 0. 0. 0. 0. 0. 0. 0.]\n",
            "\tEstado 2: [-0.2414637  -0.49366026  0.42590784  0.0977029   0.07768597  0.02497923\n",
            " -0.49868338  0.03191123  0.05476621  0.09065863]\n",
            "\tEntrada 2: [0. 0. 0. 0. 0. 0. 1. 0. 0.]\n",
            "\tEstado 3: [-0.15230902 -0.50073102  0.64768779 -0.03248067 -0.00087085 -0.30453361\n",
            " -0.30094334  0.01003494 -0.28643367  0.38213336]\n",
            "\tEntrada 3: [0. 0. 0. 0. 0. 0. 0. 1. 0.]\n",
            "\tEstado 4: [-0.41252144 -0.28838815  0.17654172  0.01432631  0.0967932  -0.2024677\n",
            " -0.03742272  0.13947471 -0.14764236 -0.11786944]\n",
            "\tEntrada 4: [0. 0. 0. 0. 0. 0. 0. 0. 1.]\n",
            "\tEstado 5: [ 0.02402173 -0.55785753  0.2073496   0.06084374 -0.32010332  0.01385288\n",
            "  0.06165921  0.15280322 -0.05246825  0.50949039]\n"
          ]
        }
      ]
    },
    {
      "cell_type": "code",
      "source": [
        "class CeldaRecurrenteSep:\n",
        "  def __init__(self, tam_ent, tam_edo):\n",
        "    self.input_size = tam_ent\n",
        "    self.hidden_size = tam_edo\n",
        "\n",
        "    k = 1 / tam_edo\n",
        "    self.Wih = np.random.uniform(-np.sqrt(k), np.sqrt(k),\n",
        "                                 size=(tam_voc, tam_edo))\n",
        "    self.Whh = np.random.uniform(-np.sqrt(k), np.sqrt(k),\n",
        "                                 size=(tam_edo, tam_edo))\n",
        "    self.b = np.random.uniform(-np.sqrt(k), np.sqrt(k),\n",
        "                               size=(tam_edo, 1))\n",
        "\n",
        "  def __call__(self, x, h):\n",
        "    x = x.reshape(-1, 1)\n",
        "    return np.tanh(self.Wih.T @ x + self.Whh @ h + self.b)\n",
        "\n",
        "recsep = CeldaRecurrenteSep(tam_voc, tam_edo)\n",
        "ejecuta_celda(recsep, ohesecs, np.zeros((tam_edo, 1)))"
      ],
      "metadata": {
        "id": "lDk0Dc10OZV6",
        "colab": {
          "base_uri": "https://localhost:8080/"
        },
        "outputId": "0601a3f1-6d93-4839-a3d7-d0d2925937a3"
      },
      "execution_count": 13,
      "outputs": [
        {
          "output_type": "stream",
          "name": "stdout",
          "text": [
            "Ejemplo 0\n",
            "\tEstado 0: [0. 0. 0. 0. 0. 0. 0. 0. 0. 0.]\n",
            "\tEntrada 0: [0. 1. 0. 0. 0. 0. 0. 0. 0.]\n",
            "\tEstado 1: [-0.30274589 -0.14584702  0.21775718 -0.16328027 -0.06657082  0.03680834\n",
            " -0.08233328 -0.17864147 -0.36808185 -0.06613953]\n",
            "\tEntrada 1: [0. 0. 1. 0. 0. 0. 0. 0. 0.]\n",
            "\tEstado 2: [-0.0241193  -0.10601396  0.19587479  0.04063571 -0.04728349  0.31474752\n",
            "  0.44448087  0.00161761 -0.36936394 -0.41361203]\n",
            "\tEntrada 2: [0. 0. 0. 1. 0. 0. 0. 0. 0.]\n",
            "\tEstado 3: [ 0.00715866 -0.37560026 -0.15369939 -0.48217921 -0.2906317  -0.22361022\n",
            "  0.45639075 -0.34818426 -0.29361202 -0.39570424]\n",
            "\tEntrada 3: [1. 0. 0. 0. 0. 0. 0. 0. 0.]\n",
            "\tEstado 4: [-0.12245958 -0.20597719  0.07580284 -0.28606704  0.06516598 -0.35971193\n",
            "  0.2352521  -0.0822994  -0.5850762  -0.72220702]\n",
            "\tEntrada 4: [0. 0. 0. 0. 1. 0. 0. 0. 0.]\n",
            "\tEstado 5: [-0.24344363 -0.14666431  0.14468528 -0.38389906 -0.39166732 -0.00362555\n",
            "  0.32971018 -0.19639911 -0.6504046  -0.6084197 ]\n",
            "Ejemplo 1\n",
            "\tEstado 0: [0. 0. 0. 0. 0. 0. 0. 0. 0. 0.]\n",
            "\tEntrada 0: [0. 0. 0. 0. 0. 1. 0. 0. 0.]\n",
            "\tEstado 1: [-0.27214751  0.17062823 -0.11768783 -0.13604245  0.28816694 -0.19274747\n",
            " -0.20175956 -0.26334884 -0.16486247 -0.02752392]\n",
            "\tEntrada 1: [1. 0. 0. 0. 0. 0. 0. 0. 0.]\n",
            "\tEstado 2: [-0.27865864 -0.06636734  0.08948422 -0.35145302  0.45455863 -0.30088194\n",
            "  0.1077449   0.07790102 -0.50055739 -0.51803032]\n",
            "\tEntrada 2: [0. 0. 0. 0. 0. 0. 1. 0. 0.]\n",
            "\tEstado 3: [-0.23573102 -0.00076189 -0.0424421  -0.08866912  0.19622926 -0.42168431\n",
            "  0.14623151 -0.2296183  -0.7323983  -0.29146669]\n",
            "\tEntrada 3: [0. 0. 0. 0. 0. 0. 0. 1. 0.]\n",
            "\tEstado 4: [-0.39787876  0.01757043 -0.25844638 -0.47016196  0.28713844 -0.38527328\n",
            "  0.10121493 -0.35951768 -0.49471346 -0.5863625 ]\n",
            "\tEntrada 4: [0. 0. 0. 0. 0. 0. 0. 0. 1.]\n",
            "\tEstado 5: [-0.55839039  0.15082325 -0.11115841 -0.19272649 -0.14469262 -0.29541627\n",
            " -0.07430133 -0.16954915 -0.5719304  -0.59640706]\n"
          ]
        }
      ]
    },
    {
      "cell_type": "code",
      "source": [
        "import torch as th\n",
        "\n",
        "recth = th.nn.RNNCell(tam_voc, tam_edo)\n",
        "oheth = th.from_numpy(ohesecs).type(th.float32)\n",
        "\n",
        "ejecuta_celda(recth, oheth, th.zeros((tam_edo)))"
      ],
      "metadata": {
        "id": "WVvddTPeZMH3",
        "colab": {
          "base_uri": "https://localhost:8080/"
        },
        "outputId": "9bbae02b-b4b6-40bb-b4c7-c959938be0aa"
      },
      "execution_count": 14,
      "outputs": [
        {
          "output_type": "stream",
          "name": "stdout",
          "text": [
            "Ejemplo 0\n",
            "\tEstado 0: tensor([0., 0., 0., 0., 0., 0., 0., 0., 0., 0.])\n",
            "\tEntrada 0: tensor([0., 1., 0., 0., 0., 0., 0., 0., 0.])\n",
            "\tEstado 1: tensor([ 0.4223, -0.2212,  0.0495,  0.3192, -0.1657,  0.2840,  0.3125,  0.0158,\n",
            "         0.6095, -0.0248], grad_fn=<ViewBackward0>)\n",
            "\tEntrada 1: tensor([0., 0., 1., 0., 0., 0., 0., 0., 0.])\n",
            "\tEstado 2: tensor([ 3.7261e-01, -3.1463e-02, -2.5538e-01,  2.2709e-04,  3.3464e-02,\n",
            "         2.8348e-01, -2.2390e-01,  2.5217e-01,  2.0497e-01,  6.8456e-02],\n",
            "       grad_fn=<ViewBackward0>)\n",
            "\tEntrada 2: tensor([0., 0., 0., 1., 0., 0., 0., 0., 0.])\n",
            "\tEstado 3: tensor([ 0.6840, -0.2070,  0.3103, -0.3129,  0.2009,  0.6734, -0.0842,  0.3179,\n",
            "         0.4567, -0.2387], grad_fn=<ViewBackward0>)\n",
            "\tEntrada 3: tensor([1., 0., 0., 0., 0., 0., 0., 0., 0.])\n",
            "\tEstado 4: tensor([ 0.2408, -0.1091, -0.0986,  0.2509, -0.4163,  0.6446, -0.0058, -0.1346,\n",
            "         0.3032, -0.0969], grad_fn=<ViewBackward0>)\n",
            "\tEntrada 4: tensor([0., 0., 0., 0., 1., 0., 0., 0., 0.])\n",
            "\tEstado 5: tensor([ 0.6413,  0.1977, -0.1321,  0.2058,  0.0252,  0.6169,  0.0246,  0.3974,\n",
            "         0.6799, -0.0714], grad_fn=<ViewBackward0>)\n",
            "Ejemplo 1\n",
            "\tEstado 0: tensor([0., 0., 0., 0., 0., 0., 0., 0., 0., 0.])\n",
            "\tEntrada 0: tensor([0., 0., 0., 0., 0., 1., 0., 0., 0.])\n",
            "\tEstado 1: tensor([ 0.6168, -0.1440,  0.4111, -0.1124,  0.3690,  0.4150,  0.1757,  0.0399,\n",
            "         0.6265,  0.0953], grad_fn=<ViewBackward0>)\n",
            "\tEntrada 1: tensor([1., 0., 0., 0., 0., 0., 0., 0., 0.])\n",
            "\tEstado 2: tensor([ 0.0042, -0.0494, -0.0621,  0.1341, -0.4677,  0.6548,  0.0622, -0.1544,\n",
            "         0.1876, -0.1640], grad_fn=<ViewBackward0>)\n",
            "\tEntrada 2: tensor([0., 0., 0., 0., 0., 0., 1., 0., 0.])\n",
            "\tEstado 3: tensor([ 0.3743,  0.0816, -0.0961,  0.0805,  0.0765,  0.5710, -0.2967, -0.0902,\n",
            "         0.4732, -0.5437], grad_fn=<ViewBackward0>)\n",
            "\tEntrada 3: tensor([0., 0., 0., 0., 0., 0., 0., 1., 0.])\n",
            "\tEstado 4: tensor([ 0.5555,  0.4444, -0.2293,  0.1546, -0.2269,  0.6275, -0.2315,  0.3078,\n",
            "         0.6244,  0.0656], grad_fn=<ViewBackward0>)\n",
            "\tEntrada 4: tensor([0., 0., 0., 0., 0., 0., 0., 0., 1.])\n",
            "\tEstado 5: tensor([ 0.3505,  0.4083, -0.0565, -0.0120, -0.0757,  0.4699, -0.2113,  0.0554,\n",
            "         0.4212, -0.1782], grad_fn=<ViewBackward0>)\n"
          ]
        }
      ]
    },
    {
      "cell_type": "code",
      "source": [
        "rnn = th.nn.RNN(tam_voc, tam_edo) # Interfaz de más alto nivel que RNNCell.\n",
        "                                  # puede procesar varios pasos y ejemplos\n",
        "                                  # a la vez. Además, se pueden definir celdas\n",
        "                                  # apiladas y bidireccionales\n",
        "outputs, h = rnn(oheth)"
      ],
      "metadata": {
        "id": "17q_DcIV79id"
      },
      "execution_count": 15,
      "outputs": []
    },
    {
      "cell_type": "code",
      "source": [
        "lstm = th.nn.LSTM(tam_voc, tam_edo, batch_first=True) # Similar a la anterior\n",
        "                                                      # para celda LSTM\n",
        "output, (h,c) = lstm(oheth)"
      ],
      "metadata": {
        "id": "k-UJVlCH8Hbg"
      },
      "execution_count": 16,
      "outputs": []
    },
    {
      "cell_type": "code",
      "source": [
        "gru = th.nn.GRU(tam_voc, tam_edo, batch_first=True) # Similar a la anterior\n",
        "                                                    # para celda GRU\n",
        "output, h = gru(oheth)"
      ],
      "metadata": {
        "id": "t-_nWJ3d8iVx"
      },
      "execution_count": 17,
      "outputs": []
    },
    {
      "cell_type": "code",
      "source": [],
      "metadata": {
        "id": "vSkbe3jHqByP"
      },
      "execution_count": 17,
      "outputs": []
    },
    {
      "cell_type": "code",
      "source": [
        "outputs"
      ],
      "metadata": {
        "colab": {
          "base_uri": "https://localhost:8080/"
        },
        "id": "ZV4uHkfbpfQ5",
        "outputId": "101043d6-be51-418b-df26-dad9aa74a40f"
      },
      "execution_count": 18,
      "outputs": [
        {
          "output_type": "execute_result",
          "data": {
            "text/plain": [
              "tensor([[[ 0.3969, -0.2635, -0.1929,  0.2182,  0.5295, -0.0632, -0.4590,\n",
              "           0.3251, -0.0249, -0.1758],\n",
              "         [ 0.2629, -0.3888, -0.5001,  0.3447,  0.1492, -0.0696, -0.3322,\n",
              "           0.2772, -0.3505, -0.0957],\n",
              "         [ 0.4536, -0.3628, -0.3863,  0.1550,  0.2337, -0.3457, -0.2434,\n",
              "           0.2668,  0.1095, -0.2488],\n",
              "         [ 0.5636, -0.2407, -0.4525,  0.1052,  0.3835, -0.1135, -0.5670,\n",
              "           0.1404, -0.0296,  0.2440],\n",
              "         [ 0.5247, -0.3616, -0.5930,  0.1632,  0.4371, -0.3750, -0.6264,\n",
              "           0.2227, -0.4125, -0.2998]],\n",
              "\n",
              "        [[ 0.1653, -0.1780, -0.1581,  0.0785,  0.3746, -0.0013, -0.1313,\n",
              "           0.4277, -0.0530,  0.1578],\n",
              "         [ 0.5437, -0.1489, -0.3903,  0.1175,  0.4877, -0.3181, -0.5182,\n",
              "           0.2104,  0.2256,  0.3984],\n",
              "         [ 0.5388, -0.2974, -0.4959,  0.1044,  0.6355, -0.3730, -0.1032,\n",
              "          -0.1402,  0.1149,  0.3175],\n",
              "         [ 0.1825, -0.0132, -0.3667,  0.3346,  0.5587, -0.0982, -0.1433,\n",
              "           0.0905, -0.0555,  0.0675],\n",
              "         [ 0.3626,  0.0178, -0.4727,  0.0779,  0.6867, -0.5414, -0.4702,\n",
              "           0.3408,  0.1540,  0.1627]]], grad_fn=<StackBackward0>)"
            ]
          },
          "metadata": {},
          "execution_count": 18
        }
      ]
    }
  ]
}