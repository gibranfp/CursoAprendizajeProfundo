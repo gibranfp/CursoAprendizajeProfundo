{
 "cells": [
  {
   "cell_type": "markdown",
   "metadata": {
    "colab_type": "text",
    "id": "view-in-github"
   },
   "source": [
    "<a href=\"https://colab.research.google.com/github/gibranfp/CursoAprendizajeProfundo/blob/master/notebooks/1a_perceptron_torch.ipynb\" target=\"_parent\"><img src=\"https://colab.research.google.com/assets/colab-badge.svg\" alt=\"Open In Colab\"/></a>"
   ]
  },
  {
   "cell_type": "markdown",
   "metadata": {
    "colab_type": "text",
    "id": "v8X1X5KGWhZT"
   },
   "source": [
    "# Neuronas artificiales \n",
    "---\n",
    "La neurona artificial es un modelo simplificado de la neurona natural, la cual trata de imitar 3 aspectos principales: \n",
    "\n",
    "1. La fuerza sináptica que pondera los impulsos recibidos\n",
    "2. La acumulación de estos impulsos ponderados \n",
    "3. La activación de la neurona que produce un impulso de respuesta a su salida. \n",
    "\n",
    "La primera neurona artificial fue la llamada Unidad de Umbral Lineal, propuesta en 1943 por Warren McCulloch y Walter Pitts, la cual presupone que tanto los valores de los atributos de entrada como los valores de salida son binarios."
   ]
  },
  {
   "cell_type": "code",
   "execution_count": 1,
   "metadata": {
    "colab": {},
    "colab_type": "code",
    "id": "C4qjFKtZafzQ"
   },
   "outputs": [],
   "source": [
    "import torch\n",
    "import matplotlib.pyplot as plt"
   ]
  },
  {
   "cell_type": "markdown",
   "metadata": {
    "colab_type": "text",
    "id": "8ec2lh4iaj7J"
   },
   "source": [
    "## Unidad de umbral lineal\n",
    "La operación que lleva a cabo una neurona artificial está dada por la suma pesada evaluada en una función de activación $\\phi$.  Una de las primeras funciones de activación utilizadas fue la escalón unitario, definida como\n",
    "\n",
    "$\n",
    "\\phi(x) = \\begin{cases} 1, & \\text{si } x > 0\\\\0, & \\text{en caso contrario}\\end{cases}\n",
    "$\n",
    "\n",
    "Esta se puede llevar a cabo con la siguiente función de Python:"
   ]
  },
  {
   "cell_type": "code",
   "execution_count": 2,
   "metadata": {
    "colab": {},
    "colab_type": "code",
    "id": "3DF3X4nFS8ze"
   },
   "outputs": [],
   "source": [
    "def escalon(z):\n",
    "    return (z > 0.).float()"
   ]
  },
  {
   "cell_type": "markdown",
   "metadata": {
    "colab_type": "text",
    "id": "tHUpzFQLY8Y1"
   },
   "source": [
    "Por su parte, la suma pesada simplemente consiste en multiplicar cada entrada por su correspondiente peso y sumarle el sesgo. Esto lo podemos expresar como\n",
    "\n",
    "$\n",
    "z = w_1 \\cdot x_1 + w_2 \\cdot x_2 + \\cdots + w_d \\cdot x_d + b \n",
    "$\n",
    "\n",
    "En su forma vectorial\n",
    "\n",
    "$\n",
    "z = \\mathbf{w}^T \\mathbf{x} + b\n",
    "$\n",
    "\n",
    "Para realizar esto con PyTorch podemos usar `@` para realizar la multiplicación de los vectores `w` y `x` y sumar `b` de la siguiente manera `z = w @ x + b`. Así, la operación de la neurona completa sería:"
   ]
  },
  {
   "cell_type": "code",
   "execution_count": 3,
   "metadata": {
    "colab": {},
    "colab_type": "code",
    "id": "G61wzAPaT3r3"
   },
   "outputs": [],
   "source": [
    "def neurona(x, w, b):\n",
    "    z = w @ x + b\n",
    "    a = escalon(z)\n",
    "\n",
    "    return a"
   ]
  },
  {
   "cell_type": "markdown",
   "metadata": {
    "colab_type": "text",
    "id": "a-VjUcwrZpmW"
   },
   "source": [
    "### OR ($\\lor$)\n",
    "Esta neurona es capaz de aproximar el operador OR, cuya salida es 1 cuando al menos 1 de las 2 entradas es 1:\n",
    "\n",
    "\n",
    "| $x_1$ | $x_2$ | $y$\n",
    "| ------------- |:-------------:| -----:|\n",
    "|0 |0 |0|\n",
    "|0 |1 |1|\n",
    "|1 |0 |1|\n",
    "|1 |1 |1|\n",
    "\n",
    "La neurona recibe 2 valores binarios como entrada y produce un valor binario como salida. Específicamente, la neurona calcularía\n",
    "\n",
    "$\n",
    "\\hat{y} = \\phi(w_1 \\cdot x_1 + w_2 \\cdot x_2 + b)\n",
    "$\n",
    "\n",
    "Para poder aproximar la operación OR es necesario encontrar los valores apropiados de $w_1$, $w_2$ y $b$. Una posible elección sería 10, 10 y -5 respectivamente. Verifiquemos estos valores:"
   ]
  },
  {
   "cell_type": "code",
   "execution_count": 4,
   "metadata": {
    "colab": {
     "base_uri": "https://localhost:8080/",
     "height": 143
    },
    "colab_type": "code",
    "id": "XE5LjZh9TWcF",
    "outputId": "0b5c3f98-2da2-44fe-ab76-9c1eeb617937"
   },
   "outputs": [
    {
     "name": "stdout",
     "output_type": "stream",
     "text": [
      "-----------------------------\n",
      "x_1 \tx_2 \ty_hat\n",
      "-----------------------------\n",
      "0.0 \t0.0\t0.0\n",
      "0.0 \t1.0\t1.0\n",
      "1.0 \t0.0\t1.0\n",
      "1.0 \t1.0\t1.0\n"
     ]
    }
   ],
   "source": [
    "X = torch.tensor([[0., 0.], [0., 1.], [1., 0.], [1., 1.]])\n",
    "w = torch.tensor([10., 10.])\n",
    "b = -5.\n",
    "\n",
    "print('-----------------------------')\n",
    "print('x_1 \\tx_2 \\ty_hat')\n",
    "print('-----------------------------')\n",
    "for i in range(X.shape[0]):\n",
    "    y_hat = neurona(X[i, :], w, b)\n",
    "    print('{0} \\t{1}\\t{2}'.format(X[i, 0], X[i, 1], y_hat))"
   ]
  },
  {
   "cell_type": "markdown",
   "metadata": {
    "colab_type": "text",
    "id": "jnqeydbxeavD"
   },
   "source": [
    "### AND ($\\land$)\n",
    "De forma similar, podemos aproximar la operación AND:\n",
    "\n",
    "\n",
    "| $x_1$ | $x_2$ | $y$\n",
    "| ------------- |:-------------:| -----:|\n",
    "|0 |0 |0|\n",
    "|0 |1 |0|\n",
    "|1 |0 |0|\n",
    "|1 |1 |1|\n",
    "\n",
    "Nuevamente, debemos encontrar los valores apropiados para los pesos y el sesgo. Probemos con $w_1 = 10$, $w_2 = 10$ y $b = -15$."
   ]
  },
  {
   "cell_type": "code",
   "execution_count": 5,
   "metadata": {
    "colab": {
     "base_uri": "https://localhost:8080/",
     "height": 143
    },
    "colab_type": "code",
    "id": "Hdcp_-oqTc75",
    "outputId": "fd39b88c-3947-4e6e-cd5e-b943ea49d2cb"
   },
   "outputs": [
    {
     "name": "stdout",
     "output_type": "stream",
     "text": [
      "-----------------------------\n",
      "x_1 \tx_2 \ty_hat\n",
      "-----------------------------\n",
      "0.0 \t0.0\t0.0\n",
      "0.0 \t1.0\t0.0\n",
      "1.0 \t0.0\t0.0\n",
      "1.0 \t1.0\t1.0\n"
     ]
    }
   ],
   "source": [
    "w = torch.tensor([10., 10.])\n",
    "b = -15.\n",
    "\n",
    "print('-----------------------------')\n",
    "print('x_1 \\tx_2 \\ty_hat')\n",
    "print('-----------------------------')\n",
    "for i in range(X.shape[0]):\n",
    "    y_hat = neurona(X[i, :], w, b)\n",
    "    print('{0} \\t{1}\\t{2}'.format(X[i, 0], X[i, 1], y_hat))"
   ]
  },
  {
   "cell_type": "markdown",
   "metadata": {
    "colab_type": "text",
    "id": "VJW4l3Gcx-j2"
   },
   "source": [
    "### NAND \n",
    "También podemos aproximar la negación de la operación AND (NAND):\n",
    "\n",
    "\n",
    "| $x_1$ | $x_2$ | $y$\n",
    "| ------------- |:-------------:| -----:|\n",
    "|0 |0 |1|\n",
    "|0 |1 |1|\n",
    "|1 |0 |1|\n",
    "|1 |1 |0|\n",
    "\n",
    "En este caso, los valores para los pesos y el sesgo son $w_1 = -10$, $w_2 = -10$ y $b = 15$."
   ]
  },
  {
   "cell_type": "code",
   "execution_count": 6,
   "metadata": {
    "colab": {
     "base_uri": "https://localhost:8080/",
     "height": 143
    },
    "colab_type": "code",
    "id": "AJoT4krVyGEo",
    "outputId": "12de6c69-2d06-4261-c309-78c66b606707"
   },
   "outputs": [
    {
     "name": "stdout",
     "output_type": "stream",
     "text": [
      "-----------------------------\n",
      "x_1 \tx_2 \ty_hat\n",
      "-----------------------------\n",
      "0.0 \t0.0\t1.0\n",
      "0.0 \t1.0\t1.0\n",
      "1.0 \t0.0\t1.0\n",
      "1.0 \t1.0\t0.0\n"
     ]
    }
   ],
   "source": [
    "w = torch.tensor([-10., -10.])\n",
    "b = 15.\n",
    "\n",
    "print('-----------------------------')\n",
    "print('x_1 \\tx_2 \\ty_hat')\n",
    "print('-----------------------------')\n",
    "for i in range(X.shape[0]):\n",
    "    y_hat = neurona(X[i, :], w, b)\n",
    "    print('{0} \\t{1}\\t{2}'.format(X[i, 0], X[i, 1], y_hat))"
   ]
  },
  {
   "cell_type": "markdown",
   "metadata": {
    "colab_type": "text",
    "id": "sqXVXWhve5pR"
   },
   "source": [
    "## Algoritmo del perceptrón\n"
   ]
  },
  {
   "cell_type": "code",
   "execution_count": 7,
   "metadata": {
    "colab": {},
    "colab_type": "code",
    "id": "i7kivF042Heh"
   },
   "outputs": [],
   "source": [
    "def perceptron(X, y, n_epochs = 10):\n",
    "    w_new = torch.zeros(X.shape[1])\n",
    "    b_new = 0\n",
    "    for i in range(n_epochs):\n",
    "        serr = 0.0\n",
    "        for j in range(X.shape[0]):\n",
    "            w_old = w_new\n",
    "            b_old = b_new\n",
    "            \n",
    "            y_hat = neurona(X[j], w_old, b_old)\n",
    "            error = y[j] - y_hat\n",
    "           \n",
    "            w_new = w_old + error * X[j]     \n",
    "            b_new = b_old + error\n",
    "           \n",
    "            serr += torch.abs(error)\n",
    "        print(\"Epoch {0}: error = {1}\".format(i, serr / float(X.shape[0])))\n",
    "\n",
    "    return w_new, b_new"
   ]
  },
  {
   "cell_type": "markdown",
   "metadata": {
    "colab_type": "text",
    "id": "E8WH4x7afCKv"
   },
   "source": [
    "### Aprendiendo la operación OR"
   ]
  },
  {
   "cell_type": "markdown",
   "metadata": {
    "colab_type": "text",
    "id": "HqukG0wL9DhC"
   },
   "source": [
    "Probemos el algoritmo del perceptrón para aprender la operación lógica OR."
   ]
  },
  {
   "cell_type": "code",
   "execution_count": 8,
   "metadata": {
    "colab": {
     "base_uri": "https://localhost:8080/",
     "height": 359
    },
    "colab_type": "code",
    "id": "vOFZdaie9D6n",
    "outputId": "bf58a423-6860-473b-e4cd-9f08f17ccb16"
   },
   "outputs": [
    {
     "name": "stdout",
     "output_type": "stream",
     "text": [
      "Epoch 0: error = 0.25\n",
      "Epoch 1: error = 0.5\n",
      "Epoch 2: error = 0.25\n",
      "Epoch 3: error = 0.0\n",
      "Epoch 4: error = 0.0\n",
      "Epoch 5: error = 0.0\n",
      "Epoch 6: error = 0.0\n",
      "Epoch 7: error = 0.0\n",
      "Epoch 8: error = 0.0\n",
      "Epoch 9: error = 0.0\n",
      "\n",
      "w_1 = 1.0, w_2 = 1.0, b = 0.0\n",
      "-----------------------------\n",
      "x_1 \tx_2 \t y\ty_hat\n",
      "-----------------------------\n",
      "0.0\t0.0\t0.0\t0.0\n",
      "0.0\t1.0\t1.0\t1.0\n",
      "1.0\t0.0\t1.0\t1.0\n",
      "1.0\t1.0\t1.0\t1.0\n"
     ]
    }
   ],
   "source": [
    "X = torch.tensor([[0., 0.], [0., 1.], [1., 0.], [1., 1.]])\n",
    "y_or = torch.tensor([0., 1., 1., 1.]) \n",
    "\n",
    "w, b = perceptron(X, y_or)\n",
    "\n",
    "print('\\nw_1 = {0}, w_2 = {1}, b = {2}'.format(w[0], w[1], b))\n",
    "print('-----------------------------')\n",
    "print('x_1 \\tx_2 \\t y\\ty_hat')\n",
    "print('-----------------------------')\n",
    "for i in range(X.shape[0]):\n",
    "    y_hat = neurona(X[i], w, b)\n",
    "    print('{0}\\t{1}\\t{2}\\t{3}'.format(X[i, 0], X[i, 1], y_or[i], y_hat))"
   ]
  },
  {
   "cell_type": "markdown",
   "metadata": {
    "colab_type": "text",
    "id": "LSinG4G6rSCF"
   },
   "source": [
    "### Aprendiendo la operación AND\n",
    "Ahora veamos qué ocurre si en lugar de la operación OR tratamos de aprender la operación AND"
   ]
  },
  {
   "cell_type": "code",
   "execution_count": 9,
   "metadata": {
    "colab": {
     "base_uri": "https://localhost:8080/",
     "height": 359
    },
    "colab_type": "code",
    "id": "aqyp83uorS_i",
    "outputId": "66a11207-4e70-4b58-a0b6-fa7f87f915ff"
   },
   "outputs": [
    {
     "name": "stdout",
     "output_type": "stream",
     "text": [
      "Epoch 0: error = 0.25\n",
      "Epoch 1: error = 0.75\n",
      "Epoch 2: error = 0.75\n",
      "Epoch 3: error = 0.5\n",
      "Epoch 4: error = 0.25\n",
      "Epoch 5: error = 0.0\n",
      "Epoch 6: error = 0.0\n",
      "Epoch 7: error = 0.0\n",
      "Epoch 8: error = 0.0\n",
      "Epoch 9: error = 0.0\n",
      "\n",
      "w_1 = 2.0, w_2 = 1.0, b = -2.0\n",
      "-----------------------------\n",
      "x_1 \tx_2 \t y\ty_hat\n",
      "-----------------------------\n",
      "0.0\t0.0\t0.0\t0.0\n",
      "0.0\t1.0\t0.0\t0.0\n",
      "1.0\t0.0\t0.0\t0.0\n",
      "1.0\t1.0\t1.0\t1.0\n"
     ]
    }
   ],
   "source": [
    "y_and = torch.tensor([0., 0., 0., 1.])\n",
    "w, b = perceptron(X, y_and)\n",
    "\n",
    "print('\\nw_1 = {0}, w_2 = {1}, b = {2}'.format(w[0], w[1], b))\n",
    "print('-----------------------------')\n",
    "print('x_1 \\tx_2 \\t y\\ty_hat')\n",
    "print('-----------------------------')\n",
    "for i in range(X.shape[0]):\n",
    "    y_hat = neurona(X[i], w, b)\n",
    "    print('{0}\\t{1}\\t{2}\\t{3}'.format(X[i, 0], X[i, 1], y_and[i], y_hat))"
   ]
  },
  {
   "cell_type": "markdown",
   "metadata": {
    "colab_type": "text",
    "id": "c406Vb4Rz2bm"
   },
   "source": [
    "## Aproximando funciones no lineales: XOR ($\\oplus$)\n",
    "Minsky y Papert mostraron que una neurona del tipo LTU no puede aproximar de forma precisa una función no lineal como la compuerta XOR ($\\oplus$):\n",
    "\n",
    "\n",
    "| $x_1$ | $x_2$ | $y$\n",
    "| ------------- |:-------------:| -----:|\n",
    "|0 |0 |0|\n",
    "|0 |1 |1|\n",
    "|1 |0 |1|\n",
    "|1 |1 |0|\n",
    "\n",
    "Sin embargo, es posible aproximar este tipo  combinando múltiples LTU conectadas en red. Por ejemplo, es posible llevar a cabo la operación XOR con operaciones OR, AND y NAND:\n",
    "\n",
    "$\n",
    "\t  x_1 \\mathbin{\\oplus} x_2 = (x_1 \\lor x_2) \\land \\neg(x_1 \\land x_2)\n",
    "\t$  \n",
    "\n",
    "Esto lo llevamos a cabo con la siguiente función:"
   ]
  },
  {
   "cell_type": "code",
   "execution_count": 10,
   "metadata": {
    "colab": {},
    "colab_type": "code",
    "id": "Ucf4fSl01XTA"
   },
   "outputs": [],
   "source": [
    "def multicapa(x, W1, b1, W2, b2):\n",
    "    a = escalon(W1.t() @ x + b1)\n",
    "    return escalon(W2.t() @ a + b2)"
   ]
  },
  {
   "cell_type": "markdown",
   "metadata": {
    "colab_type": "text",
    "id": "HbStOf7Qif1P"
   },
   "source": [
    "Encontrando los valores de pesos y sesgos adecuados, podemos usar esta función para aproximar la operación XOR. Ya hemos encontrado los pesos y sesgos para las operaciones OR, AND y NAND, por lo que podemos usar estas neuronas con sus correspondientes pesos y sesgos. La red tendría 2 neuronas conectadas a las entradas que realizan las operaciones OR ($w_{11}^{\\{1\\}} = 10$, $w_{12}^{\\{1\\}} = 10$ y $b_1^{\\{1\\}} = -5$)  y NAND ($w_{21}^{\\{1\\}} = -10$, $w_{22}^{\\{1\\}} = -10$ y $b_2^{\\{1\\}} = 15$) respectivamente. La salida de estas 2 neuronas estarían conectadas a una tercera neurona que realiza la operacioón AND ($w_{11}^{\\{2\\}} = 10$, $w_{12}^{\\{2\\}} = 10$ y $b_1^{\\{2\\}} = -15$). En su forma matricial:\n",
    "\n",
    "$$\n",
    "\\mathbf{W}^{\\{1\\}} = \\left[\\begin{matrix} \n",
    "10 & -10\\\\\n",
    "10 & -10\n",
    "\\end{matrix}\\right] \n",
    "$$\n",
    "\n",
    "$$\n",
    "\\mathbf{b}^{\\{1\\}} = \\left[\\begin{matrix} \n",
    "-5 \\\\\n",
    "15\n",
    "\\end{matrix}\\right] \n",
    "$$\n",
    "\n",
    "$$\n",
    "\\mathbf{W}^{\\{2\\}} = \\left[\\begin{matrix} \n",
    "10\\\\\n",
    "10\n",
    "\\end{matrix}\\right] \n",
    "$$\n",
    "\n",
    "$$\n",
    "\\mathbf{b}^{\\{2\\}} = \\left[\\begin{matrix} \n",
    "-15\\\\\n",
    "\\end{matrix}\\right] \n",
    "$$"
   ]
  },
  {
   "cell_type": "code",
   "execution_count": 11,
   "metadata": {
    "colab": {
     "base_uri": "https://localhost:8080/",
     "height": 179
    },
    "colab_type": "code",
    "id": "3OtTynPBsPax",
    "outputId": "a90391d3-2f9e-4000-e7ba-652329448080"
   },
   "outputs": [
    {
     "name": "stdout",
     "output_type": "stream",
     "text": [
      "W_1 = [[10.0, -10.0][10.0, -10.0]], b_1 = [-5.0, 15.0]\n",
      "W_2 = [[10.0][10.0]], b_2 = [-15.0]\n",
      "-----------------------------\n",
      "x_1 \tx_2 \ty\ty_hat\n",
      "-----------------------------\n",
      "0.0\t0.0\t0.0\t0.0\n",
      "0.0\t1.0\t1.0\t1.0\n",
      "1.0\t0.0\t1.0\t1.0\n",
      "1.0\t1.0\t0.0\t0.0\n"
     ]
    }
   ],
   "source": [
    "y_xor = torch.tensor([0., 1., 1., 0.])\n",
    "W1 = torch.tensor([[10., -10.], [10., -10.]])\n",
    "b1 = torch.tensor([-5., 15.])\n",
    "\n",
    "W2 = torch.tensor([[10.], [10.]])\n",
    "b2 = torch.tensor([-15.])\n",
    "\n",
    "print('W_1 = [{0}{1}], b_1 = {2}'.format(W1[0, :].tolist(), W1[1, :].tolist(), b1.tolist()))\n",
    "print('W_2 = [{0}{1}], b_2 = {2}'.format(W2[0].tolist(), W2[1].tolist(), b2.tolist()))\n",
    "print('-----------------------------')\n",
    "print('x_1 \\tx_2 \\ty\\ty_hat')\n",
    "print('-----------------------------')\n",
    "for i in range(X.shape[0]):\n",
    "    y_hat = multicapa(X[i], W1, b1, W2, b2)\n",
    "    print('{0}\\t{1}\\t{2}\\t{3}'.format(X[i, 0], X[i, 1], y_xor[i], y_hat[0]))"
   ]
  },
  {
   "cell_type": "markdown",
   "metadata": {
    "colab_type": "text",
    "id": "KNGF9I9gg2m7"
   },
   "source": [
    "## Ejercicio \n",
    "Desarrolla y evalúa una red de neuronas con funciones de activación escalón unitario que aproxime la operación XNOR ($\\odot$) dada por\n",
    "\n",
    "| $x_1$ | $x_2$ | $y$\n",
    "| ------------- |:-------------:| -----:|\n",
    "|0 |0 |1|\n",
    "|0 |1 |0|\n",
    "|1 |0 |0|\n",
    "|1 |1 |1|\n"
   ]
  }
 ],
 "metadata": {
  "accelerator": "GPU",
  "colab": {
   "collapsed_sections": [],
   "include_colab_link": true,
   "name": "1a_perceptron.ipynb",
   "provenance": [],
   "version": "0.3.2"
  },
  "kernelspec": {
   "display_name": "Python 3",
   "language": "python",
   "name": "python3"
  },
  "language_info": {
   "codemirror_mode": {
    "name": "ipython",
    "version": 3
   },
   "file_extension": ".py",
   "mimetype": "text/x-python",
   "name": "python",
   "nbconvert_exporter": "python",
   "pygments_lexer": "ipython3",
   "version": "3.6.8"
  }
 },
 "nbformat": 4,
 "nbformat_minor": 2
}
